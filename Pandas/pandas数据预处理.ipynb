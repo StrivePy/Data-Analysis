{
 "cells": [
  {
   "cell_type": "markdown",
   "metadata": {},
   "source": [
    "# Pandas数据预处理"
   ]
  },
  {
   "cell_type": "markdown",
   "metadata": {},
   "source": [
    "## 1 学习资料"
   ]
  },
  {
   "cell_type": "markdown",
   "metadata": {},
   "source": [
    "- **[pandas数据预处理](https://nbviewer.jupyter.org/github/snistty/data_analyst_course/blob/master/04%E6%95%B0%E6%8D%AE%E9%A2%84%E5%A4%84%E7%90%86.ipynb)**"
   ]
  },
  {
   "cell_type": "markdown",
   "metadata": {},
   "source": [
    "## 2 导入包"
   ]
  },
  {
   "cell_type": "code",
   "execution_count": 1,
   "metadata": {},
   "outputs": [],
   "source": [
    "import numpy as np\n",
    "import pandas as pd\n",
    "import matplotlib.pyplot as plt\n",
    "import scipy as stats\n",
    "import datetime"
   ]
  },
  {
   "cell_type": "markdown",
   "metadata": {},
   "source": [
    "## 3 配置matplotlib"
   ]
  },
  {
   "cell_type": "code",
   "execution_count": 2,
   "metadata": {},
   "outputs": [],
   "source": [
    "# 配置matplotlib页内可视\n",
    "%matplotlib inline\n",
    "# 配置matplotlib可以显示中文\n",
    "plt.rcParams['font.sans-serif'] = ['SimHei']\n",
    "# 匹配matplotlib坐标轴可以显示负数\n",
    "plt.rcParams['axes.unicode_minus'] = False"
   ]
  },
  {
   "cell_type": "markdown",
   "metadata": {},
   "source": [
    "## 4 数据导入导出"
   ]
  },
  {
   "cell_type": "markdown",
   "metadata": {},
   "source": [
    "- **常用的数据存储格式：CSV，TXT，EXCEL和数据库。**\n",
    "- **每种数据存储格式都有对应的导入方法。**"
   ]
  },
  {
   "cell_type": "markdown",
   "metadata": {},
   "source": [
    "### 4.1 导入前的数据转换工作"
   ]
  },
  {
   "cell_type": "markdown",
   "metadata": {},
   "source": [
    "**为了使数据中的中文格式出现乱码，可以在进行导入前，将数据转换为UTF-8格式：**\n",
    "- **使用TXT另存为功能时，在编码格式中选择UTF-8。**\n",
    "- **使用Notepad++进行编码转换，直接将数据转换为UTF-8格式，然后进行保存。**\n",
    "- **在完成数据格式转换后，再进行数据导入工作。**"
   ]
  },
  {
   "cell_type": "markdown",
   "metadata": {},
   "source": [
    "### 4.2 导入CSV文件"
   ]
  },
  {
   "cell_type": "markdown",
   "metadata": {},
   "source": [
    "**pd.read_csv() 函数进行CSV文件的导入**\n",
    "  "
   ]
  },
  {
   "cell_type": "code",
   "execution_count": 3,
   "metadata": {},
   "outputs": [],
   "source": [
    "df = pd.read_csv('./pandas_data/data_processiing/4/4.1/1.csv' )"
   ]
  },
  {
   "cell_type": "code",
   "execution_count": 4,
   "metadata": {},
   "outputs": [
    {
     "data": {
      "text/html": [
       "<div>\n",
       "<style scoped>\n",
       "    .dataframe tbody tr th:only-of-type {\n",
       "        vertical-align: middle;\n",
       "    }\n",
       "\n",
       "    .dataframe tbody tr th {\n",
       "        vertical-align: top;\n",
       "    }\n",
       "\n",
       "    .dataframe thead th {\n",
       "        text-align: right;\n",
       "    }\n",
       "</style>\n",
       "<table border=\"1\" class=\"dataframe\">\n",
       "  <thead>\n",
       "    <tr style=\"text-align: right;\">\n",
       "      <th></th>\n",
       "      <th>age</th>\n",
       "      <th>name</th>\n",
       "    </tr>\n",
       "  </thead>\n",
       "  <tbody>\n",
       "    <tr>\n",
       "      <th>0</th>\n",
       "      <td>23</td>\n",
       "      <td>KEN</td>\n",
       "    </tr>\n",
       "    <tr>\n",
       "      <th>1</th>\n",
       "      <td>32</td>\n",
       "      <td>John</td>\n",
       "    </tr>\n",
       "    <tr>\n",
       "      <th>2</th>\n",
       "      <td>25</td>\n",
       "      <td>JIMI</td>\n",
       "    </tr>\n",
       "    <tr>\n",
       "      <th>3</th>\n",
       "      <td>中文</td>\n",
       "      <td>英文</td>\n",
       "    </tr>\n",
       "  </tbody>\n",
       "</table>\n",
       "</div>"
      ],
      "text/plain": [
       "  age  name\n",
       "0  23   KEN\n",
       "1  32  John\n",
       "2  25  JIMI\n",
       "3  中文    英文"
      ]
     },
     "execution_count": 4,
     "metadata": {},
     "output_type": "execute_result"
    }
   ],
   "source": [
    "df"
   ]
  },
  {
   "cell_type": "markdown",
   "metadata": {},
   "source": [
    "### 4.3 导入文本文件"
   ]
  },
  {
   "cell_type": "markdown",
   "metadata": {},
   "source": [
    "**pd.read_table() 函数进行文本文件的导入，默认使用首行作为列名，可使用names参数指定列名；使用逗号作为默认分隔符，可以使用sep参数\n",
    "用正则表达式来进行匹配分隔符，默认解释器的编码格式为utf-8，使用encoding参数指定解释器的编码格式。**"
   ]
  },
  {
   "cell_type": "code",
   "execution_count": 5,
   "metadata": {},
   "outputs": [],
   "source": [
    "df = pd.read_table('./pandas_data/data_processiing/4/4.1/2.txt', names=['age', 'name'], sep=',', encoding='utf-8')"
   ]
  },
  {
   "cell_type": "code",
   "execution_count": 6,
   "metadata": {},
   "outputs": [
    {
     "data": {
      "text/html": [
       "<div>\n",
       "<style scoped>\n",
       "    .dataframe tbody tr th:only-of-type {\n",
       "        vertical-align: middle;\n",
       "    }\n",
       "\n",
       "    .dataframe tbody tr th {\n",
       "        vertical-align: top;\n",
       "    }\n",
       "\n",
       "    .dataframe thead th {\n",
       "        text-align: right;\n",
       "    }\n",
       "</style>\n",
       "<table border=\"1\" class=\"dataframe\">\n",
       "  <thead>\n",
       "    <tr style=\"text-align: right;\">\n",
       "      <th></th>\n",
       "      <th>age</th>\n",
       "      <th>name</th>\n",
       "    </tr>\n",
       "  </thead>\n",
       "  <tbody>\n",
       "    <tr>\n",
       "      <th>0</th>\n",
       "      <td>23</td>\n",
       "      <td>KEN</td>\n",
       "    </tr>\n",
       "    <tr>\n",
       "      <th>1</th>\n",
       "      <td>32</td>\n",
       "      <td>John</td>\n",
       "    </tr>\n",
       "    <tr>\n",
       "      <th>2</th>\n",
       "      <td>25</td>\n",
       "      <td>JIMI</td>\n",
       "    </tr>\n",
       "    <tr>\n",
       "      <th>3</th>\n",
       "      <td>中文</td>\n",
       "      <td>英文</td>\n",
       "    </tr>\n",
       "  </tbody>\n",
       "</table>\n",
       "</div>"
      ],
      "text/plain": [
       "  age  name\n",
       "0  23   KEN\n",
       "1  32  John\n",
       "2  25  JIMI\n",
       "3  中文    英文"
      ]
     },
     "execution_count": 6,
     "metadata": {},
     "output_type": "execute_result"
    }
   ],
   "source": [
    "df"
   ]
  },
  {
   "cell_type": "markdown",
   "metadata": {},
   "source": [
    "### 4.4 导入Excel文件"
   ]
  },
  {
   "cell_type": "markdown",
   "metadata": {},
   "source": [
    "**pd.read_excel()函数进行Excel文件导入，使用sheet_name参数指定需要导入的工作表。**"
   ]
  },
  {
   "cell_type": "code",
   "execution_count": 7,
   "metadata": {},
   "outputs": [
    {
     "data": {
      "text/html": [
       "<div>\n",
       "<style scoped>\n",
       "    .dataframe tbody tr th:only-of-type {\n",
       "        vertical-align: middle;\n",
       "    }\n",
       "\n",
       "    .dataframe tbody tr th {\n",
       "        vertical-align: top;\n",
       "    }\n",
       "\n",
       "    .dataframe thead th {\n",
       "        text-align: right;\n",
       "    }\n",
       "</style>\n",
       "<table border=\"1\" class=\"dataframe\">\n",
       "  <thead>\n",
       "    <tr style=\"text-align: right;\">\n",
       "      <th></th>\n",
       "      <th>age</th>\n",
       "      <th>name</th>\n",
       "    </tr>\n",
       "  </thead>\n",
       "  <tbody>\n",
       "    <tr>\n",
       "      <th>0</th>\n",
       "      <td>23</td>\n",
       "      <td>KEN</td>\n",
       "    </tr>\n",
       "    <tr>\n",
       "      <th>1</th>\n",
       "      <td>32</td>\n",
       "      <td>John</td>\n",
       "    </tr>\n",
       "    <tr>\n",
       "      <th>2</th>\n",
       "      <td>25</td>\n",
       "      <td>JIMI</td>\n",
       "    </tr>\n",
       "  </tbody>\n",
       "</table>\n",
       "</div>"
      ],
      "text/plain": [
       "   age  name\n",
       "0   23   KEN\n",
       "1   32  John\n",
       "2   25  JIMI"
      ]
     },
     "execution_count": 7,
     "metadata": {},
     "output_type": "execute_result"
    }
   ],
   "source": [
    "pd.read_excel('./pandas_data/data_processiing/4/4.1/3.xlsx', sheet_name='data')"
   ]
  },
  {
   "cell_type": "markdown",
   "metadata": {},
   "source": [
    "### 4.5 数据导出到文件"
   ]
  },
  {
   "cell_type": "markdown",
   "metadata": {},
   "source": [
    "**使用pd.DataFrame.to_csv()函数，将处理好的数据，导出到CSV文件**"
   ]
  },
  {
   "cell_type": "code",
   "execution_count": 8,
   "metadata": {},
   "outputs": [
    {
     "data": {
      "text/html": [
       "<div>\n",
       "<style scoped>\n",
       "    .dataframe tbody tr th:only-of-type {\n",
       "        vertical-align: middle;\n",
       "    }\n",
       "\n",
       "    .dataframe tbody tr th {\n",
       "        vertical-align: top;\n",
       "    }\n",
       "\n",
       "    .dataframe thead th {\n",
       "        text-align: right;\n",
       "    }\n",
       "</style>\n",
       "<table border=\"1\" class=\"dataframe\">\n",
       "  <thead>\n",
       "    <tr style=\"text-align: right;\">\n",
       "      <th></th>\n",
       "      <th>name</th>\n",
       "      <th>age</th>\n",
       "    </tr>\n",
       "  </thead>\n",
       "  <tbody>\n",
       "    <tr>\n",
       "      <th>0</th>\n",
       "      <td>jhon</td>\n",
       "      <td>20</td>\n",
       "    </tr>\n",
       "    <tr>\n",
       "      <th>1</th>\n",
       "      <td>sala</td>\n",
       "      <td>18</td>\n",
       "    </tr>\n",
       "    <tr>\n",
       "      <th>2</th>\n",
       "      <td>merry</td>\n",
       "      <td>17</td>\n",
       "    </tr>\n",
       "  </tbody>\n",
       "</table>\n",
       "</div>"
      ],
      "text/plain": [
       "    name  age\n",
       "0   jhon   20\n",
       "1   sala   18\n",
       "2  merry   17"
      ]
     },
     "execution_count": 8,
     "metadata": {},
     "output_type": "execute_result"
    }
   ],
   "source": [
    "d = {\n",
    "    'name': ['jhon', 'sala', 'merry'],\n",
    "    'age': [20, 18, 17]\n",
    "}\n",
    "df = pd.DataFrame(data=d)\n",
    "df"
   ]
  },
  {
   "cell_type": "code",
   "execution_count": 9,
   "metadata": {},
   "outputs": [],
   "source": [
    "df.to_csv('./pandas_data/data_processiing/4/4.1/test.csv', index=False)"
   ]
  },
  {
   "cell_type": "markdown",
   "metadata": {},
   "source": [
    "## 5 数据处理"
   ]
  },
  {
   "cell_type": "markdown",
   "metadata": {},
   "source": [
    "### 5.1 重复值处理"
   ]
  },
  {
   "cell_type": "markdown",
   "metadata": {},
   "source": [
    "**删除重复值**"
   ]
  },
  {
   "cell_type": "code",
   "execution_count": 10,
   "metadata": {},
   "outputs": [],
   "source": [
    "df = pd.read_csv('./pandas_data/data_processiing/4/4.3/data.csv')"
   ]
  },
  {
   "cell_type": "code",
   "execution_count": 11,
   "metadata": {},
   "outputs": [
    {
     "data": {
      "text/html": [
       "<div>\n",
       "<style scoped>\n",
       "    .dataframe tbody tr th:only-of-type {\n",
       "        vertical-align: middle;\n",
       "    }\n",
       "\n",
       "    .dataframe tbody tr th {\n",
       "        vertical-align: top;\n",
       "    }\n",
       "\n",
       "    .dataframe thead th {\n",
       "        text-align: right;\n",
       "    }\n",
       "</style>\n",
       "<table border=\"1\" class=\"dataframe\">\n",
       "  <thead>\n",
       "    <tr style=\"text-align: right;\">\n",
       "      <th></th>\n",
       "      <th>id</th>\n",
       "      <th>key</th>\n",
       "      <th>value</th>\n",
       "    </tr>\n",
       "  </thead>\n",
       "  <tbody>\n",
       "    <tr>\n",
       "      <th>0</th>\n",
       "      <td>1251147</td>\n",
       "      <td>品牌</td>\n",
       "      <td>Apple</td>\n",
       "    </tr>\n",
       "    <tr>\n",
       "      <th>1</th>\n",
       "      <td>1251147</td>\n",
       "      <td>商品名称</td>\n",
       "      <td>苹果iPad mini 3</td>\n",
       "    </tr>\n",
       "    <tr>\n",
       "      <th>2</th>\n",
       "      <td>1251147</td>\n",
       "      <td>商品毛重</td>\n",
       "      <td>0.61kg</td>\n",
       "    </tr>\n",
       "    <tr>\n",
       "      <th>3</th>\n",
       "      <td>1251147</td>\n",
       "      <td>商品产地</td>\n",
       "      <td>中国</td>\n",
       "    </tr>\n",
       "    <tr>\n",
       "      <th>4</th>\n",
       "      <td>1251147</td>\n",
       "      <td>品牌</td>\n",
       "      <td>Apple</td>\n",
       "    </tr>\n",
       "    <tr>\n",
       "      <th>5</th>\n",
       "      <td>1251147</td>\n",
       "      <td>商品名称</td>\n",
       "      <td>苹果iPad mini 3</td>\n",
       "    </tr>\n",
       "    <tr>\n",
       "      <th>6</th>\n",
       "      <td>1251147</td>\n",
       "      <td>硬盘</td>\n",
       "      <td>128G</td>\n",
       "    </tr>\n",
       "    <tr>\n",
       "      <th>7</th>\n",
       "      <td>1251147</td>\n",
       "      <td>尺寸</td>\n",
       "      <td>7.8英寸-9英寸</td>\n",
       "    </tr>\n",
       "  </tbody>\n",
       "</table>\n",
       "</div>"
      ],
      "text/plain": [
       "        id   key          value\n",
       "0  1251147    品牌          Apple\n",
       "1  1251147  商品名称  苹果iPad mini 3\n",
       "2  1251147  商品毛重         0.61kg\n",
       "3  1251147  商品产地             中国\n",
       "4  1251147    品牌          Apple\n",
       "5  1251147  商品名称  苹果iPad mini 3\n",
       "6  1251147    硬盘           128G\n",
       "7  1251147    尺寸      7.8英寸-9英寸"
      ]
     },
     "execution_count": 11,
     "metadata": {},
     "output_type": "execute_result"
    }
   ],
   "source": [
    "df"
   ]
  },
  {
   "cell_type": "code",
   "execution_count": 12,
   "metadata": {},
   "outputs": [
    {
     "data": {
      "text/html": [
       "<div>\n",
       "<style scoped>\n",
       "    .dataframe tbody tr th:only-of-type {\n",
       "        vertical-align: middle;\n",
       "    }\n",
       "\n",
       "    .dataframe tbody tr th {\n",
       "        vertical-align: top;\n",
       "    }\n",
       "\n",
       "    .dataframe thead th {\n",
       "        text-align: right;\n",
       "    }\n",
       "</style>\n",
       "<table border=\"1\" class=\"dataframe\">\n",
       "  <thead>\n",
       "    <tr style=\"text-align: right;\">\n",
       "      <th></th>\n",
       "      <th>id</th>\n",
       "      <th>key</th>\n",
       "      <th>value</th>\n",
       "    </tr>\n",
       "  </thead>\n",
       "  <tbody>\n",
       "    <tr>\n",
       "      <th>0</th>\n",
       "      <td>1251147</td>\n",
       "      <td>品牌</td>\n",
       "      <td>Apple</td>\n",
       "    </tr>\n",
       "    <tr>\n",
       "      <th>1</th>\n",
       "      <td>1251147</td>\n",
       "      <td>商品名称</td>\n",
       "      <td>苹果iPad mini 3</td>\n",
       "    </tr>\n",
       "    <tr>\n",
       "      <th>2</th>\n",
       "      <td>1251147</td>\n",
       "      <td>商品毛重</td>\n",
       "      <td>0.61kg</td>\n",
       "    </tr>\n",
       "    <tr>\n",
       "      <th>3</th>\n",
       "      <td>1251147</td>\n",
       "      <td>商品产地</td>\n",
       "      <td>中国</td>\n",
       "    </tr>\n",
       "    <tr>\n",
       "      <th>6</th>\n",
       "      <td>1251147</td>\n",
       "      <td>硬盘</td>\n",
       "      <td>128G</td>\n",
       "    </tr>\n",
       "    <tr>\n",
       "      <th>7</th>\n",
       "      <td>1251147</td>\n",
       "      <td>尺寸</td>\n",
       "      <td>7.8英寸-9英寸</td>\n",
       "    </tr>\n",
       "  </tbody>\n",
       "</table>\n",
       "</div>"
      ],
      "text/plain": [
       "        id   key          value\n",
       "0  1251147    品牌          Apple\n",
       "1  1251147  商品名称  苹果iPad mini 3\n",
       "2  1251147  商品毛重         0.61kg\n",
       "3  1251147  商品产地             中国\n",
       "6  1251147    硬盘           128G\n",
       "7  1251147    尺寸      7.8英寸-9英寸"
      ]
     },
     "execution_count": 12,
     "metadata": {},
     "output_type": "execute_result"
    }
   ],
   "source": [
    "df[~df.duplicated()]"
   ]
  },
  {
   "cell_type": "code",
   "execution_count": 13,
   "metadata": {},
   "outputs": [
    {
     "data": {
      "text/html": [
       "<div>\n",
       "<style scoped>\n",
       "    .dataframe tbody tr th:only-of-type {\n",
       "        vertical-align: middle;\n",
       "    }\n",
       "\n",
       "    .dataframe tbody tr th {\n",
       "        vertical-align: top;\n",
       "    }\n",
       "\n",
       "    .dataframe thead th {\n",
       "        text-align: right;\n",
       "    }\n",
       "</style>\n",
       "<table border=\"1\" class=\"dataframe\">\n",
       "  <thead>\n",
       "    <tr style=\"text-align: right;\">\n",
       "      <th></th>\n",
       "      <th>id</th>\n",
       "      <th>key</th>\n",
       "      <th>value</th>\n",
       "    </tr>\n",
       "  </thead>\n",
       "  <tbody>\n",
       "    <tr>\n",
       "      <th>0</th>\n",
       "      <td>1251147</td>\n",
       "      <td>品牌</td>\n",
       "      <td>Apple</td>\n",
       "    </tr>\n",
       "    <tr>\n",
       "      <th>1</th>\n",
       "      <td>1251147</td>\n",
       "      <td>商品名称</td>\n",
       "      <td>苹果iPad mini 3</td>\n",
       "    </tr>\n",
       "    <tr>\n",
       "      <th>2</th>\n",
       "      <td>1251147</td>\n",
       "      <td>商品毛重</td>\n",
       "      <td>0.61kg</td>\n",
       "    </tr>\n",
       "    <tr>\n",
       "      <th>3</th>\n",
       "      <td>1251147</td>\n",
       "      <td>商品产地</td>\n",
       "      <td>中国</td>\n",
       "    </tr>\n",
       "    <tr>\n",
       "      <th>6</th>\n",
       "      <td>1251147</td>\n",
       "      <td>硬盘</td>\n",
       "      <td>128G</td>\n",
       "    </tr>\n",
       "    <tr>\n",
       "      <th>7</th>\n",
       "      <td>1251147</td>\n",
       "      <td>尺寸</td>\n",
       "      <td>7.8英寸-9英寸</td>\n",
       "    </tr>\n",
       "  </tbody>\n",
       "</table>\n",
       "</div>"
      ],
      "text/plain": [
       "        id   key          value\n",
       "0  1251147    品牌          Apple\n",
       "1  1251147  商品名称  苹果iPad mini 3\n",
       "2  1251147  商品毛重         0.61kg\n",
       "3  1251147  商品产地             中国\n",
       "6  1251147    硬盘           128G\n",
       "7  1251147    尺寸      7.8英寸-9英寸"
      ]
     },
     "execution_count": 13,
     "metadata": {},
     "output_type": "execute_result"
    }
   ],
   "source": [
    "df.drop_duplicates()"
   ]
  },
  {
   "cell_type": "markdown",
   "metadata": {},
   "source": [
    "### 5.2 缺失值的处理（Nan）"
   ]
  },
  {
   "cell_type": "markdown",
   "metadata": {},
   "source": [
    "- **删除缺失值，样本数据少时慎用**\n",
    "- **填充缺失值**\n",
    "- **不处理，例如单身人士的配偶、未成年人的收入等等**"
   ]
  },
  {
   "cell_type": "markdown",
   "metadata": {},
   "source": [
    "#### 5.2.1 删除缺失数据"
   ]
  },
  {
   "cell_type": "code",
   "execution_count": 14,
   "metadata": {},
   "outputs": [
    {
     "data": {
      "text/html": [
       "<div>\n",
       "<style scoped>\n",
       "    .dataframe tbody tr th:only-of-type {\n",
       "        vertical-align: middle;\n",
       "    }\n",
       "\n",
       "    .dataframe tbody tr th {\n",
       "        vertical-align: top;\n",
       "    }\n",
       "\n",
       "    .dataframe thead th {\n",
       "        text-align: right;\n",
       "    }\n",
       "</style>\n",
       "<table border=\"1\" class=\"dataframe\">\n",
       "  <thead>\n",
       "    <tr style=\"text-align: right;\">\n",
       "      <th></th>\n",
       "      <th>id</th>\n",
       "      <th>key</th>\n",
       "      <th>value</th>\n",
       "    </tr>\n",
       "  </thead>\n",
       "  <tbody>\n",
       "    <tr>\n",
       "      <th>0</th>\n",
       "      <td>1251147</td>\n",
       "      <td>品牌</td>\n",
       "      <td>Apple</td>\n",
       "    </tr>\n",
       "    <tr>\n",
       "      <th>1</th>\n",
       "      <td>1251147</td>\n",
       "      <td>商品名称</td>\n",
       "      <td>苹果iPad mini 3</td>\n",
       "    </tr>\n",
       "    <tr>\n",
       "      <th>2</th>\n",
       "      <td>1251147</td>\n",
       "      <td>商品毛重</td>\n",
       "      <td>NaN</td>\n",
       "    </tr>\n",
       "    <tr>\n",
       "      <th>3</th>\n",
       "      <td>1251147</td>\n",
       "      <td>NaN</td>\n",
       "      <td>中国</td>\n",
       "    </tr>\n",
       "    <tr>\n",
       "      <th>4</th>\n",
       "      <td>1251147</td>\n",
       "      <td>硬盘</td>\n",
       "      <td>128G</td>\n",
       "    </tr>\n",
       "    <tr>\n",
       "      <th>5</th>\n",
       "      <td>1251147</td>\n",
       "      <td>尺寸</td>\n",
       "      <td>7.8英寸-9英寸</td>\n",
       "    </tr>\n",
       "  </tbody>\n",
       "</table>\n",
       "</div>"
      ],
      "text/plain": [
       "        id   key          value\n",
       "0  1251147    品牌          Apple\n",
       "1  1251147  商品名称  苹果iPad mini 3\n",
       "2  1251147  商品毛重            NaN\n",
       "3  1251147   NaN             中国\n",
       "4  1251147    硬盘           128G\n",
       "5  1251147    尺寸      7.8英寸-9英寸"
      ]
     },
     "execution_count": 14,
     "metadata": {},
     "output_type": "execute_result"
    }
   ],
   "source": [
    "df = pd.read_csv('./pandas_data/data_processiing/4/4.4/data.csv')\n",
    "df"
   ]
  },
  {
   "cell_type": "code",
   "execution_count": 15,
   "metadata": {},
   "outputs": [
    {
     "data": {
      "text/html": [
       "<div>\n",
       "<style scoped>\n",
       "    .dataframe tbody tr th:only-of-type {\n",
       "        vertical-align: middle;\n",
       "    }\n",
       "\n",
       "    .dataframe tbody tr th {\n",
       "        vertical-align: top;\n",
       "    }\n",
       "\n",
       "    .dataframe thead th {\n",
       "        text-align: right;\n",
       "    }\n",
       "</style>\n",
       "<table border=\"1\" class=\"dataframe\">\n",
       "  <thead>\n",
       "    <tr style=\"text-align: right;\">\n",
       "      <th></th>\n",
       "      <th>id</th>\n",
       "      <th>key</th>\n",
       "      <th>value</th>\n",
       "    </tr>\n",
       "  </thead>\n",
       "  <tbody>\n",
       "    <tr>\n",
       "      <th>0</th>\n",
       "      <td>1251147</td>\n",
       "      <td>品牌</td>\n",
       "      <td>Apple</td>\n",
       "    </tr>\n",
       "    <tr>\n",
       "      <th>1</th>\n",
       "      <td>1251147</td>\n",
       "      <td>商品名称</td>\n",
       "      <td>苹果iPad mini 3</td>\n",
       "    </tr>\n",
       "    <tr>\n",
       "      <th>4</th>\n",
       "      <td>1251147</td>\n",
       "      <td>硬盘</td>\n",
       "      <td>128G</td>\n",
       "    </tr>\n",
       "    <tr>\n",
       "      <th>5</th>\n",
       "      <td>1251147</td>\n",
       "      <td>尺寸</td>\n",
       "      <td>7.8英寸-9英寸</td>\n",
       "    </tr>\n",
       "  </tbody>\n",
       "</table>\n",
       "</div>"
      ],
      "text/plain": [
       "        id   key          value\n",
       "0  1251147    品牌          Apple\n",
       "1  1251147  商品名称  苹果iPad mini 3\n",
       "4  1251147    硬盘           128G\n",
       "5  1251147    尺寸      7.8英寸-9英寸"
      ]
     },
     "execution_count": 15,
     "metadata": {},
     "output_type": "execute_result"
    }
   ],
   "source": [
    "df.dropna(how='any')"
   ]
  },
  {
   "cell_type": "markdown",
   "metadata": {},
   "source": [
    "#### 5.2.2 拉格朗日插值"
   ]
  },
  {
   "cell_type": "code",
   "execution_count": 16,
   "metadata": {},
   "outputs": [
    {
     "name": "stdout",
     "output_type": "stream",
     "text": [
      "         2\n",
      "-0.1111 x + 0.3333 x + 10\n",
      "2.222222222222223\n"
     ]
    },
    {
     "data": {
      "image/png": "[encoded data removed]",
      "text/plain": [
       "<Figure size 432x288 with 1 Axes>"
      ]
     },
     "metadata": {
      "needs_background": "light"
     },
     "output_type": "display_data"
    }
   ],
   "source": [
    "from scipy.interpolate import lagrange\n",
    "x = [3, 6, 9]\n",
    "y = [10, 8, 4]\n",
    "plt.scatter(x, y)\n",
    "# lagrange()输出一个多项式的n个系数，y=-0.1111x**2+0.3333x+10\n",
    "print(lagrange(x, y))\n",
    "# 根据传入的x&y，插值找到x=10对应的y\n",
    "print(lagrange(x, y)(10))"
   ]
  },
  {
   "cell_type": "markdown",
   "metadata": {},
   "source": [
    "### 5.2.3 空格字符的处理"
   ]
  },
  {
   "cell_type": "markdown",
   "metadata": {},
   "source": [
    "**处理字符前后的空格**"
   ]
  },
  {
   "cell_type": "code",
   "execution_count": 17,
   "metadata": {},
   "outputs": [
    {
     "data": {
      "text/html": [
       "<div>\n",
       "<style scoped>\n",
       "    .dataframe tbody tr th:only-of-type {\n",
       "        vertical-align: middle;\n",
       "    }\n",
       "\n",
       "    .dataframe tbody tr th {\n",
       "        vertical-align: top;\n",
       "    }\n",
       "\n",
       "    .dataframe thead th {\n",
       "        text-align: right;\n",
       "    }\n",
       "</style>\n",
       "<table border=\"1\" class=\"dataframe\">\n",
       "  <thead>\n",
       "    <tr style=\"text-align: right;\">\n",
       "      <th></th>\n",
       "      <th>id</th>\n",
       "      <th>name</th>\n",
       "    </tr>\n",
       "  </thead>\n",
       "  <tbody>\n",
       "    <tr>\n",
       "      <th>0</th>\n",
       "      <td>1</td>\n",
       "      <td>KEN</td>\n",
       "    </tr>\n",
       "    <tr>\n",
       "      <th>1</th>\n",
       "      <td>2</td>\n",
       "      <td>JIMI</td>\n",
       "    </tr>\n",
       "    <tr>\n",
       "      <th>2</th>\n",
       "      <td>3</td>\n",
       "      <td>John</td>\n",
       "    </tr>\n",
       "  </tbody>\n",
       "</table>\n",
       "</div>"
      ],
      "text/plain": [
       "   id        name\n",
       "0   1         KEN\n",
       "1   2      JIMI  \n",
       "2   3        John"
      ]
     },
     "execution_count": 17,
     "metadata": {},
     "output_type": "execute_result"
    }
   ],
   "source": [
    "df = pd.read_csv('./pandas_data/data_processiing/4/4.5/data.csv')\n",
    "df"
   ]
  },
  {
   "cell_type": "code",
   "execution_count": 18,
   "metadata": {},
   "outputs": [
    {
     "data": {
      "text/html": [
       "<div>\n",
       "<style scoped>\n",
       "    .dataframe tbody tr th:only-of-type {\n",
       "        vertical-align: middle;\n",
       "    }\n",
       "\n",
       "    .dataframe tbody tr th {\n",
       "        vertical-align: top;\n",
       "    }\n",
       "\n",
       "    .dataframe thead th {\n",
       "        text-align: right;\n",
       "    }\n",
       "</style>\n",
       "<table border=\"1\" class=\"dataframe\">\n",
       "  <thead>\n",
       "    <tr style=\"text-align: right;\">\n",
       "      <th></th>\n",
       "      <th>id</th>\n",
       "      <th>name</th>\n",
       "    </tr>\n",
       "  </thead>\n",
       "  <tbody>\n",
       "    <tr>\n",
       "      <th>0</th>\n",
       "      <td>1</td>\n",
       "      <td>KEN</td>\n",
       "    </tr>\n",
       "    <tr>\n",
       "      <th>1</th>\n",
       "      <td>2</td>\n",
       "      <td>JIMI</td>\n",
       "    </tr>\n",
       "    <tr>\n",
       "      <th>2</th>\n",
       "      <td>3</td>\n",
       "      <td>John</td>\n",
       "    </tr>\n",
       "  </tbody>\n",
       "</table>\n",
       "</div>"
      ],
      "text/plain": [
       "   id  name\n",
       "0   1   KEN\n",
       "1   2  JIMI\n",
       "2   3  John"
      ]
     },
     "execution_count": 18,
     "metadata": {},
     "output_type": "execute_result"
    }
   ],
   "source": [
    "df['name'] = df['name'].str.strip()\n",
    "df"
   ]
  },
  {
   "cell_type": "markdown",
   "metadata": {},
   "source": [
    "### 5.2.4 提取字段"
   ]
  },
  {
   "cell_type": "markdown",
   "metadata": {},
   "source": [
    "**提取某列中的字段作为新的列**"
   ]
  },
  {
   "cell_type": "code",
   "execution_count": 19,
   "metadata": {},
   "outputs": [
    {
     "name": "stdout",
     "output_type": "stream",
     "text": [
      "<class 'pandas.core.frame.DataFrame'>\n",
      "RangeIndex: 9 entries, 0 to 8\n",
      "Data columns (total 1 columns):\n",
      "tel    9 non-null int64\n",
      "dtypes: int64(1)\n",
      "memory usage: 152.0 bytes\n"
     ]
    },
    {
     "data": {
      "text/html": [
       "<div>\n",
       "<style scoped>\n",
       "    .dataframe tbody tr th:only-of-type {\n",
       "        vertical-align: middle;\n",
       "    }\n",
       "\n",
       "    .dataframe tbody tr th {\n",
       "        vertical-align: top;\n",
       "    }\n",
       "\n",
       "    .dataframe thead th {\n",
       "        text-align: right;\n",
       "    }\n",
       "</style>\n",
       "<table border=\"1\" class=\"dataframe\">\n",
       "  <thead>\n",
       "    <tr style=\"text-align: right;\">\n",
       "      <th></th>\n",
       "      <th>tel</th>\n",
       "    </tr>\n",
       "  </thead>\n",
       "  <tbody>\n",
       "    <tr>\n",
       "      <th>0</th>\n",
       "      <td>18922254812</td>\n",
       "    </tr>\n",
       "    <tr>\n",
       "      <th>1</th>\n",
       "      <td>13522255003</td>\n",
       "    </tr>\n",
       "    <tr>\n",
       "      <th>2</th>\n",
       "      <td>13422259938</td>\n",
       "    </tr>\n",
       "    <tr>\n",
       "      <th>3</th>\n",
       "      <td>18822256753</td>\n",
       "    </tr>\n",
       "    <tr>\n",
       "      <th>4</th>\n",
       "      <td>18922253721</td>\n",
       "    </tr>\n",
       "    <tr>\n",
       "      <th>5</th>\n",
       "      <td>13422259313</td>\n",
       "    </tr>\n",
       "    <tr>\n",
       "      <th>6</th>\n",
       "      <td>13822254373</td>\n",
       "    </tr>\n",
       "    <tr>\n",
       "      <th>7</th>\n",
       "      <td>13322252452</td>\n",
       "    </tr>\n",
       "    <tr>\n",
       "      <th>8</th>\n",
       "      <td>18922257681</td>\n",
       "    </tr>\n",
       "  </tbody>\n",
       "</table>\n",
       "</div>"
      ],
      "text/plain": [
       "           tel\n",
       "0  18922254812\n",
       "1  13522255003\n",
       "2  13422259938\n",
       "3  18822256753\n",
       "4  18922253721\n",
       "5  13422259313\n",
       "6  13822254373\n",
       "7  13322252452\n",
       "8  18922257681"
      ]
     },
     "execution_count": 19,
     "metadata": {},
     "output_type": "execute_result"
    }
   ],
   "source": [
    "df = pd.read_csv('./pandas_data/data_processiing/4/4.6/data.csv')\n",
    "df.info()\n",
    "df"
   ]
  },
  {
   "cell_type": "markdown",
   "metadata": {},
   "source": [
    "**数据类型为int(64)，先转换为字符串类型，再做字段处理**"
   ]
  },
  {
   "cell_type": "code",
   "execution_count": 20,
   "metadata": {},
   "outputs": [
    {
     "name": "stdout",
     "output_type": "stream",
     "text": [
      "<class 'pandas.core.frame.DataFrame'>\n",
      "RangeIndex: 9 entries, 0 to 8\n",
      "Data columns (total 1 columns):\n",
      "tel    9 non-null object\n",
      "dtypes: object(1)\n",
      "memory usage: 152.0+ bytes\n"
     ]
    }
   ],
   "source": [
    "df = df.astype('str')\n",
    "df.info()"
   ]
  },
  {
   "cell_type": "code",
   "execution_count": 21,
   "metadata": {},
   "outputs": [
    {
     "data": {
      "text/plain": [
       "0    189\n",
       "1    135\n",
       "2    134\n",
       "3    188\n",
       "4    189\n",
       "5    134\n",
       "6    138\n",
       "7    133\n",
       "8    189\n",
       "Name: tel, dtype: object"
      ]
     },
     "execution_count": 21,
     "metadata": {},
     "output_type": "execute_result"
    }
   ],
   "source": [
    "# 运营商\n",
    "bands = df['tel'].str.slice(0, 3)\n",
    "bands"
   ]
  },
  {
   "cell_type": "code",
   "execution_count": 22,
   "metadata": {},
   "outputs": [
    {
     "data": {
      "text/plain": [
       "0    2225\n",
       "1    2225\n",
       "2    2225\n",
       "3    2225\n",
       "4    2225\n",
       "5    2225\n",
       "6    2225\n",
       "7    2225\n",
       "8    2225\n",
       "Name: tel, dtype: object"
      ]
     },
     "execution_count": 22,
     "metadata": {},
     "output_type": "execute_result"
    }
   ],
   "source": [
    "# 地区\n",
    "ares = df['tel'].str.slice(3, 7)\n",
    "ares"
   ]
  },
  {
   "cell_type": "code",
   "execution_count": 23,
   "metadata": {},
   "outputs": [
    {
     "data": {
      "text/plain": [
       "0    4812\n",
       "1    5003\n",
       "2    9938\n",
       "3    6753\n",
       "4    3721\n",
       "5    9313\n",
       "6    4373\n",
       "7    2452\n",
       "8    7681\n",
       "Name: tel, dtype: object"
      ]
     },
     "execution_count": 23,
     "metadata": {},
     "output_type": "execute_result"
    }
   ],
   "source": [
    "# 号码段\n",
    "nums = df['tel'].str.slice(7, 11) \n",
    "nums"
   ]
  },
  {
   "cell_type": "markdown",
   "metadata": {},
   "source": [
    "### 5.2.5 字段拆分"
   ]
  },
  {
   "cell_type": "markdown",
   "metadata": {},
   "source": [
    "**根据特定分隔符(或者正则表达式)，将字符串进行拆分**"
   ]
  },
  {
   "cell_type": "code",
   "execution_count": 24,
   "metadata": {},
   "outputs": [
    {
     "data": {
      "text/html": [
       "<div>\n",
       "<style scoped>\n",
       "    .dataframe tbody tr th:only-of-type {\n",
       "        vertical-align: middle;\n",
       "    }\n",
       "\n",
       "    .dataframe tbody tr th {\n",
       "        vertical-align: top;\n",
       "    }\n",
       "\n",
       "    .dataframe thead th {\n",
       "        text-align: right;\n",
       "    }\n",
       "</style>\n",
       "<table border=\"1\" class=\"dataframe\">\n",
       "  <thead>\n",
       "    <tr style=\"text-align: right;\">\n",
       "      <th></th>\n",
       "      <th>name</th>\n",
       "    </tr>\n",
       "  </thead>\n",
       "  <tbody>\n",
       "    <tr>\n",
       "      <th>0</th>\n",
       "      <td>Apple iPad mini MF432CH/A 7.9英寸平板电脑 （16G WiFi版...</td>\n",
       "    </tr>\n",
       "    <tr>\n",
       "      <th>1</th>\n",
       "      <td>华为 MediaPad 7Vogue S7-601c（8G) 7英寸通话平板电脑-电信版</td>\n",
       "    </tr>\n",
       "    <tr>\n",
       "      <th>2</th>\n",
       "      <td>昂达（ONDA） V975m四核 2G主频最强A9四核 八核GPU 2G内存 16G 204...</td>\n",
       "    </tr>\n",
       "    <tr>\n",
       "      <th>3</th>\n",
       "      <td>昂达（ONDA） V975四核 （9.7英寸 A31四核八显 32G 2048*1536视网...</td>\n",
       "    </tr>\n",
       "    <tr>\n",
       "      <th>4</th>\n",
       "      <td>华为（HUAWEI） 荣耀X1 7英寸（月光银）3G通话平板 WCDMA/GSM</td>\n",
       "    </tr>\n",
       "    <tr>\n",
       "      <th>5</th>\n",
       "      <td>酷比魔方（CUBE） TALK7X四核 7.0英寸平板电脑（MTK8382 IPS全视角屏 ...</td>\n",
       "    </tr>\n",
       "    <tr>\n",
       "      <th>6</th>\n",
       "      <td>惠普（HP） Slate 7 3G通话平板（双卡双待7英寸  四核  IPS 超清炫屏 ）</td>\n",
       "    </tr>\n",
       "    <tr>\n",
       "      <th>7</th>\n",
       "      <td>酷比魔方（ACUBE) TALK97 9.7英寸平板电脑（MTK8382 IPS大猩猩屏 3...</td>\n",
       "    </tr>\n",
       "    <tr>\n",
       "      <th>8</th>\n",
       "      <td>三星（SAMSUNG） GALAXY NotePro P901 12.2寸平板电脑 （双四核...</td>\n",
       "    </tr>\n",
       "    <tr>\n",
       "      <th>9</th>\n",
       "      <td>宏碁（acer） P3-131-21292G06as 11.6英寸变形触控本 （奔腾2129...</td>\n",
       "    </tr>\n",
       "  </tbody>\n",
       "</table>\n",
       "</div>"
      ],
      "text/plain": [
       "                                                name\n",
       "0  Apple iPad mini MF432CH/A 7.9英寸平板电脑 （16G WiFi版...\n",
       "1       华为 MediaPad 7Vogue S7-601c（8G) 7英寸通话平板电脑-电信版\n",
       "2  昂达（ONDA） V975m四核 2G主频最强A9四核 八核GPU 2G内存 16G 204...\n",
       "3  昂达（ONDA） V975四核 （9.7英寸 A31四核八显 32G 2048*1536视网...\n",
       "4           华为（HUAWEI） 荣耀X1 7英寸（月光银）3G通话平板 WCDMA/GSM\n",
       "5  酷比魔方（CUBE） TALK7X四核 7.0英寸平板电脑（MTK8382 IPS全视角屏 ...\n",
       "6      惠普（HP） Slate 7 3G通话平板（双卡双待7英寸  四核  IPS 超清炫屏 ）\n",
       "7  酷比魔方（ACUBE) TALK97 9.7英寸平板电脑（MTK8382 IPS大猩猩屏 3...\n",
       "8  三星（SAMSUNG） GALAXY NotePro P901 12.2寸平板电脑 （双四核...\n",
       "9  宏碁（acer） P3-131-21292G06as 11.6英寸变形触控本 （奔腾2129..."
      ]
     },
     "execution_count": 24,
     "metadata": {},
     "output_type": "execute_result"
    }
   ],
   "source": [
    "df = pd.read_csv('./pandas_data/data_processiing/4/4.7/data.csv')\n",
    "df"
   ]
  },
  {
   "cell_type": "code",
   "execution_count": 25,
   "metadata": {},
   "outputs": [
    {
     "data": {
      "text/html": [
       "<div>\n",
       "<style scoped>\n",
       "    .dataframe tbody tr th:only-of-type {\n",
       "        vertical-align: middle;\n",
       "    }\n",
       "\n",
       "    .dataframe tbody tr th {\n",
       "        vertical-align: top;\n",
       "    }\n",
       "\n",
       "    .dataframe thead th {\n",
       "        text-align: right;\n",
       "    }\n",
       "</style>\n",
       "<table border=\"1\" class=\"dataframe\">\n",
       "  <thead>\n",
       "    <tr style=\"text-align: right;\">\n",
       "      <th></th>\n",
       "      <th>band</th>\n",
       "      <th>name</th>\n",
       "    </tr>\n",
       "  </thead>\n",
       "  <tbody>\n",
       "    <tr>\n",
       "      <th>0</th>\n",
       "      <td>Apple</td>\n",
       "      <td>iPad mini MF432CH/A 7.9英寸平板电脑 （16G WiFi版）深空灰定制版</td>\n",
       "    </tr>\n",
       "    <tr>\n",
       "      <th>1</th>\n",
       "      <td>华为</td>\n",
       "      <td>MediaPad 7Vogue S7-601c（8G) 7英寸通话平板电脑-电信版</td>\n",
       "    </tr>\n",
       "    <tr>\n",
       "      <th>2</th>\n",
       "      <td>昂达（ONDA）</td>\n",
       "      <td>V975m四核 2G主频最强A9四核 八核GPU 2G内存 16G 2048*1536视网膜...</td>\n",
       "    </tr>\n",
       "    <tr>\n",
       "      <th>3</th>\n",
       "      <td>昂达（ONDA）</td>\n",
       "      <td>V975四核 （9.7英寸 A31四核八显 32G 2048*1536视网膜屏 前后双置高清...</td>\n",
       "    </tr>\n",
       "    <tr>\n",
       "      <th>4</th>\n",
       "      <td>华为（HUAWEI）</td>\n",
       "      <td>荣耀X1 7英寸（月光银）3G通话平板 WCDMA/GSM</td>\n",
       "    </tr>\n",
       "    <tr>\n",
       "      <th>5</th>\n",
       "      <td>酷比魔方（CUBE）</td>\n",
       "      <td>TALK7X四核 7.0英寸平板电脑（MTK8382 IPS全视角屏 3G通话 1G/8G ...</td>\n",
       "    </tr>\n",
       "    <tr>\n",
       "      <th>6</th>\n",
       "      <td>惠普（HP）</td>\n",
       "      <td>Slate 7 3G通话平板（双卡双待7英寸  四核  IPS 超清炫屏 ）</td>\n",
       "    </tr>\n",
       "    <tr>\n",
       "      <th>7</th>\n",
       "      <td>酷比魔方（ACUBE)</td>\n",
       "      <td>TALK97 9.7英寸平板电脑（MTK8382 IPS大猩猩屏 3G通话 1G/8G 后置...</td>\n",
       "    </tr>\n",
       "    <tr>\n",
       "      <th>8</th>\n",
       "      <td>三星（SAMSUNG）</td>\n",
       "      <td>GALAXY NotePro P901 12.2寸平板电脑 （双四核1.9+1.3GHz 3...</td>\n",
       "    </tr>\n",
       "    <tr>\n",
       "      <th>9</th>\n",
       "      <td>宏碁（acer）</td>\n",
       "      <td>P3-131-21292G06as 11.6英寸变形触控本 （奔腾2129Y 2G 60GS...</td>\n",
       "    </tr>\n",
       "  </tbody>\n",
       "</table>\n",
       "</div>"
      ],
      "text/plain": [
       "          band                                               name\n",
       "0        Apple    iPad mini MF432CH/A 7.9英寸平板电脑 （16G WiFi版）深空灰定制版\n",
       "1           华为          MediaPad 7Vogue S7-601c（8G) 7英寸通话平板电脑-电信版\n",
       "2     昂达（ONDA）  V975m四核 2G主频最强A9四核 八核GPU 2G内存 16G 2048*1536视网膜...\n",
       "3     昂达（ONDA）  V975四核 （9.7英寸 A31四核八显 32G 2048*1536视网膜屏 前后双置高清...\n",
       "4   华为（HUAWEI）                      荣耀X1 7英寸（月光银）3G通话平板 WCDMA/GSM\n",
       "5   酷比魔方（CUBE）  TALK7X四核 7.0英寸平板电脑（MTK8382 IPS全视角屏 3G通话 1G/8G ...\n",
       "6       惠普（HP）             Slate 7 3G通话平板（双卡双待7英寸  四核  IPS 超清炫屏 ）\n",
       "7  酷比魔方（ACUBE)  TALK97 9.7英寸平板电脑（MTK8382 IPS大猩猩屏 3G通话 1G/8G 后置...\n",
       "8  三星（SAMSUNG）  GALAXY NotePro P901 12.2寸平板电脑 （双四核1.9+1.3GHz 3...\n",
       "9     宏碁（acer）  P3-131-21292G06as 11.6英寸变形触控本 （奔腾2129Y 2G 60GS..."
      ]
     },
     "execution_count": 25,
     "metadata": {},
     "output_type": "execute_result"
    }
   ],
   "source": [
    "newdf = df['name'].str.split(' ', 1, True)\n",
    "newdf.columns = ['band', 'name']\n",
    "newdf"
   ]
  },
  {
   "cell_type": "markdown",
   "metadata": {},
   "source": [
    "### 5.2.6 记录抽取"
   ]
  },
  {
   "cell_type": "markdown",
   "metadata": {},
   "source": [
    "**根据布尔类型的索引，来进行记录的抽取**\n",
    "- **比较运算（> < >= <= !=）**\n",
    "- **范围运算（contains）**\n",
    "- **空值匹配（pd.isnull())**\n",
    "- **逻辑运算（& | not）**"
   ]
  },
  {
   "cell_type": "code",
   "execution_count": 26,
   "metadata": {},
   "outputs": [
    {
     "data": {
      "text/html": [
       "<div>\n",
       "<style scoped>\n",
       "    .dataframe tbody tr th:only-of-type {\n",
       "        vertical-align: middle;\n",
       "    }\n",
       "\n",
       "    .dataframe tbody tr th {\n",
       "        vertical-align: top;\n",
       "    }\n",
       "\n",
       "    .dataframe thead th {\n",
       "        text-align: right;\n",
       "    }\n",
       "</style>\n",
       "<table border=\"1\" class=\"dataframe\">\n",
       "  <thead>\n",
       "    <tr style=\"text-align: right;\">\n",
       "      <th></th>\n",
       "      <th>id</th>\n",
       "      <th>comments</th>\n",
       "      <th>title</th>\n",
       "    </tr>\n",
       "  </thead>\n",
       "  <tbody>\n",
       "    <tr>\n",
       "      <th>0</th>\n",
       "      <td>1197453</td>\n",
       "      <td>10071</td>\n",
       "      <td>华为（HUAWEI）荣耀平板 Wifi版 8英寸平板电脑（高通骁龙四核 1280×800 1...</td>\n",
       "    </tr>\n",
       "    <tr>\n",
       "      <th>1</th>\n",
       "      <td>1192330</td>\n",
       "      <td>6879</td>\n",
       "      <td>小米（MI）7.9英寸平板 WIFI 64GB（NVIDIA Tegra K1 2.2GHz...</td>\n",
       "    </tr>\n",
       "    <tr>\n",
       "      <th>2</th>\n",
       "      <td>1225995</td>\n",
       "      <td>2218</td>\n",
       "      <td>小米（MI）7.9英寸平板 WIFI 16GB（NVIDIA Tegra K1 2.2GHz...</td>\n",
       "    </tr>\n",
       "    <tr>\n",
       "      <th>3</th>\n",
       "      <td>1308557</td>\n",
       "      <td>1605</td>\n",
       "      <td>华为（HUAWEI）荣耀平板优享版 Wifi 8英寸平板电脑（高通骁龙 64位四核1280×...</td>\n",
       "    </tr>\n",
       "    <tr>\n",
       "      <th>4</th>\n",
       "      <td>1185287</td>\n",
       "      <td>836</td>\n",
       "      <td>微软（Microsoft） Surface Pro 3（中文版 Intel i5 128G存...</td>\n",
       "    </tr>\n",
       "    <tr>\n",
       "      <th>5</th>\n",
       "      <td>1197789</td>\n",
       "      <td>2084</td>\n",
       "      <td>NaN</td>\n",
       "    </tr>\n",
       "    <tr>\n",
       "      <th>6</th>\n",
       "      <td>996957</td>\n",
       "      <td>11123</td>\n",
       "      <td>Apple iPad Air MD785CH 9.7英寸平板电脑 （16G WiFi版）深空灰色</td>\n",
       "    </tr>\n",
       "    <tr>\n",
       "      <th>7</th>\n",
       "      <td>1150612</td>\n",
       "      <td>5857</td>\n",
       "      <td>台电（Teclast） P98 3G八核 9.7英寸平板电脑(MTK8392 Air视网膜屏...</td>\n",
       "    </tr>\n",
       "    <tr>\n",
       "      <th>8</th>\n",
       "      <td>1285329</td>\n",
       "      <td>2482</td>\n",
       "      <td>台电（Teclast）X98 Air 3G 双系统版 9.7英寸平板电脑(正版Win8+安卓...</td>\n",
       "    </tr>\n",
       "  </tbody>\n",
       "</table>\n",
       "</div>"
      ],
      "text/plain": [
       "        id  comments                                              title\n",
       "0  1197453     10071  华为（HUAWEI）荣耀平板 Wifi版 8英寸平板电脑（高通骁龙四核 1280×800 1...\n",
       "1  1192330      6879  小米（MI）7.9英寸平板 WIFI 64GB（NVIDIA Tegra K1 2.2GHz...\n",
       "2  1225995      2218  小米（MI）7.9英寸平板 WIFI 16GB（NVIDIA Tegra K1 2.2GHz...\n",
       "3  1308557      1605  华为（HUAWEI）荣耀平板优享版 Wifi 8英寸平板电脑（高通骁龙 64位四核1280×...\n",
       "4  1185287       836  微软（Microsoft） Surface Pro 3（中文版 Intel i5 128G存...\n",
       "5  1197789      2084                                                NaN\n",
       "6   996957     11123   Apple iPad Air MD785CH 9.7英寸平板电脑 （16G WiFi版）深空灰色\n",
       "7  1150612      5857  台电（Teclast） P98 3G八核 9.7英寸平板电脑(MTK8392 Air视网膜屏...\n",
       "8  1285329      2482  台电（Teclast）X98 Air 3G 双系统版 9.7英寸平板电脑(正版Win8+安卓..."
      ]
     },
     "execution_count": 26,
     "metadata": {},
     "output_type": "execute_result"
    }
   ],
   "source": [
    "df = pd.read_csv('./pandas_data/data_processiing/4/4.8/data.csv', sep='|')\n",
    "df"
   ]
  },
  {
   "cell_type": "code",
   "execution_count": 27,
   "metadata": {},
   "outputs": [
    {
     "data": {
      "text/html": [
       "<div>\n",
       "<style scoped>\n",
       "    .dataframe tbody tr th:only-of-type {\n",
       "        vertical-align: middle;\n",
       "    }\n",
       "\n",
       "    .dataframe tbody tr th {\n",
       "        vertical-align: top;\n",
       "    }\n",
       "\n",
       "    .dataframe thead th {\n",
       "        text-align: right;\n",
       "    }\n",
       "</style>\n",
       "<table border=\"1\" class=\"dataframe\">\n",
       "  <thead>\n",
       "    <tr style=\"text-align: right;\">\n",
       "      <th></th>\n",
       "      <th>id</th>\n",
       "      <th>comments</th>\n",
       "      <th>title</th>\n",
       "    </tr>\n",
       "  </thead>\n",
       "  <tbody>\n",
       "    <tr>\n",
       "      <th>0</th>\n",
       "      <td>1197453</td>\n",
       "      <td>10071</td>\n",
       "      <td>华为（HUAWEI）荣耀平板 Wifi版 8英寸平板电脑（高通骁龙四核 1280×800 1...</td>\n",
       "    </tr>\n",
       "    <tr>\n",
       "      <th>6</th>\n",
       "      <td>996957</td>\n",
       "      <td>11123</td>\n",
       "      <td>Apple iPad Air MD785CH 9.7英寸平板电脑 （16G WiFi版）深空灰色</td>\n",
       "    </tr>\n",
       "  </tbody>\n",
       "</table>\n",
       "</div>"
      ],
      "text/plain": [
       "        id  comments                                              title\n",
       "0  1197453     10071  华为（HUAWEI）荣耀平板 Wifi版 8英寸平板电脑（高通骁龙四核 1280×800 1...\n",
       "6   996957     11123   Apple iPad Air MD785CH 9.7英寸平板电脑 （16G WiFi版）深空灰色"
      ]
     },
     "execution_count": 27,
     "metadata": {},
     "output_type": "execute_result"
    }
   ],
   "source": [
    "# 提取品论数大于10000的记录\n",
    "df[df.comments>10000]"
   ]
  },
  {
   "cell_type": "code",
   "execution_count": 28,
   "metadata": {},
   "outputs": [
    {
     "data": {
      "text/html": [
       "<div>\n",
       "<style scoped>\n",
       "    .dataframe tbody tr th:only-of-type {\n",
       "        vertical-align: middle;\n",
       "    }\n",
       "\n",
       "    .dataframe tbody tr th {\n",
       "        vertical-align: top;\n",
       "    }\n",
       "\n",
       "    .dataframe thead th {\n",
       "        text-align: right;\n",
       "    }\n",
       "</style>\n",
       "<table border=\"1\" class=\"dataframe\">\n",
       "  <thead>\n",
       "    <tr style=\"text-align: right;\">\n",
       "      <th></th>\n",
       "      <th>id</th>\n",
       "      <th>comments</th>\n",
       "      <th>title</th>\n",
       "    </tr>\n",
       "  </thead>\n",
       "  <tbody>\n",
       "    <tr>\n",
       "      <th>1</th>\n",
       "      <td>1192330</td>\n",
       "      <td>6879</td>\n",
       "      <td>小米（MI）7.9英寸平板 WIFI 64GB（NVIDIA Tegra K1 2.2GHz...</td>\n",
       "    </tr>\n",
       "    <tr>\n",
       "      <th>2</th>\n",
       "      <td>1225995</td>\n",
       "      <td>2218</td>\n",
       "      <td>小米（MI）7.9英寸平板 WIFI 16GB（NVIDIA Tegra K1 2.2GHz...</td>\n",
       "    </tr>\n",
       "    <tr>\n",
       "      <th>3</th>\n",
       "      <td>1308557</td>\n",
       "      <td>1605</td>\n",
       "      <td>华为（HUAWEI）荣耀平板优享版 Wifi 8英寸平板电脑（高通骁龙 64位四核1280×...</td>\n",
       "    </tr>\n",
       "    <tr>\n",
       "      <th>5</th>\n",
       "      <td>1197789</td>\n",
       "      <td>2084</td>\n",
       "      <td>NaN</td>\n",
       "    </tr>\n",
       "    <tr>\n",
       "      <th>7</th>\n",
       "      <td>1150612</td>\n",
       "      <td>5857</td>\n",
       "      <td>台电（Teclast） P98 3G八核 9.7英寸平板电脑(MTK8392 Air视网膜屏...</td>\n",
       "    </tr>\n",
       "    <tr>\n",
       "      <th>8</th>\n",
       "      <td>1285329</td>\n",
       "      <td>2482</td>\n",
       "      <td>台电（Teclast）X98 Air 3G 双系统版 9.7英寸平板电脑(正版Win8+安卓...</td>\n",
       "    </tr>\n",
       "  </tbody>\n",
       "</table>\n",
       "</div>"
      ],
      "text/plain": [
       "        id  comments                                              title\n",
       "1  1192330      6879  小米（MI）7.9英寸平板 WIFI 64GB（NVIDIA Tegra K1 2.2GHz...\n",
       "2  1225995      2218  小米（MI）7.9英寸平板 WIFI 16GB（NVIDIA Tegra K1 2.2GHz...\n",
       "3  1308557      1605  华为（HUAWEI）荣耀平板优享版 Wifi 8英寸平板电脑（高通骁龙 64位四核1280×...\n",
       "5  1197789      2084                                                NaN\n",
       "7  1150612      5857  台电（Teclast） P98 3G八核 9.7英寸平板电脑(MTK8392 Air视网膜屏...\n",
       "8  1285329      2482  台电（Teclast）X98 Air 3G 双系统版 9.7英寸平板电脑(正版Win8+安卓..."
      ]
     },
     "execution_count": 28,
     "metadata": {},
     "output_type": "execute_result"
    }
   ],
   "source": [
    "# 提取评论数在1000和10000之间的记录\n",
    "df[df.comments.between(1000, 10000)]"
   ]
  },
  {
   "cell_type": "code",
   "execution_count": 29,
   "metadata": {},
   "outputs": [
    {
     "data": {
      "text/html": [
       "<div>\n",
       "<style scoped>\n",
       "    .dataframe tbody tr th:only-of-type {\n",
       "        vertical-align: middle;\n",
       "    }\n",
       "\n",
       "    .dataframe tbody tr th {\n",
       "        vertical-align: top;\n",
       "    }\n",
       "\n",
       "    .dataframe thead th {\n",
       "        text-align: right;\n",
       "    }\n",
       "</style>\n",
       "<table border=\"1\" class=\"dataframe\">\n",
       "  <thead>\n",
       "    <tr style=\"text-align: right;\">\n",
       "      <th></th>\n",
       "      <th>id</th>\n",
       "      <th>comments</th>\n",
       "      <th>title</th>\n",
       "    </tr>\n",
       "  </thead>\n",
       "  <tbody>\n",
       "    <tr>\n",
       "      <th>1</th>\n",
       "      <td>1192330</td>\n",
       "      <td>6879</td>\n",
       "      <td>小米（MI）7.9英寸平板 WIFI 64GB（NVIDIA Tegra K1 2.2GHz...</td>\n",
       "    </tr>\n",
       "    <tr>\n",
       "      <th>2</th>\n",
       "      <td>1225995</td>\n",
       "      <td>2218</td>\n",
       "      <td>小米（MI）7.9英寸平板 WIFI 16GB（NVIDIA Tegra K1 2.2GHz...</td>\n",
       "    </tr>\n",
       "    <tr>\n",
       "      <th>3</th>\n",
       "      <td>1308557</td>\n",
       "      <td>1605</td>\n",
       "      <td>华为（HUAWEI）荣耀平板优享版 Wifi 8英寸平板电脑（高通骁龙 64位四核1280×...</td>\n",
       "    </tr>\n",
       "    <tr>\n",
       "      <th>5</th>\n",
       "      <td>1197789</td>\n",
       "      <td>2084</td>\n",
       "      <td>NaN</td>\n",
       "    </tr>\n",
       "    <tr>\n",
       "      <th>7</th>\n",
       "      <td>1150612</td>\n",
       "      <td>5857</td>\n",
       "      <td>台电（Teclast） P98 3G八核 9.7英寸平板电脑(MTK8392 Air视网膜屏...</td>\n",
       "    </tr>\n",
       "    <tr>\n",
       "      <th>8</th>\n",
       "      <td>1285329</td>\n",
       "      <td>2482</td>\n",
       "      <td>台电（Teclast）X98 Air 3G 双系统版 9.7英寸平板电脑(正版Win8+安卓...</td>\n",
       "    </tr>\n",
       "  </tbody>\n",
       "</table>\n",
       "</div>"
      ],
      "text/plain": [
       "        id  comments                                              title\n",
       "1  1192330      6879  小米（MI）7.9英寸平板 WIFI 64GB（NVIDIA Tegra K1 2.2GHz...\n",
       "2  1225995      2218  小米（MI）7.9英寸平板 WIFI 16GB（NVIDIA Tegra K1 2.2GHz...\n",
       "3  1308557      1605  华为（HUAWEI）荣耀平板优享版 Wifi 8英寸平板电脑（高通骁龙 64位四核1280×...\n",
       "5  1197789      2084                                                NaN\n",
       "7  1150612      5857  台电（Teclast） P98 3G八核 9.7英寸平板电脑(MTK8392 Air视网膜屏...\n",
       "8  1285329      2482  台电（Teclast）X98 Air 3G 双系统版 9.7英寸平板电脑(正版Win8+安卓..."
      ]
     },
     "execution_count": 29,
     "metadata": {},
     "output_type": "execute_result"
    }
   ],
   "source": [
    "# 上述逻辑也可用逻辑表达式\n",
    "df[(df.comments>=1000) & (df.comments<=10000)]"
   ]
  },
  {
   "cell_type": "code",
   "execution_count": 30,
   "metadata": {},
   "outputs": [
    {
     "data": {
      "text/html": [
       "<div>\n",
       "<style scoped>\n",
       "    .dataframe tbody tr th:only-of-type {\n",
       "        vertical-align: middle;\n",
       "    }\n",
       "\n",
       "    .dataframe tbody tr th {\n",
       "        vertical-align: top;\n",
       "    }\n",
       "\n",
       "    .dataframe thead th {\n",
       "        text-align: right;\n",
       "    }\n",
       "</style>\n",
       "<table border=\"1\" class=\"dataframe\">\n",
       "  <thead>\n",
       "    <tr style=\"text-align: right;\">\n",
       "      <th></th>\n",
       "      <th>id</th>\n",
       "      <th>comments</th>\n",
       "      <th>title</th>\n",
       "    </tr>\n",
       "  </thead>\n",
       "  <tbody>\n",
       "    <tr>\n",
       "      <th>5</th>\n",
       "      <td>1197789</td>\n",
       "      <td>2084</td>\n",
       "      <td>NaN</td>\n",
       "    </tr>\n",
       "  </tbody>\n",
       "</table>\n",
       "</div>"
      ],
      "text/plain": [
       "        id  comments title\n",
       "5  1197789      2084   NaN"
      ]
     },
     "execution_count": 30,
     "metadata": {},
     "output_type": "execute_result"
    }
   ],
   "source": [
    "# 提取标题为空的记录\n",
    "df[pd.isnull(df.title)]"
   ]
  },
  {
   "cell_type": "code",
   "execution_count": 31,
   "metadata": {},
   "outputs": [
    {
     "data": {
      "text/html": [
       "<div>\n",
       "<style scoped>\n",
       "    .dataframe tbody tr th:only-of-type {\n",
       "        vertical-align: middle;\n",
       "    }\n",
       "\n",
       "    .dataframe tbody tr th {\n",
       "        vertical-align: top;\n",
       "    }\n",
       "\n",
       "    .dataframe thead th {\n",
       "        text-align: right;\n",
       "    }\n",
       "</style>\n",
       "<table border=\"1\" class=\"dataframe\">\n",
       "  <thead>\n",
       "    <tr style=\"text-align: right;\">\n",
       "      <th></th>\n",
       "      <th>id</th>\n",
       "      <th>comments</th>\n",
       "      <th>title</th>\n",
       "    </tr>\n",
       "  </thead>\n",
       "  <tbody>\n",
       "    <tr>\n",
       "      <th>7</th>\n",
       "      <td>1150612</td>\n",
       "      <td>5857</td>\n",
       "      <td>台电（Teclast） P98 3G八核 9.7英寸平板电脑(MTK8392 Air视网膜屏...</td>\n",
       "    </tr>\n",
       "    <tr>\n",
       "      <th>8</th>\n",
       "      <td>1285329</td>\n",
       "      <td>2482</td>\n",
       "      <td>台电（Teclast）X98 Air 3G 双系统版 9.7英寸平板电脑(正版Win8+安卓...</td>\n",
       "    </tr>\n",
       "  </tbody>\n",
       "</table>\n",
       "</div>"
      ],
      "text/plain": [
       "        id  comments                                              title\n",
       "7  1150612      5857  台电（Teclast） P98 3G八核 9.7英寸平板电脑(MTK8392 Air视网膜屏...\n",
       "8  1285329      2482  台电（Teclast）X98 Air 3G 双系统版 9.7英寸平板电脑(正版Win8+安卓..."
      ]
     },
     "execution_count": 31,
     "metadata": {},
     "output_type": "execute_result"
    }
   ],
   "source": [
    "# 提取标题中包含“台电”的记录\n",
    "df[df.title.str.contains('台电', na=False)]"
   ]
  },
  {
   "cell_type": "markdown",
   "metadata": {},
   "source": [
    "### 5.2.7 随机抽样"
   ]
  },
  {
   "cell_type": "markdown",
   "metadata": {},
   "source": [
    "**使用numpy.random.randint(start, end, num)函数进行随机抽样**"
   ]
  },
  {
   "cell_type": "code",
   "execution_count": 32,
   "metadata": {},
   "outputs": [
    {
     "data": {
      "text/html": [
       "<div>\n",
       "<style scoped>\n",
       "    .dataframe tbody tr th:only-of-type {\n",
       "        vertical-align: middle;\n",
       "    }\n",
       "\n",
       "    .dataframe tbody tr th {\n",
       "        vertical-align: top;\n",
       "    }\n",
       "\n",
       "    .dataframe thead th {\n",
       "        text-align: right;\n",
       "    }\n",
       "</style>\n",
       "<table border=\"1\" class=\"dataframe\">\n",
       "  <thead>\n",
       "    <tr style=\"text-align: right;\">\n",
       "      <th></th>\n",
       "      <th>num</th>\n",
       "    </tr>\n",
       "  </thead>\n",
       "  <tbody>\n",
       "    <tr>\n",
       "      <th>0</th>\n",
       "      <td>10</td>\n",
       "    </tr>\n",
       "    <tr>\n",
       "      <th>1</th>\n",
       "      <td>20</td>\n",
       "    </tr>\n",
       "    <tr>\n",
       "      <th>2</th>\n",
       "      <td>30</td>\n",
       "    </tr>\n",
       "    <tr>\n",
       "      <th>3</th>\n",
       "      <td>40</td>\n",
       "    </tr>\n",
       "    <tr>\n",
       "      <th>4</th>\n",
       "      <td>50</td>\n",
       "    </tr>\n",
       "    <tr>\n",
       "      <th>5</th>\n",
       "      <td>60</td>\n",
       "    </tr>\n",
       "    <tr>\n",
       "      <th>6</th>\n",
       "      <td>70</td>\n",
       "    </tr>\n",
       "    <tr>\n",
       "      <th>7</th>\n",
       "      <td>80</td>\n",
       "    </tr>\n",
       "    <tr>\n",
       "      <th>8</th>\n",
       "      <td>90</td>\n",
       "    </tr>\n",
       "    <tr>\n",
       "      <th>9</th>\n",
       "      <td>100</td>\n",
       "    </tr>\n",
       "  </tbody>\n",
       "</table>\n",
       "</div>"
      ],
      "text/plain": [
       "   num\n",
       "0   10\n",
       "1   20\n",
       "2   30\n",
       "3   40\n",
       "4   50\n",
       "5   60\n",
       "6   70\n",
       "7   80\n",
       "8   90\n",
       "9  100"
      ]
     },
     "execution_count": 32,
     "metadata": {},
     "output_type": "execute_result"
    }
   ],
   "source": [
    "df = pd.read_csv('./pandas_data/data_processiing/4/4.9/data.csv')\n",
    "df"
   ]
  },
  {
   "cell_type": "code",
   "execution_count": 33,
   "metadata": {},
   "outputs": [
    {
     "data": {
      "text/html": [
       "<div>\n",
       "<style scoped>\n",
       "    .dataframe tbody tr th:only-of-type {\n",
       "        vertical-align: middle;\n",
       "    }\n",
       "\n",
       "    .dataframe tbody tr th {\n",
       "        vertical-align: top;\n",
       "    }\n",
       "\n",
       "    .dataframe thead th {\n",
       "        text-align: right;\n",
       "    }\n",
       "</style>\n",
       "<table border=\"1\" class=\"dataframe\">\n",
       "  <thead>\n",
       "    <tr style=\"text-align: right;\">\n",
       "      <th></th>\n",
       "      <th>num</th>\n",
       "    </tr>\n",
       "  </thead>\n",
       "  <tbody>\n",
       "    <tr>\n",
       "      <th>8</th>\n",
       "      <td>90</td>\n",
       "    </tr>\n",
       "    <tr>\n",
       "      <th>1</th>\n",
       "      <td>20</td>\n",
       "    </tr>\n",
       "    <tr>\n",
       "      <th>4</th>\n",
       "      <td>50</td>\n",
       "    </tr>\n",
       "  </tbody>\n",
       "</table>\n",
       "</div>"
      ],
      "text/plain": [
       "   num\n",
       "8   90\n",
       "1   20\n",
       "4   50"
      ]
     },
     "execution_count": 33,
     "metadata": {},
     "output_type": "execute_result"
    }
   ],
   "source": [
    "# 从0到9中随机抽取三个数字\n",
    "ran = np.random.randint(0, 10, 3)\n",
    "df.loc[ran, :]"
   ]
  },
  {
   "cell_type": "markdown",
   "metadata": {},
   "source": [
    "### 5.2.8 记录合并（纵向）"
   ]
  },
  {
   "cell_type": "markdown",
   "metadata": {},
   "source": [
    "**多张表格进行追加合并**"
   ]
  },
  {
   "cell_type": "code",
   "execution_count": 34,
   "metadata": {},
   "outputs": [],
   "source": [
    "df1 = pd.read_csv('./pandas_data/data_processiing/4/4.10/data1.csv', sep='|')\n",
    "df2 = pd.read_csv('./pandas_data/data_processiing/4/4.10/data2.csv', sep='|')\n",
    "df3 = pd.read_csv('./pandas_data/data_processiing/4/4.10/data3.csv', sep='|')"
   ]
  },
  {
   "cell_type": "code",
   "execution_count": 35,
   "metadata": {},
   "outputs": [
    {
     "data": {
      "text/html": [
       "<div>\n",
       "<style scoped>\n",
       "    .dataframe tbody tr th:only-of-type {\n",
       "        vertical-align: middle;\n",
       "    }\n",
       "\n",
       "    .dataframe tbody tr th {\n",
       "        vertical-align: top;\n",
       "    }\n",
       "\n",
       "    .dataframe thead th {\n",
       "        text-align: right;\n",
       "    }\n",
       "</style>\n",
       "<table border=\"1\" class=\"dataframe\">\n",
       "  <thead>\n",
       "    <tr style=\"text-align: right;\">\n",
       "      <th></th>\n",
       "      <th>id</th>\n",
       "      <th>comments</th>\n",
       "      <th>title</th>\n",
       "    </tr>\n",
       "  </thead>\n",
       "  <tbody>\n",
       "    <tr>\n",
       "      <th>0</th>\n",
       "      <td>1235465</td>\n",
       "      <td>3256</td>\n",
       "      <td>台电（Teclast）X98 Air Ⅱ 9.7英寸平板电脑 (Intel 3736F 2....</td>\n",
       "    </tr>\n",
       "  </tbody>\n",
       "</table>\n",
       "</div>"
      ],
      "text/plain": [
       "        id  comments                                              title\n",
       "0  1235465      3256  台电（Teclast）X98 Air Ⅱ 9.7英寸平板电脑 (Intel 3736F 2...."
      ]
     },
     "execution_count": 35,
     "metadata": {},
     "output_type": "execute_result"
    }
   ],
   "source": [
    "df1.head(1)"
   ]
  },
  {
   "cell_type": "code",
   "execution_count": 36,
   "metadata": {},
   "outputs": [
    {
     "data": {
      "text/html": [
       "<div>\n",
       "<style scoped>\n",
       "    .dataframe tbody tr th:only-of-type {\n",
       "        vertical-align: middle;\n",
       "    }\n",
       "\n",
       "    .dataframe tbody tr th {\n",
       "        vertical-align: top;\n",
       "    }\n",
       "\n",
       "    .dataframe thead th {\n",
       "        text-align: right;\n",
       "    }\n",
       "</style>\n",
       "<table border=\"1\" class=\"dataframe\">\n",
       "  <thead>\n",
       "    <tr style=\"text-align: right;\">\n",
       "      <th></th>\n",
       "      <th>id</th>\n",
       "      <th>comments</th>\n",
       "      <th>title</th>\n",
       "    </tr>\n",
       "  </thead>\n",
       "  <tbody>\n",
       "    <tr>\n",
       "      <th>0</th>\n",
       "      <td>1134006</td>\n",
       "      <td>13231</td>\n",
       "      <td>小米（MI）7.9英寸平板 WIFI 16GB（NVIDIA Tegra K1 2.2GHz...</td>\n",
       "    </tr>\n",
       "  </tbody>\n",
       "</table>\n",
       "</div>"
      ],
      "text/plain": [
       "        id  comments                                              title\n",
       "0  1134006     13231  小米（MI）7.9英寸平板 WIFI 16GB（NVIDIA Tegra K1 2.2GHz..."
      ]
     },
     "execution_count": 36,
     "metadata": {},
     "output_type": "execute_result"
    }
   ],
   "source": [
    "df2.head(1)"
   ]
  },
  {
   "cell_type": "code",
   "execution_count": 37,
   "metadata": {},
   "outputs": [
    {
     "data": {
      "text/html": [
       "<div>\n",
       "<style scoped>\n",
       "    .dataframe tbody tr th:only-of-type {\n",
       "        vertical-align: middle;\n",
       "    }\n",
       "\n",
       "    .dataframe tbody tr th {\n",
       "        vertical-align: top;\n",
       "    }\n",
       "\n",
       "    .dataframe thead th {\n",
       "        text-align: right;\n",
       "    }\n",
       "</style>\n",
       "<table border=\"1\" class=\"dataframe\">\n",
       "  <thead>\n",
       "    <tr style=\"text-align: right;\">\n",
       "      <th></th>\n",
       "      <th>id</th>\n",
       "      <th>comments</th>\n",
       "      <th>title</th>\n",
       "    </tr>\n",
       "  </thead>\n",
       "  <tbody>\n",
       "    <tr>\n",
       "      <th>0</th>\n",
       "      <td>996961</td>\n",
       "      <td>62014</td>\n",
       "      <td>Apple iPad Air MD788CH 9.7英寸平板电脑 （16G WiFi版）银色</td>\n",
       "    </tr>\n",
       "  </tbody>\n",
       "</table>\n",
       "</div>"
      ],
      "text/plain": [
       "       id  comments                                           title\n",
       "0  996961     62014  Apple iPad Air MD788CH 9.7英寸平板电脑 （16G WiFi版）银色"
      ]
     },
     "execution_count": 37,
     "metadata": {},
     "output_type": "execute_result"
    }
   ],
   "source": [
    "df3.head(1)"
   ]
  },
  {
   "cell_type": "code",
   "execution_count": 38,
   "metadata": {},
   "outputs": [
    {
     "data": {
      "text/html": [
       "<div>\n",
       "<style scoped>\n",
       "    .dataframe tbody tr th:only-of-type {\n",
       "        vertical-align: middle;\n",
       "    }\n",
       "\n",
       "    .dataframe tbody tr th {\n",
       "        vertical-align: top;\n",
       "    }\n",
       "\n",
       "    .dataframe thead th {\n",
       "        text-align: right;\n",
       "    }\n",
       "</style>\n",
       "<table border=\"1\" class=\"dataframe\">\n",
       "  <thead>\n",
       "    <tr style=\"text-align: right;\">\n",
       "      <th></th>\n",
       "      <th>id</th>\n",
       "      <th>comments</th>\n",
       "      <th>title</th>\n",
       "    </tr>\n",
       "  </thead>\n",
       "  <tbody>\n",
       "    <tr>\n",
       "      <th>0</th>\n",
       "      <td>1235465</td>\n",
       "      <td>3256</td>\n",
       "      <td>台电（Teclast）X98 Air Ⅱ 9.7英寸平板电脑 (Intel 3736F 2....</td>\n",
       "    </tr>\n",
       "    <tr>\n",
       "      <th>1</th>\n",
       "      <td>1312660</td>\n",
       "      <td>342</td>\n",
       "      <td>台电（Teclast）X10HD 3G 双系统 10.1英寸平板电脑(Win8+安卓 256...</td>\n",
       "    </tr>\n",
       "    <tr>\n",
       "      <th>2</th>\n",
       "      <td>1192758</td>\n",
       "      <td>1725</td>\n",
       "      <td>台电（Teclast）P98 Air八核 9.7英寸平板电脑 (A80T八核 Air视网膜屏...</td>\n",
       "    </tr>\n",
       "    <tr>\n",
       "      <th>3</th>\n",
       "      <td>1312671</td>\n",
       "      <td>279</td>\n",
       "      <td>台电（Teclast）X89 双系统版 7.9英寸平板电脑 (IntelZ3735 分辨率2...</td>\n",
       "    </tr>\n",
       "    <tr>\n",
       "      <th>4</th>\n",
       "      <td>1094550</td>\n",
       "      <td>2563</td>\n",
       "      <td>台电（Teclast） P19HD 10.1英寸平板电脑(Intel Z2580 2.0G主...</td>\n",
       "    </tr>\n",
       "    <tr>\n",
       "      <th>5</th>\n",
       "      <td>1327452</td>\n",
       "      <td>207</td>\n",
       "      <td>台电（Teclast）P80 3G八核 8英寸平板电脑(3G通话 MT8392八核  128...</td>\n",
       "    </tr>\n",
       "    <tr>\n",
       "      <th>6</th>\n",
       "      <td>1134006</td>\n",
       "      <td>13231</td>\n",
       "      <td>小米（MI）7.9英寸平板 WIFI 16GB（NVIDIA Tegra K1 2.2GHz...</td>\n",
       "    </tr>\n",
       "    <tr>\n",
       "      <th>7</th>\n",
       "      <td>1192330</td>\n",
       "      <td>6879</td>\n",
       "      <td>小米（MI）7.9英寸平板 WIFI 64GB（NVIDIA Tegra K1 2.2GHz...</td>\n",
       "    </tr>\n",
       "    <tr>\n",
       "      <th>8</th>\n",
       "      <td>1225995</td>\n",
       "      <td>2218</td>\n",
       "      <td>小米（MI）7.9英寸平板 WIFI 16GB（NVIDIA Tegra K1 2.2GHz...</td>\n",
       "    </tr>\n",
       "    <tr>\n",
       "      <th>9</th>\n",
       "      <td>1225988</td>\n",
       "      <td>1336</td>\n",
       "      <td>小米（MI）7.9英寸平板 WIFI 16GB（NVIDIA Tegra K1 2.2GHz...</td>\n",
       "    </tr>\n",
       "    <tr>\n",
       "      <th>10</th>\n",
       "      <td>1284247</td>\n",
       "      <td>578</td>\n",
       "      <td>小米（MI）7.9英寸平板 WIFI 64GB（NVIDIA Tegra K1 2.2GHz...</td>\n",
       "    </tr>\n",
       "    <tr>\n",
       "      <th>11</th>\n",
       "      <td>996961</td>\n",
       "      <td>62014</td>\n",
       "      <td>Apple iPad Air MD788CH 9.7英寸平板电脑 （16G WiFi版）银色</td>\n",
       "    </tr>\n",
       "    <tr>\n",
       "      <th>12</th>\n",
       "      <td>996967</td>\n",
       "      <td>59503</td>\n",
       "      <td>Apple iPad mini ME279CH/A 配备 Retina 显示屏 7.9英寸平...</td>\n",
       "    </tr>\n",
       "    <tr>\n",
       "      <th>13</th>\n",
       "      <td>761145</td>\n",
       "      <td>123415</td>\n",
       "      <td>Apple iPad mini MD531CH/A 7.9英寸平板电脑 （16G WIFI版）白色</td>\n",
       "    </tr>\n",
       "    <tr>\n",
       "      <th>14</th>\n",
       "      <td>1246836</td>\n",
       "      <td>8791</td>\n",
       "      <td>Apple iPad Air 2 MH0W2CH/A 9.7英寸平板电脑 （16G WiFi...</td>\n",
       "    </tr>\n",
       "    <tr>\n",
       "      <th>15</th>\n",
       "      <td>996964</td>\n",
       "      <td>9332</td>\n",
       "      <td>Apple iPad mini ME280CH/A 配备 Retina 显示屏 7.9英寸平...</td>\n",
       "    </tr>\n",
       "    <tr>\n",
       "      <th>16</th>\n",
       "      <td>1250967</td>\n",
       "      <td>4932</td>\n",
       "      <td>Apple iPad Air 2 MH182CH/A 9.7英寸平板电脑 （64G WiFi...</td>\n",
       "    </tr>\n",
       "  </tbody>\n",
       "</table>\n",
       "</div>"
      ],
      "text/plain": [
       "         id  comments                                              title\n",
       "0   1235465      3256  台电（Teclast）X98 Air Ⅱ 9.7英寸平板电脑 (Intel 3736F 2....\n",
       "1   1312660       342  台电（Teclast）X10HD 3G 双系统 10.1英寸平板电脑(Win8+安卓 256...\n",
       "2   1192758      1725  台电（Teclast）P98 Air八核 9.7英寸平板电脑 (A80T八核 Air视网膜屏...\n",
       "3   1312671       279  台电（Teclast）X89 双系统版 7.9英寸平板电脑 (IntelZ3735 分辨率2...\n",
       "4   1094550      2563  台电（Teclast） P19HD 10.1英寸平板电脑(Intel Z2580 2.0G主...\n",
       "5   1327452       207  台电（Teclast）P80 3G八核 8英寸平板电脑(3G通话 MT8392八核  128...\n",
       "6   1134006     13231  小米（MI）7.9英寸平板 WIFI 16GB（NVIDIA Tegra K1 2.2GHz...\n",
       "7   1192330      6879  小米（MI）7.9英寸平板 WIFI 64GB（NVIDIA Tegra K1 2.2GHz...\n",
       "8   1225995      2218  小米（MI）7.9英寸平板 WIFI 16GB（NVIDIA Tegra K1 2.2GHz...\n",
       "9   1225988      1336  小米（MI）7.9英寸平板 WIFI 16GB（NVIDIA Tegra K1 2.2GHz...\n",
       "10  1284247       578  小米（MI）7.9英寸平板 WIFI 64GB（NVIDIA Tegra K1 2.2GHz...\n",
       "11   996961     62014     Apple iPad Air MD788CH 9.7英寸平板电脑 （16G WiFi版）银色\n",
       "12   996967     59503  Apple iPad mini ME279CH/A 配备 Retina 显示屏 7.9英寸平...\n",
       "13   761145    123415  Apple iPad mini MD531CH/A 7.9英寸平板电脑 （16G WIFI版）白色\n",
       "14  1246836      8791  Apple iPad Air 2 MH0W2CH/A 9.7英寸平板电脑 （16G WiFi...\n",
       "15   996964      9332  Apple iPad mini ME280CH/A 配备 Retina 显示屏 7.9英寸平...\n",
       "16  1250967      4932  Apple iPad Air 2 MH182CH/A 9.7英寸平板电脑 （64G WiFi..."
      ]
     },
     "execution_count": 38,
     "metadata": {},
     "output_type": "execute_result"
    }
   ],
   "source": [
    "df = pd.concat([df1, df2, df3], ignore_index=True)\n",
    "df"
   ]
  },
  {
   "cell_type": "markdown",
   "metadata": {},
   "source": [
    "### 5.2.9 字段匹配"
   ]
  },
  {
   "cell_type": "markdown",
   "metadata": {},
   "source": [
    "**使用基于索引的merge()函数，进行两张表的记录合并**"
   ]
  },
  {
   "cell_type": "code",
   "execution_count": 39,
   "metadata": {},
   "outputs": [
    {
     "data": {
      "text/html": [
       "<div>\n",
       "<style scoped>\n",
       "    .dataframe tbody tr th:only-of-type {\n",
       "        vertical-align: middle;\n",
       "    }\n",
       "\n",
       "    .dataframe tbody tr th {\n",
       "        vertical-align: top;\n",
       "    }\n",
       "\n",
       "    .dataframe thead th {\n",
       "        text-align: right;\n",
       "    }\n",
       "</style>\n",
       "<table border=\"1\" class=\"dataframe\">\n",
       "  <thead>\n",
       "    <tr style=\"text-align: right;\">\n",
       "      <th></th>\n",
       "      <th>id</th>\n",
       "      <th>comments</th>\n",
       "      <th>title</th>\n",
       "    </tr>\n",
       "  </thead>\n",
       "  <tbody>\n",
       "    <tr>\n",
       "      <th>0</th>\n",
       "      <td>996955</td>\n",
       "      <td>2412</td>\n",
       "      <td>Apple iPad Air MD786CH/A 9.7英寸平板电脑 （32G WiFi版）...</td>\n",
       "    </tr>\n",
       "    <tr>\n",
       "      <th>1</th>\n",
       "      <td>1251208</td>\n",
       "      <td>2061</td>\n",
       "      <td>Apple iPad Air 2 MGKM2CH/A 9.7英寸平板电脑 （64G WiFi...</td>\n",
       "    </tr>\n",
       "    <tr>\n",
       "      <th>2</th>\n",
       "      <td>1197453</td>\n",
       "      <td>10071</td>\n",
       "      <td>华为（HUAWEI）荣耀平板 Wifi版 8英寸平板电脑（高通骁龙四核 1280×800 1...</td>\n",
       "    </tr>\n",
       "    <tr>\n",
       "      <th>3</th>\n",
       "      <td>1192330</td>\n",
       "      <td>6879</td>\n",
       "      <td>小米（MI）7.9英寸平板 WIFI 64GB（NVIDIA Tegra K1 2.2GHz...</td>\n",
       "    </tr>\n",
       "    <tr>\n",
       "      <th>4</th>\n",
       "      <td>1225995</td>\n",
       "      <td>2218</td>\n",
       "      <td>小米（MI）7.9英寸平板 WIFI 16GB（NVIDIA Tegra K1 2.2GHz...</td>\n",
       "    </tr>\n",
       "    <tr>\n",
       "      <th>5</th>\n",
       "      <td>1308557</td>\n",
       "      <td>1605</td>\n",
       "      <td>华为（HUAWEI）荣耀平板优享版 Wifi 8英寸平板电脑（高通骁龙 64位四核1280×...</td>\n",
       "    </tr>\n",
       "    <tr>\n",
       "      <th>6</th>\n",
       "      <td>1185287</td>\n",
       "      <td>836</td>\n",
       "      <td>微软（Microsoft） Surface Pro 3（中文版 Intel i5 128G存...</td>\n",
       "    </tr>\n",
       "    <tr>\n",
       "      <th>7</th>\n",
       "      <td>1197789</td>\n",
       "      <td>2084</td>\n",
       "      <td>小米（MI）7.9英寸平板 WIFI 16GB（NVIDIA Tegra K1 2.2GHz...</td>\n",
       "    </tr>\n",
       "    <tr>\n",
       "      <th>8</th>\n",
       "      <td>996957</td>\n",
       "      <td>11123</td>\n",
       "      <td>Apple iPad Air MD785CH 9.7英寸平板电脑 （16G WiFi版）深空灰色</td>\n",
       "    </tr>\n",
       "    <tr>\n",
       "      <th>9</th>\n",
       "      <td>1150612</td>\n",
       "      <td>5857</td>\n",
       "      <td>台电（Teclast） P98 3G八核 9.7英寸平板电脑(MTK8392 Air视网膜屏...</td>\n",
       "    </tr>\n",
       "  </tbody>\n",
       "</table>\n",
       "</div>"
      ],
      "text/plain": [
       "        id  comments                                              title\n",
       "0   996955      2412  Apple iPad Air MD786CH/A 9.7英寸平板电脑 （32G WiFi版）...\n",
       "1  1251208      2061  Apple iPad Air 2 MGKM2CH/A 9.7英寸平板电脑 （64G WiFi...\n",
       "2  1197453     10071  华为（HUAWEI）荣耀平板 Wifi版 8英寸平板电脑（高通骁龙四核 1280×800 1...\n",
       "3  1192330      6879  小米（MI）7.9英寸平板 WIFI 64GB（NVIDIA Tegra K1 2.2GHz...\n",
       "4  1225995      2218  小米（MI）7.9英寸平板 WIFI 16GB（NVIDIA Tegra K1 2.2GHz...\n",
       "5  1308557      1605  华为（HUAWEI）荣耀平板优享版 Wifi 8英寸平板电脑（高通骁龙 64位四核1280×...\n",
       "6  1185287       836  微软（Microsoft） Surface Pro 3（中文版 Intel i5 128G存...\n",
       "7  1197789      2084  小米（MI）7.9英寸平板 WIFI 16GB（NVIDIA Tegra K1 2.2GHz...\n",
       "8   996957     11123   Apple iPad Air MD785CH 9.7英寸平板电脑 （16G WiFi版）深空灰色\n",
       "9  1150612      5857  台电（Teclast） P98 3G八核 9.7英寸平板电脑(MTK8392 Air视网膜屏..."
      ]
     },
     "execution_count": 39,
     "metadata": {},
     "output_type": "execute_result"
    }
   ],
   "source": [
    "items = pd.read_csv('./pandas_data/data_processiing/4/4.12/data1.csv', sep='|', names=['id', 'comments', 'title'])\n",
    "items"
   ]
  },
  {
   "cell_type": "code",
   "execution_count": 40,
   "metadata": {},
   "outputs": [
    {
     "data": {
      "text/html": [
       "<div>\n",
       "<style scoped>\n",
       "    .dataframe tbody tr th:only-of-type {\n",
       "        vertical-align: middle;\n",
       "    }\n",
       "\n",
       "    .dataframe tbody tr th {\n",
       "        vertical-align: top;\n",
       "    }\n",
       "\n",
       "    .dataframe thead th {\n",
       "        text-align: right;\n",
       "    }\n",
       "</style>\n",
       "<table border=\"1\" class=\"dataframe\">\n",
       "  <thead>\n",
       "    <tr style=\"text-align: right;\">\n",
       "      <th></th>\n",
       "      <th>id</th>\n",
       "      <th>oldPrice</th>\n",
       "      <th>newPrice</th>\n",
       "    </tr>\n",
       "  </thead>\n",
       "  <tbody>\n",
       "    <tr>\n",
       "      <th>0</th>\n",
       "      <td>996955</td>\n",
       "      <td>3099</td>\n",
       "      <td>4299</td>\n",
       "    </tr>\n",
       "    <tr>\n",
       "      <th>1</th>\n",
       "      <td>1251208</td>\n",
       "      <td>4288</td>\n",
       "      <td>4289</td>\n",
       "    </tr>\n",
       "    <tr>\n",
       "      <th>2</th>\n",
       "      <td>1197453</td>\n",
       "      <td>799</td>\n",
       "      <td>1000</td>\n",
       "    </tr>\n",
       "    <tr>\n",
       "      <th>3</th>\n",
       "      <td>1192330</td>\n",
       "      <td>1699</td>\n",
       "      <td>1799</td>\n",
       "    </tr>\n",
       "    <tr>\n",
       "      <th>4</th>\n",
       "      <td>1225995</td>\n",
       "      <td>1299</td>\n",
       "      <td>1599</td>\n",
       "    </tr>\n",
       "    <tr>\n",
       "      <th>5</th>\n",
       "      <td>1308557</td>\n",
       "      <td>999</td>\n",
       "      <td>1099</td>\n",
       "    </tr>\n",
       "    <tr>\n",
       "      <th>6</th>\n",
       "      <td>1185287</td>\n",
       "      <td>7388</td>\n",
       "      <td>7588</td>\n",
       "    </tr>\n",
       "    <tr>\n",
       "      <th>7</th>\n",
       "      <td>1197789</td>\n",
       "      <td>1299</td>\n",
       "      <td>1500</td>\n",
       "    </tr>\n",
       "    <tr>\n",
       "      <th>8</th>\n",
       "      <td>996957</td>\n",
       "      <td>2788</td>\n",
       "      <td>2899</td>\n",
       "    </tr>\n",
       "    <tr>\n",
       "      <th>9</th>\n",
       "      <td>1150612</td>\n",
       "      <td>999</td>\n",
       "      <td>1499</td>\n",
       "    </tr>\n",
       "  </tbody>\n",
       "</table>\n",
       "</div>"
      ],
      "text/plain": [
       "        id  oldPrice  newPrice\n",
       "0   996955      3099      4299\n",
       "1  1251208      4288      4289\n",
       "2  1197453       799      1000\n",
       "3  1192330      1699      1799\n",
       "4  1225995      1299      1599\n",
       "5  1308557       999      1099\n",
       "6  1185287      7388      7588\n",
       "7  1197789      1299      1500\n",
       "8   996957      2788      2899\n",
       "9  1150612       999      1499"
      ]
     },
     "execution_count": 40,
     "metadata": {},
     "output_type": "execute_result"
    }
   ],
   "source": [
    "price = pd.read_csv('./pandas_data/data_processiing/4/4.12/data2.csv', sep='|', names=['id', 'oldPrice', 'newPrice'])\n",
    "price"
   ]
  },
  {
   "cell_type": "code",
   "execution_count": 41,
   "metadata": {},
   "outputs": [
    {
     "data": {
      "text/html": [
       "<div>\n",
       "<style scoped>\n",
       "    .dataframe tbody tr th:only-of-type {\n",
       "        vertical-align: middle;\n",
       "    }\n",
       "\n",
       "    .dataframe tbody tr th {\n",
       "        vertical-align: top;\n",
       "    }\n",
       "\n",
       "    .dataframe thead th {\n",
       "        text-align: right;\n",
       "    }\n",
       "</style>\n",
       "<table border=\"1\" class=\"dataframe\">\n",
       "  <thead>\n",
       "    <tr style=\"text-align: right;\">\n",
       "      <th></th>\n",
       "      <th>id</th>\n",
       "      <th>comments</th>\n",
       "      <th>title</th>\n",
       "      <th>oldPrice</th>\n",
       "      <th>newPrice</th>\n",
       "    </tr>\n",
       "  </thead>\n",
       "  <tbody>\n",
       "    <tr>\n",
       "      <th>0</th>\n",
       "      <td>996955</td>\n",
       "      <td>2412</td>\n",
       "      <td>Apple iPad Air MD786CH/A 9.7英寸平板电脑 （32G WiFi版）...</td>\n",
       "      <td>3099</td>\n",
       "      <td>4299</td>\n",
       "    </tr>\n",
       "    <tr>\n",
       "      <th>1</th>\n",
       "      <td>1251208</td>\n",
       "      <td>2061</td>\n",
       "      <td>Apple iPad Air 2 MGKM2CH/A 9.7英寸平板电脑 （64G WiFi...</td>\n",
       "      <td>4288</td>\n",
       "      <td>4289</td>\n",
       "    </tr>\n",
       "    <tr>\n",
       "      <th>2</th>\n",
       "      <td>1197453</td>\n",
       "      <td>10071</td>\n",
       "      <td>华为（HUAWEI）荣耀平板 Wifi版 8英寸平板电脑（高通骁龙四核 1280×800 1...</td>\n",
       "      <td>799</td>\n",
       "      <td>1000</td>\n",
       "    </tr>\n",
       "    <tr>\n",
       "      <th>3</th>\n",
       "      <td>1192330</td>\n",
       "      <td>6879</td>\n",
       "      <td>小米（MI）7.9英寸平板 WIFI 64GB（NVIDIA Tegra K1 2.2GHz...</td>\n",
       "      <td>1699</td>\n",
       "      <td>1799</td>\n",
       "    </tr>\n",
       "    <tr>\n",
       "      <th>4</th>\n",
       "      <td>1225995</td>\n",
       "      <td>2218</td>\n",
       "      <td>小米（MI）7.9英寸平板 WIFI 16GB（NVIDIA Tegra K1 2.2GHz...</td>\n",
       "      <td>1299</td>\n",
       "      <td>1599</td>\n",
       "    </tr>\n",
       "    <tr>\n",
       "      <th>5</th>\n",
       "      <td>1308557</td>\n",
       "      <td>1605</td>\n",
       "      <td>华为（HUAWEI）荣耀平板优享版 Wifi 8英寸平板电脑（高通骁龙 64位四核1280×...</td>\n",
       "      <td>999</td>\n",
       "      <td>1099</td>\n",
       "    </tr>\n",
       "    <tr>\n",
       "      <th>6</th>\n",
       "      <td>1185287</td>\n",
       "      <td>836</td>\n",
       "      <td>微软（Microsoft） Surface Pro 3（中文版 Intel i5 128G存...</td>\n",
       "      <td>7388</td>\n",
       "      <td>7588</td>\n",
       "    </tr>\n",
       "    <tr>\n",
       "      <th>7</th>\n",
       "      <td>1197789</td>\n",
       "      <td>2084</td>\n",
       "      <td>小米（MI）7.9英寸平板 WIFI 16GB（NVIDIA Tegra K1 2.2GHz...</td>\n",
       "      <td>1299</td>\n",
       "      <td>1500</td>\n",
       "    </tr>\n",
       "    <tr>\n",
       "      <th>8</th>\n",
       "      <td>996957</td>\n",
       "      <td>11123</td>\n",
       "      <td>Apple iPad Air MD785CH 9.7英寸平板电脑 （16G WiFi版）深空灰色</td>\n",
       "      <td>2788</td>\n",
       "      <td>2899</td>\n",
       "    </tr>\n",
       "    <tr>\n",
       "      <th>9</th>\n",
       "      <td>1150612</td>\n",
       "      <td>5857</td>\n",
       "      <td>台电（Teclast） P98 3G八核 9.7英寸平板电脑(MTK8392 Air视网膜屏...</td>\n",
       "      <td>999</td>\n",
       "      <td>1499</td>\n",
       "    </tr>\n",
       "  </tbody>\n",
       "</table>\n",
       "</div>"
      ],
      "text/plain": [
       "        id  comments                                              title  \\\n",
       "0   996955      2412  Apple iPad Air MD786CH/A 9.7英寸平板电脑 （32G WiFi版）...   \n",
       "1  1251208      2061  Apple iPad Air 2 MGKM2CH/A 9.7英寸平板电脑 （64G WiFi...   \n",
       "2  1197453     10071  华为（HUAWEI）荣耀平板 Wifi版 8英寸平板电脑（高通骁龙四核 1280×800 1...   \n",
       "3  1192330      6879  小米（MI）7.9英寸平板 WIFI 64GB（NVIDIA Tegra K1 2.2GHz...   \n",
       "4  1225995      2218  小米（MI）7.9英寸平板 WIFI 16GB（NVIDIA Tegra K1 2.2GHz...   \n",
       "5  1308557      1605  华为（HUAWEI）荣耀平板优享版 Wifi 8英寸平板电脑（高通骁龙 64位四核1280×...   \n",
       "6  1185287       836  微软（Microsoft） Surface Pro 3（中文版 Intel i5 128G存...   \n",
       "7  1197789      2084  小米（MI）7.9英寸平板 WIFI 16GB（NVIDIA Tegra K1 2.2GHz...   \n",
       "8   996957     11123   Apple iPad Air MD785CH 9.7英寸平板电脑 （16G WiFi版）深空灰色   \n",
       "9  1150612      5857  台电（Teclast） P98 3G八核 9.7英寸平板电脑(MTK8392 Air视网膜屏...   \n",
       "\n",
       "   oldPrice  newPrice  \n",
       "0      3099      4299  \n",
       "1      4288      4289  \n",
       "2       799      1000  \n",
       "3      1699      1799  \n",
       "4      1299      1599  \n",
       "5       999      1099  \n",
       "6      7388      7588  \n",
       "7      1299      1500  \n",
       "8      2788      2899  \n",
       "9       999      1499  "
      ]
     },
     "execution_count": 41,
     "metadata": {},
     "output_type": "execute_result"
    }
   ],
   "source": [
    "pd.merge(items, price, left_on='id', right_on='id')"
   ]
  },
  {
   "cell_type": "markdown",
   "metadata": {},
   "source": [
    "### 5.2.10 字段合并"
   ]
  },
  {
   "cell_type": "markdown",
   "metadata": {},
   "source": [
    "**字段拆分的逆过程**"
   ]
  },
  {
   "cell_type": "code",
   "execution_count": 42,
   "metadata": {},
   "outputs": [
    {
     "data": {
      "text/html": [
       "<div>\n",
       "<style scoped>\n",
       "    .dataframe tbody tr th:only-of-type {\n",
       "        vertical-align: middle;\n",
       "    }\n",
       "\n",
       "    .dataframe tbody tr th {\n",
       "        vertical-align: top;\n",
       "    }\n",
       "\n",
       "    .dataframe thead th {\n",
       "        text-align: right;\n",
       "    }\n",
       "</style>\n",
       "<table border=\"1\" class=\"dataframe\">\n",
       "  <thead>\n",
       "    <tr style=\"text-align: right;\">\n",
       "      <th></th>\n",
       "      <th>band</th>\n",
       "      <th>ares</th>\n",
       "      <th>nums</th>\n",
       "    </tr>\n",
       "  </thead>\n",
       "  <tbody>\n",
       "    <tr>\n",
       "      <th>0</th>\n",
       "      <td>189</td>\n",
       "      <td>2225</td>\n",
       "      <td>4812</td>\n",
       "    </tr>\n",
       "    <tr>\n",
       "      <th>1</th>\n",
       "      <td>135</td>\n",
       "      <td>2225</td>\n",
       "      <td>5003</td>\n",
       "    </tr>\n",
       "    <tr>\n",
       "      <th>2</th>\n",
       "      <td>134</td>\n",
       "      <td>2225</td>\n",
       "      <td>9938</td>\n",
       "    </tr>\n",
       "    <tr>\n",
       "      <th>3</th>\n",
       "      <td>188</td>\n",
       "      <td>2225</td>\n",
       "      <td>6753</td>\n",
       "    </tr>\n",
       "    <tr>\n",
       "      <th>4</th>\n",
       "      <td>189</td>\n",
       "      <td>2225</td>\n",
       "      <td>3721</td>\n",
       "    </tr>\n",
       "  </tbody>\n",
       "</table>\n",
       "</div>"
      ],
      "text/plain": [
       "   band  ares  nums\n",
       "0   189  2225  4812\n",
       "1   135  2225  5003\n",
       "2   134  2225  9938\n",
       "3   188  2225  6753\n",
       "4   189  2225  3721"
      ]
     },
     "execution_count": 42,
     "metadata": {},
     "output_type": "execute_result"
    }
   ],
   "source": [
    "df = pd.read_csv('./pandas_data/data_processiing/4/4.11/data.csv', sep=' ', names=['band', 'ares', 'nums'])\n",
    "df.head()"
   ]
  },
  {
   "cell_type": "code",
   "execution_count": 43,
   "metadata": {},
   "outputs": [
    {
     "name": "stdout",
     "output_type": "stream",
     "text": [
      "<class 'pandas.core.frame.DataFrame'>\n",
      "RangeIndex: 9 entries, 0 to 8\n",
      "Data columns (total 3 columns):\n",
      "band    9 non-null int64\n",
      "ares    9 non-null int64\n",
      "nums    9 non-null int64\n",
      "dtypes: int64(3)\n",
      "memory usage: 296.0 bytes\n"
     ]
    }
   ],
   "source": [
    "df.info()"
   ]
  },
  {
   "cell_type": "code",
   "execution_count": 44,
   "metadata": {},
   "outputs": [
    {
     "name": "stdout",
     "output_type": "stream",
     "text": [
      "<class 'pandas.core.frame.DataFrame'>\n",
      "RangeIndex: 9 entries, 0 to 8\n",
      "Data columns (total 3 columns):\n",
      "band    9 non-null object\n",
      "ares    9 non-null object\n",
      "nums    9 non-null object\n",
      "dtypes: object(3)\n",
      "memory usage: 296.0+ bytes\n"
     ]
    }
   ],
   "source": [
    "df = df.astype('str')\n",
    "df.info()"
   ]
  },
  {
   "cell_type": "code",
   "execution_count": 45,
   "metadata": {},
   "outputs": [],
   "source": [
    "df['number'] = df['band'] + df['ares'] + df['nums']"
   ]
  },
  {
   "cell_type": "code",
   "execution_count": 46,
   "metadata": {},
   "outputs": [
    {
     "data": {
      "text/html": [
       "<div>\n",
       "<style scoped>\n",
       "    .dataframe tbody tr th:only-of-type {\n",
       "        vertical-align: middle;\n",
       "    }\n",
       "\n",
       "    .dataframe tbody tr th {\n",
       "        vertical-align: top;\n",
       "    }\n",
       "\n",
       "    .dataframe thead th {\n",
       "        text-align: right;\n",
       "    }\n",
       "</style>\n",
       "<table border=\"1\" class=\"dataframe\">\n",
       "  <thead>\n",
       "    <tr style=\"text-align: right;\">\n",
       "      <th></th>\n",
       "      <th>band</th>\n",
       "      <th>ares</th>\n",
       "      <th>nums</th>\n",
       "      <th>number</th>\n",
       "    </tr>\n",
       "  </thead>\n",
       "  <tbody>\n",
       "    <tr>\n",
       "      <th>0</th>\n",
       "      <td>189</td>\n",
       "      <td>2225</td>\n",
       "      <td>4812</td>\n",
       "      <td>18922254812</td>\n",
       "    </tr>\n",
       "    <tr>\n",
       "      <th>1</th>\n",
       "      <td>135</td>\n",
       "      <td>2225</td>\n",
       "      <td>5003</td>\n",
       "      <td>13522255003</td>\n",
       "    </tr>\n",
       "    <tr>\n",
       "      <th>2</th>\n",
       "      <td>134</td>\n",
       "      <td>2225</td>\n",
       "      <td>9938</td>\n",
       "      <td>13422259938</td>\n",
       "    </tr>\n",
       "    <tr>\n",
       "      <th>3</th>\n",
       "      <td>188</td>\n",
       "      <td>2225</td>\n",
       "      <td>6753</td>\n",
       "      <td>18822256753</td>\n",
       "    </tr>\n",
       "    <tr>\n",
       "      <th>4</th>\n",
       "      <td>189</td>\n",
       "      <td>2225</td>\n",
       "      <td>3721</td>\n",
       "      <td>18922253721</td>\n",
       "    </tr>\n",
       "    <tr>\n",
       "      <th>5</th>\n",
       "      <td>134</td>\n",
       "      <td>2225</td>\n",
       "      <td>9313</td>\n",
       "      <td>13422259313</td>\n",
       "    </tr>\n",
       "    <tr>\n",
       "      <th>6</th>\n",
       "      <td>138</td>\n",
       "      <td>2225</td>\n",
       "      <td>4373</td>\n",
       "      <td>13822254373</td>\n",
       "    </tr>\n",
       "    <tr>\n",
       "      <th>7</th>\n",
       "      <td>133</td>\n",
       "      <td>2225</td>\n",
       "      <td>2452</td>\n",
       "      <td>13322252452</td>\n",
       "    </tr>\n",
       "    <tr>\n",
       "      <th>8</th>\n",
       "      <td>189</td>\n",
       "      <td>2225</td>\n",
       "      <td>7681</td>\n",
       "      <td>18922257681</td>\n",
       "    </tr>\n",
       "  </tbody>\n",
       "</table>\n",
       "</div>"
      ],
      "text/plain": [
       "  band  ares  nums       number\n",
       "0  189  2225  4812  18922254812\n",
       "1  135  2225  5003  13522255003\n",
       "2  134  2225  9938  13422259938\n",
       "3  188  2225  6753  18822256753\n",
       "4  189  2225  3721  18922253721\n",
       "5  134  2225  9313  13422259313\n",
       "6  138  2225  4373  13822254373\n",
       "7  133  2225  2452  13322252452\n",
       "8  189  2225  7681  18922257681"
      ]
     },
     "execution_count": 46,
     "metadata": {},
     "output_type": "execute_result"
    }
   ],
   "source": [
    "df"
   ]
  },
  {
   "cell_type": "markdown",
   "metadata": {},
   "source": [
    "### 5.2.11 数据标准化"
   ]
  },
  {
   "cell_type": "markdown",
   "metadata": {},
   "source": [
    "**将数据按照一定的比例进行缩放，使之落入指定区间，以便消除单位，方便比较：**\n",
    "- **0-1标准化：$X^* =\\frac{x - min}{max - min}$**\n",
    "- **z-score标准化：$X^* = \\frac{x - \\mu}{\\sigma}$**"
   ]
  },
  {
   "cell_type": "code",
   "execution_count": 47,
   "metadata": {},
   "outputs": [
    {
     "data": {
      "text/html": [
       "<div>\n",
       "<style scoped>\n",
       "    .dataframe tbody tr th:only-of-type {\n",
       "        vertical-align: middle;\n",
       "    }\n",
       "\n",
       "    .dataframe tbody tr th {\n",
       "        vertical-align: top;\n",
       "    }\n",
       "\n",
       "    .dataframe thead th {\n",
       "        text-align: right;\n",
       "    }\n",
       "</style>\n",
       "<table border=\"1\" class=\"dataframe\">\n",
       "  <thead>\n",
       "    <tr style=\"text-align: right;\">\n",
       "      <th></th>\n",
       "      <th>class</th>\n",
       "      <th>name</th>\n",
       "      <th>score</th>\n",
       "    </tr>\n",
       "  </thead>\n",
       "  <tbody>\n",
       "    <tr>\n",
       "      <th>0</th>\n",
       "      <td>一班</td>\n",
       "      <td>朱志斌</td>\n",
       "      <td>120</td>\n",
       "    </tr>\n",
       "    <tr>\n",
       "      <th>1</th>\n",
       "      <td>一班</td>\n",
       "      <td>朱凤</td>\n",
       "      <td>122</td>\n",
       "    </tr>\n",
       "    <tr>\n",
       "      <th>2</th>\n",
       "      <td>一班</td>\n",
       "      <td>郑丽萍</td>\n",
       "      <td>140</td>\n",
       "    </tr>\n",
       "    <tr>\n",
       "      <th>3</th>\n",
       "      <td>一班</td>\n",
       "      <td>郭杰明</td>\n",
       "      <td>131</td>\n",
       "    </tr>\n",
       "    <tr>\n",
       "      <th>4</th>\n",
       "      <td>一班</td>\n",
       "      <td>许杰</td>\n",
       "      <td>122</td>\n",
       "    </tr>\n",
       "  </tbody>\n",
       "</table>\n",
       "</div>"
      ],
      "text/plain": [
       "  class name  score\n",
       "0    一班  朱志斌    120\n",
       "1    一班   朱凤    122\n",
       "2    一班  郑丽萍    140\n",
       "3    一班  郭杰明    131\n",
       "4    一班   许杰    122"
      ]
     },
     "execution_count": 47,
     "metadata": {},
     "output_type": "execute_result"
    }
   ],
   "source": [
    "df = pd.read_csv('./pandas_data/data_processiing/4/4.14/data.csv')\n",
    "df.head()"
   ]
  },
  {
   "cell_type": "code",
   "execution_count": 48,
   "metadata": {},
   "outputs": [
    {
     "data": {
      "text/html": [
       "<div>\n",
       "<style scoped>\n",
       "    .dataframe tbody tr th:only-of-type {\n",
       "        vertical-align: middle;\n",
       "    }\n",
       "\n",
       "    .dataframe tbody tr th {\n",
       "        vertical-align: top;\n",
       "    }\n",
       "\n",
       "    .dataframe thead th {\n",
       "        text-align: right;\n",
       "    }\n",
       "</style>\n",
       "<table border=\"1\" class=\"dataframe\">\n",
       "  <thead>\n",
       "    <tr style=\"text-align: right;\">\n",
       "      <th></th>\n",
       "      <th>class</th>\n",
       "      <th>name</th>\n",
       "      <th>score</th>\n",
       "      <th>result</th>\n",
       "    </tr>\n",
       "  </thead>\n",
       "  <tbody>\n",
       "    <tr>\n",
       "      <th>0</th>\n",
       "      <td>一班</td>\n",
       "      <td>朱志斌</td>\n",
       "      <td>120</td>\n",
       "      <td>0.545455</td>\n",
       "    </tr>\n",
       "    <tr>\n",
       "      <th>1</th>\n",
       "      <td>一班</td>\n",
       "      <td>朱凤</td>\n",
       "      <td>122</td>\n",
       "      <td>0.590909</td>\n",
       "    </tr>\n",
       "    <tr>\n",
       "      <th>2</th>\n",
       "      <td>一班</td>\n",
       "      <td>郑丽萍</td>\n",
       "      <td>140</td>\n",
       "      <td>1.000000</td>\n",
       "    </tr>\n",
       "    <tr>\n",
       "      <th>3</th>\n",
       "      <td>一班</td>\n",
       "      <td>郭杰明</td>\n",
       "      <td>131</td>\n",
       "      <td>0.795455</td>\n",
       "    </tr>\n",
       "    <tr>\n",
       "      <th>4</th>\n",
       "      <td>一班</td>\n",
       "      <td>许杰</td>\n",
       "      <td>122</td>\n",
       "      <td>0.590909</td>\n",
       "    </tr>\n",
       "    <tr>\n",
       "      <th>5</th>\n",
       "      <td>二班</td>\n",
       "      <td>郑芬</td>\n",
       "      <td>119</td>\n",
       "      <td>0.522727</td>\n",
       "    </tr>\n",
       "    <tr>\n",
       "      <th>6</th>\n",
       "      <td>二班</td>\n",
       "      <td>林龙</td>\n",
       "      <td>96</td>\n",
       "      <td>0.000000</td>\n",
       "    </tr>\n",
       "    <tr>\n",
       "      <th>7</th>\n",
       "      <td>二班</td>\n",
       "      <td>林良坤</td>\n",
       "      <td>135</td>\n",
       "      <td>0.886364</td>\n",
       "    </tr>\n",
       "    <tr>\n",
       "      <th>8</th>\n",
       "      <td>二班</td>\n",
       "      <td>黄志红</td>\n",
       "      <td>105</td>\n",
       "      <td>0.204545</td>\n",
       "    </tr>\n",
       "    <tr>\n",
       "      <th>9</th>\n",
       "      <td>三班</td>\n",
       "      <td>方小明</td>\n",
       "      <td>114</td>\n",
       "      <td>0.409091</td>\n",
       "    </tr>\n",
       "    <tr>\n",
       "      <th>10</th>\n",
       "      <td>三班</td>\n",
       "      <td>陈丽灵</td>\n",
       "      <td>115</td>\n",
       "      <td>0.431818</td>\n",
       "    </tr>\n",
       "    <tr>\n",
       "      <th>11</th>\n",
       "      <td>三班</td>\n",
       "      <td>方伟君</td>\n",
       "      <td>136</td>\n",
       "      <td>0.909091</td>\n",
       "    </tr>\n",
       "    <tr>\n",
       "      <th>12</th>\n",
       "      <td>三班</td>\n",
       "      <td>庄艺家</td>\n",
       "      <td>119</td>\n",
       "      <td>0.522727</td>\n",
       "    </tr>\n",
       "  </tbody>\n",
       "</table>\n",
       "</div>"
      ],
      "text/plain": [
       "   class name  score    result\n",
       "0     一班  朱志斌    120  0.545455\n",
       "1     一班   朱凤    122  0.590909\n",
       "2     一班  郑丽萍    140  1.000000\n",
       "3     一班  郭杰明    131  0.795455\n",
       "4     一班   许杰    122  0.590909\n",
       "5     二班   郑芬    119  0.522727\n",
       "6     二班   林龙     96  0.000000\n",
       "7     二班  林良坤    135  0.886364\n",
       "8     二班  黄志红    105  0.204545\n",
       "9     三班  方小明    114  0.409091\n",
       "10    三班  陈丽灵    115  0.431818\n",
       "11    三班  方伟君    136  0.909091\n",
       "12    三班  庄艺家    119  0.522727"
      ]
     },
     "execution_count": 48,
     "metadata": {},
     "output_type": "execute_result"
    }
   ],
   "source": [
    "# 将分数进行标准化\n",
    "result = (df.score - df.score.min()) / (df.score.max() - df.score.min())\n",
    "df['result'] = result\n",
    "df"
   ]
  },
  {
   "cell_type": "markdown",
   "metadata": {},
   "source": [
    "### 5.2.12 数据分组"
   ]
  },
  {
   "cell_type": "markdown",
   "metadata": {},
   "source": [
    "**使用pandas.cut()函数进行数据等距或者自定义间距分组**"
   ]
  },
  {
   "cell_type": "code",
   "execution_count": 49,
   "metadata": {},
   "outputs": [
    {
     "data": {
      "text/html": [
       "<div>\n",
       "<style scoped>\n",
       "    .dataframe tbody tr th:only-of-type {\n",
       "        vertical-align: middle;\n",
       "    }\n",
       "\n",
       "    .dataframe tbody tr th {\n",
       "        vertical-align: top;\n",
       "    }\n",
       "\n",
       "    .dataframe thead th {\n",
       "        text-align: right;\n",
       "    }\n",
       "</style>\n",
       "<table border=\"1\" class=\"dataframe\">\n",
       "  <thead>\n",
       "    <tr style=\"text-align: right;\">\n",
       "      <th></th>\n",
       "      <th>tel</th>\n",
       "      <th>cost</th>\n",
       "    </tr>\n",
       "  </thead>\n",
       "  <tbody>\n",
       "    <tr>\n",
       "      <th>0</th>\n",
       "      <td>166424556600</td>\n",
       "      <td>2.0</td>\n",
       "    </tr>\n",
       "    <tr>\n",
       "      <th>1</th>\n",
       "      <td>166424557199</td>\n",
       "      <td>5.0</td>\n",
       "    </tr>\n",
       "    <tr>\n",
       "      <th>2</th>\n",
       "      <td>166424561768</td>\n",
       "      <td>75.3</td>\n",
       "    </tr>\n",
       "    <tr>\n",
       "      <th>3</th>\n",
       "      <td>166424569696</td>\n",
       "      <td>20.0</td>\n",
       "    </tr>\n",
       "    <tr>\n",
       "      <th>4</th>\n",
       "      <td>166424569924</td>\n",
       "      <td>97.3</td>\n",
       "    </tr>\n",
       "  </tbody>\n",
       "</table>\n",
       "</div>"
      ],
      "text/plain": [
       "            tel  cost\n",
       "0  166424556600   2.0\n",
       "1  166424557199   5.0\n",
       "2  166424561768  75.3\n",
       "3  166424569696  20.0\n",
       "4  166424569924  97.3"
      ]
     },
     "execution_count": 49,
     "metadata": {},
     "output_type": "execute_result"
    }
   ],
   "source": [
    "df = pd.read_csv('./pandas_data/data_processiing/4/4.15/data.csv', sep='|')\n",
    "df.head()"
   ]
  },
  {
   "cell_type": "code",
   "execution_count": 50,
   "metadata": {},
   "outputs": [],
   "source": [
    "bins = [min(df.cost)-1, 20, 40, 60, 80, 100, max(df.cost)+1]\n",
    "labels = ['20以下', '20-40', '40-60', '60-80', '80-100', '100以上']"
   ]
  },
  {
   "cell_type": "code",
   "execution_count": 51,
   "metadata": {},
   "outputs": [
    {
     "data": {
      "text/plain": [
       "0       20以下\n",
       "1       20以下\n",
       "2      60-80\n",
       "3       20以下\n",
       "4     80-100\n",
       "5       20以下\n",
       "6     80-100\n",
       "7      60-80\n",
       "8       20以下\n",
       "9      40-60\n",
       "10     20-40\n",
       "11      20以下\n",
       "12     60-80\n",
       "13    80-100\n",
       "14      20以下\n",
       "Name: cost, dtype: category\n",
       "Categories (6, object): [20以下 < 20-40 < 40-60 < 60-80 < 80-100 < 100以上]"
      ]
     },
     "execution_count": 51,
     "metadata": {},
     "output_type": "execute_result"
    }
   ],
   "source": [
    "pd.cut(df.cost, bins=bins, right=True, labels=labels)"
   ]
  },
  {
   "cell_type": "markdown",
   "metadata": {},
   "source": [
    "### 5.2.13 时间格式转换"
   ]
  },
  {
   "cell_type": "code",
   "execution_count": 52,
   "metadata": {},
   "outputs": [
    {
     "data": {
      "text/html": [
       "<div>\n",
       "<style scoped>\n",
       "    .dataframe tbody tr th:only-of-type {\n",
       "        vertical-align: middle;\n",
       "    }\n",
       "\n",
       "    .dataframe tbody tr th {\n",
       "        vertical-align: top;\n",
       "    }\n",
       "\n",
       "    .dataframe thead th {\n",
       "        text-align: right;\n",
       "    }\n",
       "</style>\n",
       "<table border=\"1\" class=\"dataframe\">\n",
       "  <thead>\n",
       "    <tr style=\"text-align: right;\">\n",
       "      <th></th>\n",
       "      <th>电话</th>\n",
       "      <th>注册时间</th>\n",
       "      <th>是否微信</th>\n",
       "    </tr>\n",
       "  </thead>\n",
       "  <tbody>\n",
       "    <tr>\n",
       "      <th>0</th>\n",
       "      <td>166412894295</td>\n",
       "      <td>2011/1/1</td>\n",
       "      <td>否</td>\n",
       "    </tr>\n",
       "    <tr>\n",
       "      <th>1</th>\n",
       "      <td>166416795207</td>\n",
       "      <td>2011/1/1</td>\n",
       "      <td>否</td>\n",
       "    </tr>\n",
       "    <tr>\n",
       "      <th>2</th>\n",
       "      <td>166423353436</td>\n",
       "      <td>2011/1/1</td>\n",
       "      <td>是</td>\n",
       "    </tr>\n",
       "    <tr>\n",
       "      <th>3</th>\n",
       "      <td>166424978309</td>\n",
       "      <td>2011/1/1</td>\n",
       "      <td>是</td>\n",
       "    </tr>\n",
       "    <tr>\n",
       "      <th>4</th>\n",
       "      <td>166450811715</td>\n",
       "      <td>2011/1/1</td>\n",
       "      <td>否</td>\n",
       "    </tr>\n",
       "  </tbody>\n",
       "</table>\n",
       "</div>"
      ],
      "text/plain": [
       "             电话      注册时间 是否微信\n",
       "0  166412894295  2011/1/1    否\n",
       "1  166416795207  2011/1/1    否\n",
       "2  166423353436  2011/1/1    是\n",
       "3  166424978309  2011/1/1    是\n",
       "4  166450811715  2011/1/1    否"
      ]
     },
     "execution_count": 52,
     "metadata": {},
     "output_type": "execute_result"
    }
   ],
   "source": [
    "df = pd.read_csv('./pandas_data/data_processiing/4/4.16/data.csv')\n",
    "df.head()"
   ]
  },
  {
   "cell_type": "code",
   "execution_count": 53,
   "metadata": {},
   "outputs": [
    {
     "data": {
      "text/html": [
       "<div>\n",
       "<style scoped>\n",
       "    .dataframe tbody tr th:only-of-type {\n",
       "        vertical-align: middle;\n",
       "    }\n",
       "\n",
       "    .dataframe tbody tr th {\n",
       "        vertical-align: top;\n",
       "    }\n",
       "\n",
       "    .dataframe thead th {\n",
       "        text-align: right;\n",
       "    }\n",
       "</style>\n",
       "<table border=\"1\" class=\"dataframe\">\n",
       "  <thead>\n",
       "    <tr style=\"text-align: right;\">\n",
       "      <th></th>\n",
       "      <th>电话</th>\n",
       "      <th>注册时间</th>\n",
       "      <th>是否微信</th>\n",
       "      <th>格式化日期</th>\n",
       "    </tr>\n",
       "  </thead>\n",
       "  <tbody>\n",
       "    <tr>\n",
       "      <th>0</th>\n",
       "      <td>166412894295</td>\n",
       "      <td>2011/1/1</td>\n",
       "      <td>否</td>\n",
       "      <td>2011-01-01</td>\n",
       "    </tr>\n",
       "    <tr>\n",
       "      <th>1</th>\n",
       "      <td>166416795207</td>\n",
       "      <td>2011/1/1</td>\n",
       "      <td>否</td>\n",
       "      <td>2011-01-01</td>\n",
       "    </tr>\n",
       "    <tr>\n",
       "      <th>2</th>\n",
       "      <td>166423353436</td>\n",
       "      <td>2011/1/1</td>\n",
       "      <td>是</td>\n",
       "      <td>2011-01-01</td>\n",
       "    </tr>\n",
       "    <tr>\n",
       "      <th>3</th>\n",
       "      <td>166424978309</td>\n",
       "      <td>2011/1/1</td>\n",
       "      <td>是</td>\n",
       "      <td>2011-01-01</td>\n",
       "    </tr>\n",
       "    <tr>\n",
       "      <th>4</th>\n",
       "      <td>166450811715</td>\n",
       "      <td>2011/1/1</td>\n",
       "      <td>否</td>\n",
       "      <td>2011-01-01</td>\n",
       "    </tr>\n",
       "  </tbody>\n",
       "</table>\n",
       "</div>"
      ],
      "text/plain": [
       "             电话      注册时间 是否微信      格式化日期\n",
       "0  166412894295  2011/1/1    否 2011-01-01\n",
       "1  166416795207  2011/1/1    否 2011-01-01\n",
       "2  166423353436  2011/1/1    是 2011-01-01\n",
       "3  166424978309  2011/1/1    是 2011-01-01\n",
       "4  166450811715  2011/1/1    否 2011-01-01"
      ]
     },
     "execution_count": 53,
     "metadata": {},
     "output_type": "execute_result"
    }
   ],
   "source": [
    "df['格式化日期'] = pd.to_datetime(df.注册时间, format='%Y/%m/%d')\n",
    "df.head()"
   ]
  },
  {
   "cell_type": "markdown",
   "metadata": {},
   "source": [
    "### 5.2.14 日期格式化"
   ]
  },
  {
   "cell_type": "code",
   "execution_count": 54,
   "metadata": {},
   "outputs": [
    {
     "data": {
      "text/html": [
       "<div>\n",
       "<style scoped>\n",
       "    .dataframe tbody tr th:only-of-type {\n",
       "        vertical-align: middle;\n",
       "    }\n",
       "\n",
       "    .dataframe tbody tr th {\n",
       "        vertical-align: top;\n",
       "    }\n",
       "\n",
       "    .dataframe thead th {\n",
       "        text-align: right;\n",
       "    }\n",
       "</style>\n",
       "<table border=\"1\" class=\"dataframe\">\n",
       "  <thead>\n",
       "    <tr style=\"text-align: right;\">\n",
       "      <th></th>\n",
       "      <th>电话</th>\n",
       "      <th>注册时间</th>\n",
       "      <th>是否微信</th>\n",
       "    </tr>\n",
       "  </thead>\n",
       "  <tbody>\n",
       "    <tr>\n",
       "      <th>0</th>\n",
       "      <td>166412894295</td>\n",
       "      <td>2011/1/1</td>\n",
       "      <td>否</td>\n",
       "    </tr>\n",
       "    <tr>\n",
       "      <th>1</th>\n",
       "      <td>166416795207</td>\n",
       "      <td>2011/1/1</td>\n",
       "      <td>否</td>\n",
       "    </tr>\n",
       "    <tr>\n",
       "      <th>2</th>\n",
       "      <td>166423353436</td>\n",
       "      <td>2011/1/1</td>\n",
       "      <td>是</td>\n",
       "    </tr>\n",
       "    <tr>\n",
       "      <th>3</th>\n",
       "      <td>166424978309</td>\n",
       "      <td>2011/1/1</td>\n",
       "      <td>是</td>\n",
       "    </tr>\n",
       "    <tr>\n",
       "      <th>4</th>\n",
       "      <td>166450811715</td>\n",
       "      <td>2011/1/1</td>\n",
       "      <td>否</td>\n",
       "    </tr>\n",
       "  </tbody>\n",
       "</table>\n",
       "</div>"
      ],
      "text/plain": [
       "             电话      注册时间 是否微信\n",
       "0  166412894295  2011/1/1    否\n",
       "1  166416795207  2011/1/1    否\n",
       "2  166423353436  2011/1/1    是\n",
       "3  166424978309  2011/1/1    是\n",
       "4  166450811715  2011/1/1    否"
      ]
     },
     "execution_count": 54,
     "metadata": {},
     "output_type": "execute_result"
    }
   ],
   "source": [
    "df = pd.read_csv('./pandas_data/data_processiing/4/4.17/data.csv')\n",
    "df.head()"
   ]
  },
  {
   "cell_type": "code",
   "execution_count": 55,
   "metadata": {},
   "outputs": [
    {
     "data": {
      "text/plain": [
       "0   2011-01-01\n",
       "1   2011-01-01\n",
       "2   2011-01-01\n",
       "3   2011-01-01\n",
       "4   2011-01-01\n",
       "Name: 注册时间, dtype: datetime64[ns]"
      ]
     },
     "execution_count": 55,
     "metadata": {},
     "output_type": "execute_result"
    }
   ],
   "source": [
    "df_dt = pd.to_datetime(df.注册时间, format='%Y/%m/%d')\n",
    "df_dt.head()"
   ]
  },
  {
   "cell_type": "code",
   "execution_count": 56,
   "metadata": {},
   "outputs": [
    {
     "data": {
      "text/plain": [
       "0    01-01-2011\n",
       "1    01-01-2011\n",
       "2    01-01-2011\n",
       "3    01-01-2011\n",
       "4    01-01-2011\n",
       "Name: 注册时间, dtype: object"
      ]
     },
     "execution_count": 56,
     "metadata": {},
     "output_type": "execute_result"
    }
   ],
   "source": [
    "df_dt_str = df_dt.apply(lambda x: x.strftime('%d-%m-%Y'))\n",
    "df_dt_str.head()"
   ]
  },
  {
   "cell_type": "markdown",
   "metadata": {},
   "source": [
    "### 5.2.15 时间抽取"
   ]
  },
  {
   "cell_type": "code",
   "execution_count": 57,
   "metadata": {},
   "outputs": [
    {
     "data": {
      "text/html": [
       "<div>\n",
       "<style scoped>\n",
       "    .dataframe tbody tr th:only-of-type {\n",
       "        vertical-align: middle;\n",
       "    }\n",
       "\n",
       "    .dataframe tbody tr th {\n",
       "        vertical-align: top;\n",
       "    }\n",
       "\n",
       "    .dataframe thead th {\n",
       "        text-align: right;\n",
       "    }\n",
       "</style>\n",
       "<table border=\"1\" class=\"dataframe\">\n",
       "  <thead>\n",
       "    <tr style=\"text-align: right;\">\n",
       "      <th></th>\n",
       "      <th>电话</th>\n",
       "      <th>注册时间</th>\n",
       "      <th>是否微信</th>\n",
       "    </tr>\n",
       "  </thead>\n",
       "  <tbody>\n",
       "    <tr>\n",
       "      <th>0</th>\n",
       "      <td>166412894295</td>\n",
       "      <td>2011/1/1</td>\n",
       "      <td>否</td>\n",
       "    </tr>\n",
       "    <tr>\n",
       "      <th>1</th>\n",
       "      <td>166416795207</td>\n",
       "      <td>2011/1/1</td>\n",
       "      <td>否</td>\n",
       "    </tr>\n",
       "    <tr>\n",
       "      <th>2</th>\n",
       "      <td>166423353436</td>\n",
       "      <td>2011/1/1</td>\n",
       "      <td>是</td>\n",
       "    </tr>\n",
       "    <tr>\n",
       "      <th>3</th>\n",
       "      <td>166424978309</td>\n",
       "      <td>2011/1/1</td>\n",
       "      <td>是</td>\n",
       "    </tr>\n",
       "    <tr>\n",
       "      <th>4</th>\n",
       "      <td>166450811715</td>\n",
       "      <td>2011/1/1</td>\n",
       "      <td>否</td>\n",
       "    </tr>\n",
       "  </tbody>\n",
       "</table>\n",
       "</div>"
      ],
      "text/plain": [
       "             电话      注册时间 是否微信\n",
       "0  166412894295  2011/1/1    否\n",
       "1  166416795207  2011/1/1    否\n",
       "2  166423353436  2011/1/1    是\n",
       "3  166424978309  2011/1/1    是\n",
       "4  166450811715  2011/1/1    否"
      ]
     },
     "execution_count": 57,
     "metadata": {},
     "output_type": "execute_result"
    }
   ],
   "source": [
    "df = pd.read_csv('./pandas_data/data_processiing/4/4.18/data.csv')\n",
    "df.head()"
   ]
  },
  {
   "cell_type": "code",
   "execution_count": 58,
   "metadata": {},
   "outputs": [
    {
     "data": {
      "text/plain": [
       "0   2011-01-01\n",
       "1   2011-01-01\n",
       "2   2011-01-01\n",
       "3   2011-01-01\n",
       "4   2011-01-01\n",
       "Name: 注册时间, dtype: datetime64[ns]"
      ]
     },
     "execution_count": 58,
     "metadata": {},
     "output_type": "execute_result"
    }
   ],
   "source": [
    "df_dt = pd.to_datetime(df.注册时间, format='%Y/%m/%d')\n",
    "df_dt.head()"
   ]
  },
  {
   "cell_type": "code",
   "execution_count": 59,
   "metadata": {},
   "outputs": [
    {
     "data": {
      "text/plain": [
       "0    1\n",
       "1    1\n",
       "2    1\n",
       "3    1\n",
       "4    1\n",
       "Name: 注册时间, dtype: int64"
      ]
     },
     "execution_count": 59,
     "metadata": {},
     "output_type": "execute_result"
    }
   ],
   "source": [
    "df_dt.dt.month.head()"
   ]
  },
  {
   "cell_type": "code",
   "execution_count": null,
   "metadata": {},
   "outputs": [],
   "source": []
  }
 ],
 "metadata": {
  "kernelspec": {
   "display_name": "Python 3",
   "language": "python",
   "name": "python3"
  },
  "language_info": {
   "codemirror_mode": {
    "name": "ipython",
    "version": 3
   },
   "file_extension": ".py",
   "mimetype": "text/x-python",
   "name": "python",
   "nbconvert_exporter": "python",
   "pygments_lexer": "ipython3",
   "version": "3.7.1"
  },
  "toc": {
   "base_numbering": 1,
   "nav_menu": {},
   "number_sections": true,
   "sideBar": true,
   "skip_h1_title": false,
   "title_cell": "Table of Contents",
   "title_sidebar": "Contents",
   "toc_cell": false,
   "toc_position": {},
   "toc_section_display": true,
   "toc_window_display": false
  }
 },
 "nbformat": 4,
 "nbformat_minor": 2
}
