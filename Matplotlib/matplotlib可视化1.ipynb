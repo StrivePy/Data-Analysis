{
 "cells": [
  {
   "cell_type": "markdown",
   "metadata": {},
   "source": [
    "# <center>Matplotlib可视化</center>"
   ]
  },
  {
   "cell_type": "markdown",
   "metadata": {},
   "source": [
    "# 1 导入包"
   ]
  },
  {
   "cell_type": "code",
   "execution_count": 10,
   "metadata": {},
   "outputs": [],
   "source": [
    "import numpy as np\n",
    "import pandas as pd\n",
    "import matplotlib.pyplot as plt"
   ]
  },
  {
   "cell_type": "markdown",
   "metadata": {},
   "source": [
    "# 2 配置matplotlitb"
   ]
  },
  {
   "cell_type": "code",
   "execution_count": 11,
   "metadata": {},
   "outputs": [],
   "source": [
    "# 设置matplotlib页内可视\n",
    "%matplotlib inline\n",
    "# 设置matplotlib显示中文\n",
    "plt.rcParams['font.sans-serif'] = ['SimHei']"
   ]
  },
  {
   "cell_type": "markdown",
   "metadata": {},
   "source": [
    "# 3 绘制散点图"
   ]
  },
  {
   "cell_type": "markdown",
   "metadata": {},
   "source": [
    "df = pd.read_csv('./pandas_data/data_processiing/5/5.1/data.csv')\n",
    "df.head()"
   ]
  },
  {
   "cell_type": "code",
   "execution_count": 47,
   "metadata": {
    "scrolled": true
   },
   "outputs": [
    {
     "data": {
      "image/png": "[encoded data removed]",
      "text/plain": [
       "<matplotlib.figure.Figure at 0x1cca97bba90>"
      ]
     },
     "metadata": {},
     "output_type": "display_data"
    }
   ],
   "source": [
    "# 绘制广告费用和购买用户数的散点图\n",
    "plt.figure(figsize=(12, 4))\n",
    "plt.scatter(df['广告费用'], df['购买用户数'], color='gray')\n",
    "plt.title('广告费用与购买用户数的散点图')\n",
    "plt.xlabel('广告费用')\n",
    "plt.ylabel('购买用户数')\n",
    "plt.grid(True)\n",
    "plt.show()"
   ]
  },
  {
   "cell_type": "markdown",
   "metadata": {},
   "source": [
    "# 4 绘制折线图"
   ]
  },
  {
   "cell_type": "markdown",
   "metadata": {},
   "source": [
    "**绘图函数中style参数设置：**\n",
    "- **-：连续的曲线**\n",
    "- **--：连续的虚线**\n",
    "- **-.: 连续的带点曲线**\n",
    "- **:：由点连成的曲线**\n",
    "- **.：小点，散点图**\n",
    "- **o：大点，散点图**\n",
    "- **,：像素点，散点图**\n",
    "- ***：五角星的点，散点图**"
   ]
  },
  {
   "cell_type": "code",
   "execution_count": 50,
   "metadata": {},
   "outputs": [
    {
     "data": {
      "text/html": [
       "<div>\n",
       "<style>\n",
       "    .dataframe thead tr:only-child th {\n",
       "        text-align: right;\n",
       "    }\n",
       "\n",
       "    .dataframe thead th {\n",
       "        text-align: left;\n",
       "    }\n",
       "\n",
       "    .dataframe tbody tr th {\n",
       "        vertical-align: top;\n",
       "    }\n",
       "</style>\n",
       "<table border=\"1\" class=\"dataframe\">\n",
       "  <thead>\n",
       "    <tr style=\"text-align: right;\">\n",
       "      <th></th>\n",
       "      <th>日期</th>\n",
       "      <th>购买用户数</th>\n",
       "      <th>广告费用</th>\n",
       "      <th>渠道数</th>\n",
       "    </tr>\n",
       "  </thead>\n",
       "  <tbody>\n",
       "    <tr>\n",
       "      <th>0</th>\n",
       "      <td>2014-01-01</td>\n",
       "      <td>2496</td>\n",
       "      <td>9.14</td>\n",
       "      <td>6</td>\n",
       "    </tr>\n",
       "    <tr>\n",
       "      <th>1</th>\n",
       "      <td>2014-01-02</td>\n",
       "      <td>2513</td>\n",
       "      <td>9.47</td>\n",
       "      <td>8</td>\n",
       "    </tr>\n",
       "    <tr>\n",
       "      <th>2</th>\n",
       "      <td>2014-01-03</td>\n",
       "      <td>2228</td>\n",
       "      <td>6.31</td>\n",
       "      <td>4</td>\n",
       "    </tr>\n",
       "    <tr>\n",
       "      <th>3</th>\n",
       "      <td>2014-01-04</td>\n",
       "      <td>2336</td>\n",
       "      <td>6.41</td>\n",
       "      <td>2</td>\n",
       "    </tr>\n",
       "    <tr>\n",
       "      <th>4</th>\n",
       "      <td>2014-01-05</td>\n",
       "      <td>2508</td>\n",
       "      <td>9.05</td>\n",
       "      <td>5</td>\n",
       "    </tr>\n",
       "  </tbody>\n",
       "</table>\n",
       "</div>"
      ],
      "text/plain": [
       "           日期  购买用户数  广告费用  渠道数\n",
       "0  2014-01-01   2496  9.14    6\n",
       "1  2014-01-02   2513  9.47    8\n",
       "2  2014-01-03   2228  6.31    4\n",
       "3  2014-01-04   2336  6.41    2\n",
       "4  2014-01-05   2508  9.05    5"
      ]
     },
     "execution_count": 50,
     "metadata": {},
     "output_type": "execute_result"
    }
   ],
   "source": [
    "df = pd.read_csv('./pandas_data/data_processiing/5/5.2/data.csv')\n",
    "df.head()"
   ]
  },
  {
   "cell_type": "code",
   "execution_count": 53,
   "metadata": {},
   "outputs": [
    {
     "data": {
      "text/html": [
       "<div>\n",
       "<style>\n",
       "    .dataframe thead tr:only-child th {\n",
       "        text-align: right;\n",
       "    }\n",
       "\n",
       "    .dataframe thead th {\n",
       "        text-align: left;\n",
       "    }\n",
       "\n",
       "    .dataframe tbody tr th {\n",
       "        vertical-align: top;\n",
       "    }\n",
       "</style>\n",
       "<table border=\"1\" class=\"dataframe\">\n",
       "  <thead>\n",
       "    <tr style=\"text-align: right;\">\n",
       "      <th></th>\n",
       "      <th>日期</th>\n",
       "      <th>购买用户数</th>\n",
       "      <th>广告费用</th>\n",
       "      <th>渠道数</th>\n",
       "      <th>购买日期</th>\n",
       "    </tr>\n",
       "  </thead>\n",
       "  <tbody>\n",
       "    <tr>\n",
       "      <th>0</th>\n",
       "      <td>2014-01-01</td>\n",
       "      <td>2496</td>\n",
       "      <td>9.14</td>\n",
       "      <td>6</td>\n",
       "      <td>2014-01-01</td>\n",
       "    </tr>\n",
       "    <tr>\n",
       "      <th>1</th>\n",
       "      <td>2014-01-02</td>\n",
       "      <td>2513</td>\n",
       "      <td>9.47</td>\n",
       "      <td>8</td>\n",
       "      <td>2014-01-02</td>\n",
       "    </tr>\n",
       "    <tr>\n",
       "      <th>2</th>\n",
       "      <td>2014-01-03</td>\n",
       "      <td>2228</td>\n",
       "      <td>6.31</td>\n",
       "      <td>4</td>\n",
       "      <td>2014-01-03</td>\n",
       "    </tr>\n",
       "    <tr>\n",
       "      <th>3</th>\n",
       "      <td>2014-01-04</td>\n",
       "      <td>2336</td>\n",
       "      <td>6.41</td>\n",
       "      <td>2</td>\n",
       "      <td>2014-01-04</td>\n",
       "    </tr>\n",
       "    <tr>\n",
       "      <th>4</th>\n",
       "      <td>2014-01-05</td>\n",
       "      <td>2508</td>\n",
       "      <td>9.05</td>\n",
       "      <td>5</td>\n",
       "      <td>2014-01-05</td>\n",
       "    </tr>\n",
       "  </tbody>\n",
       "</table>\n",
       "</div>"
      ],
      "text/plain": [
       "           日期  购买用户数  广告费用  渠道数       购买日期\n",
       "0  2014-01-01   2496  9.14    6 2014-01-01\n",
       "1  2014-01-02   2513  9.47    8 2014-01-02\n",
       "2  2014-01-03   2228  6.31    4 2014-01-03\n",
       "3  2014-01-04   2336  6.41    2 2014-01-04\n",
       "4  2014-01-05   2508  9.05    5 2014-01-05"
      ]
     },
     "execution_count": 53,
     "metadata": {},
     "output_type": "execute_result"
    }
   ],
   "source": [
    "df['购买日期'] = pd.to_datetime(df['日期'], format='%Y/%m/%d')\n",
    "df.head()"
   ]
  },
  {
   "cell_type": "code",
   "execution_count": 76,
   "metadata": {},
   "outputs": [
    {
     "data": {
      "image/png": "[encoded data removed]",
      "text/plain": [
       "<matplotlib.figure.Figure at 0x1ccab189518>"
      ]
     },
     "metadata": {},
     "output_type": "display_data"
    }
   ],
   "source": [
    "# 购买日期和购买用户数的折线图\n",
    "plt.figure(figsize=(12, 6))\n",
    "plt.plot(df['购买日期'], df['购买用户数'], '-',color='gray')\n",
    "plt.title('购买日期与购买用户数的折线图')\n",
    "plt.xlabel('购买日期')\n",
    "plt.ylabel('购买用户数')\n",
    "plt.grid(True)"
   ]
  },
  {
   "cell_type": "markdown",
   "metadata": {},
   "source": [
    "# 5 绘制饼图"
   ]
  },
  {
   "cell_type": "code",
   "execution_count": 77,
   "metadata": {},
   "outputs": [
    {
     "data": {
      "text/html": [
       "<div>\n",
       "<style>\n",
       "    .dataframe thead tr:only-child th {\n",
       "        text-align: right;\n",
       "    }\n",
       "\n",
       "    .dataframe thead th {\n",
       "        text-align: left;\n",
       "    }\n",
       "\n",
       "    .dataframe tbody tr th {\n",
       "        vertical-align: top;\n",
       "    }\n",
       "</style>\n",
       "<table border=\"1\" class=\"dataframe\">\n",
       "  <thead>\n",
       "    <tr style=\"text-align: right;\">\n",
       "      <th></th>\n",
       "      <th>号码</th>\n",
       "      <th>省份</th>\n",
       "      <th>手机品牌</th>\n",
       "      <th>通信品牌</th>\n",
       "      <th>手机操作系统</th>\n",
       "      <th>月消费（元）</th>\n",
       "      <th>月流量（M）</th>\n",
       "    </tr>\n",
       "  </thead>\n",
       "  <tbody>\n",
       "    <tr>\n",
       "      <th>0</th>\n",
       "      <td>166547114238</td>\n",
       "      <td>河北</td>\n",
       "      <td>HTC</td>\n",
       "      <td>神州行</td>\n",
       "      <td>Android</td>\n",
       "      <td>298.9</td>\n",
       "      <td>318.6</td>\n",
       "    </tr>\n",
       "    <tr>\n",
       "      <th>1</th>\n",
       "      <td>166423353436</td>\n",
       "      <td>河南</td>\n",
       "      <td>HTC</td>\n",
       "      <td>神州行</td>\n",
       "      <td>Android</td>\n",
       "      <td>272.8</td>\n",
       "      <td>1385.9</td>\n",
       "    </tr>\n",
       "    <tr>\n",
       "      <th>2</th>\n",
       "      <td>166556915853</td>\n",
       "      <td>福建</td>\n",
       "      <td>HTC</td>\n",
       "      <td>神州行</td>\n",
       "      <td>Android</td>\n",
       "      <td>68.8</td>\n",
       "      <td>443.6</td>\n",
       "    </tr>\n",
       "    <tr>\n",
       "      <th>3</th>\n",
       "      <td>166434728749</td>\n",
       "      <td>湖南</td>\n",
       "      <td>HTC</td>\n",
       "      <td>神州行</td>\n",
       "      <td>Android</td>\n",
       "      <td>4.6</td>\n",
       "      <td>817.3</td>\n",
       "    </tr>\n",
       "    <tr>\n",
       "      <th>4</th>\n",
       "      <td>166544742252</td>\n",
       "      <td>北京</td>\n",
       "      <td>HTC</td>\n",
       "      <td>神州行</td>\n",
       "      <td>Android</td>\n",
       "      <td>113.2</td>\n",
       "      <td>837.4</td>\n",
       "    </tr>\n",
       "  </tbody>\n",
       "</table>\n",
       "</div>"
      ],
      "text/plain": [
       "             号码  省份 手机品牌 通信品牌   手机操作系统  月消费（元）  月流量（M）\n",
       "0  166547114238  河北  HTC  神州行  Android   298.9   318.6\n",
       "1  166423353436  河南  HTC  神州行  Android   272.8  1385.9\n",
       "2  166556915853  福建  HTC  神州行  Android    68.8   443.6\n",
       "3  166434728749  湖南  HTC  神州行  Android     4.6   817.3\n",
       "4  166544742252  北京  HTC  神州行  Android   113.2   837.4"
      ]
     },
     "execution_count": 77,
     "metadata": {},
     "output_type": "execute_result"
    }
   ],
   "source": [
    "df = pd.read_csv('./pandas_data/data_processiing/5/5.3/data.csv')\n",
    "df.head()"
   ]
  },
  {
   "cell_type": "code",
   "execution_count": 81,
   "metadata": {},
   "outputs": [
    {
     "data": {
      "text/html": [
       "<div>\n",
       "<style>\n",
       "    .dataframe thead tr:only-child th {\n",
       "        text-align: right;\n",
       "    }\n",
       "\n",
       "    .dataframe thead th {\n",
       "        text-align: left;\n",
       "    }\n",
       "\n",
       "    .dataframe tbody tr th {\n",
       "        vertical-align: top;\n",
       "    }\n",
       "</style>\n",
       "<table border=\"1\" class=\"dataframe\">\n",
       "  <thead>\n",
       "    <tr style=\"text-align: right;\">\n",
       "      <th></th>\n",
       "      <th>号码</th>\n",
       "    </tr>\n",
       "    <tr>\n",
       "      <th>通信品牌</th>\n",
       "      <th></th>\n",
       "    </tr>\n",
       "  </thead>\n",
       "  <tbody>\n",
       "    <tr>\n",
       "      <th>全球通</th>\n",
       "      <td>1209</td>\n",
       "    </tr>\n",
       "    <tr>\n",
       "      <th>动感地带</th>\n",
       "      <td>11838</td>\n",
       "    </tr>\n",
       "    <tr>\n",
       "      <th>神州行</th>\n",
       "      <td>18355</td>\n",
       "    </tr>\n",
       "  </tbody>\n",
       "</table>\n",
       "</div>"
      ],
      "text/plain": [
       "         号码\n",
       "通信品牌       \n",
       "全球通    1209\n",
       "动感地带  11838\n",
       "神州行   18355"
      ]
     },
     "execution_count": 81,
     "metadata": {},
     "output_type": "execute_result"
    }
   ],
   "source": [
    "group = df.groupby('通信品牌')[['号码']].agg('count')\n",
    "group"
   ]
  },
  {
   "cell_type": "code",
   "execution_count": 88,
   "metadata": {},
   "outputs": [
    {
     "data": {
      "image/png": "[encoded data removed]",
      "text/plain": [
       "<matplotlib.figure.Figure at 0x1cca995b2e8>"
      ]
     },
     "metadata": {},
     "output_type": "display_data"
    }
   ],
   "source": [
    "# 绘制饼图\n",
    "plt.figure(figsize=(12, 6))\n",
    "plt.pie(group['号码'], explode=[0.1, 0, 0],labels=group.index, autopct='%.2f%%')\n",
    "plt.axis('equal')\n",
    "plt.show()"
   ]
  },
  {
   "cell_type": "markdown",
   "metadata": {},
   "source": [
    "# 6 绘制柱形图"
   ]
  },
  {
   "cell_type": "code",
   "execution_count": 89,
   "metadata": {},
   "outputs": [
    {
     "data": {
      "text/html": [
       "<div>\n",
       "<style>\n",
       "    .dataframe thead tr:only-child th {\n",
       "        text-align: right;\n",
       "    }\n",
       "\n",
       "    .dataframe thead th {\n",
       "        text-align: left;\n",
       "    }\n",
       "\n",
       "    .dataframe tbody tr th {\n",
       "        vertical-align: top;\n",
       "    }\n",
       "</style>\n",
       "<table border=\"1\" class=\"dataframe\">\n",
       "  <thead>\n",
       "    <tr style=\"text-align: right;\">\n",
       "      <th></th>\n",
       "      <th>号码</th>\n",
       "      <th>省份</th>\n",
       "      <th>手机品牌</th>\n",
       "      <th>通信品牌</th>\n",
       "      <th>手机操作系统</th>\n",
       "      <th>月消费（元）</th>\n",
       "      <th>月流量（M）</th>\n",
       "    </tr>\n",
       "  </thead>\n",
       "  <tbody>\n",
       "    <tr>\n",
       "      <th>0</th>\n",
       "      <td>166547114238</td>\n",
       "      <td>河北</td>\n",
       "      <td>HTC</td>\n",
       "      <td>神州行</td>\n",
       "      <td>Android</td>\n",
       "      <td>298.9</td>\n",
       "      <td>318.6</td>\n",
       "    </tr>\n",
       "    <tr>\n",
       "      <th>1</th>\n",
       "      <td>166423353436</td>\n",
       "      <td>河南</td>\n",
       "      <td>HTC</td>\n",
       "      <td>神州行</td>\n",
       "      <td>Android</td>\n",
       "      <td>272.8</td>\n",
       "      <td>1385.9</td>\n",
       "    </tr>\n",
       "    <tr>\n",
       "      <th>2</th>\n",
       "      <td>166556915853</td>\n",
       "      <td>福建</td>\n",
       "      <td>HTC</td>\n",
       "      <td>神州行</td>\n",
       "      <td>Android</td>\n",
       "      <td>68.8</td>\n",
       "      <td>443.6</td>\n",
       "    </tr>\n",
       "    <tr>\n",
       "      <th>3</th>\n",
       "      <td>166434728749</td>\n",
       "      <td>湖南</td>\n",
       "      <td>HTC</td>\n",
       "      <td>神州行</td>\n",
       "      <td>Android</td>\n",
       "      <td>4.6</td>\n",
       "      <td>817.3</td>\n",
       "    </tr>\n",
       "    <tr>\n",
       "      <th>4</th>\n",
       "      <td>166544742252</td>\n",
       "      <td>北京</td>\n",
       "      <td>HTC</td>\n",
       "      <td>神州行</td>\n",
       "      <td>Android</td>\n",
       "      <td>113.2</td>\n",
       "      <td>837.4</td>\n",
       "    </tr>\n",
       "  </tbody>\n",
       "</table>\n",
       "</div>"
      ],
      "text/plain": [
       "             号码  省份 手机品牌 通信品牌   手机操作系统  月消费（元）  月流量（M）\n",
       "0  166547114238  河北  HTC  神州行  Android   298.9   318.6\n",
       "1  166423353436  河南  HTC  神州行  Android   272.8  1385.9\n",
       "2  166556915853  福建  HTC  神州行  Android    68.8   443.6\n",
       "3  166434728749  湖南  HTC  神州行  Android     4.6   817.3\n",
       "4  166544742252  北京  HTC  神州行  Android   113.2   837.4"
      ]
     },
     "execution_count": 89,
     "metadata": {},
     "output_type": "execute_result"
    }
   ],
   "source": [
    "df = pd.read_csv('./pandas_data/data_processiing/5/5.4/data.csv')\n",
    "df.head()"
   ]
  },
  {
   "cell_type": "code",
   "execution_count": 100,
   "metadata": {
    "scrolled": true
   },
   "outputs": [
    {
     "data": {
      "text/html": [
       "<div>\n",
       "<style>\n",
       "    .dataframe thead tr:only-child th {\n",
       "        text-align: right;\n",
       "    }\n",
       "\n",
       "    .dataframe thead th {\n",
       "        text-align: left;\n",
       "    }\n",
       "\n",
       "    .dataframe tbody tr th {\n",
       "        vertical-align: top;\n",
       "    }\n",
       "</style>\n",
       "<table border=\"1\" class=\"dataframe\">\n",
       "  <thead>\n",
       "    <tr style=\"text-align: right;\">\n",
       "      <th></th>\n",
       "      <th>手机品牌</th>\n",
       "      <th>月消费（元）</th>\n",
       "    </tr>\n",
       "  </thead>\n",
       "  <tbody>\n",
       "    <tr>\n",
       "      <th>0</th>\n",
       "      <td>HTC</td>\n",
       "      <td>458171.6</td>\n",
       "    </tr>\n",
       "    <tr>\n",
       "      <th>1</th>\n",
       "      <td>三星</td>\n",
       "      <td>1009290.8</td>\n",
       "    </tr>\n",
       "    <tr>\n",
       "      <th>2</th>\n",
       "      <td>华为</td>\n",
       "      <td>25696.0</td>\n",
       "    </tr>\n",
       "    <tr>\n",
       "      <th>3</th>\n",
       "      <td>摩托罗拉</td>\n",
       "      <td>117623.1</td>\n",
       "    </tr>\n",
       "    <tr>\n",
       "      <th>4</th>\n",
       "      <td>联想</td>\n",
       "      <td>89443.7</td>\n",
       "    </tr>\n",
       "    <tr>\n",
       "      <th>5</th>\n",
       "      <td>苹果</td>\n",
       "      <td>123259.3</td>\n",
       "    </tr>\n",
       "    <tr>\n",
       "      <th>6</th>\n",
       "      <td>诺基亚</td>\n",
       "      <td>2840362.9</td>\n",
       "    </tr>\n",
       "    <tr>\n",
       "      <th>7</th>\n",
       "      <td>金立</td>\n",
       "      <td>28350.4</td>\n",
       "    </tr>\n",
       "  </tbody>\n",
       "</table>\n",
       "</div>"
      ],
      "text/plain": [
       "   手机品牌     月消费（元）\n",
       "0   HTC   458171.6\n",
       "1    三星  1009290.8\n",
       "2    华为    25696.0\n",
       "3  摩托罗拉   117623.1\n",
       "4    联想    89443.7\n",
       "5    苹果   123259.3\n",
       "6   诺基亚  2840362.9\n",
       "7    金立    28350.4"
      ]
     },
     "execution_count": 100,
     "metadata": {},
     "output_type": "execute_result"
    }
   ],
   "source": [
    "# 统计各个手机品牌每月的总消费额\n",
    "total_consumption = df.groupby('手机品牌')[['月消费（元）']].agg('sum').reset_index()\n",
    "total_consumption"
   ]
  },
  {
   "cell_type": "code",
   "execution_count": 123,
   "metadata": {
    "scrolled": true
   },
   "outputs": [
    {
     "data": {
      "image/png": "[encoded data removed]",
      "text/plain": [
       "<matplotlib.figure.Figure at 0x1ccab2c2cc0>"
      ]
     },
     "metadata": {},
     "output_type": "display_data"
    }
   ],
   "source": [
    "# 画出各个手机品牌月消费总额的柱形图\n",
    "plt.figure(figsize=(12, 4))\n",
    "index = np.arange(total_consumption['手机品牌'].size)\n",
    "plt.bar(index, total_consumption['月消费（元）'], color='gray')\n",
    "# 设置数据标签\n",
    "for a, b in zip(index, total_consumption['月消费（元）']):\n",
    "    plt.text(a, b+0.1, '%.0f' % b, ha='center', va='bottom', fontsize=13)\n",
    "    \n",
    "plt.title('各手机品牌月消费总额')\n",
    "plt.xlabel('手机品牌')\n",
    "plt.xticks(index, total_consumption['手机品牌'])\n",
    "plt.ylabel('月消费总额（元）')\n",
    "plt.grid(True)\n",
    "plt.show()"
   ]
  },
  {
   "cell_type": "code",
   "execution_count": 125,
   "metadata": {},
   "outputs": [
    {
     "data": {
      "text/html": [
       "<div>\n",
       "<style>\n",
       "    .dataframe thead tr:only-child th {\n",
       "        text-align: right;\n",
       "    }\n",
       "\n",
       "    .dataframe thead th {\n",
       "        text-align: left;\n",
       "    }\n",
       "\n",
       "    .dataframe tbody tr th {\n",
       "        vertical-align: top;\n",
       "    }\n",
       "</style>\n",
       "<table border=\"1\" class=\"dataframe\">\n",
       "  <thead>\n",
       "    <tr style=\"text-align: right;\">\n",
       "      <th>通信品牌</th>\n",
       "      <th>全球通</th>\n",
       "      <th>动感地带</th>\n",
       "      <th>神州行</th>\n",
       "    </tr>\n",
       "    <tr>\n",
       "      <th>手机品牌</th>\n",
       "      <th></th>\n",
       "      <th></th>\n",
       "      <th></th>\n",
       "    </tr>\n",
       "  </thead>\n",
       "  <tbody>\n",
       "    <tr>\n",
       "      <th>HTC</th>\n",
       "      <td>10789.5</td>\n",
       "      <td>83844.7</td>\n",
       "      <td>363537.4</td>\n",
       "    </tr>\n",
       "    <tr>\n",
       "      <th>三星</th>\n",
       "      <td>36769.3</td>\n",
       "      <td>351629.7</td>\n",
       "      <td>620891.8</td>\n",
       "    </tr>\n",
       "    <tr>\n",
       "      <th>华为</th>\n",
       "      <td>2087.6</td>\n",
       "      <td>6091.0</td>\n",
       "      <td>17517.4</td>\n",
       "    </tr>\n",
       "    <tr>\n",
       "      <th>摩托罗拉</th>\n",
       "      <td>4147.9</td>\n",
       "      <td>47145.1</td>\n",
       "      <td>66330.1</td>\n",
       "    </tr>\n",
       "    <tr>\n",
       "      <th>联想</th>\n",
       "      <td>5220.1</td>\n",
       "      <td>27285.4</td>\n",
       "      <td>56938.2</td>\n",
       "    </tr>\n",
       "    <tr>\n",
       "      <th>苹果</th>\n",
       "      <td>18746.6</td>\n",
       "      <td>73537.0</td>\n",
       "      <td>30975.7</td>\n",
       "    </tr>\n",
       "    <tr>\n",
       "      <th>诺基亚</th>\n",
       "      <td>99367.4</td>\n",
       "      <td>1179443.7</td>\n",
       "      <td>1561551.8</td>\n",
       "    </tr>\n",
       "    <tr>\n",
       "      <th>金立</th>\n",
       "      <td>2160.9</td>\n",
       "      <td>6291.2</td>\n",
       "      <td>19898.3</td>\n",
       "    </tr>\n",
       "  </tbody>\n",
       "</table>\n",
       "</div>"
      ],
      "text/plain": [
       "通信品牌      全球通       动感地带        神州行\n",
       "手机品牌                               \n",
       "HTC   10789.5    83844.7   363537.4\n",
       "三星    36769.3   351629.7   620891.8\n",
       "华为     2087.6     6091.0    17517.4\n",
       "摩托罗拉   4147.9    47145.1    66330.1\n",
       "联想     5220.1    27285.4    56938.2\n",
       "苹果    18746.6    73537.0    30975.7\n",
       "诺基亚   99367.4  1179443.7  1561551.8\n",
       "金立     2160.9     6291.2    19898.3"
      ]
     },
     "execution_count": 125,
     "metadata": {},
     "output_type": "execute_result"
    }
   ],
   "source": [
    "# 画出各个手机品牌的不同运营商月消费总额\n",
    "pivot_total_consumption = df.pivot_table(values='月消费（元）',\n",
    "                                         index='手机品牌',\n",
    "                                         columns='通信品牌',\n",
    "                                         aggfunc='sum'\n",
    "                                        )\n",
    "pivot_total_consumption"
   ]
  },
  {
   "cell_type": "code",
   "execution_count": 171,
   "metadata": {
    "scrolled": false
   },
   "outputs": [
    {
     "data": {
      "image/png": "[encoded data removed]",
      "text/plain": [
       "<matplotlib.figure.Figure at 0x1ccacde64e0>"
      ]
     },
     "metadata": {},
     "output_type": "display_data"
    }
   ],
   "source": [
    "plt.figure(figsize=(20, 10))\n",
    "height = pivot_total_consumption.index.size\n",
    "width = pivot_total_consumption.columns.size\n",
    "index = np.arange(0, height)\n",
    "color = ['g', 'r', 'b']\n",
    "for i in range(0, width):\n",
    "    sub = pivot_total_consumption.iloc[:, i]\n",
    "    plt.bar(index*width+i, sub, color=color[i])\n",
    "    #  添加数据标签\n",
    "    for a, b in zip(index*width+i, sub):\n",
    "        plt.text(a, b+0.1, '%.0f' % b, ha='center', va='bottom', fontsize=13)\n",
    "    \n",
    "plt.xticks(index*width+1, pivot_total_consumption.index)\n",
    "plt.legend(pivot_total_consumption.columns)\n",
    "plt.grid(True)"
   ]
  }
 ],
 "metadata": {
  "kernelspec": {
   "display_name": "Analysis",
   "language": "python",
   "name": "analysis"
  },
  "language_info": {
   "codemirror_mode": {
    "name": "ipython",
    "version": 3
   },
   "file_extension": ".py",
   "mimetype": "text/x-python",
   "name": "python",
   "nbconvert_exporter": "python",
   "pygments_lexer": "ipython3",
   "version": "3.6.2"
  },
  "toc": {
   "base_numbering": 1,
   "nav_menu": {},
   "number_sections": false,
   "sideBar": true,
   "skip_h1_title": false,
   "title_cell": "Table of Contents",
   "title_sidebar": "Contents",
   "toc_cell": false,
   "toc_position": {
    "height": "calc(100% - 180px)",
    "left": "10px",
    "top": "150px",
    "width": "256px"
   },
   "toc_section_display": true,
   "toc_window_display": true
  }
 },
 "nbformat": 4,
 "nbformat_minor": 2
}
