{
 "cells": [
  {
   "cell_type": "markdown",
   "metadata": {},
   "source": [
    "# <center> Matplotlib复杂作图 </center>"
   ]
  },
  {
   "cell_type": "markdown",
   "metadata": {},
   "source": [
    "# 1 数据处理和可视化准备"
   ]
  },
  {
   "cell_type": "code",
   "execution_count": 1,
   "metadata": {},
   "outputs": [],
   "source": [
    "import numpy as np\n",
    "import pandas as pd\n",
    "import matplotlib.pyplot as plt\n",
    "\n",
    "%matplotlib inline\n",
    "plt.rcParams['font.sans-serif'] = ['SimHei']\n",
    "plt.rcParams['axes.unicode_minus'] = False"
   ]
  },
  {
   "cell_type": "markdown",
   "metadata": {},
   "source": [
    "# 2 旋风图 "
   ]
  },
  {
   "cell_type": "markdown",
   "metadata": {},
   "source": [
    "## 2.1 加载数据"
   ]
  },
  {
   "cell_type": "code",
   "execution_count": 2,
   "metadata": {},
   "outputs": [
    {
     "data": {
      "text/html": [
       "<div>\n",
       "<style scoped>\n",
       "    .dataframe tbody tr th:only-of-type {\n",
       "        vertical-align: middle;\n",
       "    }\n",
       "\n",
       "    .dataframe tbody tr th {\n",
       "        vertical-align: top;\n",
       "    }\n",
       "\n",
       "    .dataframe thead th {\n",
       "        text-align: right;\n",
       "    }\n",
       "</style>\n",
       "<table border=\"1\" class=\"dataframe\">\n",
       "  <thead>\n",
       "    <tr style=\"text-align: right;\">\n",
       "      <th></th>\n",
       "      <th>年龄分组1</th>\n",
       "      <th>年龄分组2</th>\n",
       "      <th>男性</th>\n",
       "      <th>女性</th>\n",
       "    </tr>\n",
       "  </thead>\n",
       "  <tbody>\n",
       "    <tr>\n",
       "      <th>0</th>\n",
       "      <td>0-4</td>\n",
       "      <td>0-4</td>\n",
       "      <td>508</td>\n",
       "      <td>528</td>\n",
       "    </tr>\n",
       "    <tr>\n",
       "      <th>1</th>\n",
       "      <td>NaN</td>\n",
       "      <td>5-9</td>\n",
       "      <td>803</td>\n",
       "      <td>820</td>\n",
       "    </tr>\n",
       "    <tr>\n",
       "      <th>2</th>\n",
       "      <td>10-14</td>\n",
       "      <td>10-14</td>\n",
       "      <td>657</td>\n",
       "      <td>940</td>\n",
       "    </tr>\n",
       "    <tr>\n",
       "      <th>3</th>\n",
       "      <td>NaN</td>\n",
       "      <td>15-19</td>\n",
       "      <td>86</td>\n",
       "      <td>848</td>\n",
       "    </tr>\n",
       "    <tr>\n",
       "      <th>4</th>\n",
       "      <td>20-24</td>\n",
       "      <td>20-24</td>\n",
       "      <td>927</td>\n",
       "      <td>554</td>\n",
       "    </tr>\n",
       "  </tbody>\n",
       "</table>\n",
       "</div>"
      ],
      "text/plain": [
       "   年龄分组1  年龄分组2   男性   女性\n",
       "0    0-4    0-4  508  528\n",
       "1    NaN    5-9  803  820\n",
       "2  10-14  10-14  657  940\n",
       "3    NaN  15-19   86  848\n",
       "4  20-24  20-24  927  554"
      ]
     },
     "execution_count": 2,
     "metadata": {},
     "output_type": "execute_result"
    }
   ],
   "source": [
    "# 加载作图数据\n",
    "people = pd.read_csv('./data/people.csv')\n",
    "people.head()"
   ]
  },
  {
   "cell_type": "code",
   "execution_count": 3,
   "metadata": {},
   "outputs": [
    {
     "data": {
      "text/html": [
       "<div>\n",
       "<style scoped>\n",
       "    .dataframe tbody tr th:only-of-type {\n",
       "        vertical-align: middle;\n",
       "    }\n",
       "\n",
       "    .dataframe tbody tr th {\n",
       "        vertical-align: top;\n",
       "    }\n",
       "\n",
       "    .dataframe thead th {\n",
       "        text-align: right;\n",
       "    }\n",
       "</style>\n",
       "<table border=\"1\" class=\"dataframe\">\n",
       "  <thead>\n",
       "    <tr style=\"text-align: right;\">\n",
       "      <th></th>\n",
       "      <th>年龄分组1</th>\n",
       "      <th>男性</th>\n",
       "      <th>女性</th>\n",
       "    </tr>\n",
       "  </thead>\n",
       "  <tbody>\n",
       "    <tr>\n",
       "      <th>0</th>\n",
       "      <td>0-4</td>\n",
       "      <td>508</td>\n",
       "      <td>528</td>\n",
       "    </tr>\n",
       "    <tr>\n",
       "      <th>2</th>\n",
       "      <td>10-14</td>\n",
       "      <td>657</td>\n",
       "      <td>940</td>\n",
       "    </tr>\n",
       "    <tr>\n",
       "      <th>4</th>\n",
       "      <td>20-24</td>\n",
       "      <td>927</td>\n",
       "      <td>554</td>\n",
       "    </tr>\n",
       "    <tr>\n",
       "      <th>6</th>\n",
       "      <td>30-34</td>\n",
       "      <td>971</td>\n",
       "      <td>591</td>\n",
       "    </tr>\n",
       "    <tr>\n",
       "      <th>8</th>\n",
       "      <td>40-44</td>\n",
       "      <td>809</td>\n",
       "      <td>949</td>\n",
       "    </tr>\n",
       "    <tr>\n",
       "      <th>10</th>\n",
       "      <td>50-54</td>\n",
       "      <td>940</td>\n",
       "      <td>650</td>\n",
       "    </tr>\n",
       "    <tr>\n",
       "      <th>12</th>\n",
       "      <td>60-64</td>\n",
       "      <td>949</td>\n",
       "      <td>645</td>\n",
       "    </tr>\n",
       "    <tr>\n",
       "      <th>14</th>\n",
       "      <td>70-74</td>\n",
       "      <td>579</td>\n",
       "      <td>977</td>\n",
       "    </tr>\n",
       "    <tr>\n",
       "      <th>16</th>\n",
       "      <td>80-84</td>\n",
       "      <td>623</td>\n",
       "      <td>958</td>\n",
       "    </tr>\n",
       "  </tbody>\n",
       "</table>\n",
       "</div>"
      ],
      "text/plain": [
       "    年龄分组1   男性   女性\n",
       "0     0-4  508  528\n",
       "2   10-14  657  940\n",
       "4   20-24  927  554\n",
       "6   30-34  971  591\n",
       "8   40-44  809  949\n",
       "10  50-54  940  650\n",
       "12  60-64  949  645\n",
       "14  70-74  579  977\n",
       "16  80-84  623  958"
      ]
     },
     "execution_count": 3,
     "metadata": {},
     "output_type": "execute_result"
    }
   ],
   "source": [
    "# 提取分组数据\n",
    "group1 =  people[people.年龄分组1.notnull()].copy()\n",
    "group1.drop(columns=['年龄分组2'], inplace=True)\n",
    "group1"
   ]
  },
  {
   "cell_type": "markdown",
   "metadata": {},
   "source": [
    "## 2.2 使用乘法运算实现图形翻转 "
   ]
  },
  {
   "cell_type": "markdown",
   "metadata": {},
   "source": [
    "- [双坐标轴和合并图例](https://www.cnblogs.com/Atanisi/p/8530693.html)"
   ]
  },
  {
   "cell_type": "code",
   "execution_count": 4,
   "metadata": {
    "scrolled": false
   },
   "outputs": [
    {
     "data": {
      "image/png": "[encoded data removed]",
      "text/plain": [
       "<matplotlib.figure.Figure at 0x1ceddec99e8>"
      ]
     },
     "metadata": {},
     "output_type": "display_data"
    }
   ],
   "source": [
    "# 使用双坐标轴进行作图\n",
    "plt.figure(figsize=(12, 6))\n",
    "# 设置当前图片前景色\n",
    "plt.gca().set_facecolor('linen')\n",
    "# 设置图片标题\n",
    "plt.title('人口金字塔', fontsize=18)\n",
    "plt.gca().spines['top'].set_visible(False)\n",
    "plt.gca().spines['right'].set_visible(False)\n",
    "plt.gca().spines['bottom'].set_visible(False)\n",
    "plt.gca().spines['left'].set_visible(False)\n",
    "\n",
    "male = plt.barh(range(len(group1.index)), group1.男性, height=0.5, color='tan')\n",
    "plt.xlim(-1000, 1000)\n",
    "# 清除主坐标轴x轴刻度\n",
    "plt.xticks([])\n",
    "# 清楚主坐标轴y轴刻度\n",
    "plt.yticks([])\n",
    "# 添加y轴标签\n",
    "for index, label in zip(range(len(group1.index)), group1.年龄分组1):\n",
    "    plt.text(-1020, index, label, fontsize=13, horizontalalignment='right', verticalalignment='center')\n",
    "\n",
    "# 双y轴\n",
    "plt.twiny()\n",
    "plt.gca().spines['top'].set_visible(False)\n",
    "plt.gca().spines['right'].set_visible(False)\n",
    "plt.gca().spines['bottom'].set_visible(False)\n",
    "plt.gca().spines['left'].set_visible(False)\n",
    "# 将女性数据乘以负一实现数据翻转\n",
    "female = plt.barh(range(len(group1.index)), group1.女性*(-1), height=0.5, color='coral')\n",
    "plt.xlim(-1000, 1000)\n",
    "# 关闭次坐标轴\n",
    "plt.axis('off')\n",
    "# 合并图例\n",
    "plt.figlegend(handles=(male, female), labels=('男性', '女性'), loc='upper right', bbox_to_anchor=(0.87, 0.85), title='性别')\n",
    "plt.savefig('people.png')\n",
    "plt.show()"
   ]
  },
  {
   "cell_type": "markdown",
   "metadata": {},
   "source": [
    "# 3 移动坐标轴"
   ]
  },
  {
   "cell_type": "markdown",
   "metadata": {},
   "source": [
    "- [Matplotlib改变默认坐标轴位置](https://blog.csdn.net/sinat_34328764/article/details/80246139)\n",
    "- [tick_params方法来设置刻度](https://blog.csdn.net/hsq1596753614/article/details/80915880)\n",
    "- [坐标轴刻度方向设置](https://www.jianshu.com/p/9a541170316c)\n",
    "- [坐标轴刻度反向](https://blog.csdn.net/yuejisuo1948/article/details/81023125)\n",
    "- [matplotlib绘制带箭头x-y坐标轴图形](https://www.jianshu.com/p/af8a448d4d4f)"
   ]
  },
  {
   "cell_type": "markdown",
   "metadata": {},
   "source": [
    "**通过移动边框来实现坐标轴的移动：**"
   ]
  },
  {
   "cell_type": "code",
   "execution_count": 5,
   "metadata": {},
   "outputs": [
    {
     "data": {
      "image/png": "[encoded data removed]",
      "text/plain": [
       "<matplotlib.figure.Figure at 0x1ceddea7160>"
      ]
     },
     "metadata": {},
     "output_type": "display_data"
    }
   ],
   "source": [
    "plt.figure(figsize=(12, 6))\n",
    "plt.plot(range(1, 10), range(1, 10), color='gray')\n",
    "# 获取当前坐标对象\n",
    "ax = plt.gca()\n",
    "# 设置前景色\n",
    "ax.set_facecolor('whitesmoke')\n",
    "\n",
    "# 设置刻度样式\n",
    "ax.tick_params(axis='x', which='major', colors='red')\n",
    "# 隐藏上边框和右边框\n",
    "ax.spines['top'].set_visible(False)\n",
    "ax.spines['right'].set_visible(False)\n",
    "# 将x轴绑定到下边框，y轴绑定到左边框\n",
    "ax.xaxis.set_ticks_position('bottom')\n",
    "ax.yaxis.set_ticks_position('left')\n",
    "# 移动x轴到y轴5的位置\n",
    "ax.spines['bottom'].set_position(('data', 5))\n",
    "# 移动y轴到x轴4的位置\n",
    "ax.spines['left'].set_position(('data', 4))\n"
   ]
  },
  {
   "cell_type": "markdown",
   "metadata": {},
   "source": [
    "# 4 标靶图"
   ]
  },
  {
   "cell_type": "markdown",
   "metadata": {},
   "source": [
    "## 4.1 加载数据"
   ]
  },
  {
   "cell_type": "code",
   "execution_count": 6,
   "metadata": {},
   "outputs": [
    {
     "data": {
      "text/html": [
       "<div>\n",
       "<style scoped>\n",
       "    .dataframe tbody tr th:only-of-type {\n",
       "        vertical-align: middle;\n",
       "    }\n",
       "\n",
       "    .dataframe tbody tr th {\n",
       "        vertical-align: top;\n",
       "    }\n",
       "\n",
       "    .dataframe thead th {\n",
       "        text-align: right;\n",
       "    }\n",
       "</style>\n",
       "<table border=\"1\" class=\"dataframe\">\n",
       "  <thead>\n",
       "    <tr style=\"text-align: right;\">\n",
       "      <th></th>\n",
       "      <th>姓名</th>\n",
       "      <th>业绩</th>\n",
       "      <th>目标</th>\n",
       "      <th>一般</th>\n",
       "      <th>良好</th>\n",
       "      <th>优秀</th>\n",
       "      <th>完成率</th>\n",
       "      <th>基准</th>\n",
       "    </tr>\n",
       "  </thead>\n",
       "  <tbody>\n",
       "    <tr>\n",
       "      <th>0</th>\n",
       "      <td>刘小华</td>\n",
       "      <td>1275</td>\n",
       "      <td>1200</td>\n",
       "      <td>60%</td>\n",
       "      <td>20%</td>\n",
       "      <td>20%</td>\n",
       "      <td>106%</td>\n",
       "      <td>90%</td>\n",
       "    </tr>\n",
       "    <tr>\n",
       "      <th>1</th>\n",
       "      <td>王小明</td>\n",
       "      <td>1753</td>\n",
       "      <td>1500</td>\n",
       "      <td>60%</td>\n",
       "      <td>20%</td>\n",
       "      <td>20%</td>\n",
       "      <td>117%</td>\n",
       "      <td>85%</td>\n",
       "    </tr>\n",
       "    <tr>\n",
       "      <th>2</th>\n",
       "      <td>于小飞</td>\n",
       "      <td>756</td>\n",
       "      <td>1100</td>\n",
       "      <td>60%</td>\n",
       "      <td>20%</td>\n",
       "      <td>20%</td>\n",
       "      <td>69%</td>\n",
       "      <td>90%</td>\n",
       "    </tr>\n",
       "    <tr>\n",
       "      <th>3</th>\n",
       "      <td>方群</td>\n",
       "      <td>684</td>\n",
       "      <td>980</td>\n",
       "      <td>60%</td>\n",
       "      <td>20%</td>\n",
       "      <td>20%</td>\n",
       "      <td>70%</td>\n",
       "      <td>85%</td>\n",
       "    </tr>\n",
       "    <tr>\n",
       "      <th>4</th>\n",
       "      <td>邓健</td>\n",
       "      <td>1230</td>\n",
       "      <td>1050</td>\n",
       "      <td>60%</td>\n",
       "      <td>20%</td>\n",
       "      <td>20%</td>\n",
       "      <td>117%</td>\n",
       "      <td>90%</td>\n",
       "    </tr>\n",
       "  </tbody>\n",
       "</table>\n",
       "</div>"
      ],
      "text/plain": [
       "    姓名    业绩    目标   一般   良好   优秀   完成率   基准\n",
       "0  刘小华  1275  1200  60%  20%  20%  106%  90%\n",
       "1  王小明  1753  1500  60%  20%  20%  117%  85%\n",
       "2  于小飞   756  1100  60%  20%  20%   69%  90%\n",
       "3   方群   684   980  60%  20%  20%   70%  85%\n",
       "4   邓健  1230  1050  60%  20%  20%  117%  90%"
      ]
     },
     "execution_count": 6,
     "metadata": {},
     "output_type": "execute_result"
    }
   ],
   "source": [
    "# 加载数据\n",
    "target = pd.read_csv('./data/target.csv')\n",
    "target"
   ]
  },
  {
   "cell_type": "code",
   "execution_count": 7,
   "metadata": {},
   "outputs": [],
   "source": [
    "# 定义一个将百分比字符串转换为百分比数值的函数\n",
    "def converts(s):\n",
    "    s_float = s.str.strip('%').astype(np.float)/100\n",
    "    return s_float"
   ]
  },
  {
   "cell_type": "markdown",
   "metadata": {},
   "source": [
    "## 4.2 使用误差线来画标靶图"
   ]
  },
  {
   "cell_type": "code",
   "execution_count": 8,
   "metadata": {},
   "outputs": [
    {
     "data": {
      "image/png": "[encoded data removed]",
      "text/plain": [
       "<matplotlib.figure.Figure at 0x1cede6ea7f0>"
      ]
     },
     "metadata": {},
     "output_type": "display_data"
    }
   ],
   "source": [
    "# 使用误差线来完成标靶图的制作\n",
    "plt.figure(figsize=(12, 5))\n",
    "plt.gca().set_facecolor('whitesmoke')\n",
    "plt.title('2019年销售部业绩考核', fontsize=18)\n",
    "\n",
    "# 良好列数据准备\n",
    "data_well = (converts(target['一般'])+converts(target['良好'])).values\n",
    "# 优秀列数据准备\n",
    "data_excellent = (converts(target['一般'])+converts(target['良好'])+converts(target['优秀'])).values\n",
    "\n",
    "# 画一般列的水平柱形图\n",
    "plt.barh(target.index, converts(target['一般']).values, height=0.45, color='gray', alpha=0.7, label='一般')\n",
    "# 画良好列的水平柱形图\n",
    "plt.barh(target.index, data_well, height=0.45, color='grey', alpha=0.6, label='良好')\n",
    "# 画优秀列的水平柱形图\n",
    "plt.barh(target.index, data_excellent, height=0.45, color='silver', alpha=0.5, label='优秀')\n",
    "# 画完成率列的水平柱形图\n",
    "plt.barh(target.index, converts(target['完成率']).values, height=0.15, color='black', alpha=0.7)\n",
    "# 画y轴的误差线\n",
    "plt.errorbar(converts(target['基准']).values, target.index, yerr=0.17, color='black', fmt='.', elinewidth=4.5, ecolor='black')\n",
    "\n",
    "# x轴标签\n",
    "plt.xticks(np.arange(0, 1.4, 0.2), ['0', '20%', '40%', '60%', '80%', '100%', '120%'], fontsize=13)\n",
    "# 去除y轴\n",
    "plt.yticks([])\n",
    "# y轴标签\n",
    "for index, label in zip(target.index, target.姓名):\n",
    "    plt.text(-0.01, index, label, fontsize=13, horizontalalignment='right', verticalalignment='center')\n",
    "# 去除边框\n",
    "ax = plt.gca()\n",
    "ax.spines['top'].set_visible(False)\n",
    "ax.spines['right'].set_visible(False)\n",
    "ax.spines['bottom'].set_visible(False)\n",
    "ax.spines['left'].set_visible(False)\n",
    "\n",
    "plt.legend(facecolor='whitesmoke', fontsize=13)\n",
    "plt.savefig('target.png', dpi=700)\n",
    "plt.show()"
   ]
  },
  {
   "cell_type": "markdown",
   "metadata": {},
   "source": [
    "# 5 雷达图"
   ]
  },
  {
   "cell_type": "markdown",
   "metadata": {},
   "source": [
    "## 5.1 极坐标详解 "
   ]
  },
  {
   "cell_type": "markdown",
   "metadata": {},
   "source": [
    "- [Matplotlib极坐标详解](https://www.cnblogs.com/kallan/p/6738577.html)"
   ]
  },
  {
   "cell_type": "markdown",
   "metadata": {},
   "source": [
    "## 5.2 使用极坐标画雷达图"
   ]
  },
  {
   "cell_type": "markdown",
   "metadata": {},
   "source": [
    "- [极坐标绘制雷达图](https://blog.csdn.net/yuanxiang01/article/details/79566431)"
   ]
  },
  {
   "cell_type": "code",
   "execution_count": 9,
   "metadata": {},
   "outputs": [
    {
     "data": {
      "text/html": [
       "<div>\n",
       "<style scoped>\n",
       "    .dataframe tbody tr th:only-of-type {\n",
       "        vertical-align: middle;\n",
       "    }\n",
       "\n",
       "    .dataframe tbody tr th {\n",
       "        vertical-align: top;\n",
       "    }\n",
       "\n",
       "    .dataframe thead th {\n",
       "        text-align: right;\n",
       "    }\n",
       "</style>\n",
       "<table border=\"1\" class=\"dataframe\">\n",
       "  <thead>\n",
       "    <tr style=\"text-align: right;\">\n",
       "      <th></th>\n",
       "      <th>能力</th>\n",
       "      <th>王强</th>\n",
       "      <th>张丽</th>\n",
       "    </tr>\n",
       "  </thead>\n",
       "  <tbody>\n",
       "    <tr>\n",
       "      <th>0</th>\n",
       "      <td>自信心</td>\n",
       "      <td>86</td>\n",
       "      <td>65</td>\n",
       "    </tr>\n",
       "    <tr>\n",
       "      <th>1</th>\n",
       "      <td>个人愿景</td>\n",
       "      <td>56</td>\n",
       "      <td>91</td>\n",
       "    </tr>\n",
       "    <tr>\n",
       "      <th>2</th>\n",
       "      <td>学习力</td>\n",
       "      <td>79</td>\n",
       "      <td>48</td>\n",
       "    </tr>\n",
       "    <tr>\n",
       "      <th>3</th>\n",
       "      <td>适应性</td>\n",
       "      <td>52</td>\n",
       "      <td>85</td>\n",
       "    </tr>\n",
       "    <tr>\n",
       "      <th>4</th>\n",
       "      <td>灵活性</td>\n",
       "      <td>61</td>\n",
       "      <td>92</td>\n",
       "    </tr>\n",
       "    <tr>\n",
       "      <th>5</th>\n",
       "      <td>问题解决能力</td>\n",
       "      <td>95</td>\n",
       "      <td>88</td>\n",
       "    </tr>\n",
       "    <tr>\n",
       "      <th>6</th>\n",
       "      <td>交往能力</td>\n",
       "      <td>84</td>\n",
       "      <td>98</td>\n",
       "    </tr>\n",
       "    <tr>\n",
       "      <th>7</th>\n",
       "      <td>责任心</td>\n",
       "      <td>63</td>\n",
       "      <td>79</td>\n",
       "    </tr>\n",
       "  </tbody>\n",
       "</table>\n",
       "</div>"
      ],
      "text/plain": [
       "       能力  王强  张丽\n",
       "0     自信心  86  65\n",
       "1    个人愿景  56  91\n",
       "2     学习力  79  48\n",
       "3     适应性  52  85\n",
       "4     灵活性  61  92\n",
       "5  问题解决能力  95  88\n",
       "6    交往能力  84  98\n",
       "7     责任心  63  79"
      ]
     },
     "execution_count": 9,
     "metadata": {},
     "output_type": "execute_result"
    }
   ],
   "source": [
    "# 加载数据\n",
    "radar = pd.read_csv('./data/radar.csv')\n",
    "radar"
   ]
  },
  {
   "cell_type": "code",
   "execution_count": 10,
   "metadata": {
    "scrolled": false
   },
   "outputs": [
    {
     "data": {
      "image/png": "[encoded data removed]",
      "text/plain": [
       "<matplotlib.figure.Figure at 0x1cede789b70>"
      ]
     },
     "metadata": {},
     "output_type": "display_data"
    }
   ],
   "source": [
    "#  将系列数据进行闭环\n",
    "data_wang = np.concatenate((radar.王强, [radar['王强'][0]]))\n",
    "data_zhang = np.concatenate((radar.张丽, [radar['张丽'][0]]))\n",
    "# 圆周长度为标签长度\n",
    "circum = len(radar.index)\n",
    "# 分割圆周\n",
    "angles = np.linspace(0, 2*np.pi, circum, endpoint=False)\n",
    "# 将圆周数据进行闭环\n",
    "data_angles  = np.concatenate((angles, [angles[0]]))\n",
    "\n",
    "# 设置画布\n",
    "plt.figure(figsize=(12, 7))\n",
    "# 设置标题\n",
    "plt.title('两位员工综合能力分析', fontsize=18, y=1.08)\n",
    "# 关闭坐标轴\n",
    "plt.xticks([])\n",
    "plt.yticks([])\n",
    "# 消除边框\n",
    "ax = plt.gca()\n",
    "ax.spines['top'].set_visible(False)\n",
    "ax.spines['right'].set_visible(False)\n",
    "ax.spines['bottom'].set_visible(False)\n",
    "ax.spines['left'].set_visible(False)\n",
    "# 设置前景色\n",
    "ax.set_facecolor('whitesmoke')\n",
    "\n",
    "# 画王强的极坐标系\n",
    "plt.polar(data_angles, data_wang, '--o', c='tan', linewidth=1.5, label='张强')\n",
    "# 区域填充\n",
    "plt.fill(data_angles, data_wang, facecolor='tan', alpha=0.5)\n",
    "# 画张丽的极坐标系\n",
    "plt.polar(data_angles, data_zhang, '-o', c='lightblue', linewidth=1.5, label='王丽')\n",
    "# 区域填充\n",
    "plt.fill(data_angles, data_zhang, facecolor='lightblue', alpha=0.7)\n",
    "# 添加标签\n",
    "plt.thetagrids(data_angles*180/np.pi, radar.能力, fontsize=13, color='olive')\n",
    "# 设置极轴字体和颜色\n",
    "plt.yticks(fontsize=13, color='olive')\n",
    "# 旋转极轴到正北方\n",
    "ax_cor = plt.gca()\n",
    "ax_cor.set_rlabel_position('90')\n",
    "# 设置极径网格线显示\n",
    "ax_cor.set_rgrids(np.arange(20, 120, 20))\n",
    "# 设置极坐标的前景色\n",
    "ax_cor.set_facecolor('whitesmoke')\n",
    "\n",
    "plt.legend(bbox_to_anchor=(1.35, 0.95), fontsize=13, facecolor='whitesmoke')\n",
    "plt.savefig('radar.png', dpi=600)\n",
    "plt.show()"
   ]
  },
  {
   "cell_type": "markdown",
   "metadata": {},
   "source": [
    "# 6 漏斗图"
   ]
  },
  {
   "cell_type": "markdown",
   "metadata": {},
   "source": [
    "## 6.1 加载数据"
   ]
  },
  {
   "cell_type": "code",
   "execution_count": 11,
   "metadata": {},
   "outputs": [
    {
     "data": {
      "text/html": [
       "<div>\n",
       "<style scoped>\n",
       "    .dataframe tbody tr th:only-of-type {\n",
       "        vertical-align: middle;\n",
       "    }\n",
       "\n",
       "    .dataframe tbody tr th {\n",
       "        vertical-align: top;\n",
       "    }\n",
       "\n",
       "    .dataframe thead th {\n",
       "        text-align: right;\n",
       "    }\n",
       "</style>\n",
       "<table border=\"1\" class=\"dataframe\">\n",
       "  <thead>\n",
       "    <tr style=\"text-align: right;\">\n",
       "      <th></th>\n",
       "      <th>环节</th>\n",
       "      <th>人数</th>\n",
       "      <th>环节转化率</th>\n",
       "      <th>总体转化率</th>\n",
       "    </tr>\n",
       "  </thead>\n",
       "  <tbody>\n",
       "    <tr>\n",
       "      <th>0</th>\n",
       "      <td>浏览商品</td>\n",
       "      <td>1000</td>\n",
       "      <td>100%</td>\n",
       "      <td>100%</td>\n",
       "    </tr>\n",
       "    <tr>\n",
       "      <th>1</th>\n",
       "      <td>放入购物车</td>\n",
       "      <td>500</td>\n",
       "      <td>50%</td>\n",
       "      <td>50%</td>\n",
       "    </tr>\n",
       "    <tr>\n",
       "      <th>2</th>\n",
       "      <td>生成订单</td>\n",
       "      <td>300</td>\n",
       "      <td>60%</td>\n",
       "      <td>30%</td>\n",
       "    </tr>\n",
       "    <tr>\n",
       "      <th>3</th>\n",
       "      <td>支付订单</td>\n",
       "      <td>200</td>\n",
       "      <td>67%</td>\n",
       "      <td>20%</td>\n",
       "    </tr>\n",
       "    <tr>\n",
       "      <th>4</th>\n",
       "      <td>完成交易</td>\n",
       "      <td>150</td>\n",
       "      <td>75%</td>\n",
       "      <td>15%</td>\n",
       "    </tr>\n",
       "  </tbody>\n",
       "</table>\n",
       "</div>"
      ],
      "text/plain": [
       "      环节    人数 环节转化率 总体转化率\n",
       "0   浏览商品  1000  100%  100%\n",
       "1  放入购物车   500   50%   50%\n",
       "2   生成订单   300   60%   30%\n",
       "3   支付订单   200   67%   20%\n",
       "4   完成交易   150   75%   15%"
      ]
     },
     "execution_count": 11,
     "metadata": {},
     "output_type": "execute_result"
    }
   ],
   "source": [
    "# 加载数据\n",
    "data_flow = pd.read_csv('./data/funnel.csv')\n",
    "data_flow"
   ]
  },
  {
   "cell_type": "markdown",
   "metadata": {},
   "source": [
    "## 6.2 Matplotlib标注详解 "
   ]
  },
  {
   "cell_type": "markdown",
   "metadata": {},
   "source": [
    "- [Matlibplot标注详解](https://blog.csdn.net/wizardforcel/article/details/54782628)\n",
    "- [标题(title),标注(annotate),文字说明(text)](https://blog.csdn.net/helunqu2017/article/details/78659490)"
   ]
  },
  {
   "cell_type": "markdown",
   "metadata": {},
   "source": [
    "## 6.3 使用辅助列来画漏斗图"
   ]
  },
  {
   "cell_type": "markdown",
   "metadata": {},
   "source": [
    "和Excel一样，借助辅助列来画水平堆积柱形图，然后隐藏辅助列，来画漏斗图。"
   ]
  },
  {
   "cell_type": "code",
   "execution_count": 12,
   "metadata": {},
   "outputs": [
    {
     "data": {
      "text/html": [
       "<div>\n",
       "<style scoped>\n",
       "    .dataframe tbody tr th:only-of-type {\n",
       "        vertical-align: middle;\n",
       "    }\n",
       "\n",
       "    .dataframe tbody tr th {\n",
       "        vertical-align: top;\n",
       "    }\n",
       "\n",
       "    .dataframe thead th {\n",
       "        text-align: right;\n",
       "    }\n",
       "</style>\n",
       "<table border=\"1\" class=\"dataframe\">\n",
       "  <thead>\n",
       "    <tr style=\"text-align: right;\">\n",
       "      <th></th>\n",
       "      <th>环节</th>\n",
       "      <th>人数</th>\n",
       "      <th>环节转化率</th>\n",
       "      <th>总体转化率</th>\n",
       "      <th>辅助列1</th>\n",
       "      <th>辅助列2</th>\n",
       "    </tr>\n",
       "  </thead>\n",
       "  <tbody>\n",
       "    <tr>\n",
       "      <th>0</th>\n",
       "      <td>浏览商品</td>\n",
       "      <td>1000</td>\n",
       "      <td>100%</td>\n",
       "      <td>100%</td>\n",
       "      <td>0.0</td>\n",
       "      <td>1000.0</td>\n",
       "    </tr>\n",
       "    <tr>\n",
       "      <th>1</th>\n",
       "      <td>放入购物车</td>\n",
       "      <td>500</td>\n",
       "      <td>50%</td>\n",
       "      <td>50%</td>\n",
       "      <td>250.0</td>\n",
       "      <td>750.0</td>\n",
       "    </tr>\n",
       "    <tr>\n",
       "      <th>2</th>\n",
       "      <td>生成订单</td>\n",
       "      <td>300</td>\n",
       "      <td>60%</td>\n",
       "      <td>30%</td>\n",
       "      <td>350.0</td>\n",
       "      <td>650.0</td>\n",
       "    </tr>\n",
       "    <tr>\n",
       "      <th>3</th>\n",
       "      <td>支付订单</td>\n",
       "      <td>200</td>\n",
       "      <td>67%</td>\n",
       "      <td>20%</td>\n",
       "      <td>400.0</td>\n",
       "      <td>600.0</td>\n",
       "    </tr>\n",
       "    <tr>\n",
       "      <th>4</th>\n",
       "      <td>完成交易</td>\n",
       "      <td>150</td>\n",
       "      <td>75%</td>\n",
       "      <td>15%</td>\n",
       "      <td>425.0</td>\n",
       "      <td>575.0</td>\n",
       "    </tr>\n",
       "  </tbody>\n",
       "</table>\n",
       "</div>"
      ],
      "text/plain": [
       "      环节    人数 环节转化率 总体转化率   辅助列1    辅助列2\n",
       "0   浏览商品  1000  100%  100%    0.0  1000.0\n",
       "1  放入购物车   500   50%   50%  250.0   750.0\n",
       "2   生成订单   300   60%   30%  350.0   650.0\n",
       "3   支付订单   200   67%   20%  400.0   600.0\n",
       "4   完成交易   150   75%   15%  425.0   575.0"
      ]
     },
     "execution_count": 12,
     "metadata": {},
     "output_type": "execute_result"
    }
   ],
   "source": [
    "# 生成辅助列\n",
    "data_flow['辅助列1'] = (data_flow.人数[0] - data_flow.人数) / 2\n",
    "data_flow['辅助列2'] = data_flow['人数'] + data_flow['辅助列1']\n",
    "data_flow.人数\n",
    "data_flow"
   ]
  },
  {
   "cell_type": "markdown",
   "metadata": {},
   "source": [
    " **然后使用辅助列1和辅助列2来画水平堆积柱形图：**"
   ]
  },
  {
   "cell_type": "code",
   "execution_count": 13,
   "metadata": {},
   "outputs": [
    {
     "data": {
      "image/png": "[encoded data removed]",
      "text/plain": [
       "<matplotlib.figure.Figure at 0x1cede8cd240>"
      ]
     },
     "metadata": {},
     "output_type": "display_data"
    }
   ],
   "source": [
    "# 设置画布\n",
    "plt.figure(figsize=(12, 6))\n",
    "# 设置标题\n",
    "plt.title('用户购买转化率', fontsize=20, y=1.05)\n",
    "# 设置当前图形对象\n",
    "ax = plt.gca()\n",
    "# 设置前景色\n",
    "ax.set_facecolor('oldlace')\n",
    "# 去除边框\n",
    "ax.spines['top'].set_visible(False)\n",
    "ax.spines['right'].set_visible(False)\n",
    "ax.spines['bottom'].set_visible(False)\n",
    "ax.spines['left'].set_visible(False)\n",
    "# 翻转y轴\n",
    "ax.invert_yaxis()\n",
    "# 关闭坐标轴\n",
    "plt.xticks([])\n",
    "plt.yticks([])\n",
    "\n",
    "# 画辅助列2的水平柱形图\n",
    "plt.barh(data_flow.index, data_flow.辅助列2.values, color='orange', height=0.5)\n",
    "# 画辅助列1的水平柱形图\n",
    "plt.barh(data_flow.index, data_flow.辅助列1.values, color='oldlace', height=0.5)\n",
    "# 添加数据标签\n",
    "for index, label in zip(data_flow.index, data_flow.人数):\n",
    "    plt.text(data_flow['人数'][0]/2, index, label, fontsize=13, horizontalalignment='center', verticalalignment='center')    \n",
    "# 添加各阶段标签\n",
    "for index, label in zip(data_flow.index, data_flow.环节):\n",
    "    plt.text(-60, index, label, fontsize=14, horizontalalignment='center', verticalalignment='center')\n",
    "# 添加左侧漏斗线\n",
    "plt.plot(data_flow.辅助列1, data_flow.index.values+0.25, c='orange')\n",
    "# 添加右侧漏斗线\n",
    "plt.plot(data_flow.辅助列2, data_flow.index.values+0.25, c='orange')\n",
    "# 添加转化率箭头\n",
    "for index, label in zip(data_flow.index[:-1], data_flow.环节转化率[1:]):\n",
    "    plt.text(-60, index+0.45, label, fontsize=13, bbox=dict(boxstyle='larrow, pad=0.5', color='orange'), rotation=90)\n",
    "\n",
    "plt.savefig('funnel.png', dpi=600)\n",
    "plt.show()"
   ]
  },
  {
   "cell_type": "markdown",
   "metadata": {},
   "source": [
    "# 7 帕累托图"
   ]
  },
  {
   "cell_type": "markdown",
   "metadata": {},
   "source": [
    "[帕累托图介绍](https://baijiahao.baidu.com/s?id=1630082047753510514&wfr=spider&for=pc)"
   ]
  },
  {
   "cell_type": "markdown",
   "metadata": {},
   "source": [
    "## 7.1 加载数据"
   ]
  },
  {
   "cell_type": "code",
   "execution_count": 14,
   "metadata": {
    "scrolled": true
   },
   "outputs": [
    {
     "data": {
      "text/html": [
       "<div>\n",
       "<style scoped>\n",
       "    .dataframe tbody tr th:only-of-type {\n",
       "        vertical-align: middle;\n",
       "    }\n",
       "\n",
       "    .dataframe tbody tr th {\n",
       "        vertical-align: top;\n",
       "    }\n",
       "\n",
       "    .dataframe thead th {\n",
       "        text-align: right;\n",
       "    }\n",
       "</style>\n",
       "<table border=\"1\" class=\"dataframe\">\n",
       "  <thead>\n",
       "    <tr style=\"text-align: right;\">\n",
       "      <th></th>\n",
       "      <th>姓名</th>\n",
       "      <th>成绩</th>\n",
       "    </tr>\n",
       "  </thead>\n",
       "  <tbody>\n",
       "    <tr>\n",
       "      <th>0</th>\n",
       "      <td>张三</td>\n",
       "      <td>95</td>\n",
       "    </tr>\n",
       "    <tr>\n",
       "      <th>1</th>\n",
       "      <td>李四</td>\n",
       "      <td>82</td>\n",
       "    </tr>\n",
       "    <tr>\n",
       "      <th>2</th>\n",
       "      <td>王五</td>\n",
       "      <td>90</td>\n",
       "    </tr>\n",
       "    <tr>\n",
       "      <th>3</th>\n",
       "      <td>赵六</td>\n",
       "      <td>86</td>\n",
       "    </tr>\n",
       "    <tr>\n",
       "      <th>4</th>\n",
       "      <td>钱七</td>\n",
       "      <td>84</td>\n",
       "    </tr>\n",
       "  </tbody>\n",
       "</table>\n",
       "</div>"
      ],
      "text/plain": [
       "   姓名  成绩\n",
       "0  张三  95\n",
       "1  李四  82\n",
       "2  王五  90\n",
       "3  赵六  86\n",
       "4  钱七  84"
      ]
     },
     "execution_count": 14,
     "metadata": {},
     "output_type": "execute_result"
    }
   ],
   "source": [
    "#  加载数据\n",
    "score = pd.read_csv('./data/pareto.csv')\n",
    "score.head()"
   ]
  },
  {
   "cell_type": "markdown",
   "metadata": {},
   "source": [
    "**使用嵌套的where函数来添加成绩区间辅助列：**"
   ]
  },
  {
   "cell_type": "code",
   "execution_count": 15,
   "metadata": {},
   "outputs": [
    {
     "data": {
      "text/html": [
       "<div>\n",
       "<style scoped>\n",
       "    .dataframe tbody tr th:only-of-type {\n",
       "        vertical-align: middle;\n",
       "    }\n",
       "\n",
       "    .dataframe tbody tr th {\n",
       "        vertical-align: top;\n",
       "    }\n",
       "\n",
       "    .dataframe thead th {\n",
       "        text-align: right;\n",
       "    }\n",
       "</style>\n",
       "<table border=\"1\" class=\"dataframe\">\n",
       "  <thead>\n",
       "    <tr style=\"text-align: right;\">\n",
       "      <th></th>\n",
       "      <th>姓名</th>\n",
       "      <th>成绩</th>\n",
       "      <th>分组</th>\n",
       "    </tr>\n",
       "  </thead>\n",
       "  <tbody>\n",
       "    <tr>\n",
       "      <th>0</th>\n",
       "      <td>张三</td>\n",
       "      <td>95</td>\n",
       "      <td>90-100</td>\n",
       "    </tr>\n",
       "    <tr>\n",
       "      <th>1</th>\n",
       "      <td>李四</td>\n",
       "      <td>82</td>\n",
       "      <td>80-90</td>\n",
       "    </tr>\n",
       "    <tr>\n",
       "      <th>2</th>\n",
       "      <td>王五</td>\n",
       "      <td>90</td>\n",
       "      <td>90-100</td>\n",
       "    </tr>\n",
       "    <tr>\n",
       "      <th>3</th>\n",
       "      <td>赵六</td>\n",
       "      <td>86</td>\n",
       "      <td>80-90</td>\n",
       "    </tr>\n",
       "    <tr>\n",
       "      <th>4</th>\n",
       "      <td>钱七</td>\n",
       "      <td>84</td>\n",
       "      <td>80-90</td>\n",
       "    </tr>\n",
       "  </tbody>\n",
       "</table>\n",
       "</div>"
      ],
      "text/plain": [
       "   姓名  成绩      分组\n",
       "0  张三  95  90-100\n",
       "1  李四  82   80-90\n",
       "2  王五  90  90-100\n",
       "3  赵六  86   80-90\n",
       "4  钱七  84   80-90"
      ]
     },
     "execution_count": 15,
     "metadata": {},
     "output_type": "execute_result"
    }
   ],
   "source": [
    "# 使用嵌套where函数来添加辅助列标志\n",
    "score['分组'] = np.where((score.成绩>=0) & (score.成绩<60), '0-60',\n",
    "                        np.where((score.成绩>=60) & (score.成绩<70), '60-70',\n",
    "                        np.where((score.成绩>=70) & (score.成绩<80), '70-80',\n",
    "                        np.where((score.成绩>=80) & (score.成绩<90), '80-90', '90-100'))))\n",
    "score.head()"
   ]
  },
  {
   "cell_type": "markdown",
   "metadata": {},
   "source": [
    "**统计各个分数段的学生数量：**"
   ]
  },
  {
   "cell_type": "code",
   "execution_count": 16,
   "metadata": {},
   "outputs": [
    {
     "data": {
      "text/html": [
       "<div>\n",
       "<style scoped>\n",
       "    .dataframe tbody tr th:only-of-type {\n",
       "        vertical-align: middle;\n",
       "    }\n",
       "\n",
       "    .dataframe tbody tr th {\n",
       "        vertical-align: top;\n",
       "    }\n",
       "\n",
       "    .dataframe thead th {\n",
       "        text-align: right;\n",
       "    }\n",
       "</style>\n",
       "<table border=\"1\" class=\"dataframe\">\n",
       "  <thead>\n",
       "    <tr style=\"text-align: right;\">\n",
       "      <th></th>\n",
       "      <th>分组</th>\n",
       "    </tr>\n",
       "  </thead>\n",
       "  <tbody>\n",
       "    <tr>\n",
       "      <th>80-90</th>\n",
       "      <td>6</td>\n",
       "    </tr>\n",
       "    <tr>\n",
       "      <th>70-80</th>\n",
       "      <td>5</td>\n",
       "    </tr>\n",
       "    <tr>\n",
       "      <th>90-100</th>\n",
       "      <td>4</td>\n",
       "    </tr>\n",
       "    <tr>\n",
       "      <th>60-70</th>\n",
       "      <td>2</td>\n",
       "    </tr>\n",
       "    <tr>\n",
       "      <th>0-60</th>\n",
       "      <td>1</td>\n",
       "    </tr>\n",
       "  </tbody>\n",
       "</table>\n",
       "</div>"
      ],
      "text/plain": [
       "        分组\n",
       "80-90    6\n",
       "70-80    5\n",
       "90-100   4\n",
       "60-70    2\n",
       "0-60     1"
      ]
     },
     "execution_count": 16,
     "metadata": {},
     "output_type": "execute_result"
    }
   ],
   "source": [
    "# 对分组列进行计数\n",
    "score_group = pd.DataFrame(score.分组.value_counts())\n",
    "score_group"
   ]
  },
  {
   "cell_type": "markdown",
   "metadata": {},
   "source": [
    "**增加分组人数累计百分比列：**"
   ]
  },
  {
   "cell_type": "code",
   "execution_count": 17,
   "metadata": {},
   "outputs": [
    {
     "data": {
      "text/html": [
       "<div>\n",
       "<style scoped>\n",
       "    .dataframe tbody tr th:only-of-type {\n",
       "        vertical-align: middle;\n",
       "    }\n",
       "\n",
       "    .dataframe tbody tr th {\n",
       "        vertical-align: top;\n",
       "    }\n",
       "\n",
       "    .dataframe thead th {\n",
       "        text-align: right;\n",
       "    }\n",
       "</style>\n",
       "<table border=\"1\" class=\"dataframe\">\n",
       "  <thead>\n",
       "    <tr style=\"text-align: right;\">\n",
       "      <th></th>\n",
       "      <th>label</th>\n",
       "      <th>分组</th>\n",
       "      <th>累计百分比</th>\n",
       "    </tr>\n",
       "  </thead>\n",
       "  <tbody>\n",
       "    <tr>\n",
       "      <th>0</th>\n",
       "      <td>80-90</td>\n",
       "      <td>6</td>\n",
       "      <td>0.333333</td>\n",
       "    </tr>\n",
       "    <tr>\n",
       "      <th>1</th>\n",
       "      <td>70-80</td>\n",
       "      <td>5</td>\n",
       "      <td>0.611111</td>\n",
       "    </tr>\n",
       "    <tr>\n",
       "      <th>2</th>\n",
       "      <td>90-100</td>\n",
       "      <td>4</td>\n",
       "      <td>0.833333</td>\n",
       "    </tr>\n",
       "    <tr>\n",
       "      <th>3</th>\n",
       "      <td>60-70</td>\n",
       "      <td>2</td>\n",
       "      <td>0.944444</td>\n",
       "    </tr>\n",
       "    <tr>\n",
       "      <th>4</th>\n",
       "      <td>0-60</td>\n",
       "      <td>1</td>\n",
       "      <td>1.000000</td>\n",
       "    </tr>\n",
       "  </tbody>\n",
       "</table>\n",
       "</div>"
      ],
      "text/plain": [
       "    label  分组     累计百分比\n",
       "0   80-90   6  0.333333\n",
       "1   70-80   5  0.611111\n",
       "2  90-100   4  0.833333\n",
       "3   60-70   2  0.944444\n",
       "4    0-60   1  1.000000"
      ]
     },
     "execution_count": 17,
     "metadata": {},
     "output_type": "execute_result"
    }
   ],
   "source": [
    "score_group['累计百分比'] = score_group.分组.cumsum() / score_group.分组.sum()\n",
    "score_group.reset_index(inplace=True)\n",
    "score_group.rename(columns={'index': 'label'}, inplace=True)\n",
    "score_group"
   ]
  },
  {
   "cell_type": "markdown",
   "metadata": {},
   "source": [
    "**在表的第一行增加一行辅助列：**\n",
    "- [Pandas在第一行数据前插入一行数据](https://www.cnblogs.com/wkang/p/10115368.html)"
   ]
  },
  {
   "cell_type": "code",
   "execution_count": 18,
   "metadata": {},
   "outputs": [],
   "source": [
    "# 新增辅助行\n",
    "# score_group.loc[-1] = ['0', 0, 0]\n",
    "# score_group.index = score_group.index + 1\n",
    "# score_group.sort_index(inplace=True)\n",
    "# score_group"
   ]
  },
  {
   "cell_type": "markdown",
   "metadata": {},
   "source": [
    "## 7.2 使用双坐标轴来画帕累托图"
   ]
  },
  {
   "cell_type": "markdown",
   "metadata": {},
   "source": [
    "**用帕累托图来分析学生的成绩**"
   ]
  },
  {
   "cell_type": "code",
   "execution_count": 19,
   "metadata": {},
   "outputs": [
    {
     "data": {
      "image/png": "[encoded data removed]",
      "text/plain": [
       "<matplotlib.figure.Figure at 0x1ceddebd550>"
      ]
     },
     "metadata": {},
     "output_type": "display_data"
    }
   ],
   "source": [
    "# 设置画布\n",
    "plt.figure(figsize=(12, 6))\n",
    "plt.title('学生成绩分析', fontsize=20, y=1.05)\n",
    "# 设置当前图形对象\n",
    "ax = plt.gca()\n",
    "# 设置前景色\n",
    "ax.set_facecolor('whitesmoke')\n",
    "\n",
    "# 画分组列的柱形图\n",
    "plt.bar(score_group.index, score_group.分组, width=0.99, color='grey', alpha=0.7)\n",
    "# 设置x轴标签\n",
    "plt.xticks(score_group.index, score_group.label, fontsize=13)\n",
    "# 设置y轴刻度为18\n",
    "plt.ylim(0, 18)\n",
    "# 双x轴\n",
    "plt.twinx()\n",
    "# 画累计百分比列的折线图\n",
    "plt.plot(score_group.index, score_group.累计百分比)\n",
    "\n",
    "plt.show()"
   ]
  },
  {
   "cell_type": "code",
   "execution_count": null,
   "metadata": {},
   "outputs": [],
   "source": []
  }
 ],
 "metadata": {
  "kernelspec": {
   "display_name": "Analysis",
   "language": "python",
   "name": "analysis"
  },
  "language_info": {
   "codemirror_mode": {
    "name": "ipython",
    "version": 3
   },
   "file_extension": ".py",
   "mimetype": "text/x-python",
   "name": "python",
   "nbconvert_exporter": "python",
   "pygments_lexer": "ipython3",
   "version": "3.6.2"
  },
  "toc": {
   "base_numbering": 1,
   "nav_menu": {},
   "number_sections": false,
   "sideBar": true,
   "skip_h1_title": false,
   "title_cell": "Table of Contents",
   "title_sidebar": "Contents",
   "toc_cell": false,
   "toc_position": {
    "height": "calc(100% - 180px)",
    "left": "10px",
    "top": "150px",
    "width": "256px"
   },
   "toc_section_display": true,
   "toc_window_display": true
  }
 },
 "nbformat": 4,
 "nbformat_minor": 2
}
