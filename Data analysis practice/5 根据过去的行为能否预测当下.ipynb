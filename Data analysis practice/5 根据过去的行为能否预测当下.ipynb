{
 "cells": [
  {
   "cell_type": "markdown",
   "metadata": {},
   "source": [
    "# <center>根据过去的行为能否预测当下（逻辑回归分析） </center>"
   ]
  },
  {
   "cell_type": "markdown",
   "metadata": {},
   "source": [
    "# 1 背景介绍 "
   ]
  },
  {
   "cell_type": "markdown",
   "metadata": {},
   "source": [
    "## 1.1 从非智能手机更换到智能手机"
   ]
  },
  {
   "cell_type": "markdown",
   "metadata": {},
   "source": [
    "我们怀疑很多《垂钓乐园》游戏的用户从非智能手机更换到智能手机后，过去使用的游戏账号可能不能继续在新的手机上使用了。因此需要**根据之前用户的访问情况来预估一下到底有多少用户因为这个原因流失了，**那么应该怎么做？"
   ]
  },
  {
   "cell_type": "markdown",
   "metadata": {},
   "source": [
    "## 1.2 《垂钓乐园》游戏用户量减少的问题"
   ]
  },
  {
   "cell_type": "markdown",
   "metadata": {},
   "source": [
    "除了《黑猫拼图》游戏，公司还有一款名为《垂钓乐园》的社交游戏。这个游戏开始投入市场的时候**智能手机还没出现**，因此当时这款游戏是针对非智能手机定制开发的。然而，随着智能手机的快速普及，公司也随之在这款游戏中加如了针对智能手机的功能，以及用户账号的**迁转功能**，以便用户在智能手机上**继续使用过去非智能手机中的游戏账号**。这些功能上线后，智能手机的游戏用户稳步上升，同时游戏的总用户量也在不断增加。  \n",
    "\n",
    "然而，**最近《垂钓乐园》的用户量却在不断减少**。我们从各种角度分析了这个问题，然后发现**游戏的非智能手机用户大量减少了**。"
   ]
  },
  {
   "cell_type": "markdown",
   "metadata": {},
   "source": [
    "## 1.3 非智能手机用户量的减少主要由移动终端市场的变化所致"
   ]
  },
  {
   "cell_type": "markdown",
   "metadata": {},
   "source": [
    "首先，随着移动终端市场的发展，非智能手机的用户量在逐渐减少，而智能手机的用户量在不断增加。从这样的趋势来看，使用非智能手机的游戏用户不断减少是**大势所趋**。其它游戏的非智能手机用户的情况也是如此。但是，在其它游戏中，虽然**非智能手机用户量在减少，但是是能手机用户量在增加，因而总用户量大致没有变化**。也就是说，和其它游戏相比，**《垂钓乐园》游戏的非智能手机用户量也减少了，但是智能手机用户量的增加幅度却比较小**。"
   ]
  },
  {
   "cell_type": "markdown",
   "metadata": {},
   "source": [
    "# 2 现状和预期 "
   ]
  },
  {
   "cell_type": "markdown",
   "metadata": {},
   "source": [
    "希望用智能手机用户量的增加来弥补非智能手机用户量的减少，所以：\n",
    "- **现状：**智能手机用户量的增加比非智能手机用户量减少量要**少**\n",
    "- **预期：**用智能手机用户量的增加来弥补非智能手机用户量的减少"
   ]
  },
  {
   "cell_type": "markdown",
   "metadata": {},
   "source": [
    "# 3 发现问题"
   ]
  },
  {
   "cell_type": "markdown",
   "metadata": {},
   "source": [
    "## 3.1 非智能手机用户流失的结构 "
   ]
  },
  {
   "cell_type": "markdown",
   "metadata": {},
   "source": [
    "为什么游戏的智能手机用户量的增加会比非智能手机用户量的减少要小呢？这需要仔细思考非智能手机用户流失的结构。我们认为这些流失的用户大致可分为以下两部分：\n",
    "- **一直使用非智能手机的用户流失：**这些用户是自然流失，而不是因为更换了智能手机（就是不想玩了）\n",
    "- **从非智能手机更换为智能手机时的用户流失：**\n",
    "    - 游戏账号迁移后继续在智能手机上使用\n",
    "    - 在智能手机上新申请一个游戏账号\n",
    "    - 干脆不玩了\n",
    "    \n",
    "将游戏账号从非智能手机迁移到智能手机的用户，将其算作是智能手机用户。但是，有些用户在更换智能手机后就重新申请了一个游戏账号。由于这些新申请账号的用户在数据上显示为**新用户**，因此很难判断这样的用户是不是更换了手机（非智能手机也可能注册新用户）。但是从定期的问卷调查来看，**只有极少数用户会在更换智能手机后重新申请一个游戏账号**。最后一种情况是用户在更换了智能手机后就不再玩《垂钓乐园》游戏了，这类用户和那些仍在使用非智能手机且自然流失的用户很难区分开。"
   ]
  },
  {
   "cell_type": "markdown",
   "metadata": {},
   "source": [
    "以上内容整理后如下所示：\n",
    "\n",
    "|游戏流失用户是否持有智能手机？|非智能手机用户流失原因|\n",
    "|---|---|\n",
    "|没有|自然流失|\n",
    "|有|自然流失|\n",
    "|有|在智能手机上使用了新的游戏账号|\n",
    "|有|在智能手机上将旧的游戏账号迁转设定成功|"
   ]
  },
  {
   "cell_type": "markdown",
   "metadata": {},
   "source": [
    "## 3.2 游戏账号迁移设定失败导致用户流失的假设"
   ]
  },
  {
   "cell_type": "markdown",
   "metadata": {},
   "source": [
    "基于上表内容，经过和《垂钓乐园》游戏的策划和开发负责人开会商讨，怀疑在那些因更换智能手机而流失的用户当中，有的**可能是因为旧的游戏账号在智能手机上迁移设定失败**。游戏账号迁移设定模块当时开发的比较仓促，对用户来说有些使用不便。但是当时这个模块在发布后并没有出现什么问题，这可能时因为当时使用智能手机的用户大都属于时尚认识，就算游戏账号的迁移设定有点复杂，他们也能顺利完成。"
   ]
  },
  {
   "cell_type": "markdown",
   "metadata": {},
   "source": [
    "将上面内容添加到表里，如下所示：\n",
    "\n",
    "|游戏流失用户是否持有智能手机？|非智能手机用户流失原因|\n",
    "|---|---|\n",
    "|没有|自然流失|\n",
    "|有|自然流失|\n",
    "|有|在智能手机上使用了新的游戏账号|\n",
    "|有|在智能手机上将旧的游戏账号迁转设定成功|\n",
    "|有|在智能手机上将旧的游戏账号迁转审定失败|"
   ]
  },
  {
   "cell_type": "markdown",
   "metadata": {},
   "source": [
    "如果所面临的本质问题时上表中最后的“**游戏账号迁移设定失败**”的画，就必须尽快修复这个问题。然而，由于这个模块当时开发的比较仓促，因此现在修复起来预计要消耗相当多的工时（**代价大**）。而现在开发部门也有很多开发任务，很难抽出时间。\n",
    "\n",
    "因此，现在做问卷调查可能不太合适，我们需要的时一个大致的结论，并尽快预估游戏账号迁移设定失败造成的影响，进而采取下述某个解决对策：\n",
    "- **如果游戏账号迁移设定失败造成了很大的影响，那就需要开发部门停止正在进行的工作，全力修复这个问题**\n",
    "- **如果这个影响较小，就只需要改进以下针对智能手机用户的商业宣传**"
   ]
  },
  {
   "cell_type": "markdown",
   "metadata": {},
   "source": [
    "# 4 数据收集 "
   ]
  },
  {
   "cell_type": "markdown",
   "metadata": {},
   "source": [
    "## 4.1 用户自然流失和账号迁移设定失败导致的用户流失有何不同"
   ]
  },
  {
   "cell_type": "markdown",
   "metadata": {},
   "source": [
    "首先，整理一下目前为止的事实和假设：\n",
    "- **非智能手机用户量的减少比智能手机用户量的增加要大（事实）**\n",
    "- **当前用户从非智能手机更换到智能手机后，重新注册游戏账号的用户很少（事实，从问卷调查中得出的结论）**\n",
    "- **从非智能手机更换到智能手机时，游戏账号的迁移设定导致了用户流失（假设）**"
   ]
  },
  {
   "cell_type": "markdown",
   "metadata": {},
   "source": [
    "为了验证上述假设，需要能够**在数据上区分用户的自然流失和游戏账号迁移设定失败而导致的用户流失**。那么什么样的数据才能满足分析需要呢？先看一下用户在流失之前的访问数据。如下表所示，自然流失的用户的访问天数时在逐渐减少的，而因游戏账号迁移设定失败而流失的用户是在某天后就突然不访问了。\n",
    "\n",
    "|访问日期|1|2|3|4|5|6|7|8|\n",
    "|---|---|---|---|---|---|---|---|---|\n",
    "|自然流失的用户|X|O|X|X|O|X|X|X|\n",
    "因游戏账号迁移设定失败而流失的用户|O|O|O|O|O|X|X|X|\n"
   ]
  },
  {
   "cell_type": "markdown",
   "metadata": {},
   "source": [
    "这个假设虽然不是来自与问卷调查或者访谈，但也符合我们自身使用的感觉和游戏模块开发者的亲身体会，因此具有较高的可信度。\n",
    "\n",
    "我们使用了2013年1越和2越的DAU数据。具体来说，就是**用1月份用户的访问数据来预测用户在2月份是自然流失，还是因游戏账号迁移设定失败而流失的**。"
   ]
  },
  {
   "cell_type": "markdown",
   "metadata": {},
   "source": [
    "## 4.2 不存在包含正解的数据"
   ]
  },
  {
   "cell_type": "markdown",
   "metadata": {},
   "source": [
    "为了判断用户是自然流失还是因游戏账号迁移设定失败而流失的，将用户1月份访问情况设置为自变量，这从自身的角度和游戏开饭人员的角度来看都是没有问题的。然后将“自然流失”和“因账号迁移设定失败而流失”作为因变量，并基于之前的表格来思考。\n",
    "\n",
    "用户流失之前的访问情况大致可概括为以下几个特征：\n",
    "- **访问次数较少：**\n",
    "    - 未使用智能手机的用户自然流失\n",
    "    - 使用智能手机的用户自然流失\n",
    "- **访问次数较多：**\n",
    "    - 在智能手机上使用了新的游戏账号\n",
    "    - 在智能手机上将旧的游戏账号迁转设定成功\n",
    "    - 在智能手机上将旧的游戏账号迁转审定失败\n",
    "    \n",
    "如上所示，如果访问情况存在显著差异，那么就能构筑判别模型。但是，能否梳理获得上面这些访问数据呢？下表给出相关整理情况：\n",
    "\n",
    "|用户流失时是否持有智能手机？|非智能手机用户流失的原因|数据是否存在？|\n",
    "|---|---|---|\n",
    "|没有|自然流失（没有分析价值）|X|\n",
    "|有|自然流失（没有分析价值）|X|\n",
    "|有|在智能手机上使用了新的游戏账号|X（极少）|\n",
    "|有|在智能手机上将旧的游戏账号迁转设定成功|O|\n",
    "|有|在智能手机上将旧的游戏账号迁转设定失败|X|"
   ]
  },
  {
   "cell_type": "markdown",
   "metadata": {},
   "source": [
    "由上表可知，所有的非智能手机的流失用户当中，之后的访问情况能够识别出来的只有第四行的“在智能手机上将旧的游戏账号迁转设定成功”这一种。第3行的“在智能手机上使用了新的游戏账号”的用户量很少，而最想知道的“在智能手机上将旧的的游戏账号迁转审定失败”这种情况的相关数据实际上无法获得。也就是说，**用户“自然流失”和“因游戏账号迁转设定失败而流失”这两种情况在数据上无法区分，无法获得所包含正解的数据**。"
   ]
  },
  {
   "cell_type": "markdown",
   "metadata": {},
   "source": [
    "## 4.3 在无法获得包含正解的数据的情况下进行建模"
   ]
  },
  {
   "cell_type": "markdown",
   "metadata": {},
   "source": [
    "在商业领域中，建模所需的数据不一定要局限于包含正解的完美数据。在本例中：\n",
    "- 假设“因游戏账号迁转设定失败而流失”情况很严重：参考之前的表格，可以预知，和自然流失用户相比，因游戏账号迁转设定失败而流失的用户在当月的访问次数要高的多。因此，如果“因游戏账号迁转失败而流失”的用户在所流失用户中所占的比例较高的话，那么**流失用户和游戏账号迁转用户在1月份的访问情况就不会存在什么差异**，而如果访问情况没有什么差异的话，就无法基于访问数量构筑判别模型。\n",
    "- 反之，如果“因游戏账号迁转设定失败而流失”的用户较少的话，那么访问次数的差异就会比较显著，也就能够顺利的构筑判别模型。在本例中，如果能构筑判别模型，就意味着令人畏惧的游戏账号迁转设定的复杂性并未产生影响。"
   ]
  },
  {
   "cell_type": "markdown",
   "metadata": {},
   "source": [
    "## 4.4 分析过程整理 "
   ]
  },
  {
   "cell_type": "markdown",
   "metadata": {},
   "source": [
    "整理一下整个分析过程：\n",
    "- **事实：**\n",
    "    - 非智能手机用户的减少比智能手机用户量的增加要大\n",
    "    - 当用户从非智能手机更换到智能手机后，重新注册游戏账号的用户很少（从问卷调查中得出的结论）\n",
    "- **假设：**\n",
    "    - 从非智能手机更换到智能手机时，游戏账号的迁转设定失败导致了用户流失\n",
    "- **根据分析方法和结果得出的解决对策：**\n",
    "    - 使用用户访问情况数据建立“账号迁移用户”和“流失用户”的判别模型：\n",
    "        - **能够建立有效的模型：** 因游戏账号迁转设定失败而导致的用户流失的影响较小\n",
    "        - **不能建立模型：**很可能时因游戏账号迁转设定失败而导致的用户流失的影响较大，可以考虑简化游戏账号的迁转设定"
   ]
  },
  {
   "cell_type": "markdown",
   "metadata": {},
   "source": [
    "# 5 数据收集和加工"
   ]
  },
  {
   "cell_type": "markdown",
   "metadata": {},
   "source": [
    "对于本例中，需要建立“账号迁转用户”和“流失用户”的判别模型。对于这种二分类问题，有很多模型能够满足需求，但是在本例中，由于没有包含正解的数据，因此没有必要使用注入SVM（支持向量机）或者神经网络这类精度虽高但是计算量很大的模型，不然使用逻辑回归分析尽快得出结果。"
   ]
  },
  {
   "cell_type": "markdown",
   "metadata": {},
   "source": [
    "## 5.1 数据处理和可视化准备"
   ]
  },
  {
   "cell_type": "code",
   "execution_count": 1,
   "metadata": {},
   "outputs": [],
   "source": [
    "import numpy as np\n",
    "import pandas as pd\n",
    "import matplotlib.pyplot as plt\n",
    "from sklearn.model_selection import cross_val_score\n",
    "from sklearn.linear_model import LogisticRegression\n",
    "%matplotlib inline\n",
    "plt.rcParams['font.sans-serif'] = ['SimHei']\n",
    "plt.rcParams['axes.unicode_minus'] = False"
   ]
  },
  {
   "cell_type": "markdown",
   "metadata": {},
   "source": [
    "## 5.2 数据收集"
   ]
  },
  {
   "cell_type": "markdown",
   "metadata": {},
   "source": [
    "本例中，使用的是2013年1月份和2月份的数据"
   ]
  },
  {
   "cell_type": "code",
   "execution_count": 2,
   "metadata": {},
   "outputs": [],
   "source": [
    "# 加载数据\n",
    "dau = pd.read_csv('./data/ch7/section7-dau.csv')"
   ]
  },
  {
   "cell_type": "code",
   "execution_count": 3,
   "metadata": {},
   "outputs": [
    {
     "name": "stdout",
     "output_type": "stream",
     "text": [
      "<class 'pandas.core.frame.DataFrame'>\n",
      "RangeIndex: 48988 entries, 0 to 48987\n",
      "Data columns (total 5 columns):\n",
      "region_month    48988 non-null object\n",
      "region_day      48988 non-null object\n",
      "app_name        48988 non-null object\n",
      "user_id         48988 non-null int64\n",
      "device          48988 non-null object\n",
      "dtypes: int64(1), object(4)\n",
      "memory usage: 1.9+ MB\n"
     ]
    }
   ],
   "source": [
    "dau.info()"
   ]
  },
  {
   "cell_type": "code",
   "execution_count": 4,
   "metadata": {},
   "outputs": [
    {
     "data": {
      "text/html": [
       "<div>\n",
       "<style scoped>\n",
       "    .dataframe tbody tr th:only-of-type {\n",
       "        vertical-align: middle;\n",
       "    }\n",
       "\n",
       "    .dataframe tbody tr th {\n",
       "        vertical-align: top;\n",
       "    }\n",
       "\n",
       "    .dataframe thead th {\n",
       "        text-align: right;\n",
       "    }\n",
       "</style>\n",
       "<table border=\"1\" class=\"dataframe\">\n",
       "  <thead>\n",
       "    <tr style=\"text-align: right;\">\n",
       "      <th></th>\n",
       "      <th>region_month</th>\n",
       "      <th>region_day</th>\n",
       "      <th>app_name</th>\n",
       "      <th>user_id</th>\n",
       "      <th>device</th>\n",
       "    </tr>\n",
       "  </thead>\n",
       "  <tbody>\n",
       "    <tr>\n",
       "      <th>0</th>\n",
       "      <td>2013-01</td>\n",
       "      <td>2013-01-01</td>\n",
       "      <td>game-02</td>\n",
       "      <td>10061580</td>\n",
       "      <td>FP</td>\n",
       "    </tr>\n",
       "    <tr>\n",
       "      <th>1</th>\n",
       "      <td>2013-01</td>\n",
       "      <td>2013-01-01</td>\n",
       "      <td>game-02</td>\n",
       "      <td>10154440</td>\n",
       "      <td>FP</td>\n",
       "    </tr>\n",
       "    <tr>\n",
       "      <th>2</th>\n",
       "      <td>2013-01</td>\n",
       "      <td>2013-01-01</td>\n",
       "      <td>game-02</td>\n",
       "      <td>10164762</td>\n",
       "      <td>SP</td>\n",
       "    </tr>\n",
       "    <tr>\n",
       "      <th>3</th>\n",
       "      <td>2013-01</td>\n",
       "      <td>2013-01-01</td>\n",
       "      <td>game-02</td>\n",
       "      <td>10165615</td>\n",
       "      <td>FP</td>\n",
       "    </tr>\n",
       "    <tr>\n",
       "      <th>4</th>\n",
       "      <td>2013-01</td>\n",
       "      <td>2013-01-01</td>\n",
       "      <td>game-02</td>\n",
       "      <td>10321356</td>\n",
       "      <td>FP</td>\n",
       "    </tr>\n",
       "  </tbody>\n",
       "</table>\n",
       "</div>"
      ],
      "text/plain": [
       "  region_month  region_day app_name   user_id device\n",
       "0      2013-01  2013-01-01  game-02  10061580     FP\n",
       "1      2013-01  2013-01-01  game-02  10154440     FP\n",
       "2      2013-01  2013-01-01  game-02  10164762     SP\n",
       "3      2013-01  2013-01-01  game-02  10165615     FP\n",
       "4      2013-01  2013-01-01  game-02  10321356     FP"
      ]
     },
     "execution_count": 4,
     "metadata": {},
     "output_type": "execute_result"
    }
   ],
   "source": [
    "dau.head()"
   ]
  },
  {
   "cell_type": "code",
   "execution_count": 5,
   "metadata": {},
   "outputs": [
    {
     "data": {
      "text/plain": [
       "2013-01    25847\n",
       "2013-02    23141\n",
       "Name: region_month, dtype: int64"
      ]
     },
     "execution_count": 5,
     "metadata": {},
     "output_type": "execute_result"
    }
   ],
   "source": [
    "dau.region_month.value_counts()"
   ]
  },
  {
   "cell_type": "markdown",
   "metadata": {},
   "source": [
    "通过上述可知，一共有接近5万条数据，其中数据完整没有缺失值。1月份的数据有25847条，2月份的数据有23141条。\n",
    "\n",
    "各属性解释：\n",
    "- region_month：登录月份\n",
    "- region_day：登录日期\n",
    "- app_name：应用名称\n",
    "- user_id：用户id\n",
    "- device：设备类型（FP为非智能设备，SP为智能设备）"
   ]
  },
  {
   "cell_type": "markdown",
   "metadata": {},
   "source": [
    "## 5.3 数据加工"
   ]
  },
  {
   "cell_type": "markdown",
   "metadata": {},
   "source": [
    "逻辑回归分析所需的数据，如下所示：\n",
    "- **关于用户是否迁移到了其它账号的数据**\n",
    "- **关于用户是否每天访问游戏的数据（如下表所示）**\n",
    "\n",
    "|用户ID|1日|2日|······|31日|\n",
    "|---|---|---|---|---|\n",
    "|100|1|0|······|1|\n",
    "|101|1|1|······|0|\n",
    "|···|···|···|······|···|"
   ]
  },
  {
   "cell_type": "markdown",
   "metadata": {},
   "source": [
    "基于上表的数据，将其加工成适用于逻辑回归分析的数据形式。"
   ]
  },
  {
   "cell_type": "markdown",
   "metadata": {},
   "source": [
    "### 5.3.1 关于用户是否迁移到了其它账号的数据整理 "
   ]
  },
  {
   "cell_type": "markdown",
   "metadata": {},
   "source": [
    "首先，生成关于1月份非智能手机用户在2月份是否依然访问游戏的数据。\n",
    "\n",
    "用户登录情况：\n",
    "- 同一个月中，不同日期登录\n",
    "- 不同月中，不同日期登录\n",
    "- 不同月中，不同设备登录"
   ]
  },
  {
   "cell_type": "markdown",
   "metadata": {},
   "source": [
    "**按登录月份、用户ID、设备类型来统计用户**"
   ]
  },
  {
   "cell_type": "code",
   "execution_count": 6,
   "metadata": {},
   "outputs": [],
   "source": [
    "mau = dau.drop_duplicates(subset=['region_month', 'user_id', 'device'])[['region_month', 'user_id', 'device']]"
   ]
  },
  {
   "cell_type": "code",
   "execution_count": 7,
   "metadata": {},
   "outputs": [
    {
     "data": {
      "text/html": [
       "<div>\n",
       "<style scoped>\n",
       "    .dataframe tbody tr th:only-of-type {\n",
       "        vertical-align: middle;\n",
       "    }\n",
       "\n",
       "    .dataframe tbody tr th {\n",
       "        vertical-align: top;\n",
       "    }\n",
       "\n",
       "    .dataframe thead th {\n",
       "        text-align: right;\n",
       "    }\n",
       "</style>\n",
       "<table border=\"1\" class=\"dataframe\">\n",
       "  <thead>\n",
       "    <tr style=\"text-align: right;\">\n",
       "      <th></th>\n",
       "      <th>region_month</th>\n",
       "      <th>user_id</th>\n",
       "      <th>device</th>\n",
       "    </tr>\n",
       "  </thead>\n",
       "  <tbody>\n",
       "    <tr>\n",
       "      <th>0</th>\n",
       "      <td>2013-01</td>\n",
       "      <td>10061580</td>\n",
       "      <td>FP</td>\n",
       "    </tr>\n",
       "    <tr>\n",
       "      <th>1</th>\n",
       "      <td>2013-01</td>\n",
       "      <td>10154440</td>\n",
       "      <td>FP</td>\n",
       "    </tr>\n",
       "    <tr>\n",
       "      <th>2</th>\n",
       "      <td>2013-01</td>\n",
       "      <td>10164762</td>\n",
       "      <td>SP</td>\n",
       "    </tr>\n",
       "  </tbody>\n",
       "</table>\n",
       "</div>"
      ],
      "text/plain": [
       "  region_month   user_id device\n",
       "0      2013-01  10061580     FP\n",
       "1      2013-01  10154440     FP\n",
       "2      2013-01  10164762     SP"
      ]
     },
     "execution_count": 7,
     "metadata": {},
     "output_type": "execute_result"
    }
   ],
   "source": [
    "mau.head(3)"
   ]
  },
  {
   "cell_type": "markdown",
   "metadata": {},
   "source": [
    "**从mau中提取1月和2月非智能手机用户数据**"
   ]
  },
  {
   "cell_type": "code",
   "execution_count": 8,
   "metadata": {},
   "outputs": [],
   "source": [
    "fp_mau = mau[mau.device=='FP']\n",
    "fp_mau_1 = fp_mau.loc[fp_mau.region_month=='2013-01'].copy()\n",
    "fp_mau_2 = fp_mau.loc[fp_mau.region_month=='2013-02'].copy()"
   ]
  },
  {
   "cell_type": "markdown",
   "metadata": {},
   "source": [
    "**从mau中提取1月和2月智能手机用户数据**"
   ]
  },
  {
   "cell_type": "code",
   "execution_count": 9,
   "metadata": {},
   "outputs": [],
   "source": [
    "sp_mau = mau[mau.device=='SP']\n",
    "sp_mau_1 = sp_mau.loc[sp_mau.region_month=='2013-01'].copy()\n",
    "sp_mau_2 = sp_mau.loc[sp_mau.region_month=='2013-02'].copy()"
   ]
  },
  {
   "cell_type": "markdown",
   "metadata": {},
   "source": [
    "**Tips：**以上切片后使用copy()函数，是为了避免后面增加标志位时产生的**链式赋值**而产生的警告。"
   ]
  },
  {
   "cell_type": "markdown",
   "metadata": {},
   "source": [
    "**1月份非智能手机用户在2月份的访问情况**"
   ]
  },
  {
   "cell_type": "code",
   "execution_count": 10,
   "metadata": {},
   "outputs": [
    {
     "data": {
      "text/html": [
       "<div>\n",
       "<style scoped>\n",
       "    .dataframe tbody tr th:only-of-type {\n",
       "        vertical-align: middle;\n",
       "    }\n",
       "\n",
       "    .dataframe tbody tr th {\n",
       "        vertical-align: top;\n",
       "    }\n",
       "\n",
       "    .dataframe thead th {\n",
       "        text-align: right;\n",
       "    }\n",
       "</style>\n",
       "<table border=\"1\" class=\"dataframe\">\n",
       "  <thead>\n",
       "    <tr style=\"text-align: right;\">\n",
       "      <th></th>\n",
       "      <th>region_month</th>\n",
       "      <th>user_id</th>\n",
       "      <th>device</th>\n",
       "      <th>is_access</th>\n",
       "    </tr>\n",
       "  </thead>\n",
       "  <tbody>\n",
       "    <tr>\n",
       "      <th>0</th>\n",
       "      <td>2013-01</td>\n",
       "      <td>10061580</td>\n",
       "      <td>FP</td>\n",
       "      <td>1.0</td>\n",
       "    </tr>\n",
       "    <tr>\n",
       "      <th>1</th>\n",
       "      <td>2013-01</td>\n",
       "      <td>10154440</td>\n",
       "      <td>FP</td>\n",
       "      <td>0.0</td>\n",
       "    </tr>\n",
       "    <tr>\n",
       "      <th>2</th>\n",
       "      <td>2013-01</td>\n",
       "      <td>10165615</td>\n",
       "      <td>FP</td>\n",
       "      <td>1.0</td>\n",
       "    </tr>\n",
       "    <tr>\n",
       "      <th>3</th>\n",
       "      <td>2013-01</td>\n",
       "      <td>10321356</td>\n",
       "      <td>FP</td>\n",
       "      <td>1.0</td>\n",
       "    </tr>\n",
       "    <tr>\n",
       "      <th>4</th>\n",
       "      <td>2013-01</td>\n",
       "      <td>10447112</td>\n",
       "      <td>FP</td>\n",
       "      <td>1.0</td>\n",
       "    </tr>\n",
       "  </tbody>\n",
       "</table>\n",
       "</div>"
      ],
      "text/plain": [
       "  region_month   user_id device  is_access\n",
       "0      2013-01  10061580     FP        1.0\n",
       "1      2013-01  10154440     FP        0.0\n",
       "2      2013-01  10165615     FP        1.0\n",
       "3      2013-01  10321356     FP        1.0\n",
       "4      2013-01  10447112     FP        1.0"
      ]
     },
     "execution_count": 10,
     "metadata": {},
     "output_type": "execute_result"
    }
   ],
   "source": [
    "# 给mau添加一个is_access标志位，初始化位1，表示访问\n",
    "mau['is_access'] = 1\n",
    "# 将fp_mau_1和mau2月份的数据进行左合并\n",
    "fp_mau_1 = fp_mau_1.merge(mau[mau.region_month=='2013-02'][['user_id', 'is_access']], how='left', on='user_id')\n",
    "# # 将缺失值替换位0\n",
    "fp_mau_1.loc[fp_mau_1.is_access.isnull(), 'is_access'] = 0\n",
    "fp_mau_1.head()"
   ]
  },
  {
   "cell_type": "markdown",
   "metadata": {},
   "source": [
    "上表中的is_access属性，1表示1月份非智能手机用户在2月仍然有访问，0表示没有访问。"
   ]
  },
  {
   "cell_type": "markdown",
   "metadata": {},
   "source": [
    "**1月份非智能手机用户在2月份继续用非智能手机访问情况**"
   ]
  },
  {
   "cell_type": "code",
   "execution_count": 11,
   "metadata": {},
   "outputs": [
    {
     "data": {
      "text/html": [
       "<div>\n",
       "<style scoped>\n",
       "    .dataframe tbody tr th:only-of-type {\n",
       "        vertical-align: middle;\n",
       "    }\n",
       "\n",
       "    .dataframe tbody tr th {\n",
       "        vertical-align: top;\n",
       "    }\n",
       "\n",
       "    .dataframe thead th {\n",
       "        text-align: right;\n",
       "    }\n",
       "</style>\n",
       "<table border=\"1\" class=\"dataframe\">\n",
       "  <thead>\n",
       "    <tr style=\"text-align: right;\">\n",
       "      <th></th>\n",
       "      <th>region_month</th>\n",
       "      <th>user_id</th>\n",
       "      <th>device</th>\n",
       "      <th>is_access</th>\n",
       "      <th>is_fp</th>\n",
       "    </tr>\n",
       "  </thead>\n",
       "  <tbody>\n",
       "    <tr>\n",
       "      <th>0</th>\n",
       "      <td>2013-01</td>\n",
       "      <td>10061580</td>\n",
       "      <td>FP</td>\n",
       "      <td>1.0</td>\n",
       "      <td>1.0</td>\n",
       "    </tr>\n",
       "    <tr>\n",
       "      <th>1</th>\n",
       "      <td>2013-01</td>\n",
       "      <td>10154440</td>\n",
       "      <td>FP</td>\n",
       "      <td>0.0</td>\n",
       "      <td>0.0</td>\n",
       "    </tr>\n",
       "    <tr>\n",
       "      <th>2</th>\n",
       "      <td>2013-01</td>\n",
       "      <td>10165615</td>\n",
       "      <td>FP</td>\n",
       "      <td>1.0</td>\n",
       "      <td>1.0</td>\n",
       "    </tr>\n",
       "    <tr>\n",
       "      <th>3</th>\n",
       "      <td>2013-01</td>\n",
       "      <td>10321356</td>\n",
       "      <td>FP</td>\n",
       "      <td>1.0</td>\n",
       "      <td>1.0</td>\n",
       "    </tr>\n",
       "    <tr>\n",
       "      <th>4</th>\n",
       "      <td>2013-01</td>\n",
       "      <td>10447112</td>\n",
       "      <td>FP</td>\n",
       "      <td>1.0</td>\n",
       "      <td>1.0</td>\n",
       "    </tr>\n",
       "  </tbody>\n",
       "</table>\n",
       "</div>"
      ],
      "text/plain": [
       "  region_month   user_id device  is_access  is_fp\n",
       "0      2013-01  10061580     FP        1.0    1.0\n",
       "1      2013-01  10154440     FP        0.0    0.0\n",
       "2      2013-01  10165615     FP        1.0    1.0\n",
       "3      2013-01  10321356     FP        1.0    1.0\n",
       "4      2013-01  10447112     FP        1.0    1.0"
      ]
     },
     "execution_count": 11,
     "metadata": {},
     "output_type": "execute_result"
    }
   ],
   "source": [
    "# 给fp_mau_2添加一个is_fp标志位，初始化位1，表示非智能手机\n",
    "fp_mau_2['is_fp'] = 1\n",
    "# 将fp_mau_1和fp_mau_2进行左合并\n",
    "fp_mau_1 = fp_mau_1.merge(fp_mau_2[['user_id', 'is_fp']], how='left', on='user_id')\n",
    "# 将缺失值替换为0\n",
    "fp_mau_1.loc[fp_mau_1.is_fp.isnull(), 'is_fp']= 0\n",
    "fp_mau_1.head()"
   ]
  },
  {
   "cell_type": "markdown",
   "metadata": {},
   "source": [
    "**1月份非智能手机用户在2月份换用智能手机访问情况**"
   ]
  },
  {
   "cell_type": "code",
   "execution_count": 12,
   "metadata": {},
   "outputs": [
    {
     "data": {
      "text/html": [
       "<div>\n",
       "<style scoped>\n",
       "    .dataframe tbody tr th:only-of-type {\n",
       "        vertical-align: middle;\n",
       "    }\n",
       "\n",
       "    .dataframe tbody tr th {\n",
       "        vertical-align: top;\n",
       "    }\n",
       "\n",
       "    .dataframe thead th {\n",
       "        text-align: right;\n",
       "    }\n",
       "</style>\n",
       "<table border=\"1\" class=\"dataframe\">\n",
       "  <thead>\n",
       "    <tr style=\"text-align: right;\">\n",
       "      <th></th>\n",
       "      <th>region_month</th>\n",
       "      <th>user_id</th>\n",
       "      <th>device</th>\n",
       "      <th>is_access</th>\n",
       "      <th>is_fp</th>\n",
       "      <th>is_sp</th>\n",
       "    </tr>\n",
       "  </thead>\n",
       "  <tbody>\n",
       "    <tr>\n",
       "      <th>0</th>\n",
       "      <td>2013-01</td>\n",
       "      <td>10061580</td>\n",
       "      <td>FP</td>\n",
       "      <td>1.0</td>\n",
       "      <td>1.0</td>\n",
       "      <td>0.0</td>\n",
       "    </tr>\n",
       "    <tr>\n",
       "      <th>1</th>\n",
       "      <td>2013-01</td>\n",
       "      <td>10154440</td>\n",
       "      <td>FP</td>\n",
       "      <td>0.0</td>\n",
       "      <td>0.0</td>\n",
       "      <td>0.0</td>\n",
       "    </tr>\n",
       "    <tr>\n",
       "      <th>2</th>\n",
       "      <td>2013-01</td>\n",
       "      <td>10165615</td>\n",
       "      <td>FP</td>\n",
       "      <td>1.0</td>\n",
       "      <td>1.0</td>\n",
       "      <td>0.0</td>\n",
       "    </tr>\n",
       "    <tr>\n",
       "      <th>3</th>\n",
       "      <td>2013-01</td>\n",
       "      <td>10321356</td>\n",
       "      <td>FP</td>\n",
       "      <td>1.0</td>\n",
       "      <td>1.0</td>\n",
       "      <td>0.0</td>\n",
       "    </tr>\n",
       "    <tr>\n",
       "      <th>4</th>\n",
       "      <td>2013-01</td>\n",
       "      <td>10447112</td>\n",
       "      <td>FP</td>\n",
       "      <td>1.0</td>\n",
       "      <td>1.0</td>\n",
       "      <td>0.0</td>\n",
       "    </tr>\n",
       "  </tbody>\n",
       "</table>\n",
       "</div>"
      ],
      "text/plain": [
       "  region_month   user_id device  is_access  is_fp  is_sp\n",
       "0      2013-01  10061580     FP        1.0    1.0    0.0\n",
       "1      2013-01  10154440     FP        0.0    0.0    0.0\n",
       "2      2013-01  10165615     FP        1.0    1.0    0.0\n",
       "3      2013-01  10321356     FP        1.0    1.0    0.0\n",
       "4      2013-01  10447112     FP        1.0    1.0    0.0"
      ]
     },
     "execution_count": 12,
     "metadata": {},
     "output_type": "execute_result"
    }
   ],
   "source": [
    "#  给sp_mau_2添加一个is_sp标志位，初始化位1，表示智能手机\n",
    "sp_mau_2['is_sp'] = 1\n",
    "# fp_mau_1和sp_mau_2进行左合并\n",
    "fp_mau_1 = fp_mau_1.merge(sp_mau_2[['user_id', 'is_sp']], how='left', on='user_id')\n",
    "# 将缺失值替换为0\n",
    "fp_mau_1.loc[fp_mau_1.is_sp.isnull(), 'is_sp'] = 0\n",
    "fp_mau_1.head()"
   ]
  },
  {
   "cell_type": "markdown",
   "metadata": {},
   "source": [
    "此时，我们需要建立一个判别模型，用来判断哪些非智能手机用户下个月是会通过智能手机访问还是会流失。在这个过程中，下个月继续使用非智能手机访问的用户数据对于建立模型没有什么作用，将其过滤掉："
   ]
  },
  {
   "cell_type": "code",
   "execution_count": 13,
   "metadata": {},
   "outputs": [
    {
     "data": {
      "text/html": [
       "<div>\n",
       "<style scoped>\n",
       "    .dataframe tbody tr th:only-of-type {\n",
       "        vertical-align: middle;\n",
       "    }\n",
       "\n",
       "    .dataframe tbody tr th {\n",
       "        vertical-align: top;\n",
       "    }\n",
       "\n",
       "    .dataframe thead th {\n",
       "        text-align: right;\n",
       "    }\n",
       "</style>\n",
       "<table border=\"1\" class=\"dataframe\">\n",
       "  <thead>\n",
       "    <tr style=\"text-align: right;\">\n",
       "      <th></th>\n",
       "      <th>region_month</th>\n",
       "      <th>user_id</th>\n",
       "      <th>device</th>\n",
       "      <th>is_access</th>\n",
       "      <th>is_fp</th>\n",
       "      <th>is_sp</th>\n",
       "    </tr>\n",
       "  </thead>\n",
       "  <tbody>\n",
       "    <tr>\n",
       "      <th>1</th>\n",
       "      <td>2013-01</td>\n",
       "      <td>10154440</td>\n",
       "      <td>FP</td>\n",
       "      <td>0.0</td>\n",
       "      <td>0.0</td>\n",
       "      <td>0.0</td>\n",
       "    </tr>\n",
       "    <tr>\n",
       "      <th>7</th>\n",
       "      <td>2013-01</td>\n",
       "      <td>10528830</td>\n",
       "      <td>FP</td>\n",
       "      <td>0.0</td>\n",
       "      <td>0.0</td>\n",
       "      <td>0.0</td>\n",
       "    </tr>\n",
       "    <tr>\n",
       "      <th>20</th>\n",
       "      <td>2013-01</td>\n",
       "      <td>1163733</td>\n",
       "      <td>FP</td>\n",
       "      <td>1.0</td>\n",
       "      <td>0.0</td>\n",
       "      <td>1.0</td>\n",
       "    </tr>\n",
       "    <tr>\n",
       "      <th>21</th>\n",
       "      <td>2013-01</td>\n",
       "      <td>11727630</td>\n",
       "      <td>FP</td>\n",
       "      <td>0.0</td>\n",
       "      <td>0.0</td>\n",
       "      <td>0.0</td>\n",
       "    </tr>\n",
       "    <tr>\n",
       "      <th>43</th>\n",
       "      <td>2013-01</td>\n",
       "      <td>13401362</td>\n",
       "      <td>FP</td>\n",
       "      <td>1.0</td>\n",
       "      <td>0.0</td>\n",
       "      <td>1.0</td>\n",
       "    </tr>\n",
       "  </tbody>\n",
       "</table>\n",
       "</div>"
      ],
      "text/plain": [
       "   region_month   user_id device  is_access  is_fp  is_sp\n",
       "1       2013-01  10154440     FP        0.0    0.0    0.0\n",
       "7       2013-01  10528830     FP        0.0    0.0    0.0\n",
       "20      2013-01   1163733     FP        1.0    0.0    1.0\n",
       "21      2013-01  11727630     FP        0.0    0.0    0.0\n",
       "43      2013-01  13401362     FP        1.0    0.0    1.0"
      ]
     },
     "execution_count": 13,
     "metadata": {},
     "output_type": "execute_result"
    }
   ],
   "source": [
    "# 1月份使用非智能手机访问但是2月份停止访问的用户或2月份使用智能手机访问的用户\n",
    "fp_mau_1 = fp_mau_1.loc[(fp_mau_1.is_access==0) | (fp_mau_1.is_sp==1)].copy()\n",
    "fp_mau_1.head()"
   ]
  },
  {
   "cell_type": "markdown",
   "metadata": {},
   "source": [
    "这时的fp_mau_1就是可以用于逻辑回归分析的数据形式了。"
   ]
  },
  {
   "cell_type": "markdown",
   "metadata": {},
   "source": [
    "### 5.3.2  关于每天是否登录游戏的数据的整理"
   ]
  },
  {
   "cell_type": "markdown",
   "metadata": {},
   "source": [
    "现在需要对每个用户每天的访问情况进行加工处理。原始dau的region_day属性记录了每个用户每天登录情况，但是其格式不符合我们的需求。\n",
    "\n",
    "dau中的数据格式如下：\n",
    "\n",
    "|region_day|user_id|\n",
    "|---|---|\n",
    "|2013-01-01|10061580|\n",
    "|2013-01-02|10061580|\n",
    "|······|······|\n",
    "|2013-01-31|10061580|\n",
    "\n",
    "我们需要的格式如下：\n",
    "\n",
    "|user_id|1|2|······|31|\n",
    "|---|---|---|---|---|\n",
    "|10061580|1|1|······|0|\n",
    "|······|······|······|······|······|"
   ]
  },
  {
   "cell_type": "markdown",
   "metadata": {},
   "source": [
    "**对1月份非智能手机用户日访问数据进行加工**"
   ]
  },
  {
   "cell_type": "code",
   "execution_count": 14,
   "metadata": {},
   "outputs": [
    {
     "data": {
      "text/html": [
       "<div>\n",
       "<style scoped>\n",
       "    .dataframe tbody tr th:only-of-type {\n",
       "        vertical-align: middle;\n",
       "    }\n",
       "\n",
       "    .dataframe tbody tr th {\n",
       "        vertical-align: top;\n",
       "    }\n",
       "\n",
       "    .dataframe thead th {\n",
       "        text-align: right;\n",
       "    }\n",
       "</style>\n",
       "<table border=\"1\" class=\"dataframe\">\n",
       "  <thead>\n",
       "    <tr style=\"text-align: right;\">\n",
       "      <th></th>\n",
       "      <th>user_id</th>\n",
       "      <th>region_day</th>\n",
       "    </tr>\n",
       "  </thead>\n",
       "  <tbody>\n",
       "    <tr>\n",
       "      <th>0</th>\n",
       "      <td>10061580</td>\n",
       "      <td>2013-01-01</td>\n",
       "    </tr>\n",
       "    <tr>\n",
       "      <th>1</th>\n",
       "      <td>10154440</td>\n",
       "      <td>2013-01-01</td>\n",
       "    </tr>\n",
       "    <tr>\n",
       "      <th>3</th>\n",
       "      <td>10165615</td>\n",
       "      <td>2013-01-01</td>\n",
       "    </tr>\n",
       "    <tr>\n",
       "      <th>4</th>\n",
       "      <td>10321356</td>\n",
       "      <td>2013-01-01</td>\n",
       "    </tr>\n",
       "    <tr>\n",
       "      <th>6</th>\n",
       "      <td>10447112</td>\n",
       "      <td>2013-01-01</td>\n",
       "    </tr>\n",
       "  </tbody>\n",
       "</table>\n",
       "</div>"
      ],
      "text/plain": [
       "    user_id  region_day\n",
       "0  10061580  2013-01-01\n",
       "1  10154440  2013-01-01\n",
       "3  10165615  2013-01-01\n",
       "4  10321356  2013-01-01\n",
       "6  10447112  2013-01-01"
      ]
     },
     "execution_count": 14,
     "metadata": {},
     "output_type": "execute_result"
    }
   ],
   "source": [
    "# 提取1月份非智能手机用户数据\n",
    "fp_dau_1 = dau[(dau.device=='FP') & (dau.region_month=='2013-01')][['user_id', 'region_day']]\n",
    "fp_dau_1.head()"
   ]
  },
  {
   "cell_type": "code",
   "execution_count": 15,
   "metadata": {},
   "outputs": [
    {
     "data": {
      "text/html": [
       "<div>\n",
       "<style scoped>\n",
       "    .dataframe tbody tr th:only-of-type {\n",
       "        vertical-align: middle;\n",
       "    }\n",
       "\n",
       "    .dataframe tbody tr th {\n",
       "        vertical-align: top;\n",
       "    }\n",
       "\n",
       "    .dataframe thead th {\n",
       "        text-align: right;\n",
       "    }\n",
       "</style>\n",
       "<table border=\"1\" class=\"dataframe\">\n",
       "  <thead>\n",
       "    <tr style=\"text-align: right;\">\n",
       "      <th></th>\n",
       "      <th>user_id</th>\n",
       "      <th>region_day</th>\n",
       "    </tr>\n",
       "  </thead>\n",
       "  <tbody>\n",
       "    <tr>\n",
       "      <th>0</th>\n",
       "      <td>10061580</td>\n",
       "      <td>1</td>\n",
       "    </tr>\n",
       "    <tr>\n",
       "      <th>1</th>\n",
       "      <td>10154440</td>\n",
       "      <td>1</td>\n",
       "    </tr>\n",
       "    <tr>\n",
       "      <th>3</th>\n",
       "      <td>10165615</td>\n",
       "      <td>1</td>\n",
       "    </tr>\n",
       "    <tr>\n",
       "      <th>4</th>\n",
       "      <td>10321356</td>\n",
       "      <td>1</td>\n",
       "    </tr>\n",
       "    <tr>\n",
       "      <th>6</th>\n",
       "      <td>10447112</td>\n",
       "      <td>1</td>\n",
       "    </tr>\n",
       "  </tbody>\n",
       "</table>\n",
       "</div>"
      ],
      "text/plain": [
       "    user_id  region_day\n",
       "0  10061580           1\n",
       "1  10154440           1\n",
       "3  10165615           1\n",
       "4  10321356           1\n",
       "6  10447112           1"
      ]
     },
     "execution_count": 15,
     "metadata": {},
     "output_type": "execute_result"
    }
   ],
   "source": [
    "# 将region_day属性转换为日期格式并提取day\n",
    "fp_dau_1['region_day'] = pd.to_datetime(fp_dau_1.region_day)\n",
    "# 提取region_day属性的day\n",
    "fp_dau_1['region_day'] = fp_dau_1.region_day.dt.day\n",
    "fp_dau_1.head()"
   ]
  },
  {
   "cell_type": "code",
   "execution_count": 16,
   "metadata": {},
   "outputs": [
    {
     "data": {
      "text/html": [
       "<div>\n",
       "<style scoped>\n",
       "    .dataframe tbody tr th:only-of-type {\n",
       "        vertical-align: middle;\n",
       "    }\n",
       "\n",
       "    .dataframe tbody tr th {\n",
       "        vertical-align: top;\n",
       "    }\n",
       "\n",
       "    .dataframe thead th {\n",
       "        text-align: right;\n",
       "    }\n",
       "</style>\n",
       "<table border=\"1\" class=\"dataframe\">\n",
       "  <thead>\n",
       "    <tr style=\"text-align: right;\">\n",
       "      <th>region_day</th>\n",
       "      <th>1</th>\n",
       "      <th>2</th>\n",
       "      <th>3</th>\n",
       "      <th>4</th>\n",
       "      <th>5</th>\n",
       "      <th>6</th>\n",
       "      <th>7</th>\n",
       "      <th>8</th>\n",
       "      <th>9</th>\n",
       "      <th>10</th>\n",
       "      <th>...</th>\n",
       "      <th>22</th>\n",
       "      <th>23</th>\n",
       "      <th>24</th>\n",
       "      <th>25</th>\n",
       "      <th>26</th>\n",
       "      <th>27</th>\n",
       "      <th>28</th>\n",
       "      <th>29</th>\n",
       "      <th>30</th>\n",
       "      <th>31</th>\n",
       "    </tr>\n",
       "    <tr>\n",
       "      <th>user_id</th>\n",
       "      <th></th>\n",
       "      <th></th>\n",
       "      <th></th>\n",
       "      <th></th>\n",
       "      <th></th>\n",
       "      <th></th>\n",
       "      <th></th>\n",
       "      <th></th>\n",
       "      <th></th>\n",
       "      <th></th>\n",
       "      <th></th>\n",
       "      <th></th>\n",
       "      <th></th>\n",
       "      <th></th>\n",
       "      <th></th>\n",
       "      <th></th>\n",
       "      <th></th>\n",
       "      <th></th>\n",
       "      <th></th>\n",
       "      <th></th>\n",
       "      <th></th>\n",
       "    </tr>\n",
       "  </thead>\n",
       "  <tbody>\n",
       "    <tr>\n",
       "      <th>397286</th>\n",
       "      <td>1.0</td>\n",
       "      <td>1.0</td>\n",
       "      <td>1.0</td>\n",
       "      <td>1.0</td>\n",
       "      <td>1.0</td>\n",
       "      <td>1.0</td>\n",
       "      <td>1.0</td>\n",
       "      <td>1.0</td>\n",
       "      <td>1.0</td>\n",
       "      <td>1.0</td>\n",
       "      <td>...</td>\n",
       "      <td>1.0</td>\n",
       "      <td>1.0</td>\n",
       "      <td>1.0</td>\n",
       "      <td>1.0</td>\n",
       "      <td>1.0</td>\n",
       "      <td>1.0</td>\n",
       "      <td>1.0</td>\n",
       "      <td>1.0</td>\n",
       "      <td>1.0</td>\n",
       "      <td>1.0</td>\n",
       "    </tr>\n",
       "    <tr>\n",
       "      <th>471341</th>\n",
       "      <td>1.0</td>\n",
       "      <td>1.0</td>\n",
       "      <td>1.0</td>\n",
       "      <td>1.0</td>\n",
       "      <td>0.0</td>\n",
       "      <td>0.0</td>\n",
       "      <td>0.0</td>\n",
       "      <td>0.0</td>\n",
       "      <td>0.0</td>\n",
       "      <td>0.0</td>\n",
       "      <td>...</td>\n",
       "      <td>0.0</td>\n",
       "      <td>0.0</td>\n",
       "      <td>0.0</td>\n",
       "      <td>0.0</td>\n",
       "      <td>0.0</td>\n",
       "      <td>0.0</td>\n",
       "      <td>0.0</td>\n",
       "      <td>0.0</td>\n",
       "      <td>0.0</td>\n",
       "      <td>0.0</td>\n",
       "    </tr>\n",
       "    <tr>\n",
       "      <th>503874</th>\n",
       "      <td>1.0</td>\n",
       "      <td>0.0</td>\n",
       "      <td>0.0</td>\n",
       "      <td>0.0</td>\n",
       "      <td>0.0</td>\n",
       "      <td>0.0</td>\n",
       "      <td>0.0</td>\n",
       "      <td>0.0</td>\n",
       "      <td>0.0</td>\n",
       "      <td>0.0</td>\n",
       "      <td>...</td>\n",
       "      <td>0.0</td>\n",
       "      <td>0.0</td>\n",
       "      <td>0.0</td>\n",
       "      <td>0.0</td>\n",
       "      <td>0.0</td>\n",
       "      <td>0.0</td>\n",
       "      <td>0.0</td>\n",
       "      <td>0.0</td>\n",
       "      <td>0.0</td>\n",
       "      <td>0.0</td>\n",
       "    </tr>\n",
       "    <tr>\n",
       "      <th>512250</th>\n",
       "      <td>1.0</td>\n",
       "      <td>1.0</td>\n",
       "      <td>1.0</td>\n",
       "      <td>1.0</td>\n",
       "      <td>1.0</td>\n",
       "      <td>1.0</td>\n",
       "      <td>1.0</td>\n",
       "      <td>1.0</td>\n",
       "      <td>1.0</td>\n",
       "      <td>1.0</td>\n",
       "      <td>...</td>\n",
       "      <td>1.0</td>\n",
       "      <td>1.0</td>\n",
       "      <td>1.0</td>\n",
       "      <td>1.0</td>\n",
       "      <td>1.0</td>\n",
       "      <td>1.0</td>\n",
       "      <td>1.0</td>\n",
       "      <td>1.0</td>\n",
       "      <td>1.0</td>\n",
       "      <td>1.0</td>\n",
       "    </tr>\n",
       "    <tr>\n",
       "      <th>513811</th>\n",
       "      <td>0.0</td>\n",
       "      <td>0.0</td>\n",
       "      <td>0.0</td>\n",
       "      <td>0.0</td>\n",
       "      <td>0.0</td>\n",
       "      <td>0.0</td>\n",
       "      <td>0.0</td>\n",
       "      <td>0.0</td>\n",
       "      <td>0.0</td>\n",
       "      <td>0.0</td>\n",
       "      <td>...</td>\n",
       "      <td>1.0</td>\n",
       "      <td>0.0</td>\n",
       "      <td>0.0</td>\n",
       "      <td>0.0</td>\n",
       "      <td>0.0</td>\n",
       "      <td>0.0</td>\n",
       "      <td>1.0</td>\n",
       "      <td>1.0</td>\n",
       "      <td>0.0</td>\n",
       "      <td>1.0</td>\n",
       "    </tr>\n",
       "  </tbody>\n",
       "</table>\n",
       "<p>5 rows × 31 columns</p>\n",
       "</div>"
      ],
      "text/plain": [
       "region_day   1    2    3    4    5    6    7    8    9    10 ...    22   23  \\\n",
       "user_id                                                      ...              \n",
       "397286      1.0  1.0  1.0  1.0  1.0  1.0  1.0  1.0  1.0  1.0 ...   1.0  1.0   \n",
       "471341      1.0  1.0  1.0  1.0  0.0  0.0  0.0  0.0  0.0  0.0 ...   0.0  0.0   \n",
       "503874      1.0  0.0  0.0  0.0  0.0  0.0  0.0  0.0  0.0  0.0 ...   0.0  0.0   \n",
       "512250      1.0  1.0  1.0  1.0  1.0  1.0  1.0  1.0  1.0  1.0 ...   1.0  1.0   \n",
       "513811      0.0  0.0  0.0  0.0  0.0  0.0  0.0  0.0  0.0  0.0 ...   1.0  0.0   \n",
       "\n",
       "region_day   24   25   26   27   28   29   30   31  \n",
       "user_id                                             \n",
       "397286      1.0  1.0  1.0  1.0  1.0  1.0  1.0  1.0  \n",
       "471341      0.0  0.0  0.0  0.0  0.0  0.0  0.0  0.0  \n",
       "503874      0.0  0.0  0.0  0.0  0.0  0.0  0.0  0.0  \n",
       "512250      1.0  1.0  1.0  1.0  1.0  1.0  1.0  1.0  \n",
       "513811      0.0  0.0  0.0  0.0  1.0  1.0  0.0  1.0  \n",
       "\n",
       "[5 rows x 31 columns]"
      ]
     },
     "execution_count": 16,
     "metadata": {},
     "output_type": "execute_result"
    }
   ],
   "source": [
    "#  按照user_id和region_day对数据进行聚合，并统计uer_id个数（作为是否登录标志）\n",
    "fp_dau_1 = fp_dau_1.groupby(['user_id', 'region_day'])['user_id'].agg('count').unstack()\n",
    "# 将缺失值替换为0\n",
    "fp_dau_1.fillna(value=0, inplace=True)\n",
    "fp_dau_1.head()"
   ]
  },
  {
   "cell_type": "markdown",
   "metadata": {},
   "source": [
    "fp_dau_1中包含有1月份使用非智能手机在2月份继续使用非智能手机的日访问数据。所以在和fp_mau_1进行合并时，需要使用**内合并**。"
   ]
  },
  {
   "cell_type": "code",
   "execution_count": 17,
   "metadata": {},
   "outputs": [
    {
     "data": {
      "text/html": [
       "<div>\n",
       "<style scoped>\n",
       "    .dataframe tbody tr th:only-of-type {\n",
       "        vertical-align: middle;\n",
       "    }\n",
       "\n",
       "    .dataframe tbody tr th {\n",
       "        vertical-align: top;\n",
       "    }\n",
       "\n",
       "    .dataframe thead th {\n",
       "        text-align: right;\n",
       "    }\n",
       "</style>\n",
       "<table border=\"1\" class=\"dataframe\">\n",
       "  <thead>\n",
       "    <tr style=\"text-align: right;\">\n",
       "      <th></th>\n",
       "      <th>user_id</th>\n",
       "      <th>1</th>\n",
       "      <th>2</th>\n",
       "      <th>3</th>\n",
       "      <th>4</th>\n",
       "      <th>5</th>\n",
       "      <th>6</th>\n",
       "      <th>7</th>\n",
       "      <th>8</th>\n",
       "      <th>9</th>\n",
       "      <th>...</th>\n",
       "      <th>23</th>\n",
       "      <th>24</th>\n",
       "      <th>25</th>\n",
       "      <th>26</th>\n",
       "      <th>27</th>\n",
       "      <th>28</th>\n",
       "      <th>29</th>\n",
       "      <th>30</th>\n",
       "      <th>31</th>\n",
       "      <th>is_sp</th>\n",
       "    </tr>\n",
       "  </thead>\n",
       "  <tbody>\n",
       "    <tr>\n",
       "      <th>0</th>\n",
       "      <td>471341</td>\n",
       "      <td>1.0</td>\n",
       "      <td>1.0</td>\n",
       "      <td>1.0</td>\n",
       "      <td>1.0</td>\n",
       "      <td>0.0</td>\n",
       "      <td>0.0</td>\n",
       "      <td>0.0</td>\n",
       "      <td>0.0</td>\n",
       "      <td>0.0</td>\n",
       "      <td>...</td>\n",
       "      <td>0.0</td>\n",
       "      <td>0.0</td>\n",
       "      <td>0.0</td>\n",
       "      <td>0.0</td>\n",
       "      <td>0.0</td>\n",
       "      <td>0.0</td>\n",
       "      <td>0.0</td>\n",
       "      <td>0.0</td>\n",
       "      <td>0.0</td>\n",
       "      <td>1.0</td>\n",
       "    </tr>\n",
       "    <tr>\n",
       "      <th>1</th>\n",
       "      <td>503874</td>\n",
       "      <td>1.0</td>\n",
       "      <td>0.0</td>\n",
       "      <td>0.0</td>\n",
       "      <td>0.0</td>\n",
       "      <td>0.0</td>\n",
       "      <td>0.0</td>\n",
       "      <td>0.0</td>\n",
       "      <td>0.0</td>\n",
       "      <td>0.0</td>\n",
       "      <td>...</td>\n",
       "      <td>0.0</td>\n",
       "      <td>0.0</td>\n",
       "      <td>0.0</td>\n",
       "      <td>0.0</td>\n",
       "      <td>0.0</td>\n",
       "      <td>0.0</td>\n",
       "      <td>0.0</td>\n",
       "      <td>0.0</td>\n",
       "      <td>0.0</td>\n",
       "      <td>0.0</td>\n",
       "    </tr>\n",
       "    <tr>\n",
       "      <th>2</th>\n",
       "      <td>1073544</td>\n",
       "      <td>0.0</td>\n",
       "      <td>0.0</td>\n",
       "      <td>0.0</td>\n",
       "      <td>0.0</td>\n",
       "      <td>0.0</td>\n",
       "      <td>0.0</td>\n",
       "      <td>0.0</td>\n",
       "      <td>0.0</td>\n",
       "      <td>0.0</td>\n",
       "      <td>...</td>\n",
       "      <td>1.0</td>\n",
       "      <td>1.0</td>\n",
       "      <td>1.0</td>\n",
       "      <td>0.0</td>\n",
       "      <td>0.0</td>\n",
       "      <td>0.0</td>\n",
       "      <td>0.0</td>\n",
       "      <td>0.0</td>\n",
       "      <td>0.0</td>\n",
       "      <td>0.0</td>\n",
       "    </tr>\n",
       "    <tr>\n",
       "      <th>3</th>\n",
       "      <td>1073864</td>\n",
       "      <td>0.0</td>\n",
       "      <td>0.0</td>\n",
       "      <td>0.0</td>\n",
       "      <td>0.0</td>\n",
       "      <td>0.0</td>\n",
       "      <td>0.0</td>\n",
       "      <td>0.0</td>\n",
       "      <td>0.0</td>\n",
       "      <td>0.0</td>\n",
       "      <td>...</td>\n",
       "      <td>0.0</td>\n",
       "      <td>0.0</td>\n",
       "      <td>0.0</td>\n",
       "      <td>0.0</td>\n",
       "      <td>0.0</td>\n",
       "      <td>0.0</td>\n",
       "      <td>0.0</td>\n",
       "      <td>0.0</td>\n",
       "      <td>0.0</td>\n",
       "      <td>0.0</td>\n",
       "    </tr>\n",
       "    <tr>\n",
       "      <th>4</th>\n",
       "      <td>1163733</td>\n",
       "      <td>1.0</td>\n",
       "      <td>1.0</td>\n",
       "      <td>0.0</td>\n",
       "      <td>0.0</td>\n",
       "      <td>0.0</td>\n",
       "      <td>0.0</td>\n",
       "      <td>0.0</td>\n",
       "      <td>0.0</td>\n",
       "      <td>0.0</td>\n",
       "      <td>...</td>\n",
       "      <td>1.0</td>\n",
       "      <td>1.0</td>\n",
       "      <td>1.0</td>\n",
       "      <td>1.0</td>\n",
       "      <td>1.0</td>\n",
       "      <td>1.0</td>\n",
       "      <td>0.0</td>\n",
       "      <td>0.0</td>\n",
       "      <td>0.0</td>\n",
       "      <td>1.0</td>\n",
       "    </tr>\n",
       "  </tbody>\n",
       "</table>\n",
       "<p>5 rows × 33 columns</p>\n",
       "</div>"
      ],
      "text/plain": [
       "   user_id    1    2    3    4    5    6    7    8    9  ...     23   24   25  \\\n",
       "0   471341  1.0  1.0  1.0  1.0  0.0  0.0  0.0  0.0  0.0  ...    0.0  0.0  0.0   \n",
       "1   503874  1.0  0.0  0.0  0.0  0.0  0.0  0.0  0.0  0.0  ...    0.0  0.0  0.0   \n",
       "2  1073544  0.0  0.0  0.0  0.0  0.0  0.0  0.0  0.0  0.0  ...    1.0  1.0  1.0   \n",
       "3  1073864  0.0  0.0  0.0  0.0  0.0  0.0  0.0  0.0  0.0  ...    0.0  0.0  0.0   \n",
       "4  1163733  1.0  1.0  0.0  0.0  0.0  0.0  0.0  0.0  0.0  ...    1.0  1.0  1.0   \n",
       "\n",
       "    26   27   28   29   30   31  is_sp  \n",
       "0  0.0  0.0  0.0  0.0  0.0  0.0    1.0  \n",
       "1  0.0  0.0  0.0  0.0  0.0  0.0    0.0  \n",
       "2  0.0  0.0  0.0  0.0  0.0  0.0    0.0  \n",
       "3  0.0  0.0  0.0  0.0  0.0  0.0    0.0  \n",
       "4  1.0  1.0  1.0  0.0  0.0  0.0    1.0  \n",
       "\n",
       "[5 rows x 33 columns]"
      ]
     },
     "execution_count": 17,
     "metadata": {},
     "output_type": "execute_result"
    }
   ],
   "source": [
    "# 将fp_dau_1和fp_mau_1数据进行内合并\n",
    "fp_dau_1_cast = fp_dau_1.merge(fp_mau_1[['user_id', 'is_sp']], how='inner', on='user_id')\n",
    "fp_dau_1_cast.head()"
   ]
  },
  {
   "cell_type": "code",
   "execution_count": 19,
   "metadata": {},
   "outputs": [
    {
     "data": {
      "text/plain": [
       "0.0    190\n",
       "1.0     62\n",
       "Name: is_sp, dtype: int64"
      ]
     },
     "execution_count": 19,
     "metadata": {},
     "output_type": "execute_result"
    }
   ],
   "source": [
    "fp_dau_1_cast.is_sp.value_counts()"
   ]
  },
  {
   "cell_type": "markdown",
   "metadata": {},
   "source": [
    "经确认，标记为“0”的用户有190名，标记为“1”的用户有62名，共计252名。"
   ]
  },
  {
   "cell_type": "markdown",
   "metadata": {},
   "source": [
    "# 6 验证是否能够建立模型"
   ]
  },
  {
   "cell_type": "markdown",
   "metadata": {},
   "source": [
    "在本例中，基于1月份31天的访问数据来创建一个计算2月份账号迁转概率的模型。建立这样的预测模型的情况下，分为大体上两部分，建立模型和验证模型：\n",
    "- **使用现有数据进行逻辑回归分析并建立预测模型。**\n",
    "- **为了验证所得到预测模型的可信度，需要将模型的预测值和实际数据进行对比**\n",
    "\n",
    "本例中，模型索要预测的时“下月账号迁转的概率”，预测值大于0.5时，表示下月用户账号发生迁移，而小于0.5时则表示用户流失。"
   ]
  },
  {
   "cell_type": "markdown",
   "metadata": {},
   "source": [
    "## 6.1 使用逻辑回归来建立模型 "
   ]
  },
  {
   "cell_type": "markdown",
   "metadata": {},
   "source": [
    "在本例中，自变量指的是过去1月（31天）的访问情况，但是这样变量的个数有些过多，为了得到更加合适的模型，需要按照某种标准对变量进行选择。选择变量的方法有很多种，一般经常使用一种名为AIC（赤池信息量准则）的指标。基于这个指标来选择变量并生成模型，如下所示：\n",
    "\n",
    "这里选择X1day（1/1）、X4day（1/4）、X5day（1/5）、X7day（1/7）、X10day（1/10）、X13day（1/13）、X22day（1/22）、X29day(1/29)、X31day（1/31）9个变量。\n",
    "\n",
    "**AIC具体用python如何操作，还没找到方法，先按照书籍手动选择如上9个特征**。"
   ]
  },
  {
   "cell_type": "code",
   "execution_count": null,
   "metadata": {},
   "outputs": [],
   "source": [
    "# 按照上述9个变量重构fp_dau_1_cast\n",
    "re_fp_dau = fp_dau_1_cast.reindex(columns=['is_sp', 1, 4, 5, 7, 10, 13, 22, 29, 31])\n",
    "re_fp_dau.rename(columns={1: 'X1day', 4: 'X4day', 5: 'X5day', 7: 'X7day', 10: 'X10day', 13: 'X13day', 22: 'X22day', 29: 'X29day', 31: 'X31day'}, inplace=True)\n",
    "re_fp_dau.head()"
   ]
  },
  {
   "cell_type": "markdown",
   "metadata": {},
   "source": [
    "**使用重构后的fp_dau_1_cast，即re_fp_dau来构建罗建回归模型**"
   ]
  },
  {
   "cell_type": "code",
   "execution_count": null,
   "metadata": {},
   "outputs": [],
   "source": [
    "# 划分训练集特征值和标签\n",
    "X_train = re_fp_dau.values[:, 1:]\n",
    "y_triain = re_fp_dau.values[:, 0]\n",
    "# 初始化逻辑回归模型\n",
    "clf = LogisticRegression(solver='liblinear', C=1.0, penalty='l1', tol=1e-6)\n",
    "# 使用（X_train, y_train）来训练模型\n",
    "clf.fit(X_train, y_triain)"
   ]
  },
  {
   "cell_type": "markdown",
   "metadata": {},
   "source": [
    "**关联模型系数和对应特征**"
   ]
  },
  {
   "cell_type": "code",
   "execution_count": null,
   "metadata": {},
   "outputs": [],
   "source": [
    "# 将回归系数和对应特征关联起来\n",
    "coef_feature = pd.DataFrame({'coef': list(clf.coef_)[0], 'feature': re_fp_dau.iloc[:, 1:].columns})\n",
    "coef_feature"
   ]
  },
  {
   "cell_type": "markdown",
   "metadata": {},
   "source": [
    "通过观察，发现X5day和X10day的系数为负数（是一个负相关）。如果直观的解释，那就是”如果5日和10日没来访问的话，那么下月（2月）账号就会发生迁移“，意思有些莫名其妙。出现这种情况是由于自变量之间存在着相关性，把这种现象称为多重共线性。\n",
    "\n",
    "当出现多重共线性时，上述基于系数的讨论就没有什么意义了。而且这种情况下得到的模型和不稳定，无法进行长期预测。一般来说此时就需要做进一步的变量选择以及增加交互作用等，以便得到再现性更强的模型。\n",
    "\n",
    "然而，本例中，是否能够建立模型才是我们所关注的，所以暂时不需要进行上述工作。这次建立的模型并不一定要长期有效，只要能够在本例中使用即可，也就是所谓的一次性模型。\n",
    "\n",
    "由于从一开始就没有包含正解的数据，因此就不用再拘泥于模型的精度或者是再现性。综上，建立的模型至少再本案例中不存在使用上的问题，可以用这个模型继续下面的工作。"
   ]
  },
  {
   "cell_type": "markdown",
   "metadata": {},
   "source": [
    "## 6.2 使用模型进行预测"
   ]
  },
  {
   "cell_type": "markdown",
   "metadata": {},
   "source": [
    "**用得到的模型来预测（训练集自身？）结果：**"
   ]
  },
  {
   "cell_type": "code",
   "execution_count": null,
   "metadata": {},
   "outputs": [],
   "source": [
    "# 在训练集上直接进行预测\n",
    "prob = clf.predict_proba(X_train)\n",
    "prob.shape"
   ]
  },
  {
   "cell_type": "markdown",
   "metadata": {},
   "source": [
    "predict_proba()函数的返回结果是每条记录根据模型拟合后各个标签（**标签经过升序排序**）发生的概率。\n",
    "\n",
    "例如，本例中标签取值0和1，则返回结果则是每条记录经过模型拟合后其取值为0的概率和取值为1的概率。结果是形状为(252, 2)的数组。第一列为取值为0的概率，第二列为取值为1的概率。"
   ]
  },
  {
   "cell_type": "code",
   "execution_count": null,
   "metadata": {},
   "outputs": [],
   "source": [
    "# 取出取值为1的概率列\n",
    "prob_1 = prob[:, 1:]\n",
    "# 将该属性新增到fp_dau_1_cast中\n",
    "fp_dau_1_cast['prob_1'] = prob_1\n",
    "fp_dau_1_cast.head()"
   ]
  },
  {
   "cell_type": "markdown",
   "metadata": {},
   "source": [
    "根据prob_1属性来生成预测值（实际上可以用clf.predict()直接拿到预测值，这里为了学习clf.predict_proba()函数），当这个值大于0.5时取1（账号迁转），小于0.5时取0（用户流失）："
   ]
  },
  {
   "cell_type": "code",
   "execution_count": null,
   "metadata": {
    "scrolled": false
   },
   "outputs": [],
   "source": [
    "# fp_dau_1_cast添加pred属性\n",
    "fp_dau_1_cast['pred'] = np.where(fp_dau_1_cast.prob_1>0.5, 1, 0)\n",
    "fp_dau_1_cast.head()"
   ]
  },
  {
   "cell_type": "markdown",
   "metadata": {},
   "source": [
    "到目前为止，收集了分析所需的每个用户账号的各种信息。\n",
    "- 1月份用户的日访问情况：当前有访问设置为1，没有访问设置为0\n",
    "- 计算is_sp属性的值：过滤掉1月份使用非智能手机在2月份继续使用非智能手机的用户\n",
    "- 计算prob_1属性的值：用训练得到的模型在训练集上进行预测，并抽取标签取值为1（账号迁转）的概率\n",
    "- 以0.5为基准，将prob_1属性离散为0（用户流失）和1（账号迁转）"
   ]
  },
  {
   "cell_type": "markdown",
   "metadata": {},
   "source": [
    "这里使用最后一列属性pred来对模型的可信度进行验证。确认预测值和实际值之间差异的方法有很多种，本例使用的是交叉统计表。"
   ]
  },
  {
   "cell_type": "code",
   "execution_count": null,
   "metadata": {},
   "outputs": [],
   "source": [
    "# 生成实际值和预测值的交叉统计表\n",
    "is_sp_cross_pred = pd.crosstab(index=fp_dau_1_cast.is_sp, \n",
    "                               columns=fp_dau_1_cast.pred, \n",
    "                               rownames=['实际值'], \n",
    "                               colnames=['预测值'], \n",
    "                               aggfunc='count',\n",
    "                               values=fp_dau_1_cast.user_id, \n",
    "                               margins=True,\n",
    "                               margins_name='总计'\n",
    "                              )\n",
    "is_sp_cross_pred.rename(index={0.0: '用户流失', 1.0: '账号迁转'}, columns={0: '用户流失', 1: '账号迁转'}, inplace=True)\n",
    "is_sp_cross_pred"
   ]
  },
  {
   "cell_type": "markdown",
   "metadata": {},
   "source": [
    "由上表可知：\n",
    "- 模型预测为”用户流失“的用户有185名，而这185名用户确实不再来了。\n",
    "- 模型预测为”用户流失“但实际上用户进行了”账号迁转“的用户有24名。\n",
    "- 模型预测为”账号迁转“的用户有38名，而着38名用户确实进行了账号迁转。\n",
    "- 模型预测为”账号迁转“但实际上”用户流失“的用户有5名。\n",
    "\n",
    "预测的准确率为$\\frac{185+38}{185+5+24+38}=88\\%$\n",
    "\n",
    "这个准确率比较高，基本可以认为得到了一个值得信赖的预测模型。然而在实际使用中，直接使用上述模型是不行的，还需要通过交叉验证的方法来做进一步验证。"
   ]
  },
  {
   "cell_type": "markdown",
   "metadata": {},
   "source": [
    "## 6.3 根据预测结果推测用户群"
   ]
  },
  {
   "cell_type": "markdown",
   "metadata": {},
   "source": [
    "由上述交叉表可知，该模型中预测值为”1“（账号迁转）而实际流失的用户有5名，可以认为这些人是因为账号迁转失败而流失的。\n",
    "\n",
    "也就是说，根据过去访问情况推测出用户应该会在装好迁转设定后继续使用，但实际上这群流失的用户由于账号迁转失败而不再访问游戏了。"
   ]
  },
  {
   "cell_type": "markdown",
   "metadata": {},
   "source": [
    "**查看预测为\"账号迁转\"实际也为\"账号迁转\"的38名用户的实际情况**"
   ]
  },
  {
   "cell_type": "code",
   "execution_count": null,
   "metadata": {},
   "outputs": [],
   "source": [
    "# 查看is_sp为1且pred为1用户情况\n",
    "fp_dau_1_cast1 = fp_dau_1_cast.loc[(fp_dau_1_cast.is_sp==1.0) & (fp_dau_1_cast.pred==1)].copy()\n",
    "# 按prob_1降序排序\n",
    "fp_dau_1_cast1.sort_values(by='prob_1', ascending=False, inplace=True)\n",
    "fp_dau_1_cast1.head()"
   ]
  },
  {
   "cell_type": "markdown",
   "metadata": {},
   "source": [
    "上述结果出现的两条重复记录是因为该用户在2月份先使用非智能手机访问后，再使用智能手机访问。\n",
    "\n",
    "数据中预测值和实际值都为”1“的用户确实仍在频繁的访问游戏。"
   ]
  },
  {
   "cell_type": "markdown",
   "metadata": {},
   "source": [
    "**查看预测为\"账号迁转\"实际为\"用户流失\"的5名用户事实情况**"
   ]
  },
  {
   "cell_type": "code",
   "execution_count": null,
   "metadata": {
    "scrolled": true
   },
   "outputs": [],
   "source": [
    "# 查看is_sp为0且pred为1用户情况\n",
    "fp_dau_1_cast2 = fp_dau_1_cast.loc[(fp_dau_1_cast.is_sp==0) & (fp_dau_1_cast.pred==1)].copy()\n",
    "# 按照prob_1降序排列\n",
    "fp_dau_1_cast2.sort_values(by='prob_1', ascending=False, inplace=True)\n",
    "fp_dau_1_cast2.head()"
   ]
  },
  {
   "cell_type": "markdown",
   "metadata": {},
   "source": [
    "数据中”1“出现的次数很多，这表明大多数用户在1月份还是很频繁的访问游戏。这5名用户在这段时间内对游戏仍有很强烈的兴趣，不太可能因为兴趣变淡了而不再访问游戏。所以，这类用户很可能就是因为**账号迁转太麻烦而放弃了游戏**。"
   ]
  },
  {
   "cell_type": "markdown",
   "metadata": {},
   "source": [
    "**查看预测为\"用户流失\"实际也为\"用户流失\"的185名用户实际情况**"
   ]
  },
  {
   "cell_type": "code",
   "execution_count": null,
   "metadata": {},
   "outputs": [],
   "source": [
    "# 查看is_sp为0且pred为0的用户情况\n",
    "fp_dau_1_cast3 = fp_dau_1_cast.loc[(fp_dau_1_cast.is_sp==0) & (fp_dau_1_cast.pred==0)].copy()\n",
    "# 按照prob_1降序排序\n",
    "fp_dau_1_cast3.sort_values(by='prob_1', ascending=False, inplace=True)\n",
    "fp_dau_1_cast3.head()"
   ]
  },
  {
   "cell_type": "markdown",
   "metadata": {},
   "source": [
    "由上表可知，这类用户已经不怎么来访问游戏了，他们对游戏的兴趣在逐渐的降低，因此也就慢慢的不再来访问了。\n",
    "\n",
    "**通过上述内容可以看出，本例中建立的模型可信度较高，也就是说当初建立的假设“账号迁转设定失败而导致的用户流失”的影响较小，从实际人数上来看也只有5名用户。**"
   ]
  },
  {
   "cell_type": "markdown",
   "metadata": {},
   "source": [
    "# 7 解决对策"
   ]
  },
  {
   "cell_type": "markdown",
   "metadata": {},
   "source": [
    "整个分析过程如下：\n",
    "- **事实：**\n",
    "    - 非智能手机用户量的减少比智能手机用户量的增加要大\n",
    "    - 当用户从非智能手机换到智能手机后，重新注册游戏账号的用户数量很少（从问卷调查中得出的结论）\n",
    "- **假设：**\n",
    "    - 从非智能手机更换到智能手机时，游戏账号的迁转设定失败导致了用户流失\n",
    "- **基于分析方法和结果而采取的解决对策：**\n",
    "    - 使用用户访问情况数据来建立“账号迁转”和“用户流失”的判别模型\n",
    "        - **能够建立有效模型：**因游戏账号迁转设定失败而导致的用户流失的影响较小$\\Rightarrow $改进面向智能手机新用户的商业宣传\n",
    "        - **不能建立有效的模型：**因游戏账号迁转设定失败而导致的用户流失的影响较大$\\Rightarrow $简化游戏账号的迁转设定"
   ]
  },
  {
   "cell_type": "markdown",
   "metadata": {},
   "source": [
    "假设为“在智能手机上游戏账号迁转设定失败导致流失的用户很多”，而根据分析结果，因账号迁转设定失败而流失的用户占整体流失用户的比例很小。因此，可以改进面向智能手机新用户的商业宣传。"
   ]
  }
 ],
 "metadata": {
  "kernelspec": {
   "display_name": "Analysis",
   "language": "python",
   "name": "analysis"
  },
  "language_info": {
   "codemirror_mode": {
    "name": "ipython",
    "version": 3
   },
   "file_extension": ".py",
   "mimetype": "text/x-python",
   "name": "python",
   "nbconvert_exporter": "python",
   "pygments_lexer": "ipython3",
   "version": "3.6.0"
  },
  "toc": {
   "base_numbering": 1,
   "nav_menu": {},
   "number_sections": false,
   "sideBar": true,
   "skip_h1_title": false,
   "title_cell": "Table of Contents",
   "title_sidebar": "Contents",
   "toc_cell": false,
   "toc_position": {},
   "toc_section_display": true,
   "toc_window_display": true
  }
 },
 "nbformat": 4,
 "nbformat_minor": 2
}
