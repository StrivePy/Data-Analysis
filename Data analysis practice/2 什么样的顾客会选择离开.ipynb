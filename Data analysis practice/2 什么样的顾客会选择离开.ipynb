{
 "cells": [
  {
   "cell_type": "markdown",
   "metadata": {},
   "source": [
    "# 什么样的顾客会选择离开（探索型数据分析）"
   ]
  },
  {
   "cell_type": "markdown",
   "metadata": {},
   "source": [
    "## 1 背景 "
   ]
  },
  {
   "cell_type": "markdown",
   "metadata": {},
   "source": [
    "一款名为《黑猫拼图》的游戏，和上月相比，本月的游戏用户数量减少了很多。但是，和上月相比，本月的商业宣传和月度活动并没有明显变化。因此，需要调查用户大量减少的原因并改善这种情况，该怎么做呢？"
   ]
  },
  {
   "cell_type": "markdown",
   "metadata": {},
   "source": [
    "## 2 现状和预期"
   ]
  },
  {
   "cell_type": "markdown",
   "metadata": {},
   "source": [
    "- **现状：和上月相比，本月的游戏用户数减少了很多**\n",
    "- **前提：和上月相比，本月的商业宣传和月度活动无明显变化**\n",
    "- **预期：将用户数量恢复到上月同等水平**"
   ]
  },
  {
   "cell_type": "markdown",
   "metadata": {},
   "source": [
    "## 3 发现问题"
   ]
  },
  {
   "cell_type": "markdown",
   "metadata": {},
   "source": [
    "为了明确现状和预期的差距，需要弄清楚本月和上月有哪些不同。此时，需要从宏观而不是具体数据来考虑问题的可能性。可以和市场部与研发部沟通，最后得到如下两个关键信息：\n",
    "- **和上月相比，本月的商业宣传活动无明显变化，新增用户数也大致保持在相同的水平**\n",
    "- **和上月相比，开展的游戏活动无明显变化** "
   ]
  },
  {
   "cell_type": "markdown",
   "metadata": {},
   "source": [
    "基于上述两个关键信息，发现外部的关键因素并没有导致游戏用户数量的波动，那么**假设**：**是否是某种属性（性别、年龄等）的用户群体数量减少了。**"
   ]
  },
  {
   "cell_type": "markdown",
   "metadata": {},
   "source": [
    "**所以解决问题的方法就是探索是否是某种用户群体的数量减少了**"
   ]
  },
  {
   "cell_type": "markdown",
   "metadata": {},
   "source": [
    "## 4 数据收集和加工"
   ]
  },
  {
   "cell_type": "markdown",
   "metadata": {},
   "source": [
    "基于问题来搜集数据，问题：\n",
    "- **和上月相比，本月的用户数量减少了（事实）**\n",
    "- **某些用户群体出现了问题（假设）**"
   ]
  },
  {
   "cell_type": "markdown",
   "metadata": {},
   "source": [
    "基于上述假设，为了加快问题解决，整理分析过程：\n",
    "- **《黑猫拼图》游戏的用户数量和上月相比减少了（事实）**\n",
    "- **某些用户群体的用户数量减少了（假设）**\n",
    "- **针对该用户群体指定具体的解决方案，将用户数量恢复到上月同等水平（解决方案）**"
   ]
  },
  {
   "cell_type": "markdown",
   "metadata": {},
   "source": [
    "为了探索某些用户群体出现了问题这个假设，需要搜集以下数据：\n",
    "- **DAU(Daily Active User)：每日至少访问游戏一次的用户数量**\n",
    "- **user_info：用户属性数据（用户id、性别、年龄等等）**"
   ]
  },
  {
   "cell_type": "markdown",
   "metadata": {},
   "source": [
    "### 4.1 数据处理和可视化工具准备"
   ]
  },
  {
   "cell_type": "code",
   "execution_count": 61,
   "metadata": {},
   "outputs": [],
   "source": [
    "import numpy as np\n",
    "import pandas as pd \n",
    "import matplotlib.pyplot as plt\n",
    "%matplotlib inline\n",
    "plt.rcParams['font.sans-serif'] = ['SimHei']\n",
    "plt.rcParams['axes.unicode_minus'] = False"
   ]
  },
  {
   "cell_type": "markdown",
   "metadata": {},
   "source": [
    "### 4.2 数据搜集"
   ]
  },
  {
   "cell_type": "code",
   "execution_count": 62,
   "metadata": {},
   "outputs": [
    {
     "data": {
      "text/html": [
       "<div>\n",
       "<style scoped>\n",
       "    .dataframe tbody tr th:only-of-type {\n",
       "        vertical-align: middle;\n",
       "    }\n",
       "\n",
       "    .dataframe tbody tr th {\n",
       "        vertical-align: top;\n",
       "    }\n",
       "\n",
       "    .dataframe thead th {\n",
       "        text-align: right;\n",
       "    }\n",
       "</style>\n",
       "<table border=\"1\" class=\"dataframe\">\n",
       "  <thead>\n",
       "    <tr style=\"text-align: right;\">\n",
       "      <th></th>\n",
       "      <th>log_date</th>\n",
       "      <th>app_name</th>\n",
       "      <th>user_id</th>\n",
       "    </tr>\n",
       "  </thead>\n",
       "  <tbody>\n",
       "    <tr>\n",
       "      <th>0</th>\n",
       "      <td>2013-08-01</td>\n",
       "      <td>game-01</td>\n",
       "      <td>33754</td>\n",
       "    </tr>\n",
       "    <tr>\n",
       "      <th>1</th>\n",
       "      <td>2013-08-01</td>\n",
       "      <td>game-01</td>\n",
       "      <td>28598</td>\n",
       "    </tr>\n",
       "    <tr>\n",
       "      <th>2</th>\n",
       "      <td>2013-08-01</td>\n",
       "      <td>game-01</td>\n",
       "      <td>30306</td>\n",
       "    </tr>\n",
       "    <tr>\n",
       "      <th>3</th>\n",
       "      <td>2013-08-01</td>\n",
       "      <td>game-01</td>\n",
       "      <td>117</td>\n",
       "    </tr>\n",
       "    <tr>\n",
       "      <th>4</th>\n",
       "      <td>2013-08-01</td>\n",
       "      <td>game-01</td>\n",
       "      <td>6605</td>\n",
       "    </tr>\n",
       "  </tbody>\n",
       "</table>\n",
       "</div>"
      ],
      "text/plain": [
       "     log_date app_name  user_id\n",
       "0  2013-08-01  game-01    33754\n",
       "1  2013-08-01  game-01    28598\n",
       "2  2013-08-01  game-01    30306\n",
       "3  2013-08-01  game-01      117\n",
       "4  2013-08-01  game-01     6605"
      ]
     },
     "execution_count": 62,
     "metadata": {},
     "output_type": "execute_result"
    }
   ],
   "source": [
    "# 加载DAU数据\n",
    "dau = pd.read_csv('./data/ch4/section4-dau.csv')\n",
    "dau.head()"
   ]
  },
  {
   "cell_type": "code",
   "execution_count": 63,
   "metadata": {},
   "outputs": [
    {
     "data": {
      "text/html": [
       "<div>\n",
       "<style scoped>\n",
       "    .dataframe tbody tr th:only-of-type {\n",
       "        vertical-align: middle;\n",
       "    }\n",
       "\n",
       "    .dataframe tbody tr th {\n",
       "        vertical-align: top;\n",
       "    }\n",
       "\n",
       "    .dataframe thead th {\n",
       "        text-align: right;\n",
       "    }\n",
       "</style>\n",
       "<table border=\"1\" class=\"dataframe\">\n",
       "  <thead>\n",
       "    <tr style=\"text-align: right;\">\n",
       "      <th></th>\n",
       "      <th>install_date</th>\n",
       "      <th>app_name</th>\n",
       "      <th>user_id</th>\n",
       "      <th>gender</th>\n",
       "      <th>generation</th>\n",
       "      <th>device_type</th>\n",
       "    </tr>\n",
       "  </thead>\n",
       "  <tbody>\n",
       "    <tr>\n",
       "      <th>0</th>\n",
       "      <td>2013-04-15</td>\n",
       "      <td>game-01</td>\n",
       "      <td>1</td>\n",
       "      <td>M</td>\n",
       "      <td>40</td>\n",
       "      <td>iOS</td>\n",
       "    </tr>\n",
       "    <tr>\n",
       "      <th>1</th>\n",
       "      <td>2013-04-15</td>\n",
       "      <td>game-01</td>\n",
       "      <td>2</td>\n",
       "      <td>M</td>\n",
       "      <td>10</td>\n",
       "      <td>Android</td>\n",
       "    </tr>\n",
       "    <tr>\n",
       "      <th>2</th>\n",
       "      <td>2013-04-15</td>\n",
       "      <td>game-01</td>\n",
       "      <td>3</td>\n",
       "      <td>F</td>\n",
       "      <td>40</td>\n",
       "      <td>iOS</td>\n",
       "    </tr>\n",
       "    <tr>\n",
       "      <th>3</th>\n",
       "      <td>2013-04-15</td>\n",
       "      <td>game-01</td>\n",
       "      <td>4</td>\n",
       "      <td>M</td>\n",
       "      <td>10</td>\n",
       "      <td>Android</td>\n",
       "    </tr>\n",
       "    <tr>\n",
       "      <th>4</th>\n",
       "      <td>2013-04-15</td>\n",
       "      <td>game-01</td>\n",
       "      <td>5</td>\n",
       "      <td>M</td>\n",
       "      <td>40</td>\n",
       "      <td>iOS</td>\n",
       "    </tr>\n",
       "  </tbody>\n",
       "</table>\n",
       "</div>"
      ],
      "text/plain": [
       "  install_date app_name  user_id gender  generation device_type\n",
       "0   2013-04-15  game-01        1      M          40         iOS\n",
       "1   2013-04-15  game-01        2      M          10     Android\n",
       "2   2013-04-15  game-01        3      F          40         iOS\n",
       "3   2013-04-15  game-01        4      M          10     Android\n",
       "4   2013-04-15  game-01        5      M          40         iOS"
      ]
     },
     "execution_count": 63,
     "metadata": {},
     "output_type": "execute_result"
    }
   ],
   "source": [
    "# 加载user_info数据\n",
    "user_info = pd.read_csv('./data/ch4/section4-user_info.csv')\n",
    "user_info.head()"
   ]
  },
  {
   "cell_type": "markdown",
   "metadata": {},
   "source": [
    "### 4.3 数据加工"
   ]
  },
  {
   "cell_type": "markdown",
   "metadata": {},
   "source": [
    "在探索型数据分析中，大多是将某个状态的数据（**结果数据**）和用户属性（**原因数据**）结合起来，从而得到哪种属性（**原因**）导致哪种状态（**结果**）。因此需要将DAU（**DAU的用户id是user_info的用户id的子集**）和user_info两张表合并起来，得到每日访问用户的具体属性数据。"
   ]
  },
  {
   "cell_type": "code",
   "execution_count": 64,
   "metadata": {},
   "outputs": [
    {
     "data": {
      "text/html": [
       "<div>\n",
       "<style scoped>\n",
       "    .dataframe tbody tr th:only-of-type {\n",
       "        vertical-align: middle;\n",
       "    }\n",
       "\n",
       "    .dataframe tbody tr th {\n",
       "        vertical-align: top;\n",
       "    }\n",
       "\n",
       "    .dataframe thead th {\n",
       "        text-align: right;\n",
       "    }\n",
       "</style>\n",
       "<table border=\"1\" class=\"dataframe\">\n",
       "  <thead>\n",
       "    <tr style=\"text-align: right;\">\n",
       "      <th></th>\n",
       "      <th>log_date</th>\n",
       "      <th>app_name</th>\n",
       "      <th>user_id</th>\n",
       "      <th>install_date</th>\n",
       "      <th>gender</th>\n",
       "      <th>generation</th>\n",
       "      <th>device_type</th>\n",
       "    </tr>\n",
       "  </thead>\n",
       "  <tbody>\n",
       "    <tr>\n",
       "      <th>0</th>\n",
       "      <td>2013-08-01</td>\n",
       "      <td>game-01</td>\n",
       "      <td>33754</td>\n",
       "      <td>2013-08-01</td>\n",
       "      <td>M</td>\n",
       "      <td>20</td>\n",
       "      <td>iOS</td>\n",
       "    </tr>\n",
       "    <tr>\n",
       "      <th>1</th>\n",
       "      <td>2013-08-02</td>\n",
       "      <td>game-01</td>\n",
       "      <td>33754</td>\n",
       "      <td>2013-08-01</td>\n",
       "      <td>M</td>\n",
       "      <td>20</td>\n",
       "      <td>iOS</td>\n",
       "    </tr>\n",
       "    <tr>\n",
       "      <th>2</th>\n",
       "      <td>2013-08-01</td>\n",
       "      <td>game-01</td>\n",
       "      <td>28598</td>\n",
       "      <td>2013-07-16</td>\n",
       "      <td>M</td>\n",
       "      <td>50</td>\n",
       "      <td>iOS</td>\n",
       "    </tr>\n",
       "    <tr>\n",
       "      <th>3</th>\n",
       "      <td>2013-08-04</td>\n",
       "      <td>game-01</td>\n",
       "      <td>28598</td>\n",
       "      <td>2013-07-16</td>\n",
       "      <td>M</td>\n",
       "      <td>50</td>\n",
       "      <td>iOS</td>\n",
       "    </tr>\n",
       "    <tr>\n",
       "      <th>4</th>\n",
       "      <td>2013-08-12</td>\n",
       "      <td>game-01</td>\n",
       "      <td>28598</td>\n",
       "      <td>2013-07-16</td>\n",
       "      <td>M</td>\n",
       "      <td>50</td>\n",
       "      <td>iOS</td>\n",
       "    </tr>\n",
       "  </tbody>\n",
       "</table>\n",
       "</div>"
      ],
      "text/plain": [
       "     log_date app_name  user_id install_date gender  generation device_type\n",
       "0  2013-08-01  game-01    33754   2013-08-01      M          20         iOS\n",
       "1  2013-08-02  game-01    33754   2013-08-01      M          20         iOS\n",
       "2  2013-08-01  game-01    28598   2013-07-16      M          50         iOS\n",
       "3  2013-08-04  game-01    28598   2013-07-16      M          50         iOS\n",
       "4  2013-08-12  game-01    28598   2013-07-16      M          50         iOS"
      ]
     },
     "execution_count": 64,
     "metadata": {},
     "output_type": "execute_result"
    }
   ],
   "source": [
    "dau_user_info = pd.merge(dau, user_info, left_on=['user_id', 'app_name'], right_on=['user_id', 'app_name'])\n",
    "dau_user_info.head()"
   ]
  },
  {
   "cell_type": "markdown",
   "metadata": {},
   "source": [
    "将列重新排序，方便查看："
   ]
  },
  {
   "cell_type": "code",
   "execution_count": 65,
   "metadata": {},
   "outputs": [
    {
     "data": {
      "text/html": [
       "<div>\n",
       "<style scoped>\n",
       "    .dataframe tbody tr th:only-of-type {\n",
       "        vertical-align: middle;\n",
       "    }\n",
       "\n",
       "    .dataframe tbody tr th {\n",
       "        vertical-align: top;\n",
       "    }\n",
       "\n",
       "    .dataframe thead th {\n",
       "        text-align: right;\n",
       "    }\n",
       "</style>\n",
       "<table border=\"1\" class=\"dataframe\">\n",
       "  <thead>\n",
       "    <tr style=\"text-align: right;\">\n",
       "      <th></th>\n",
       "      <th>user_id</th>\n",
       "      <th>gender</th>\n",
       "      <th>generation</th>\n",
       "      <th>app_name</th>\n",
       "      <th>log_date</th>\n",
       "      <th>install_date</th>\n",
       "      <th>device_type</th>\n",
       "    </tr>\n",
       "  </thead>\n",
       "  <tbody>\n",
       "    <tr>\n",
       "      <th>0</th>\n",
       "      <td>33754</td>\n",
       "      <td>M</td>\n",
       "      <td>20</td>\n",
       "      <td>game-01</td>\n",
       "      <td>2013-08-01</td>\n",
       "      <td>2013-08-01</td>\n",
       "      <td>iOS</td>\n",
       "    </tr>\n",
       "    <tr>\n",
       "      <th>1</th>\n",
       "      <td>33754</td>\n",
       "      <td>M</td>\n",
       "      <td>20</td>\n",
       "      <td>game-01</td>\n",
       "      <td>2013-08-02</td>\n",
       "      <td>2013-08-01</td>\n",
       "      <td>iOS</td>\n",
       "    </tr>\n",
       "    <tr>\n",
       "      <th>2</th>\n",
       "      <td>28598</td>\n",
       "      <td>M</td>\n",
       "      <td>50</td>\n",
       "      <td>game-01</td>\n",
       "      <td>2013-08-01</td>\n",
       "      <td>2013-07-16</td>\n",
       "      <td>iOS</td>\n",
       "    </tr>\n",
       "    <tr>\n",
       "      <th>3</th>\n",
       "      <td>28598</td>\n",
       "      <td>M</td>\n",
       "      <td>50</td>\n",
       "      <td>game-01</td>\n",
       "      <td>2013-08-04</td>\n",
       "      <td>2013-07-16</td>\n",
       "      <td>iOS</td>\n",
       "    </tr>\n",
       "    <tr>\n",
       "      <th>4</th>\n",
       "      <td>28598</td>\n",
       "      <td>M</td>\n",
       "      <td>50</td>\n",
       "      <td>game-01</td>\n",
       "      <td>2013-08-12</td>\n",
       "      <td>2013-07-16</td>\n",
       "      <td>iOS</td>\n",
       "    </tr>\n",
       "  </tbody>\n",
       "</table>\n",
       "</div>"
      ],
      "text/plain": [
       "   user_id gender  generation app_name    log_date install_date device_type\n",
       "0    33754      M          20  game-01  2013-08-01   2013-08-01         iOS\n",
       "1    33754      M          20  game-01  2013-08-02   2013-08-01         iOS\n",
       "2    28598      M          50  game-01  2013-08-01   2013-07-16         iOS\n",
       "3    28598      M          50  game-01  2013-08-04   2013-07-16         iOS\n",
       "4    28598      M          50  game-01  2013-08-12   2013-07-16         iOS"
      ]
     },
     "execution_count": 65,
     "metadata": {},
     "output_type": "execute_result"
    }
   ],
   "source": [
    "dau_user_info = dau_user_info.reindex(columns=['user_id', 'gender', 'generation', 'app_name', 'log_date', 'install_date', 'device_type'])\n",
    "dau_user_info_back = dau_user_info.copy()\n",
    "dau_user_info.head()"
   ]
  },
  {
   "cell_type": "markdown",
   "metadata": {},
   "source": [
    "将log_date和install_date都处理为**%Y-%m**格式，方便分组统计："
   ]
  },
  {
   "cell_type": "code",
   "execution_count": 66,
   "metadata": {},
   "outputs": [
    {
     "data": {
      "text/html": [
       "<div>\n",
       "<style scoped>\n",
       "    .dataframe tbody tr th:only-of-type {\n",
       "        vertical-align: middle;\n",
       "    }\n",
       "\n",
       "    .dataframe tbody tr th {\n",
       "        vertical-align: top;\n",
       "    }\n",
       "\n",
       "    .dataframe thead th {\n",
       "        text-align: right;\n",
       "    }\n",
       "</style>\n",
       "<table border=\"1\" class=\"dataframe\">\n",
       "  <thead>\n",
       "    <tr style=\"text-align: right;\">\n",
       "      <th></th>\n",
       "      <th>user_id</th>\n",
       "      <th>gender</th>\n",
       "      <th>generation</th>\n",
       "      <th>app_name</th>\n",
       "      <th>log_date</th>\n",
       "      <th>install_date</th>\n",
       "      <th>device_type</th>\n",
       "    </tr>\n",
       "  </thead>\n",
       "  <tbody>\n",
       "    <tr>\n",
       "      <th>0</th>\n",
       "      <td>33754</td>\n",
       "      <td>M</td>\n",
       "      <td>20</td>\n",
       "      <td>game-01</td>\n",
       "      <td>2013-08</td>\n",
       "      <td>2013-08</td>\n",
       "      <td>iOS</td>\n",
       "    </tr>\n",
       "    <tr>\n",
       "      <th>1</th>\n",
       "      <td>33754</td>\n",
       "      <td>M</td>\n",
       "      <td>20</td>\n",
       "      <td>game-01</td>\n",
       "      <td>2013-08</td>\n",
       "      <td>2013-08</td>\n",
       "      <td>iOS</td>\n",
       "    </tr>\n",
       "    <tr>\n",
       "      <th>2</th>\n",
       "      <td>28598</td>\n",
       "      <td>M</td>\n",
       "      <td>50</td>\n",
       "      <td>game-01</td>\n",
       "      <td>2013-08</td>\n",
       "      <td>2013-07</td>\n",
       "      <td>iOS</td>\n",
       "    </tr>\n",
       "    <tr>\n",
       "      <th>3</th>\n",
       "      <td>28598</td>\n",
       "      <td>M</td>\n",
       "      <td>50</td>\n",
       "      <td>game-01</td>\n",
       "      <td>2013-08</td>\n",
       "      <td>2013-07</td>\n",
       "      <td>iOS</td>\n",
       "    </tr>\n",
       "    <tr>\n",
       "      <th>4</th>\n",
       "      <td>28598</td>\n",
       "      <td>M</td>\n",
       "      <td>50</td>\n",
       "      <td>game-01</td>\n",
       "      <td>2013-08</td>\n",
       "      <td>2013-07</td>\n",
       "      <td>iOS</td>\n",
       "    </tr>\n",
       "  </tbody>\n",
       "</table>\n",
       "</div>"
      ],
      "text/plain": [
       "   user_id gender  generation app_name log_date install_date device_type\n",
       "0    33754      M          20  game-01  2013-08      2013-08         iOS\n",
       "1    33754      M          20  game-01  2013-08      2013-08         iOS\n",
       "2    28598      M          50  game-01  2013-08      2013-07         iOS\n",
       "3    28598      M          50  game-01  2013-08      2013-07         iOS\n",
       "4    28598      M          50  game-01  2013-08      2013-07         iOS"
      ]
     },
     "execution_count": 66,
     "metadata": {},
     "output_type": "execute_result"
    }
   ],
   "source": [
    "dau_user_info['log_date'] = pd.to_datetime(dau_user_info.log_date).dt.strftime('%Y-%m')\n",
    "dau_user_info['install_date'] = pd.to_datetime(dau_user_info.install_date).dt.strftime('%Y-%m')\n",
    "dau_user_info.head()"
   ]
  },
  {
   "cell_type": "markdown",
   "metadata": {},
   "source": [
    "## 5 数据分析"
   ]
  },
  {
   "cell_type": "markdown",
   "metadata": {},
   "source": [
    "为了弄清哪种属性的用户群体数量减少了，可以对数据进行交叉列表统计，如果发现可能是问题原因的属性，就将其可视化。"
   ]
  },
  {
   "cell_type": "markdown",
   "metadata": {},
   "source": [
    "### 5.1 根据性别进行用户分群"
   ]
  },
  {
   "cell_type": "code",
   "execution_count": 67,
   "metadata": {},
   "outputs": [
    {
     "data": {
      "text/html": [
       "<div>\n",
       "<style scoped>\n",
       "    .dataframe tbody tr th:only-of-type {\n",
       "        vertical-align: middle;\n",
       "    }\n",
       "\n",
       "    .dataframe tbody tr th {\n",
       "        vertical-align: top;\n",
       "    }\n",
       "\n",
       "    .dataframe thead th {\n",
       "        text-align: right;\n",
       "    }\n",
       "</style>\n",
       "<table border=\"1\" class=\"dataframe\">\n",
       "  <thead>\n",
       "    <tr style=\"text-align: right;\">\n",
       "      <th>性别</th>\n",
       "      <th>女性</th>\n",
       "      <th>男性</th>\n",
       "    </tr>\n",
       "    <tr>\n",
       "      <th>访问月份</th>\n",
       "      <th></th>\n",
       "      <th></th>\n",
       "    </tr>\n",
       "  </thead>\n",
       "  <tbody>\n",
       "    <tr>\n",
       "      <th>2013-08</th>\n",
       "      <td>47343</td>\n",
       "      <td>46842</td>\n",
       "    </tr>\n",
       "    <tr>\n",
       "      <th>2013-09</th>\n",
       "      <td>38027</td>\n",
       "      <td>38148</td>\n",
       "    </tr>\n",
       "  </tbody>\n",
       "</table>\n",
       "</div>"
      ],
      "text/plain": [
       "性别          女性     男性\n",
       "访问月份                 \n",
       "2013-08  47343  46842\n",
       "2013-09  38027  38148"
      ]
     },
     "execution_count": 67,
     "metadata": {},
     "output_type": "execute_result"
    }
   ],
   "source": [
    "group_sex = pd.crosstab(index=dau_user_info.log_date, \n",
    "                        columns=dau_user_info.gender, \n",
    "                        values=dau_user_info.user_id, \n",
    "                        rownames=['访问月份'], \n",
    "                        colnames=['性别'], \n",
    "                        aggfunc='count'\n",
    "                       )\n",
    "group_sex.rename(columns={'F': '女性', 'M': '男性'}, inplace=True)\n",
    "group_sex"
   ]
  },
  {
   "cell_type": "markdown",
   "metadata": {},
   "source": [
    "根据上表，比较8月和9月男女用户数量，9月虽然整体用户数量较8月有所降低，但男女用户比例较8月没有明显变化，所以性别属性对用户数量下降的影响很小。"
   ]
  },
  {
   "cell_type": "markdown",
   "metadata": {},
   "source": [
    "### 5.2 根据年龄段进行用户分群"
   ]
  },
  {
   "cell_type": "code",
   "execution_count": 68,
   "metadata": {},
   "outputs": [
    {
     "data": {
      "text/html": [
       "<div>\n",
       "<style scoped>\n",
       "    .dataframe tbody tr th:only-of-type {\n",
       "        vertical-align: middle;\n",
       "    }\n",
       "\n",
       "    .dataframe tbody tr th {\n",
       "        vertical-align: top;\n",
       "    }\n",
       "\n",
       "    .dataframe thead th {\n",
       "        text-align: right;\n",
       "    }\n",
       "</style>\n",
       "<table border=\"1\" class=\"dataframe\">\n",
       "  <thead>\n",
       "    <tr style=\"text-align: right;\">\n",
       "      <th>年龄段</th>\n",
       "      <th>10-19岁</th>\n",
       "      <th>20-29岁</th>\n",
       "      <th>30-39岁</th>\n",
       "      <th>40-49岁</th>\n",
       "      <th>50-59岁</th>\n",
       "    </tr>\n",
       "    <tr>\n",
       "      <th>访问月份</th>\n",
       "      <th></th>\n",
       "      <th></th>\n",
       "      <th></th>\n",
       "      <th></th>\n",
       "      <th></th>\n",
       "    </tr>\n",
       "  </thead>\n",
       "  <tbody>\n",
       "    <tr>\n",
       "      <th>2013-08</th>\n",
       "      <td>18785</td>\n",
       "      <td>33671</td>\n",
       "      <td>28072</td>\n",
       "      <td>8828</td>\n",
       "      <td>4829</td>\n",
       "    </tr>\n",
       "    <tr>\n",
       "      <th>2013-09</th>\n",
       "      <td>15391</td>\n",
       "      <td>27229</td>\n",
       "      <td>22226</td>\n",
       "      <td>7494</td>\n",
       "      <td>3835</td>\n",
       "    </tr>\n",
       "  </tbody>\n",
       "</table>\n",
       "</div>"
      ],
      "text/plain": [
       "年龄段      10-19岁  20-29岁  30-39岁  40-49岁  50-59岁\n",
       "访问月份                                           \n",
       "2013-08   18785   33671   28072    8828    4829\n",
       "2013-09   15391   27229   22226    7494    3835"
      ]
     },
     "execution_count": 68,
     "metadata": {},
     "output_type": "execute_result"
    }
   ],
   "source": [
    "group_age = pd.crosstab(index=dau_user_info.log_date,\n",
    "                        columns=dau_user_info.generation,\n",
    "                        rownames=['访问月份'],\n",
    "                        colnames=['年龄段'],\n",
    "                        values=dau_user_info.user_id,\n",
    "                        aggfunc='count'\n",
    "                       )\n",
    "group_age.rename(columns={10: '10-19岁', 20: '20-29岁', 30: '30-39岁', 40: '40-49岁', 50: '50-59岁'}, inplace=True)\n",
    "group_age"
   ]
  },
  {
   "cell_type": "markdown",
   "metadata": {},
   "source": [
    "根据上表，比较8月和9月数据，发现无论哪个年龄段在总体用户数量中的占比无明显变化，也没有发现那个年龄段的用户数量大量减少了。"
   ]
  },
  {
   "cell_type": "markdown",
   "metadata": {},
   "source": [
    "**接下来，探索是否某个性别下某年龄段的用户数量减少了（2重交叉列标统计）：**"
   ]
  },
  {
   "cell_type": "code",
   "execution_count": 69,
   "metadata": {},
   "outputs": [
    {
     "data": {
      "text/html": [
       "<div>\n",
       "<style scoped>\n",
       "    .dataframe tbody tr th:only-of-type {\n",
       "        vertical-align: middle;\n",
       "    }\n",
       "\n",
       "    .dataframe tbody tr th {\n",
       "        vertical-align: top;\n",
       "    }\n",
       "\n",
       "    .dataframe thead tr th {\n",
       "        text-align: left;\n",
       "    }\n",
       "\n",
       "    .dataframe thead tr:last-of-type th {\n",
       "        text-align: right;\n",
       "    }\n",
       "</style>\n",
       "<table border=\"1\" class=\"dataframe\">\n",
       "  <thead>\n",
       "    <tr>\n",
       "      <th>性别</th>\n",
       "      <th colspan=\"5\" halign=\"left\">女性</th>\n",
       "      <th colspan=\"5\" halign=\"left\">男性</th>\n",
       "    </tr>\n",
       "    <tr>\n",
       "      <th>年龄段</th>\n",
       "      <th>10-19岁</th>\n",
       "      <th>20-29岁</th>\n",
       "      <th>30-39岁</th>\n",
       "      <th>40-49岁</th>\n",
       "      <th>50-59岁</th>\n",
       "      <th>10-19岁</th>\n",
       "      <th>20-29岁</th>\n",
       "      <th>30-39岁</th>\n",
       "      <th>40-49岁</th>\n",
       "      <th>50-59岁</th>\n",
       "    </tr>\n",
       "    <tr>\n",
       "      <th>访问月份</th>\n",
       "      <th></th>\n",
       "      <th></th>\n",
       "      <th></th>\n",
       "      <th></th>\n",
       "      <th></th>\n",
       "      <th></th>\n",
       "      <th></th>\n",
       "      <th></th>\n",
       "      <th></th>\n",
       "      <th></th>\n",
       "    </tr>\n",
       "  </thead>\n",
       "  <tbody>\n",
       "    <tr>\n",
       "      <th>2013-08</th>\n",
       "      <td>9091</td>\n",
       "      <td>17181</td>\n",
       "      <td>14217</td>\n",
       "      <td>4597</td>\n",
       "      <td>2257</td>\n",
       "      <td>9694</td>\n",
       "      <td>16490</td>\n",
       "      <td>13855</td>\n",
       "      <td>4231</td>\n",
       "      <td>2572</td>\n",
       "    </tr>\n",
       "    <tr>\n",
       "      <th>2013-09</th>\n",
       "      <td>7316</td>\n",
       "      <td>13616</td>\n",
       "      <td>11458</td>\n",
       "      <td>3856</td>\n",
       "      <td>1781</td>\n",
       "      <td>8075</td>\n",
       "      <td>13613</td>\n",
       "      <td>10768</td>\n",
       "      <td>3638</td>\n",
       "      <td>2054</td>\n",
       "    </tr>\n",
       "  </tbody>\n",
       "</table>\n",
       "</div>"
      ],
      "text/plain": [
       "性别          女性                                 男性                            \n",
       "年龄段     10-19岁 20-29岁 30-39岁 40-49岁 50-59岁 10-19岁 20-29岁 30-39岁 40-49岁 50-59岁\n",
       "访问月份                                                                         \n",
       "2013-08   9091  17181  14217   4597   2257   9694  16490  13855   4231   2572\n",
       "2013-09   7316  13616  11458   3856   1781   8075  13613  10768   3638   2054"
      ]
     },
     "execution_count": 69,
     "metadata": {},
     "output_type": "execute_result"
    }
   ],
   "source": [
    "group_set_age = pd.crosstab(index=dau_user_info.log_date,\n",
    "                            columns=[dau_user_info.gender, dau_user_info.generation],\n",
    "                            rownames=['访问月份'],\n",
    "                            colnames=['性别', '年龄段'],\n",
    "                            values=dau_user_info.user_id,\n",
    "                            aggfunc='count'\n",
    "                           )\n",
    "group_set_age.rename(columns={'F': '女性', 'M': '男性'}, level=0, inplace=True)\n",
    "group_set_age.rename(columns={10: '10-19岁', 20: '20-29岁', 30: '30-39岁', 40: '40-49岁', 50: '50-59岁'}, level=1, inplace=True)\n",
    "group_set_age"
   ]
  },
  {
   "cell_type": "markdown",
   "metadata": {},
   "source": [
    "通过上表，比较8月和9月数据，发现9月各个用户群体的用户数量都减少了，但是在用户总数量中的占比没有明显变化，说明用户年龄属性对用户数量减少没有太大的影响。"
   ]
  },
  {
   "cell_type": "markdown",
   "metadata": {},
   "source": [
    "### 5.3 根据用户使用设备进行分群"
   ]
  },
  {
   "cell_type": "code",
   "execution_count": 70,
   "metadata": {},
   "outputs": [
    {
     "data": {
      "text/html": [
       "<div>\n",
       "<style scoped>\n",
       "    .dataframe tbody tr th:only-of-type {\n",
       "        vertical-align: middle;\n",
       "    }\n",
       "\n",
       "    .dataframe tbody tr th {\n",
       "        vertical-align: top;\n",
       "    }\n",
       "\n",
       "    .dataframe thead th {\n",
       "        text-align: right;\n",
       "    }\n",
       "</style>\n",
       "<table border=\"1\" class=\"dataframe\">\n",
       "  <thead>\n",
       "    <tr style=\"text-align: right;\">\n",
       "      <th>设备类型</th>\n",
       "      <th>Android</th>\n",
       "      <th>iOS</th>\n",
       "    </tr>\n",
       "    <tr>\n",
       "      <th>访问月份</th>\n",
       "      <th></th>\n",
       "      <th></th>\n",
       "    </tr>\n",
       "  </thead>\n",
       "  <tbody>\n",
       "    <tr>\n",
       "      <th>2013-08</th>\n",
       "      <td>46974</td>\n",
       "      <td>47211</td>\n",
       "    </tr>\n",
       "    <tr>\n",
       "      <th>2013-09</th>\n",
       "      <td>29647</td>\n",
       "      <td>46528</td>\n",
       "    </tr>\n",
       "  </tbody>\n",
       "</table>\n",
       "</div>"
      ],
      "text/plain": [
       "设备类型     Android    iOS\n",
       "访问月份                   \n",
       "2013-08    46974  47211\n",
       "2013-09    29647  46528"
      ]
     },
     "execution_count": 70,
     "metadata": {},
     "output_type": "execute_result"
    }
   ],
   "source": [
    "group_device = pd.crosstab(index=dau_user_info.log_date,\n",
    "                           columns=dau_user_info.device_type,\n",
    "                           rownames=['访问月份'],\n",
    "                           colnames=['设备类型'],\n",
    "                           values=dau_user_info.user_id,\n",
    "                           aggfunc='count'\n",
    "                          )\n",
    "group_device"
   ]
  },
  {
   "cell_type": "markdown",
   "metadata": {},
   "source": [
    "根据上表，比较8月和9月数据，发现9月使用IOS设备的用户略有下降，但使用Android设备的用户数量大量减少，因此这个用户群的分析很可能就是解决用户数量减少的关键。"
   ]
  },
  {
   "cell_type": "markdown",
   "metadata": {},
   "source": [
    "### 5.4 将用户分群结果可视化"
   ]
  },
  {
   "cell_type": "markdown",
   "metadata": {},
   "source": [
    "在发现用户使用设备类型可能是导致用户数量下降的关键因素（**现象**），需要进一步探索**什么原因导致使用该类型设备的用户数量减少（根本原因）**，因此，画出8月至9月IOS和Android设备用户使用数量时间序列图，来进一步分析。"
   ]
  },
  {
   "cell_type": "markdown",
   "metadata": {},
   "source": [
    "**因为要画时间序列图，dau_user_info是以月进行分群的，所以使用dau_user_info_back数据来进行作图：**"
   ]
  },
  {
   "cell_type": "code",
   "execution_count": 71,
   "metadata": {},
   "outputs": [
    {
     "data": {
      "text/html": [
       "<div>\n",
       "<style scoped>\n",
       "    .dataframe tbody tr th:only-of-type {\n",
       "        vertical-align: middle;\n",
       "    }\n",
       "\n",
       "    .dataframe tbody tr th {\n",
       "        vertical-align: top;\n",
       "    }\n",
       "\n",
       "    .dataframe thead th {\n",
       "        text-align: right;\n",
       "    }\n",
       "</style>\n",
       "<table border=\"1\" class=\"dataframe\">\n",
       "  <thead>\n",
       "    <tr style=\"text-align: right;\">\n",
       "      <th></th>\n",
       "      <th>user_id</th>\n",
       "      <th>gender</th>\n",
       "      <th>generation</th>\n",
       "      <th>app_name</th>\n",
       "      <th>log_date</th>\n",
       "      <th>install_date</th>\n",
       "      <th>device_type</th>\n",
       "    </tr>\n",
       "  </thead>\n",
       "  <tbody>\n",
       "    <tr>\n",
       "      <th>0</th>\n",
       "      <td>33754</td>\n",
       "      <td>M</td>\n",
       "      <td>20</td>\n",
       "      <td>game-01</td>\n",
       "      <td>2013-08-01</td>\n",
       "      <td>2013-08-01</td>\n",
       "      <td>iOS</td>\n",
       "    </tr>\n",
       "    <tr>\n",
       "      <th>1</th>\n",
       "      <td>33754</td>\n",
       "      <td>M</td>\n",
       "      <td>20</td>\n",
       "      <td>game-01</td>\n",
       "      <td>2013-08-02</td>\n",
       "      <td>2013-08-01</td>\n",
       "      <td>iOS</td>\n",
       "    </tr>\n",
       "    <tr>\n",
       "      <th>2</th>\n",
       "      <td>28598</td>\n",
       "      <td>M</td>\n",
       "      <td>50</td>\n",
       "      <td>game-01</td>\n",
       "      <td>2013-08-01</td>\n",
       "      <td>2013-07-16</td>\n",
       "      <td>iOS</td>\n",
       "    </tr>\n",
       "    <tr>\n",
       "      <th>3</th>\n",
       "      <td>28598</td>\n",
       "      <td>M</td>\n",
       "      <td>50</td>\n",
       "      <td>game-01</td>\n",
       "      <td>2013-08-04</td>\n",
       "      <td>2013-07-16</td>\n",
       "      <td>iOS</td>\n",
       "    </tr>\n",
       "    <tr>\n",
       "      <th>4</th>\n",
       "      <td>28598</td>\n",
       "      <td>M</td>\n",
       "      <td>50</td>\n",
       "      <td>game-01</td>\n",
       "      <td>2013-08-12</td>\n",
       "      <td>2013-07-16</td>\n",
       "      <td>iOS</td>\n",
       "    </tr>\n",
       "  </tbody>\n",
       "</table>\n",
       "</div>"
      ],
      "text/plain": [
       "   user_id gender  generation app_name    log_date install_date device_type\n",
       "0    33754      M          20  game-01  2013-08-01   2013-08-01         iOS\n",
       "1    33754      M          20  game-01  2013-08-02   2013-08-01         iOS\n",
       "2    28598      M          50  game-01  2013-08-01   2013-07-16         iOS\n",
       "3    28598      M          50  game-01  2013-08-04   2013-07-16         iOS\n",
       "4    28598      M          50  game-01  2013-08-12   2013-07-16         iOS"
      ]
     },
     "execution_count": 71,
     "metadata": {},
     "output_type": "execute_result"
    }
   ],
   "source": [
    "dau_user_info_back.head()"
   ]
  },
  {
   "cell_type": "markdown",
   "metadata": {},
   "source": [
    "统计8月至9月，IOS和Android设备用户使用数量："
   ]
  },
  {
   "cell_type": "code",
   "execution_count": 72,
   "metadata": {},
   "outputs": [
    {
     "data": {
      "text/html": [
       "<div>\n",
       "<style scoped>\n",
       "    .dataframe tbody tr th:only-of-type {\n",
       "        vertical-align: middle;\n",
       "    }\n",
       "\n",
       "    .dataframe tbody tr th {\n",
       "        vertical-align: top;\n",
       "    }\n",
       "\n",
       "    .dataframe thead th {\n",
       "        text-align: right;\n",
       "    }\n",
       "</style>\n",
       "<table border=\"1\" class=\"dataframe\">\n",
       "  <thead>\n",
       "    <tr style=\"text-align: right;\">\n",
       "      <th></th>\n",
       "      <th>user_id</th>\n",
       "      <th>gender</th>\n",
       "      <th>generation</th>\n",
       "      <th>app_name</th>\n",
       "      <th>log_date</th>\n",
       "      <th>install_date</th>\n",
       "      <th>device_type</th>\n",
       "    </tr>\n",
       "  </thead>\n",
       "  <tbody>\n",
       "    <tr>\n",
       "      <th>0</th>\n",
       "      <td>33754</td>\n",
       "      <td>M</td>\n",
       "      <td>20</td>\n",
       "      <td>game-01</td>\n",
       "      <td>2013-08-01</td>\n",
       "      <td>2013-08-01</td>\n",
       "      <td>iOS</td>\n",
       "    </tr>\n",
       "    <tr>\n",
       "      <th>1</th>\n",
       "      <td>33754</td>\n",
       "      <td>M</td>\n",
       "      <td>20</td>\n",
       "      <td>game-01</td>\n",
       "      <td>2013-08-02</td>\n",
       "      <td>2013-08-01</td>\n",
       "      <td>iOS</td>\n",
       "    </tr>\n",
       "    <tr>\n",
       "      <th>2</th>\n",
       "      <td>28598</td>\n",
       "      <td>M</td>\n",
       "      <td>50</td>\n",
       "      <td>game-01</td>\n",
       "      <td>2013-08-01</td>\n",
       "      <td>2013-07-16</td>\n",
       "      <td>iOS</td>\n",
       "    </tr>\n",
       "    <tr>\n",
       "      <th>3</th>\n",
       "      <td>28598</td>\n",
       "      <td>M</td>\n",
       "      <td>50</td>\n",
       "      <td>game-01</td>\n",
       "      <td>2013-08-04</td>\n",
       "      <td>2013-07-16</td>\n",
       "      <td>iOS</td>\n",
       "    </tr>\n",
       "    <tr>\n",
       "      <th>4</th>\n",
       "      <td>28598</td>\n",
       "      <td>M</td>\n",
       "      <td>50</td>\n",
       "      <td>game-01</td>\n",
       "      <td>2013-08-12</td>\n",
       "      <td>2013-07-16</td>\n",
       "      <td>iOS</td>\n",
       "    </tr>\n",
       "  </tbody>\n",
       "</table>\n",
       "</div>"
      ],
      "text/plain": [
       "   user_id gender  generation app_name    log_date install_date device_type\n",
       "0    33754      M          20  game-01  2013-08-01   2013-08-01         iOS\n",
       "1    33754      M          20  game-01  2013-08-02   2013-08-01         iOS\n",
       "2    28598      M          50  game-01  2013-08-01   2013-07-16         iOS\n",
       "3    28598      M          50  game-01  2013-08-04   2013-07-16         iOS\n",
       "4    28598      M          50  game-01  2013-08-12   2013-07-16         iOS"
      ]
     },
     "execution_count": 72,
     "metadata": {},
     "output_type": "execute_result"
    }
   ],
   "source": [
    "dau_user_info_back.head()"
   ]
  },
  {
   "cell_type": "code",
   "execution_count": 73,
   "metadata": {},
   "outputs": [
    {
     "data": {
      "text/html": [
       "<div>\n",
       "<style scoped>\n",
       "    .dataframe tbody tr th:only-of-type {\n",
       "        vertical-align: middle;\n",
       "    }\n",
       "\n",
       "    .dataframe tbody tr th {\n",
       "        vertical-align: top;\n",
       "    }\n",
       "\n",
       "    .dataframe thead tr th {\n",
       "        text-align: left;\n",
       "    }\n",
       "\n",
       "    .dataframe thead tr:last-of-type th {\n",
       "        text-align: right;\n",
       "    }\n",
       "</style>\n",
       "<table border=\"1\" class=\"dataframe\">\n",
       "  <thead>\n",
       "    <tr>\n",
       "      <th></th>\n",
       "      <th colspan=\"2\" halign=\"left\">user_id</th>\n",
       "    </tr>\n",
       "    <tr>\n",
       "      <th>device_type</th>\n",
       "      <th>Android</th>\n",
       "      <th>iOS</th>\n",
       "    </tr>\n",
       "    <tr>\n",
       "      <th>log_date</th>\n",
       "      <th></th>\n",
       "      <th></th>\n",
       "    </tr>\n",
       "  </thead>\n",
       "  <tbody>\n",
       "    <tr>\n",
       "      <th>2013-08-01</th>\n",
       "      <td>1784</td>\n",
       "      <td>1805</td>\n",
       "    </tr>\n",
       "    <tr>\n",
       "      <th>2013-08-02</th>\n",
       "      <td>1386</td>\n",
       "      <td>1451</td>\n",
       "    </tr>\n",
       "    <tr>\n",
       "      <th>2013-08-03</th>\n",
       "      <td>1295</td>\n",
       "      <td>1351</td>\n",
       "    </tr>\n",
       "    <tr>\n",
       "      <th>2013-08-04</th>\n",
       "      <td>1283</td>\n",
       "      <td>1314</td>\n",
       "    </tr>\n",
       "    <tr>\n",
       "      <th>2013-08-05</th>\n",
       "      <td>2002</td>\n",
       "      <td>2038</td>\n",
       "    </tr>\n",
       "  </tbody>\n",
       "</table>\n",
       "</div>"
      ],
      "text/plain": [
       "            user_id      \n",
       "device_type Android   iOS\n",
       "log_date                 \n",
       "2013-08-01     1784  1805\n",
       "2013-08-02     1386  1451\n",
       "2013-08-03     1295  1351\n",
       "2013-08-04     1283  1314\n",
       "2013-08-05     2002  2038"
      ]
     },
     "execution_count": 73,
     "metadata": {},
     "output_type": "execute_result"
    }
   ],
   "source": [
    "device_user_count = dau_user_info_back.pivot_table(values='user_id', \n",
    "                                                   index=['device_type', 'log_date'], \n",
    "                                                   aggfunc='count'\n",
    "                                                  )\n",
    "device_user_count = device_user_count.unstack(level=0)\n",
    "device_user_count.head()"
   ]
  },
  {
   "cell_type": "markdown",
   "metadata": {},
   "source": [
    "**在一张图中分别画出IOS和Android设备用户使用数量时间序列图：**"
   ]
  },
  {
   "cell_type": "code",
   "execution_count": 74,
   "metadata": {},
   "outputs": [],
   "source": [
    "# 将device_user_count的索引转化为时间序列\n",
    "device_user_count.index = pd.to_datetime(device_user_count.index)"
   ]
  },
  {
   "cell_type": "code",
   "execution_count": 75,
   "metadata": {},
   "outputs": [
    {
     "data": {
      "image/png": "[encoded data removed]",
      "text/plain": [
       "<matplotlib.figure.Figure at 0x21500cb9eb8>"
      ]
     },
     "metadata": {},
     "output_type": "display_data"
    }
   ],
   "source": [
    "plt.figure(figsize=(12, 6))\n",
    "plt.gca().set_facecolor('whitesmoke')\n",
    "# 画出Android设备的时间序列图\n",
    "plt.plot(device_user_count.user_id.Android, '-o', color='grey', label='Android设备')\n",
    "plt.plot(device_user_count.user_id.iOS, '--^', color='gray', label='IOS设备')\n",
    "plt.title('8月至9月不同设备用户数量变迁', fontsize=18)\n",
    "plt.ylabel('访问次数')\n",
    "plt.legend(fontsize=13, facecolor='whitesmoke')\n",
    "plt.grid(linestyle='--', linewidth=1, alpha=0.3)\n",
    "plt.show()"
   ]
  },
  {
   "cell_type": "markdown",
   "metadata": {},
   "source": [
    "上图横轴表示访问时间，纵轴表示访问次数，两条曲线分别表示Android设备和IOS设备访问次数随时间的变化。由上图可看出，IOS设备的用户访问数随时间变化无明显变化，而Android设备在9月第二周急剧减少，随后保持相对稳定。那么**在9月的第二周发生了什么导致使用Android设备的用户数量急剧减少**。"
   ]
  },
  {
   "cell_type": "markdown",
   "metadata": {},
   "source": [
    "## 6 解决对策 "
   ]
  },
  {
   "cell_type": "markdown",
   "metadata": {},
   "source": [
    "回顾之前提出的假设：\n",
    "- **《黑猫拼图》游戏用户数量和上月相比减少了（事实）**\n",
    "- **某些用户群体的用户数减少了（假设）**\n",
    "- **针对该用户群体制定相应的策略，使用户数量回到上月相同的水平（解决方案）**"
   ]
  },
  {
   "cell_type": "markdown",
   "metadata": {},
   "source": [
    "根据上述假设，将整个分析过程整理如下：\n",
    "- **《黑猫拼图》游戏用户数量和上月相比减少了（事实)**\n",
    "- **使用Android设备的用户群数量显著减少了（事实）**\n",
    "- **弄清楚Android设备的用户群为什么减少了，并制定相应的策略，使用户数回到上月水平（确信度较高的解决策略）**"
   ]
  },
  {
   "cell_type": "markdown",
   "metadata": {},
   "source": [
    "根据分析结果，和游戏开发部分沟通后，发现9月12日Android版本应用进行了一次版本升级。给其看了数据分析报告后，被告知，已确认某些机型在测试报告中没有问题，但是不能确定旧机型是否也能通过测试。于是将用户数量减少的Android机型导出，并再度咨询开发部的意见，发现这部分机型的共同特点是都安装了旧版本的Android系统。当这些机型的系统升级后，用户就无法登录游戏，于是研发部门紧急修复了这个版本的系统。"
   ]
  }
 ],
 "metadata": {
  "kernelspec": {
   "display_name": "Analysis",
   "language": "python",
   "name": "analysis"
  },
  "language_info": {
   "codemirror_mode": {
    "name": "ipython",
    "version": 3
   },
   "file_extension": ".py",
   "mimetype": "text/x-python",
   "name": "python",
   "nbconvert_exporter": "python",
   "pygments_lexer": "ipython3",
   "version": "3.6.0"
  }
 },
 "nbformat": 4,
 "nbformat_minor": 2
}
