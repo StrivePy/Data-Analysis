{
 "cells": [
  {
   "cell_type": "markdown",
   "metadata": {},
   "source": [
    "# <center>哪种广告的效果更好（A/B测试） </center>"
   ]
  },
  {
   "cell_type": "markdown",
   "metadata": {},
   "source": [
    "# 1 背景 "
   ]
  },
  {
   "cell_type": "markdown",
   "metadata": {},
   "source": [
    "一款名为《黑猫拼图》的游戏，每月都会在游戏中展开一次促销活动，但是和该公司的其他应用的促销活动相比，该游戏促销活动的购买率较低。通过调查购买率低的原因，发现问题可能出现在促销活动的广告上。于是准备了两种不同的广告，来验证哪种广告能带来更高的购买率，那么应该如何进行比较？"
   ]
  },
  {
   "cell_type": "markdown",
   "metadata": {},
   "source": [
    "# 2 现状和预期 "
   ]
  },
  {
   "cell_type": "markdown",
   "metadata": {},
   "source": [
    "- **现状：《黑猫拼图》游戏的促销活动购买率较低。**\n",
    "- **前提：和该公司其他应用的促销活动相比。**\n",
    "- **预期：弄清购买率较低的原因，并确保和其他应用的促销活动有一样的购买率。**"
   ]
  },
  {
   "cell_type": "markdown",
   "metadata": {},
   "source": [
    "# 3 发现问题 "
   ]
  },
  {
   "cell_type": "markdown",
   "metadata": {},
   "source": [
    "基于应用的不同，从宏观的角度来思考《黑猫拼图》游戏和其他应用促销活动的不同，并作出假设：\n",
    "- **游戏装备促销活动的内容有问题**\n",
    "    - **促销的游戏装备并不是用户需要的**\n",
    "    - **促销的打折力度不够，对用户没有太大的吸引力**\n",
    "- **广告的外观展示有问题**"
   ]
  },
  {
   "cell_type": "markdown",
   "metadata": {},
   "source": [
    "正对上述第一条假设，通过咨询《黑猫拼图》游戏策划部门得知：\n",
    "- **促销活动的中的游戏装备或许能够用的上**\n",
    "- **和其它应用促销活动折扣力度一样，都是打五折，站在顾客的立场来看是很划算的**"
   ]
  },
  {
   "cell_type": "markdown",
   "metadata": {},
   "source": [
    "通过统计活动期间，促销装备的使用情况，发现这些装备都是用户经常使用的，说明第一条假设中的问题基本不大。\n",
    "接下来考虑第二条假设，通过咨询《黑猫拼图》游戏市场营销部门得知：\n",
    "- **游戏促销活动的广告都是由各个应用的设计师负责的，所以广告的质量是参差不齐的**\n",
    "- **《黑猫拼图》游戏的广告的点击率一直比较低下**"
   ]
  },
  {
   "cell_type": "markdown",
   "metadata": {},
   "source": [
    "# 4 数据的收集和加工 "
   ]
  },
  {
   "cell_type": "markdown",
   "metadata": {},
   "source": [
    "基于问题来搜集数据，问题：\n",
    "- **《黑猫拼图》游戏的广告点击率比其它应用低（事实）**\n",
    "- **《黑猫拼图》游戏的广告设计由问题（假设）**\n",
    "- **用点击率高的广告替换当前的广告（解决方案）**"
   ]
  },
  {
   "cell_type": "markdown",
   "metadata": {},
   "source": [
    "为了完成上述解决方案，需要找到哪种广告更容易被用户点击。但是《黑猫拼图》游戏内的促销广告一直没有变更过，所以缺少可供分析的数据。所以，准备两个广告在游戏内投放，并搜集相关数据：\n",
    "- **如果采用前后投放比较的方法，则无法排除外部因素的干扰**\n",
    "- **采用A/B测试的方法，排除外部因素的干扰**"
   ]
  },
  {
   "cell_type": "markdown",
   "metadata": {},
   "source": [
    "A/B测试的关键：\n",
    "- **A/B测试中用户的分组必须遵循随机的原则（保证分组后没有男/女等类似的差异）**\n",
    "- **同时进行多个A/B测试时的陷阱：**\n",
    "    - **所有A/B测试都采用相同的分组方法：就算产生差异，也不不知道到底时哪组测试导致的**\n",
    "    - **各组中参与其它测试的用户比例不同：虽然是随机分组，但各组参与其它测试的用户比例不同，也可能出现测试项目意外的条件性差异**"
   ]
  },
  {
   "cell_type": "markdown",
   "metadata": {},
   "source": [
    "A/B测试的输出日志（一个月）就是需要搜集的数据：\n",
    "- **ab_test_imp（关于广告曝光次数的信息）**\n",
    "- **ab_test_goal（关于广告点击次数的信息）**\n",
    "- **上述两张表中的transaction_id字段（“事务ID”字段，广告曝光时生成的ID号，可以用来合并曝光日志和点击日志）**"
   ]
  },
  {
   "cell_type": "markdown",
   "metadata": {},
   "source": [
    "## 4.1 数据处理和可视化工具准备 "
   ]
  },
  {
   "cell_type": "code",
   "execution_count": 188,
   "metadata": {},
   "outputs": [],
   "source": [
    "import numpy as np\n",
    "import pandas as pd\n",
    "import matplotlib.pyplot as plt\n",
    "from scipy import stats\n",
    "%matplotlib inline\n",
    "plt.rcParams['font.sans-serif'] = ['SimHei']\n",
    "plt.rcParams['axes.unicode_minus'] = False"
   ]
  },
  {
   "cell_type": "markdown",
   "metadata": {},
   "source": [
    "## 4.2 数据收集 "
   ]
  },
  {
   "cell_type": "code",
   "execution_count": 189,
   "metadata": {},
   "outputs": [
    {
     "data": {
      "text/html": [
       "<div>\n",
       "<style>\n",
       "    .dataframe thead tr:only-child th {\n",
       "        text-align: right;\n",
       "    }\n",
       "\n",
       "    .dataframe thead th {\n",
       "        text-align: left;\n",
       "    }\n",
       "\n",
       "    .dataframe tbody tr th {\n",
       "        vertical-align: top;\n",
       "    }\n",
       "</style>\n",
       "<table border=\"1\" class=\"dataframe\">\n",
       "  <thead>\n",
       "    <tr style=\"text-align: right;\">\n",
       "      <th></th>\n",
       "      <th>log_date</th>\n",
       "      <th>app_name</th>\n",
       "      <th>test_name</th>\n",
       "      <th>test_case</th>\n",
       "      <th>user_id</th>\n",
       "      <th>transaction_id</th>\n",
       "    </tr>\n",
       "  </thead>\n",
       "  <tbody>\n",
       "    <tr>\n",
       "      <th>0</th>\n",
       "      <td>2013-10-01</td>\n",
       "      <td>game-01</td>\n",
       "      <td>sales_test</td>\n",
       "      <td>B</td>\n",
       "      <td>36703</td>\n",
       "      <td>25622</td>\n",
       "    </tr>\n",
       "    <tr>\n",
       "      <th>1</th>\n",
       "      <td>2013-10-01</td>\n",
       "      <td>game-01</td>\n",
       "      <td>sales_test</td>\n",
       "      <td>A</td>\n",
       "      <td>44339</td>\n",
       "      <td>25623</td>\n",
       "    </tr>\n",
       "    <tr>\n",
       "      <th>2</th>\n",
       "      <td>2013-10-01</td>\n",
       "      <td>game-01</td>\n",
       "      <td>sales_test</td>\n",
       "      <td>B</td>\n",
       "      <td>32087</td>\n",
       "      <td>25624</td>\n",
       "    </tr>\n",
       "    <tr>\n",
       "      <th>3</th>\n",
       "      <td>2013-10-01</td>\n",
       "      <td>game-01</td>\n",
       "      <td>sales_test</td>\n",
       "      <td>B</td>\n",
       "      <td>10160</td>\n",
       "      <td>25625</td>\n",
       "    </tr>\n",
       "    <tr>\n",
       "      <th>4</th>\n",
       "      <td>2013-10-01</td>\n",
       "      <td>game-01</td>\n",
       "      <td>sales_test</td>\n",
       "      <td>B</td>\n",
       "      <td>46113</td>\n",
       "      <td>25626</td>\n",
       "    </tr>\n",
       "  </tbody>\n",
       "</table>\n",
       "</div>"
      ],
      "text/plain": [
       "     log_date app_name   test_name test_case  user_id  transaction_id\n",
       "0  2013-10-01  game-01  sales_test         B    36703           25622\n",
       "1  2013-10-01  game-01  sales_test         A    44339           25623\n",
       "2  2013-10-01  game-01  sales_test         B    32087           25624\n",
       "3  2013-10-01  game-01  sales_test         B    10160           25625\n",
       "4  2013-10-01  game-01  sales_test         B    46113           25626"
      ]
     },
     "execution_count": 189,
     "metadata": {},
     "output_type": "execute_result"
    }
   ],
   "source": [
    "# 加载ab_test_imp数据\n",
    "ab_test_imp = pd.read_csv('./data/ch5/section5-ab_test_imp.csv')\n",
    "ab_test_imp.head()"
   ]
  },
  {
   "cell_type": "code",
   "execution_count": 190,
   "metadata": {},
   "outputs": [
    {
     "data": {
      "text/html": [
       "<div>\n",
       "<style>\n",
       "    .dataframe thead tr:only-child th {\n",
       "        text-align: right;\n",
       "    }\n",
       "\n",
       "    .dataframe thead th {\n",
       "        text-align: left;\n",
       "    }\n",
       "\n",
       "    .dataframe tbody tr th {\n",
       "        vertical-align: top;\n",
       "    }\n",
       "</style>\n",
       "<table border=\"1\" class=\"dataframe\">\n",
       "  <thead>\n",
       "    <tr style=\"text-align: right;\">\n",
       "      <th></th>\n",
       "      <th>log_date</th>\n",
       "      <th>app_name</th>\n",
       "      <th>test_name</th>\n",
       "      <th>test_case</th>\n",
       "      <th>user_id</th>\n",
       "      <th>transaction_id</th>\n",
       "    </tr>\n",
       "  </thead>\n",
       "  <tbody>\n",
       "    <tr>\n",
       "      <th>0</th>\n",
       "      <td>2013-10-01</td>\n",
       "      <td>game-01</td>\n",
       "      <td>sales_test</td>\n",
       "      <td>B</td>\n",
       "      <td>15021</td>\n",
       "      <td>25638</td>\n",
       "    </tr>\n",
       "    <tr>\n",
       "      <th>1</th>\n",
       "      <td>2013-10-01</td>\n",
       "      <td>game-01</td>\n",
       "      <td>sales_test</td>\n",
       "      <td>B</td>\n",
       "      <td>351</td>\n",
       "      <td>25704</td>\n",
       "    </tr>\n",
       "    <tr>\n",
       "      <th>2</th>\n",
       "      <td>2013-10-01</td>\n",
       "      <td>game-01</td>\n",
       "      <td>sales_test</td>\n",
       "      <td>B</td>\n",
       "      <td>8276</td>\n",
       "      <td>25739</td>\n",
       "    </tr>\n",
       "    <tr>\n",
       "      <th>3</th>\n",
       "      <td>2013-10-01</td>\n",
       "      <td>game-01</td>\n",
       "      <td>sales_test</td>\n",
       "      <td>B</td>\n",
       "      <td>1230</td>\n",
       "      <td>25742</td>\n",
       "    </tr>\n",
       "    <tr>\n",
       "      <th>4</th>\n",
       "      <td>2013-10-01</td>\n",
       "      <td>game-01</td>\n",
       "      <td>sales_test</td>\n",
       "      <td>B</td>\n",
       "      <td>17471</td>\n",
       "      <td>25743</td>\n",
       "    </tr>\n",
       "  </tbody>\n",
       "</table>\n",
       "</div>"
      ],
      "text/plain": [
       "     log_date app_name   test_name test_case  user_id  transaction_id\n",
       "0  2013-10-01  game-01  sales_test         B    15021           25638\n",
       "1  2013-10-01  game-01  sales_test         B      351           25704\n",
       "2  2013-10-01  game-01  sales_test         B     8276           25739\n",
       "3  2013-10-01  game-01  sales_test         B     1230           25742\n",
       "4  2013-10-01  game-01  sales_test         B    17471           25743"
      ]
     },
     "execution_count": 190,
     "metadata": {},
     "output_type": "execute_result"
    }
   ],
   "source": [
    "# 加载ab_test_goal数据\n",
    "ab_test_goal = pd.read_csv('./data/ch5/section5-ab_test_goal.csv')\n",
    "ab_test_goal.head()"
   ]
  },
  {
   "cell_type": "markdown",
   "metadata": {},
   "source": [
    "## 4.3 数据加工 "
   ]
  },
  {
   "cell_type": "markdown",
   "metadata": {},
   "source": [
    "为了方便A/B测试，需要将上面两份日志合并起来。并新增一个**click字段**来标记该广告是否被点击。"
   ]
  },
  {
   "cell_type": "markdown",
   "metadata": {},
   "source": [
    "### 4.3.1 合并日志 "
   ]
  },
  {
   "cell_type": "markdown",
   "metadata": {},
   "source": [
    "因为广告曝光不一定点击，但是点击一定曝光，所以ab_test_goal中的transaction_id是ab_test_imp中transaction_id的子集。为了能够计算点击率（**点击次数/曝光次数**）,将ab_test_imp和ab_test_goal以transaction_id作为key进行**左连接**："
   ]
  },
  {
   "cell_type": "code",
   "execution_count": 191,
   "metadata": {},
   "outputs": [
    {
     "data": {
      "text/html": [
       "<div>\n",
       "<style>\n",
       "    .dataframe thead tr:only-child th {\n",
       "        text-align: right;\n",
       "    }\n",
       "\n",
       "    .dataframe thead th {\n",
       "        text-align: left;\n",
       "    }\n",
       "\n",
       "    .dataframe tbody tr th {\n",
       "        vertical-align: top;\n",
       "    }\n",
       "</style>\n",
       "<table border=\"1\" class=\"dataframe\">\n",
       "  <thead>\n",
       "    <tr style=\"text-align: right;\">\n",
       "      <th></th>\n",
       "      <th>log_date</th>\n",
       "      <th>app_name</th>\n",
       "      <th>test_name</th>\n",
       "      <th>test_case</th>\n",
       "      <th>user_id</th>\n",
       "      <th>transaction_id</th>\n",
       "      <th>log_date_g</th>\n",
       "      <th>app_name_g</th>\n",
       "      <th>test_name_g</th>\n",
       "      <th>test_case_g</th>\n",
       "      <th>user_id_g</th>\n",
       "      <th>transaction_id_g</th>\n",
       "    </tr>\n",
       "  </thead>\n",
       "  <tbody>\n",
       "    <tr>\n",
       "      <th>0</th>\n",
       "      <td>2013-10-01</td>\n",
       "      <td>game-01</td>\n",
       "      <td>sales_test</td>\n",
       "      <td>B</td>\n",
       "      <td>36703</td>\n",
       "      <td>25622</td>\n",
       "      <td>NaN</td>\n",
       "      <td>NaN</td>\n",
       "      <td>NaN</td>\n",
       "      <td>NaN</td>\n",
       "      <td>NaN</td>\n",
       "      <td>NaN</td>\n",
       "    </tr>\n",
       "    <tr>\n",
       "      <th>1</th>\n",
       "      <td>2013-10-01</td>\n",
       "      <td>game-01</td>\n",
       "      <td>sales_test</td>\n",
       "      <td>A</td>\n",
       "      <td>44339</td>\n",
       "      <td>25623</td>\n",
       "      <td>NaN</td>\n",
       "      <td>NaN</td>\n",
       "      <td>NaN</td>\n",
       "      <td>NaN</td>\n",
       "      <td>NaN</td>\n",
       "      <td>NaN</td>\n",
       "    </tr>\n",
       "    <tr>\n",
       "      <th>2</th>\n",
       "      <td>2013-10-01</td>\n",
       "      <td>game-01</td>\n",
       "      <td>sales_test</td>\n",
       "      <td>B</td>\n",
       "      <td>32087</td>\n",
       "      <td>25624</td>\n",
       "      <td>NaN</td>\n",
       "      <td>NaN</td>\n",
       "      <td>NaN</td>\n",
       "      <td>NaN</td>\n",
       "      <td>NaN</td>\n",
       "      <td>NaN</td>\n",
       "    </tr>\n",
       "    <tr>\n",
       "      <th>3</th>\n",
       "      <td>2013-10-01</td>\n",
       "      <td>game-01</td>\n",
       "      <td>sales_test</td>\n",
       "      <td>B</td>\n",
       "      <td>10160</td>\n",
       "      <td>25625</td>\n",
       "      <td>NaN</td>\n",
       "      <td>NaN</td>\n",
       "      <td>NaN</td>\n",
       "      <td>NaN</td>\n",
       "      <td>NaN</td>\n",
       "      <td>NaN</td>\n",
       "    </tr>\n",
       "    <tr>\n",
       "      <th>4</th>\n",
       "      <td>2013-10-01</td>\n",
       "      <td>game-01</td>\n",
       "      <td>sales_test</td>\n",
       "      <td>B</td>\n",
       "      <td>46113</td>\n",
       "      <td>25626</td>\n",
       "      <td>NaN</td>\n",
       "      <td>NaN</td>\n",
       "      <td>NaN</td>\n",
       "      <td>NaN</td>\n",
       "      <td>NaN</td>\n",
       "      <td>NaN</td>\n",
       "    </tr>\n",
       "  </tbody>\n",
       "</table>\n",
       "</div>"
      ],
      "text/plain": [
       "     log_date app_name   test_name test_case  user_id  transaction_id  \\\n",
       "0  2013-10-01  game-01  sales_test         B    36703           25622   \n",
       "1  2013-10-01  game-01  sales_test         A    44339           25623   \n",
       "2  2013-10-01  game-01  sales_test         B    32087           25624   \n",
       "3  2013-10-01  game-01  sales_test         B    10160           25625   \n",
       "4  2013-10-01  game-01  sales_test         B    46113           25626   \n",
       "\n",
       "  log_date_g app_name_g test_name_g test_case_g  user_id_g  transaction_id_g  \n",
       "0        NaN        NaN         NaN         NaN        NaN               NaN  \n",
       "1        NaN        NaN         NaN         NaN        NaN               NaN  \n",
       "2        NaN        NaN         NaN         NaN        NaN               NaN  \n",
       "3        NaN        NaN         NaN         NaN        NaN               NaN  \n",
       "4        NaN        NaN         NaN         NaN        NaN               NaN  "
      ]
     },
     "execution_count": 191,
     "metadata": {},
     "output_type": "execute_result"
    }
   ],
   "source": [
    "ab_test_merge = pd.merge(ab_test_imp, \n",
    "                         ab_test_goal, \n",
    "                         how='left',\n",
    "                         left_on=ab_test_imp.transaction_id, \n",
    "                         right_on=ab_test_goal.transaction_id, \n",
    "                         suffixes=('', '_g'))\n",
    "ab_test_merge.head()"
   ]
  },
  {
   "cell_type": "code",
   "execution_count": 192,
   "metadata": {},
   "outputs": [
    {
     "data": {
      "text/html": [
       "<div>\n",
       "<style>\n",
       "    .dataframe thead tr:only-child th {\n",
       "        text-align: right;\n",
       "    }\n",
       "\n",
       "    .dataframe thead th {\n",
       "        text-align: left;\n",
       "    }\n",
       "\n",
       "    .dataframe tbody tr th {\n",
       "        vertical-align: top;\n",
       "    }\n",
       "</style>\n",
       "<table border=\"1\" class=\"dataframe\">\n",
       "  <thead>\n",
       "    <tr style=\"text-align: right;\">\n",
       "      <th></th>\n",
       "      <th>log_date</th>\n",
       "      <th>app_name</th>\n",
       "      <th>test_name</th>\n",
       "      <th>test_case</th>\n",
       "      <th>user_id</th>\n",
       "      <th>transaction_id</th>\n",
       "      <th>log_date_g</th>\n",
       "      <th>app_name_g</th>\n",
       "      <th>test_name_g</th>\n",
       "      <th>test_case_g</th>\n",
       "      <th>user_id_g</th>\n",
       "      <th>transaction_id_g</th>\n",
       "    </tr>\n",
       "  </thead>\n",
       "  <tbody>\n",
       "    <tr>\n",
       "      <th>2749</th>\n",
       "      <td>2013-10-02</td>\n",
       "      <td>game-01</td>\n",
       "      <td>sales_test</td>\n",
       "      <td>A</td>\n",
       "      <td>49017</td>\n",
       "      <td>1</td>\n",
       "      <td>NaN</td>\n",
       "      <td>NaN</td>\n",
       "      <td>NaN</td>\n",
       "      <td>NaN</td>\n",
       "      <td>NaN</td>\n",
       "      <td>NaN</td>\n",
       "    </tr>\n",
       "    <tr>\n",
       "      <th>2750</th>\n",
       "      <td>2013-10-02</td>\n",
       "      <td>game-01</td>\n",
       "      <td>sales_test</td>\n",
       "      <td>B</td>\n",
       "      <td>49018</td>\n",
       "      <td>2</td>\n",
       "      <td>NaN</td>\n",
       "      <td>NaN</td>\n",
       "      <td>NaN</td>\n",
       "      <td>NaN</td>\n",
       "      <td>NaN</td>\n",
       "      <td>NaN</td>\n",
       "    </tr>\n",
       "    <tr>\n",
       "      <th>2751</th>\n",
       "      <td>2013-10-02</td>\n",
       "      <td>game-01</td>\n",
       "      <td>sales_test</td>\n",
       "      <td>A</td>\n",
       "      <td>44338</td>\n",
       "      <td>3</td>\n",
       "      <td>NaN</td>\n",
       "      <td>NaN</td>\n",
       "      <td>NaN</td>\n",
       "      <td>NaN</td>\n",
       "      <td>NaN</td>\n",
       "      <td>NaN</td>\n",
       "    </tr>\n",
       "    <tr>\n",
       "      <th>2752</th>\n",
       "      <td>2013-10-02</td>\n",
       "      <td>game-01</td>\n",
       "      <td>sales_test</td>\n",
       "      <td>A</td>\n",
       "      <td>44339</td>\n",
       "      <td>4</td>\n",
       "      <td>NaN</td>\n",
       "      <td>NaN</td>\n",
       "      <td>NaN</td>\n",
       "      <td>NaN</td>\n",
       "      <td>NaN</td>\n",
       "      <td>NaN</td>\n",
       "    </tr>\n",
       "    <tr>\n",
       "      <th>2753</th>\n",
       "      <td>2013-10-02</td>\n",
       "      <td>game-01</td>\n",
       "      <td>sales_test</td>\n",
       "      <td>A</td>\n",
       "      <td>28598</td>\n",
       "      <td>5</td>\n",
       "      <td>NaN</td>\n",
       "      <td>NaN</td>\n",
       "      <td>NaN</td>\n",
       "      <td>NaN</td>\n",
       "      <td>NaN</td>\n",
       "      <td>NaN</td>\n",
       "    </tr>\n",
       "  </tbody>\n",
       "</table>\n",
       "</div>"
      ],
      "text/plain": [
       "        log_date app_name   test_name test_case  user_id  transaction_id  \\\n",
       "2749  2013-10-02  game-01  sales_test         A    49017               1   \n",
       "2750  2013-10-02  game-01  sales_test         B    49018               2   \n",
       "2751  2013-10-02  game-01  sales_test         A    44338               3   \n",
       "2752  2013-10-02  game-01  sales_test         A    44339               4   \n",
       "2753  2013-10-02  game-01  sales_test         A    28598               5   \n",
       "\n",
       "     log_date_g app_name_g test_name_g test_case_g  user_id_g  \\\n",
       "2749        NaN        NaN         NaN         NaN        NaN   \n",
       "2750        NaN        NaN         NaN         NaN        NaN   \n",
       "2751        NaN        NaN         NaN         NaN        NaN   \n",
       "2752        NaN        NaN         NaN         NaN        NaN   \n",
       "2753        NaN        NaN         NaN         NaN        NaN   \n",
       "\n",
       "      transaction_id_g  \n",
       "2749               NaN  \n",
       "2750               NaN  \n",
       "2751               NaN  \n",
       "2752               NaN  \n",
       "2753               NaN  "
      ]
     },
     "execution_count": 192,
     "metadata": {},
     "output_type": "execute_result"
    }
   ],
   "source": [
    "ab_test_merge_backup = ab_test_merge.sort_values(by='transaction_id')\n",
    "ab_test_merge_backup.head()"
   ]
  },
  {
   "cell_type": "markdown",
   "metadata": {},
   "source": [
    "### 4.3.2 新增click字段 "
   ]
  },
  {
   "cell_type": "markdown",
   "metadata": {},
   "source": [
    "为了计算点击率，新增click字段，yes表示点击，反之用no表示。"
   ]
  },
  {
   "cell_type": "code",
   "execution_count": 193,
   "metadata": {},
   "outputs": [
    {
     "data": {
      "text/html": [
       "<div>\n",
       "<style>\n",
       "    .dataframe thead tr:only-child th {\n",
       "        text-align: right;\n",
       "    }\n",
       "\n",
       "    .dataframe thead th {\n",
       "        text-align: left;\n",
       "    }\n",
       "\n",
       "    .dataframe tbody tr th {\n",
       "        vertical-align: top;\n",
       "    }\n",
       "</style>\n",
       "<table border=\"1\" class=\"dataframe\">\n",
       "  <thead>\n",
       "    <tr style=\"text-align: right;\">\n",
       "      <th></th>\n",
       "      <th>log_date</th>\n",
       "      <th>app_name</th>\n",
       "      <th>test_name</th>\n",
       "      <th>test_case</th>\n",
       "      <th>user_id</th>\n",
       "      <th>transaction_id</th>\n",
       "      <th>log_date_g</th>\n",
       "      <th>app_name_g</th>\n",
       "      <th>test_name_g</th>\n",
       "      <th>test_case_g</th>\n",
       "      <th>user_id_g</th>\n",
       "      <th>transaction_id_g</th>\n",
       "      <th>click</th>\n",
       "    </tr>\n",
       "  </thead>\n",
       "  <tbody>\n",
       "    <tr>\n",
       "      <th>0</th>\n",
       "      <td>2013-10-01</td>\n",
       "      <td>game-01</td>\n",
       "      <td>sales_test</td>\n",
       "      <td>B</td>\n",
       "      <td>36703</td>\n",
       "      <td>25622</td>\n",
       "      <td>NaN</td>\n",
       "      <td>NaN</td>\n",
       "      <td>NaN</td>\n",
       "      <td>NaN</td>\n",
       "      <td>NaN</td>\n",
       "      <td>NaN</td>\n",
       "      <td>no</td>\n",
       "    </tr>\n",
       "    <tr>\n",
       "      <th>1</th>\n",
       "      <td>2013-10-01</td>\n",
       "      <td>game-01</td>\n",
       "      <td>sales_test</td>\n",
       "      <td>A</td>\n",
       "      <td>44339</td>\n",
       "      <td>25623</td>\n",
       "      <td>NaN</td>\n",
       "      <td>NaN</td>\n",
       "      <td>NaN</td>\n",
       "      <td>NaN</td>\n",
       "      <td>NaN</td>\n",
       "      <td>NaN</td>\n",
       "      <td>no</td>\n",
       "    </tr>\n",
       "    <tr>\n",
       "      <th>2</th>\n",
       "      <td>2013-10-01</td>\n",
       "      <td>game-01</td>\n",
       "      <td>sales_test</td>\n",
       "      <td>B</td>\n",
       "      <td>32087</td>\n",
       "      <td>25624</td>\n",
       "      <td>NaN</td>\n",
       "      <td>NaN</td>\n",
       "      <td>NaN</td>\n",
       "      <td>NaN</td>\n",
       "      <td>NaN</td>\n",
       "      <td>NaN</td>\n",
       "      <td>no</td>\n",
       "    </tr>\n",
       "    <tr>\n",
       "      <th>3</th>\n",
       "      <td>2013-10-01</td>\n",
       "      <td>game-01</td>\n",
       "      <td>sales_test</td>\n",
       "      <td>B</td>\n",
       "      <td>10160</td>\n",
       "      <td>25625</td>\n",
       "      <td>NaN</td>\n",
       "      <td>NaN</td>\n",
       "      <td>NaN</td>\n",
       "      <td>NaN</td>\n",
       "      <td>NaN</td>\n",
       "      <td>NaN</td>\n",
       "      <td>no</td>\n",
       "    </tr>\n",
       "    <tr>\n",
       "      <th>4</th>\n",
       "      <td>2013-10-01</td>\n",
       "      <td>game-01</td>\n",
       "      <td>sales_test</td>\n",
       "      <td>B</td>\n",
       "      <td>46113</td>\n",
       "      <td>25626</td>\n",
       "      <td>NaN</td>\n",
       "      <td>NaN</td>\n",
       "      <td>NaN</td>\n",
       "      <td>NaN</td>\n",
       "      <td>NaN</td>\n",
       "      <td>NaN</td>\n",
       "      <td>no</td>\n",
       "    </tr>\n",
       "  </tbody>\n",
       "</table>\n",
       "</div>"
      ],
      "text/plain": [
       "     log_date app_name   test_name test_case  user_id  transaction_id  \\\n",
       "0  2013-10-01  game-01  sales_test         B    36703           25622   \n",
       "1  2013-10-01  game-01  sales_test         A    44339           25623   \n",
       "2  2013-10-01  game-01  sales_test         B    32087           25624   \n",
       "3  2013-10-01  game-01  sales_test         B    10160           25625   \n",
       "4  2013-10-01  game-01  sales_test         B    46113           25626   \n",
       "\n",
       "  log_date_g app_name_g test_name_g test_case_g  user_id_g  transaction_id_g  \\\n",
       "0        NaN        NaN         NaN         NaN        NaN               NaN   \n",
       "1        NaN        NaN         NaN         NaN        NaN               NaN   \n",
       "2        NaN        NaN         NaN         NaN        NaN               NaN   \n",
       "3        NaN        NaN         NaN         NaN        NaN               NaN   \n",
       "4        NaN        NaN         NaN         NaN        NaN               NaN   \n",
       "\n",
       "  click  \n",
       "0    no  \n",
       "1    no  \n",
       "2    no  \n",
       "3    no  \n",
       "4    no  "
      ]
     },
     "execution_count": 193,
     "metadata": {},
     "output_type": "execute_result"
    }
   ],
   "source": [
    "ab_test_merge['click'] = np.where(ab_test_merge.log_date_g.isnull(), 'no', 'yes')\n",
    "ab_test_merge.head()"
   ]
  },
  {
   "cell_type": "markdown",
   "metadata": {},
   "source": [
    "提取transaction_id，log_date，test_case，user_id，click字段，简化分析用表:"
   ]
  },
  {
   "cell_type": "code",
   "execution_count": 194,
   "metadata": {},
   "outputs": [
    {
     "data": {
      "text/html": [
       "<div>\n",
       "<style>\n",
       "    .dataframe thead tr:only-child th {\n",
       "        text-align: right;\n",
       "    }\n",
       "\n",
       "    .dataframe thead th {\n",
       "        text-align: left;\n",
       "    }\n",
       "\n",
       "    .dataframe tbody tr th {\n",
       "        vertical-align: top;\n",
       "    }\n",
       "</style>\n",
       "<table border=\"1\" class=\"dataframe\">\n",
       "  <thead>\n",
       "    <tr style=\"text-align: right;\">\n",
       "      <th></th>\n",
       "      <th>transaction_id</th>\n",
       "      <th>log_date</th>\n",
       "      <th>test_case</th>\n",
       "      <th>user_id</th>\n",
       "      <th>click</th>\n",
       "    </tr>\n",
       "  </thead>\n",
       "  <tbody>\n",
       "    <tr>\n",
       "      <th>0</th>\n",
       "      <td>25622</td>\n",
       "      <td>2013-10-01</td>\n",
       "      <td>B</td>\n",
       "      <td>36703</td>\n",
       "      <td>no</td>\n",
       "    </tr>\n",
       "    <tr>\n",
       "      <th>1</th>\n",
       "      <td>25623</td>\n",
       "      <td>2013-10-01</td>\n",
       "      <td>A</td>\n",
       "      <td>44339</td>\n",
       "      <td>no</td>\n",
       "    </tr>\n",
       "    <tr>\n",
       "      <th>2</th>\n",
       "      <td>25624</td>\n",
       "      <td>2013-10-01</td>\n",
       "      <td>B</td>\n",
       "      <td>32087</td>\n",
       "      <td>no</td>\n",
       "    </tr>\n",
       "    <tr>\n",
       "      <th>3</th>\n",
       "      <td>25625</td>\n",
       "      <td>2013-10-01</td>\n",
       "      <td>B</td>\n",
       "      <td>10160</td>\n",
       "      <td>no</td>\n",
       "    </tr>\n",
       "    <tr>\n",
       "      <th>4</th>\n",
       "      <td>25626</td>\n",
       "      <td>2013-10-01</td>\n",
       "      <td>B</td>\n",
       "      <td>46113</td>\n",
       "      <td>no</td>\n",
       "    </tr>\n",
       "  </tbody>\n",
       "</table>\n",
       "</div>"
      ],
      "text/plain": [
       "   transaction_id    log_date test_case  user_id click\n",
       "0           25622  2013-10-01         B    36703    no\n",
       "1           25623  2013-10-01         A    44339    no\n",
       "2           25624  2013-10-01         B    32087    no\n",
       "3           25625  2013-10-01         B    10160    no\n",
       "4           25626  2013-10-01         B    46113    no"
      ]
     },
     "execution_count": 194,
     "metadata": {},
     "output_type": "execute_result"
    }
   ],
   "source": [
    "ab_test_merge = ab_test_merge.reindex(columns=['transaction_id', 'log_date', 'test_case', 'user_id', 'click'])\n",
    "ab_test_merge.head()"
   ]
  },
  {
   "cell_type": "markdown",
   "metadata": {},
   "source": [
    "A、B两个测试用例是否被点击的交叉表（**方便后续进行AB用例点击的卡方检验**）："
   ]
  },
  {
   "cell_type": "code",
   "execution_count": 195,
   "metadata": {},
   "outputs": [
    {
     "data": {
      "text/html": [
       "<div>\n",
       "<style>\n",
       "    .dataframe thead tr:only-child th {\n",
       "        text-align: right;\n",
       "    }\n",
       "\n",
       "    .dataframe thead th {\n",
       "        text-align: left;\n",
       "    }\n",
       "\n",
       "    .dataframe tbody tr th {\n",
       "        vertical-align: top;\n",
       "    }\n",
       "</style>\n",
       "<table border=\"1\" class=\"dataframe\">\n",
       "  <thead>\n",
       "    <tr style=\"text-align: right;\">\n",
       "      <th>点击</th>\n",
       "      <th>no</th>\n",
       "      <th>yes</th>\n",
       "      <th>All</th>\n",
       "    </tr>\n",
       "    <tr>\n",
       "      <th>测试用例</th>\n",
       "      <th></th>\n",
       "      <th></th>\n",
       "      <th></th>\n",
       "    </tr>\n",
       "  </thead>\n",
       "  <tbody>\n",
       "    <tr>\n",
       "      <th>A</th>\n",
       "      <td>40592.0</td>\n",
       "      <td>3542.0</td>\n",
       "      <td>44134.0</td>\n",
       "    </tr>\n",
       "    <tr>\n",
       "      <th>B</th>\n",
       "      <td>38734.0</td>\n",
       "      <td>5056.0</td>\n",
       "      <td>43790.0</td>\n",
       "    </tr>\n",
       "    <tr>\n",
       "      <th>All</th>\n",
       "      <td>79326.0</td>\n",
       "      <td>8598.0</td>\n",
       "      <td>87924.0</td>\n",
       "    </tr>\n",
       "  </tbody>\n",
       "</table>\n",
       "</div>"
      ],
      "text/plain": [
       "点击         no     yes      All\n",
       "测试用例                          \n",
       "A     40592.0  3542.0  44134.0\n",
       "B     38734.0  5056.0  43790.0\n",
       "All   79326.0  8598.0  87924.0"
      ]
     },
     "execution_count": 195,
     "metadata": {},
     "output_type": "execute_result"
    }
   ],
   "source": [
    "ab_crosstab = pd.crosstab(index=ab_test_merge.test_case, \n",
    "                          columns=ab_test_merge.click,\n",
    "                          rownames=['测试用例'],\n",
    "                          colnames=['点击'],\n",
    "                          values=ab_test_merge.user_id,\n",
    "                          aggfunc='count',\n",
    "                          margins=True\n",
    "                         )\n",
    "ab_crosstab"
   ]
  },
  {
   "cell_type": "markdown",
   "metadata": {},
   "source": [
    "# 5 数据分析"
   ]
  },
  {
   "cell_type": "markdown",
   "metadata": {},
   "source": [
    "计算AB测试用例的点击率："
   ]
  },
  {
   "cell_type": "code",
   "execution_count": 196,
   "metadata": {
    "scrolled": true
   },
   "outputs": [
    {
     "data": {
      "text/html": [
       "<div>\n",
       "<style>\n",
       "    .dataframe thead tr:only-child th {\n",
       "        text-align: right;\n",
       "    }\n",
       "\n",
       "    .dataframe thead th {\n",
       "        text-align: left;\n",
       "    }\n",
       "\n",
       "    .dataframe tbody tr th {\n",
       "        vertical-align: top;\n",
       "    }\n",
       "</style>\n",
       "<table border=\"1\" class=\"dataframe\">\n",
       "  <thead>\n",
       "    <tr style=\"text-align: right;\">\n",
       "      <th></th>\n",
       "      <th>测试用例</th>\n",
       "      <th>点击率</th>\n",
       "    </tr>\n",
       "  </thead>\n",
       "  <tbody>\n",
       "    <tr>\n",
       "      <th>0</th>\n",
       "      <td>A</td>\n",
       "      <td>0.080256</td>\n",
       "    </tr>\n",
       "    <tr>\n",
       "      <th>1</th>\n",
       "      <td>B</td>\n",
       "      <td>0.115460</td>\n",
       "    </tr>\n",
       "  </tbody>\n",
       "</table>\n",
       "</div>"
      ],
      "text/plain": [
       "  测试用例       点击率\n",
       "0    A  0.080256\n",
       "1    B  0.115460"
      ]
     },
     "execution_count": 196,
     "metadata": {},
     "output_type": "execute_result"
    }
   ],
   "source": [
    "ab_click = (ab_crosstab.yes/ab_crosstab.All).reset_index(name='点击率')\n",
    "ab_click.iloc[0:2]"
   ]
  },
  {
   "cell_type": "markdown",
   "metadata": {},
   "source": [
    "观察测试用例A和B的点击率，发现A的点击率大约为8%，B的点击率大约为12%。在讨论二者的差异之前，需要对其进行假设检验。**像本例这样，针对两种广告点击情况的差异来进行假设检验，一般采用的是卡方检验**："
   ]
  },
  {
   "cell_type": "code",
   "execution_count": 197,
   "metadata": {},
   "outputs": [
    {
     "data": {
      "text/plain": [
       "array([[ 40592.,   3542.],\n",
       "       [ 38734.,   5056.]])"
      ]
     },
     "execution_count": 197,
     "metadata": {},
     "output_type": "execute_result"
    }
   ],
   "source": [
    "four_forms = np.array([ab_crosstab.iloc[0, 0:2].values, ab_crosstab.iloc[1, 0:2].values])\n",
    "four_forms"
   ]
  },
  {
   "cell_type": "code",
   "execution_count": 198,
   "metadata": {},
   "outputs": [
    {
     "data": {
      "text/plain": [
       "(308.37505289322877, 4.9341396337856319e-69, 1)"
      ]
     },
     "execution_count": 198,
     "metadata": {},
     "output_type": "execute_result"
    }
   ],
   "source": [
    "stats.chi2_contingency(four_forms)[0:3]"
   ]
  },
  {
   "cell_type": "markdown",
   "metadata": {},
   "source": [
    "结果显示p值=~0，自由度为1，所以有理由拒绝0假设（0假设如何设定[卡方检验](https://blog.csdn.net/sinat_26566137/article/details/80971362?from=singlemessage&isappinstalled=0)）,即A和B的点击率存在统计学上的显著差异。"
   ]
  },
  {
   "cell_type": "markdown",
   "metadata": {},
   "source": [
    "在确认A和B点击率存在“显著性差异”后，再看这种显著性差异在商业中是否是有意。本例中原广告的点击率为6%，而其它广告的点击率为12%，为了填补该差异，进行了AB测试。通过观察结果，发现广告B的点击率大约达到了12%，基本达到了要求，因此在商业领域里这也是一个有意义的差异。最后，再确认是点击率的时间序列图，如果在时间序列图里面，广告B的点击率始终比广告A的点击率高的话，那就没有问题。如果只是某段时间比广告A高，那就需要考虑其它原因了。"
   ]
  },
  {
   "cell_type": "code",
   "execution_count": 199,
   "metadata": {},
   "outputs": [
    {
     "data": {
      "text/html": [
       "<div>\n",
       "<style>\n",
       "    .dataframe thead tr:only-child th {\n",
       "        text-align: right;\n",
       "    }\n",
       "\n",
       "    .dataframe thead th {\n",
       "        text-align: left;\n",
       "    }\n",
       "\n",
       "    .dataframe tbody tr th {\n",
       "        vertical-align: top;\n",
       "    }\n",
       "</style>\n",
       "<table border=\"1\" class=\"dataframe\">\n",
       "  <thead>\n",
       "    <tr style=\"text-align: right;\">\n",
       "      <th></th>\n",
       "      <th>transaction_id</th>\n",
       "      <th>log_date</th>\n",
       "      <th>test_case</th>\n",
       "      <th>user_id</th>\n",
       "      <th>click</th>\n",
       "    </tr>\n",
       "  </thead>\n",
       "  <tbody>\n",
       "    <tr>\n",
       "      <th>0</th>\n",
       "      <td>25622</td>\n",
       "      <td>2013-10-01</td>\n",
       "      <td>B</td>\n",
       "      <td>36703</td>\n",
       "      <td>no</td>\n",
       "    </tr>\n",
       "    <tr>\n",
       "      <th>1</th>\n",
       "      <td>25623</td>\n",
       "      <td>2013-10-01</td>\n",
       "      <td>A</td>\n",
       "      <td>44339</td>\n",
       "      <td>no</td>\n",
       "    </tr>\n",
       "    <tr>\n",
       "      <th>2</th>\n",
       "      <td>25624</td>\n",
       "      <td>2013-10-01</td>\n",
       "      <td>B</td>\n",
       "      <td>32087</td>\n",
       "      <td>no</td>\n",
       "    </tr>\n",
       "    <tr>\n",
       "      <th>3</th>\n",
       "      <td>25625</td>\n",
       "      <td>2013-10-01</td>\n",
       "      <td>B</td>\n",
       "      <td>10160</td>\n",
       "      <td>no</td>\n",
       "    </tr>\n",
       "    <tr>\n",
       "      <th>4</th>\n",
       "      <td>25626</td>\n",
       "      <td>2013-10-01</td>\n",
       "      <td>B</td>\n",
       "      <td>46113</td>\n",
       "      <td>no</td>\n",
       "    </tr>\n",
       "  </tbody>\n",
       "</table>\n",
       "</div>"
      ],
      "text/plain": [
       "   transaction_id    log_date test_case  user_id click\n",
       "0           25622  2013-10-01         B    36703    no\n",
       "1           25623  2013-10-01         A    44339    no\n",
       "2           25624  2013-10-01         B    32087    no\n",
       "3           25625  2013-10-01         B    10160    no\n",
       "4           25626  2013-10-01         B    46113    no"
      ]
     },
     "execution_count": 199,
     "metadata": {},
     "output_type": "execute_result"
    }
   ],
   "source": [
    "ab_test_merge.head()"
   ]
  },
  {
   "cell_type": "markdown",
   "metadata": {},
   "source": [
    "**根据曝光日期和测试用例进行分组，分别统计AB测试用例的曝光量和点击量，然后计算各测试用例每天的点击率：**"
   ]
  },
  {
   "cell_type": "code",
   "execution_count": 200,
   "metadata": {},
   "outputs": [
    {
     "data": {
      "text/html": [
       "<div>\n",
       "<style>\n",
       "    .dataframe thead tr:only-child th {\n",
       "        text-align: right;\n",
       "    }\n",
       "\n",
       "    .dataframe thead th {\n",
       "        text-align: left;\n",
       "    }\n",
       "\n",
       "    .dataframe tbody tr th {\n",
       "        vertical-align: top;\n",
       "    }\n",
       "</style>\n",
       "<table border=\"1\" class=\"dataframe\">\n",
       "  <thead>\n",
       "    <tr style=\"text-align: right;\">\n",
       "      <th></th>\n",
       "      <th>transaction_id</th>\n",
       "      <th>log_date</th>\n",
       "      <th>test_case</th>\n",
       "      <th>user_id</th>\n",
       "      <th>click</th>\n",
       "      <th>click_flag</th>\n",
       "    </tr>\n",
       "  </thead>\n",
       "  <tbody>\n",
       "    <tr>\n",
       "      <th>0</th>\n",
       "      <td>25622</td>\n",
       "      <td>2013-10-01</td>\n",
       "      <td>B</td>\n",
       "      <td>36703</td>\n",
       "      <td>no</td>\n",
       "      <td>0</td>\n",
       "    </tr>\n",
       "    <tr>\n",
       "      <th>1</th>\n",
       "      <td>25623</td>\n",
       "      <td>2013-10-01</td>\n",
       "      <td>A</td>\n",
       "      <td>44339</td>\n",
       "      <td>no</td>\n",
       "      <td>0</td>\n",
       "    </tr>\n",
       "    <tr>\n",
       "      <th>2</th>\n",
       "      <td>25624</td>\n",
       "      <td>2013-10-01</td>\n",
       "      <td>B</td>\n",
       "      <td>32087</td>\n",
       "      <td>no</td>\n",
       "      <td>0</td>\n",
       "    </tr>\n",
       "    <tr>\n",
       "      <th>3</th>\n",
       "      <td>25625</td>\n",
       "      <td>2013-10-01</td>\n",
       "      <td>B</td>\n",
       "      <td>10160</td>\n",
       "      <td>no</td>\n",
       "      <td>0</td>\n",
       "    </tr>\n",
       "    <tr>\n",
       "      <th>4</th>\n",
       "      <td>25626</td>\n",
       "      <td>2013-10-01</td>\n",
       "      <td>B</td>\n",
       "      <td>46113</td>\n",
       "      <td>no</td>\n",
       "      <td>0</td>\n",
       "    </tr>\n",
       "  </tbody>\n",
       "</table>\n",
       "</div>"
      ],
      "text/plain": [
       "   transaction_id    log_date test_case  user_id click  click_flag\n",
       "0           25622  2013-10-01         B    36703    no           0\n",
       "1           25623  2013-10-01         A    44339    no           0\n",
       "2           25624  2013-10-01         B    32087    no           0\n",
       "3           25625  2013-10-01         B    10160    no           0\n",
       "4           25626  2013-10-01         B    46113    no           0"
      ]
     },
     "execution_count": 200,
     "metadata": {},
     "output_type": "execute_result"
    }
   ],
   "source": [
    "ab_test_merge['click_flag'] = np.where(ab_test_merge.click=='yes', 1, 0)\n",
    "ab_test_merge.head()"
   ]
  },
  {
   "cell_type": "code",
   "execution_count": 201,
   "metadata": {},
   "outputs": [
    {
     "data": {
      "text/html": [
       "<div>\n",
       "<style>\n",
       "    .dataframe thead tr:only-child th {\n",
       "        text-align: right;\n",
       "    }\n",
       "\n",
       "    .dataframe thead th {\n",
       "        text-align: left;\n",
       "    }\n",
       "\n",
       "    .dataframe tbody tr th {\n",
       "        vertical-align: top;\n",
       "    }\n",
       "</style>\n",
       "<table border=\"1\" class=\"dataframe\">\n",
       "  <thead>\n",
       "    <tr style=\"text-align: right;\">\n",
       "      <th></th>\n",
       "      <th></th>\n",
       "      <th>曝光量</th>\n",
       "      <th>点击量</th>\n",
       "    </tr>\n",
       "    <tr>\n",
       "      <th>log_date</th>\n",
       "      <th>test_case</th>\n",
       "      <th></th>\n",
       "      <th></th>\n",
       "    </tr>\n",
       "  </thead>\n",
       "  <tbody>\n",
       "    <tr>\n",
       "      <th rowspan=\"2\" valign=\"top\">2013-10-01</th>\n",
       "      <th>A</th>\n",
       "      <td>1358</td>\n",
       "      <td>98</td>\n",
       "    </tr>\n",
       "    <tr>\n",
       "      <th>B</th>\n",
       "      <td>1391</td>\n",
       "      <td>176</td>\n",
       "    </tr>\n",
       "    <tr>\n",
       "      <th rowspan=\"2\" valign=\"top\">2013-10-02</th>\n",
       "      <th>A</th>\n",
       "      <td>1370</td>\n",
       "      <td>88</td>\n",
       "    </tr>\n",
       "    <tr>\n",
       "      <th>B</th>\n",
       "      <td>1333</td>\n",
       "      <td>212</td>\n",
       "    </tr>\n",
       "    <tr>\n",
       "      <th>2013-10-03</th>\n",
       "      <th>A</th>\n",
       "      <td>1213</td>\n",
       "      <td>170</td>\n",
       "    </tr>\n",
       "  </tbody>\n",
       "</table>\n",
       "</div>"
      ],
      "text/plain": [
       "                       曝光量  点击量\n",
       "log_date   test_case           \n",
       "2013-10-01 A          1358   98\n",
       "           B          1391  176\n",
       "2013-10-02 A          1370   88\n",
       "           B          1333  212\n",
       "2013-10-03 A          1213  170"
      ]
     },
     "execution_count": 201,
     "metadata": {},
     "output_type": "execute_result"
    }
   ],
   "source": [
    "ab_test_group = ab_test_merge.groupby(['log_date', 'test_case']).agg({'user_id': 'count', 'click_flag': 'sum'})\n",
    "ab_test_group.rename(columns={'user_id': '曝光量', 'click_flag': '点击量'}, inplace=True)\n",
    "ab_test_group.head()"
   ]
  },
  {
   "cell_type": "code",
   "execution_count": 202,
   "metadata": {},
   "outputs": [
    {
     "data": {
      "text/html": [
       "<div>\n",
       "<style>\n",
       "    .dataframe thead tr:only-child th {\n",
       "        text-align: right;\n",
       "    }\n",
       "\n",
       "    .dataframe thead th {\n",
       "        text-align: left;\n",
       "    }\n",
       "\n",
       "    .dataframe tbody tr th {\n",
       "        vertical-align: top;\n",
       "    }\n",
       "</style>\n",
       "<table border=\"1\" class=\"dataframe\">\n",
       "  <thead>\n",
       "    <tr style=\"text-align: right;\">\n",
       "      <th></th>\n",
       "      <th></th>\n",
       "      <th>曝光量</th>\n",
       "      <th>点击量</th>\n",
       "      <th>点击率</th>\n",
       "    </tr>\n",
       "    <tr>\n",
       "      <th>log_date</th>\n",
       "      <th>test_case</th>\n",
       "      <th></th>\n",
       "      <th></th>\n",
       "      <th></th>\n",
       "    </tr>\n",
       "  </thead>\n",
       "  <tbody>\n",
       "    <tr>\n",
       "      <th rowspan=\"2\" valign=\"top\">2013-10-01</th>\n",
       "      <th>A</th>\n",
       "      <td>1358</td>\n",
       "      <td>98</td>\n",
       "      <td>0.072165</td>\n",
       "    </tr>\n",
       "    <tr>\n",
       "      <th>B</th>\n",
       "      <td>1391</td>\n",
       "      <td>176</td>\n",
       "      <td>0.126528</td>\n",
       "    </tr>\n",
       "    <tr>\n",
       "      <th rowspan=\"2\" valign=\"top\">2013-10-02</th>\n",
       "      <th>A</th>\n",
       "      <td>1370</td>\n",
       "      <td>88</td>\n",
       "      <td>0.064234</td>\n",
       "    </tr>\n",
       "    <tr>\n",
       "      <th>B</th>\n",
       "      <td>1333</td>\n",
       "      <td>212</td>\n",
       "      <td>0.159040</td>\n",
       "    </tr>\n",
       "    <tr>\n",
       "      <th>2013-10-03</th>\n",
       "      <th>A</th>\n",
       "      <td>1213</td>\n",
       "      <td>170</td>\n",
       "      <td>0.140148</td>\n",
       "    </tr>\n",
       "  </tbody>\n",
       "</table>\n",
       "</div>"
      ],
      "text/plain": [
       "                       曝光量  点击量       点击率\n",
       "log_date   test_case                     \n",
       "2013-10-01 A          1358   98  0.072165\n",
       "           B          1391  176  0.126528\n",
       "2013-10-02 A          1370   88  0.064234\n",
       "           B          1333  212  0.159040\n",
       "2013-10-03 A          1213  170  0.140148"
      ]
     },
     "execution_count": 202,
     "metadata": {},
     "output_type": "execute_result"
    }
   ],
   "source": [
    "ab_test_group['点击率'] = ab_test_group['点击量']/ab_test_group['曝光量']\n",
    "ab_test_group.head()"
   ]
  },
  {
   "cell_type": "code",
   "execution_count": 203,
   "metadata": {},
   "outputs": [
    {
     "data": {
      "text/html": [
       "<div>\n",
       "<style>\n",
       "    .dataframe thead tr:only-child th {\n",
       "        text-align: right;\n",
       "    }\n",
       "\n",
       "    .dataframe thead th {\n",
       "        text-align: left;\n",
       "    }\n",
       "\n",
       "    .dataframe tbody tr th {\n",
       "        vertical-align: top;\n",
       "    }\n",
       "</style>\n",
       "<table border=\"1\" class=\"dataframe\">\n",
       "  <thead>\n",
       "    <tr>\n",
       "      <th></th>\n",
       "      <th>log_date</th>\n",
       "      <th colspan=\"2\" halign=\"left\">点击率</th>\n",
       "    </tr>\n",
       "    <tr>\n",
       "      <th>test_case</th>\n",
       "      <th></th>\n",
       "      <th>A</th>\n",
       "      <th>B</th>\n",
       "    </tr>\n",
       "  </thead>\n",
       "  <tbody>\n",
       "    <tr>\n",
       "      <th>0</th>\n",
       "      <td>2013-10-01</td>\n",
       "      <td>0.072165</td>\n",
       "      <td>0.126528</td>\n",
       "    </tr>\n",
       "    <tr>\n",
       "      <th>1</th>\n",
       "      <td>2013-10-02</td>\n",
       "      <td>0.064234</td>\n",
       "      <td>0.159040</td>\n",
       "    </tr>\n",
       "    <tr>\n",
       "      <th>2</th>\n",
       "      <td>2013-10-03</td>\n",
       "      <td>0.140148</td>\n",
       "      <td>0.150041</td>\n",
       "    </tr>\n",
       "    <tr>\n",
       "      <th>3</th>\n",
       "      <td>2013-10-04</td>\n",
       "      <td>0.058514</td>\n",
       "      <td>0.119015</td>\n",
       "    </tr>\n",
       "    <tr>\n",
       "      <th>4</th>\n",
       "      <td>2013-10-05</td>\n",
       "      <td>0.035287</td>\n",
       "      <td>0.065637</td>\n",
       "    </tr>\n",
       "  </tbody>\n",
       "</table>\n",
       "</div>"
      ],
      "text/plain": [
       "            log_date       点击率          \n",
       "test_case                    A         B\n",
       "0         2013-10-01  0.072165  0.126528\n",
       "1         2013-10-02  0.064234  0.159040\n",
       "2         2013-10-03  0.140148  0.150041\n",
       "3         2013-10-04  0.058514  0.119015\n",
       "4         2013-10-05  0.035287  0.065637"
      ]
     },
     "execution_count": 203,
     "metadata": {},
     "output_type": "execute_result"
    }
   ],
   "source": [
    "ab_click_rate = ab_test_group[['点击率']].unstack().reset_index()\n",
    "ab_click_rate['log_date'] = pd.to_datetime(ab_click_rate.log_date)\n",
    "ab_click_rate.head()"
   ]
  },
  {
   "cell_type": "markdown",
   "metadata": {},
   "source": [
    "根据上述数据，分别画出测试用例A和B点击率时间序列图："
   ]
  },
  {
   "cell_type": "code",
   "execution_count": 205,
   "metadata": {},
   "outputs": [
    {
     "data": {
      "text/plain": [
       "<matplotlib.legend.Legend at 0x1f52ec68b00>"
      ]
     },
     "execution_count": 205,
     "metadata": {},
     "output_type": "execute_result"
    },
    {
     "data": {
      "image/png": "[encoded data removed]",
      "text/plain": [
       "<matplotlib.figure.Figure at 0x1f52dc95e80>"
      ]
     },
     "metadata": {},
     "output_type": "display_data"
    }
   ],
   "source": [
    "plt.figure(figsize=(12, 7))\n",
    "plt.gca().set_facecolor('whitesmoke')\n",
    "plt.plot(ab_click_rate.log_date, ab_click_rate['点击率']['A'], '--^',color='grey', label='广告A')\n",
    "plt.plot(ab_click_rate.log_date, ab_click_rate['点击率']['B'], '-o', color='gray', label='广告B')\n",
    "plt.title('2013年10月份广告A和广告B点击率时间序列变化', fontsize=18)\n",
    "plt.grid(linestyle='--', linewidth=1, alpha=0.3)\n",
    "plt.legend(facecolor='whitesmoke', loc=3)"
   ]
  },
  {
   "cell_type": "markdown",
   "metadata": {},
   "source": [
    "由上图可知，广告B的点击率大多数时间都在广告A之上，所以，总的来说，广告B的的效果始终要比广告A好。"
   ]
  },
  {
   "cell_type": "markdown",
   "metadata": {},
   "source": [
    "# 6 解决策略"
   ]
  },
  {
   "cell_type": "markdown",
   "metadata": {},
   "source": [
    "根据分析结果可知，广告B的效果要比广告A好，所以将《黑猫拼图》游戏中的促销广告替换为广告B。"
   ]
  }
 ],
 "metadata": {
  "kernelspec": {
   "display_name": "Analysis",
   "language": "python",
   "name": "analysis"
  },
  "language_info": {
   "codemirror_mode": {
    "name": "ipython",
    "version": 3
   },
   "file_extension": ".py",
   "mimetype": "text/x-python",
   "name": "python",
   "nbconvert_exporter": "python",
   "pygments_lexer": "ipython3",
   "version": "3.6.0"
  },
  "toc": {
   "base_numbering": 1,
   "nav_menu": {},
   "number_sections": false,
   "sideBar": true,
   "skip_h1_title": false,
   "title_cell": "Table of Contents",
   "title_sidebar": "Contents",
   "toc_cell": false,
   "toc_position": {
    "height": "calc(100% - 180px)",
    "left": "10px",
    "top": "150px",
    "width": "256px"
   },
   "toc_section_display": true,
   "toc_window_display": true
  }
 },
 "nbformat": 4,
 "nbformat_minor": 2
}
