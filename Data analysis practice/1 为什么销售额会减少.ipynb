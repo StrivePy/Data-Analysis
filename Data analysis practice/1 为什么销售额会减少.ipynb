{
 "cells": [
  {
   "cell_type": "markdown",
   "metadata": {},
   "source": [
    "# <center>为什么销售额会减少（验证型数据分析）</center>"
   ]
  },
  {
   "cell_type": "markdown",
   "metadata": {},
   "source": [
    "# 1 背景"
   ]
  },
  {
   "cell_type": "markdown",
   "metadata": {},
   "source": [
    "一款叫做《黑猫拼图》的社交游戏本月销售额和上月相比有所下滑，于是调查下滑原因，并提升销售额，该怎么做呢？"
   ]
  },
  {
   "cell_type": "markdown",
   "metadata": {},
   "source": [
    "# 2 现状和预期"
   ]
  },
  {
   "cell_type": "markdown",
   "metadata": {},
   "source": [
    "- **现状：和上月相比，本月销售额下降。**\n",
    "- **前提：无论从市场环境还是游戏本身来看，游戏的销售额都有增长空间。**\n",
    "- **预期：将销售额提升到和上月一样的水平。**"
   ]
  },
  {
   "cell_type": "markdown",
   "metadata": {},
   "source": [
    "# 3 发现问题"
   ]
  },
  {
   "cell_type": "markdown",
   "metadata": {},
   "source": [
    "查找本月和上月有哪些不同，从宏观的角度而不是具体的数据中发现问题。可以和市场部和研发部进行沟通，最后得到两个关键信息：\n",
    "- **由于资金问题，本月对该游戏的广告投入相对于上个月减少了。**\n",
    "- **游戏内部每个月的促销活动没有明显变化。**"
   ]
  },
  {
   "cell_type": "markdown",
   "metadata": {},
   "source": [
    "基于上述两条关键信息，可以提出假设：由于广告投入的减少导致销售额的减少。更进一步说，由于商业宣传活动的减少，导致新用户群体的减少（可量化）。"
   ]
  },
  {
   "cell_type": "markdown",
   "metadata": {},
   "source": [
    "**所以解决问题的方法就是用数据来验证新用户数量的减少和销售额下降的关系。**"
   ]
  },
  {
   "cell_type": "markdown",
   "metadata": {},
   "source": [
    "# 4 数据的搜集和加工"
   ]
  },
  {
   "cell_type": "markdown",
   "metadata": {},
   "source": [
    "基于问题来搜集数据，问题：\n",
    "- **和上月相比，本月销售额下降（事实）**\n",
    "- **本月的商业宣传活动相比上月减少了（事实）**\n",
    "- **因此，新用户的数量也减少了（假设）**"
   ]
  },
  {
   "cell_type": "markdown",
   "metadata": {},
   "source": [
    "基于上述假设，为了加快问题的解决，整理分析过程：\n",
    "- **《黑猫拼图》游戏的销售额和上月相比减少了。（事实）**\n",
    "- **通过观察销售额的构成，发现新用户带来的销售额减少了。（假设）**\n",
    "- **将商业宣传活动恢复到和上月相同的水平。（解决方案）**"
   ]
  },
  {
   "cell_type": "markdown",
   "metadata": {},
   "source": [
    "所以，为了验证本月新用户带来的销售额减少了这个假设，需要搜集以下数据：\n",
    "- **DAU(Daily Active User) 每日至少访问一次的用户数据。**\n",
    "- **DPU(Daily Payment User)每日至少消费1日元的用户数据。**\n",
    "- **Install 每位用户首次玩该游戏时间的数据。**"
   ]
  },
  {
   "cell_type": "markdown",
   "metadata": {},
   "source": [
    "## 4.1 数据处理和可视化工具准备"
   ]
  },
  {
   "cell_type": "code",
   "execution_count": 2,
   "metadata": {},
   "outputs": [],
   "source": [
    "import numpy as np\n",
    "import pandas as pd\n",
    "import matplotlib.pyplot as plt\n",
    "%matplotlib inline\n",
    "plt.rcParams['font.sans-serif'] = ['SimHei']\n",
    "plt.rcParams['axes.unicode_minus'] = False"
   ]
  },
  {
   "cell_type": "markdown",
   "metadata": {},
   "source": [
    "## 4.2 数据搜集"
   ]
  },
  {
   "cell_type": "code",
   "execution_count": 3,
   "metadata": {},
   "outputs": [
    {
     "data": {
      "text/html": [
       "<div>\n",
       "<style>\n",
       "    .dataframe thead tr:only-child th {\n",
       "        text-align: right;\n",
       "    }\n",
       "\n",
       "    .dataframe thead th {\n",
       "        text-align: left;\n",
       "    }\n",
       "\n",
       "    .dataframe tbody tr th {\n",
       "        vertical-align: top;\n",
       "    }\n",
       "</style>\n",
       "<table border=\"1\" class=\"dataframe\">\n",
       "  <thead>\n",
       "    <tr style=\"text-align: right;\">\n",
       "      <th></th>\n",
       "      <th>log_date</th>\n",
       "      <th>app_name</th>\n",
       "      <th>user_id</th>\n",
       "    </tr>\n",
       "  </thead>\n",
       "  <tbody>\n",
       "    <tr>\n",
       "      <th>0</th>\n",
       "      <td>2013-06-01</td>\n",
       "      <td>game-01</td>\n",
       "      <td>116</td>\n",
       "    </tr>\n",
       "    <tr>\n",
       "      <th>1</th>\n",
       "      <td>2013-06-01</td>\n",
       "      <td>game-01</td>\n",
       "      <td>13491</td>\n",
       "    </tr>\n",
       "    <tr>\n",
       "      <th>2</th>\n",
       "      <td>2013-06-01</td>\n",
       "      <td>game-01</td>\n",
       "      <td>7006</td>\n",
       "    </tr>\n",
       "    <tr>\n",
       "      <th>3</th>\n",
       "      <td>2013-06-01</td>\n",
       "      <td>game-01</td>\n",
       "      <td>117</td>\n",
       "    </tr>\n",
       "    <tr>\n",
       "      <th>4</th>\n",
       "      <td>2013-06-01</td>\n",
       "      <td>game-01</td>\n",
       "      <td>13492</td>\n",
       "    </tr>\n",
       "  </tbody>\n",
       "</table>\n",
       "</div>"
      ],
      "text/plain": [
       "     log_date app_name  user_id\n",
       "0  2013-06-01  game-01      116\n",
       "1  2013-06-01  game-01    13491\n",
       "2  2013-06-01  game-01     7006\n",
       "3  2013-06-01  game-01      117\n",
       "4  2013-06-01  game-01    13492"
      ]
     },
     "execution_count": 3,
     "metadata": {},
     "output_type": "execute_result"
    }
   ],
   "source": [
    "# 加载DAU数据\n",
    "dau = pd.read_csv('./data/ch3/section3-dau.csv')\n",
    "dau.head()"
   ]
  },
  {
   "cell_type": "code",
   "execution_count": 4,
   "metadata": {},
   "outputs": [
    {
     "data": {
      "text/html": [
       "<div>\n",
       "<style>\n",
       "    .dataframe thead tr:only-child th {\n",
       "        text-align: right;\n",
       "    }\n",
       "\n",
       "    .dataframe thead th {\n",
       "        text-align: left;\n",
       "    }\n",
       "\n",
       "    .dataframe tbody tr th {\n",
       "        vertical-align: top;\n",
       "    }\n",
       "</style>\n",
       "<table border=\"1\" class=\"dataframe\">\n",
       "  <thead>\n",
       "    <tr style=\"text-align: right;\">\n",
       "      <th></th>\n",
       "      <th>log_date</th>\n",
       "      <th>app_name</th>\n",
       "      <th>user_id</th>\n",
       "      <th>payment</th>\n",
       "    </tr>\n",
       "  </thead>\n",
       "  <tbody>\n",
       "    <tr>\n",
       "      <th>0</th>\n",
       "      <td>2013-06-01</td>\n",
       "      <td>game-01</td>\n",
       "      <td>351</td>\n",
       "      <td>1333</td>\n",
       "    </tr>\n",
       "    <tr>\n",
       "      <th>1</th>\n",
       "      <td>2013-06-01</td>\n",
       "      <td>game-01</td>\n",
       "      <td>12796</td>\n",
       "      <td>81</td>\n",
       "    </tr>\n",
       "    <tr>\n",
       "      <th>2</th>\n",
       "      <td>2013-06-01</td>\n",
       "      <td>game-01</td>\n",
       "      <td>364</td>\n",
       "      <td>571</td>\n",
       "    </tr>\n",
       "    <tr>\n",
       "      <th>3</th>\n",
       "      <td>2013-06-01</td>\n",
       "      <td>game-01</td>\n",
       "      <td>13212</td>\n",
       "      <td>648</td>\n",
       "    </tr>\n",
       "    <tr>\n",
       "      <th>4</th>\n",
       "      <td>2013-06-01</td>\n",
       "      <td>game-01</td>\n",
       "      <td>13212</td>\n",
       "      <td>1142</td>\n",
       "    </tr>\n",
       "  </tbody>\n",
       "</table>\n",
       "</div>"
      ],
      "text/plain": [
       "     log_date app_name  user_id  payment\n",
       "0  2013-06-01  game-01      351     1333\n",
       "1  2013-06-01  game-01    12796       81\n",
       "2  2013-06-01  game-01      364      571\n",
       "3  2013-06-01  game-01    13212      648\n",
       "4  2013-06-01  game-01    13212     1142"
      ]
     },
     "execution_count": 4,
     "metadata": {},
     "output_type": "execute_result"
    }
   ],
   "source": [
    "# 加载DPU数据\n",
    "dpu = pd.read_csv('./data/ch3/section3-dpu.csv')\n",
    "dpu.head()"
   ]
  },
  {
   "cell_type": "code",
   "execution_count": 5,
   "metadata": {},
   "outputs": [
    {
     "data": {
      "text/html": [
       "<div>\n",
       "<style>\n",
       "    .dataframe thead tr:only-child th {\n",
       "        text-align: right;\n",
       "    }\n",
       "\n",
       "    .dataframe thead th {\n",
       "        text-align: left;\n",
       "    }\n",
       "\n",
       "    .dataframe tbody tr th {\n",
       "        vertical-align: top;\n",
       "    }\n",
       "</style>\n",
       "<table border=\"1\" class=\"dataframe\">\n",
       "  <thead>\n",
       "    <tr style=\"text-align: right;\">\n",
       "      <th></th>\n",
       "      <th>install_date</th>\n",
       "      <th>app_name</th>\n",
       "      <th>user_id</th>\n",
       "    </tr>\n",
       "  </thead>\n",
       "  <tbody>\n",
       "    <tr>\n",
       "      <th>0</th>\n",
       "      <td>2013-04-15</td>\n",
       "      <td>game-01</td>\n",
       "      <td>1</td>\n",
       "    </tr>\n",
       "    <tr>\n",
       "      <th>1</th>\n",
       "      <td>2013-04-15</td>\n",
       "      <td>game-01</td>\n",
       "      <td>2</td>\n",
       "    </tr>\n",
       "    <tr>\n",
       "      <th>2</th>\n",
       "      <td>2013-04-15</td>\n",
       "      <td>game-01</td>\n",
       "      <td>3</td>\n",
       "    </tr>\n",
       "    <tr>\n",
       "      <th>3</th>\n",
       "      <td>2013-04-15</td>\n",
       "      <td>game-01</td>\n",
       "      <td>4</td>\n",
       "    </tr>\n",
       "    <tr>\n",
       "      <th>4</th>\n",
       "      <td>2013-04-15</td>\n",
       "      <td>game-01</td>\n",
       "      <td>5</td>\n",
       "    </tr>\n",
       "  </tbody>\n",
       "</table>\n",
       "</div>"
      ],
      "text/plain": [
       "  install_date app_name  user_id\n",
       "0   2013-04-15  game-01        1\n",
       "1   2013-04-15  game-01        2\n",
       "2   2013-04-15  game-01        3\n",
       "3   2013-04-15  game-01        4\n",
       "4   2013-04-15  game-01        5"
      ]
     },
     "execution_count": 5,
     "metadata": {},
     "output_type": "execute_result"
    }
   ],
   "source": [
    "# 加载Install数据\n",
    "install = pd.read_csv('./data/ch3/section3-install.csv')\n",
    "install.head()"
   ]
  },
  {
   "cell_type": "markdown",
   "metadata": {},
   "source": [
    "## 4.3 数据加工"
   ]
  },
  {
   "cell_type": "markdown",
   "metadata": {},
   "source": [
    "收集完原始数据后，还需要将数据加工成便于分析的结构。原始数据分别独立于三张表格中，那么什么是便于分析的数据：**能够统计出每月新增用户销售额的数据**"
   ]
  },
  {
   "cell_type": "markdown",
   "metadata": {},
   "source": [
    "### 4.3.1 统计新增用户"
   ]
  },
  {
   "cell_type": "markdown",
   "metadata": {},
   "source": [
    "为了得到**某一天该游戏的新增用户数**，需要将DAU和Insall两张表，以user_id作为key进行连接（**DAU中的用户是Intall中用户的子集**）："
   ]
  },
  {
   "cell_type": "code",
   "execution_count": 6,
   "metadata": {},
   "outputs": [
    {
     "data": {
      "text/html": [
       "<div>\n",
       "<style>\n",
       "    .dataframe thead tr:only-child th {\n",
       "        text-align: right;\n",
       "    }\n",
       "\n",
       "    .dataframe thead th {\n",
       "        text-align: left;\n",
       "    }\n",
       "\n",
       "    .dataframe tbody tr th {\n",
       "        vertical-align: top;\n",
       "    }\n",
       "</style>\n",
       "<table border=\"1\" class=\"dataframe\">\n",
       "  <thead>\n",
       "    <tr style=\"text-align: right;\">\n",
       "      <th></th>\n",
       "      <th>log_date</th>\n",
       "      <th>app_name</th>\n",
       "      <th>user_id</th>\n",
       "      <th>install_date</th>\n",
       "    </tr>\n",
       "  </thead>\n",
       "  <tbody>\n",
       "    <tr>\n",
       "      <th>0</th>\n",
       "      <td>2013-06-01</td>\n",
       "      <td>game-01</td>\n",
       "      <td>116</td>\n",
       "      <td>2013-04-17</td>\n",
       "    </tr>\n",
       "    <tr>\n",
       "      <th>1</th>\n",
       "      <td>2013-06-02</td>\n",
       "      <td>game-01</td>\n",
       "      <td>116</td>\n",
       "      <td>2013-04-17</td>\n",
       "    </tr>\n",
       "    <tr>\n",
       "      <th>2</th>\n",
       "      <td>2013-06-03</td>\n",
       "      <td>game-01</td>\n",
       "      <td>116</td>\n",
       "      <td>2013-04-17</td>\n",
       "    </tr>\n",
       "    <tr>\n",
       "      <th>3</th>\n",
       "      <td>2013-06-04</td>\n",
       "      <td>game-01</td>\n",
       "      <td>116</td>\n",
       "      <td>2013-04-17</td>\n",
       "    </tr>\n",
       "    <tr>\n",
       "      <th>4</th>\n",
       "      <td>2013-06-05</td>\n",
       "      <td>game-01</td>\n",
       "      <td>116</td>\n",
       "      <td>2013-04-17</td>\n",
       "    </tr>\n",
       "  </tbody>\n",
       "</table>\n",
       "</div>"
      ],
      "text/plain": [
       "     log_date app_name  user_id install_date\n",
       "0  2013-06-01  game-01      116   2013-04-17\n",
       "1  2013-06-02  game-01      116   2013-04-17\n",
       "2  2013-06-03  game-01      116   2013-04-17\n",
       "3  2013-06-04  game-01      116   2013-04-17\n",
       "4  2013-06-05  game-01      116   2013-04-17"
      ]
     },
     "execution_count": 6,
     "metadata": {},
     "output_type": "execute_result"
    }
   ],
   "source": [
    "dau_install = pd.merge(dau, install, left_on=['user_id', 'app_name'], right_on=['user_id', 'app_name'], how='inner')\n",
    "dau_install.head()"
   ]
  },
  {
   "cell_type": "markdown",
   "metadata": {},
   "source": [
    "### 4.3.2 统计消费用户"
   ]
  },
  {
   "cell_type": "markdown",
   "metadata": {},
   "source": [
    "为了得到**某一天有消费行为的用户数**，需要将DAU（其实是dau_install）和DPU两张表，以user_id和log_date作为key进行连接（**DPU中的用户是DAU中用户的子集**）："
   ]
  },
  {
   "cell_type": "code",
   "execution_count": 7,
   "metadata": {},
   "outputs": [
    {
     "data": {
      "text/html": [
       "<div>\n",
       "<style>\n",
       "    .dataframe thead tr:only-child th {\n",
       "        text-align: right;\n",
       "    }\n",
       "\n",
       "    .dataframe thead th {\n",
       "        text-align: left;\n",
       "    }\n",
       "\n",
       "    .dataframe tbody tr th {\n",
       "        vertical-align: top;\n",
       "    }\n",
       "</style>\n",
       "<table border=\"1\" class=\"dataframe\">\n",
       "  <thead>\n",
       "    <tr style=\"text-align: right;\">\n",
       "      <th></th>\n",
       "      <th>log_date</th>\n",
       "      <th>app_name</th>\n",
       "      <th>user_id</th>\n",
       "      <th>install_date</th>\n",
       "      <th>payment</th>\n",
       "    </tr>\n",
       "  </thead>\n",
       "  <tbody>\n",
       "    <tr>\n",
       "      <th>0</th>\n",
       "      <td>2013-06-01</td>\n",
       "      <td>game-01</td>\n",
       "      <td>116</td>\n",
       "      <td>2013-04-17</td>\n",
       "      <td>NaN</td>\n",
       "    </tr>\n",
       "    <tr>\n",
       "      <th>1</th>\n",
       "      <td>2013-06-02</td>\n",
       "      <td>game-01</td>\n",
       "      <td>116</td>\n",
       "      <td>2013-04-17</td>\n",
       "      <td>NaN</td>\n",
       "    </tr>\n",
       "    <tr>\n",
       "      <th>2</th>\n",
       "      <td>2013-06-03</td>\n",
       "      <td>game-01</td>\n",
       "      <td>116</td>\n",
       "      <td>2013-04-17</td>\n",
       "      <td>NaN</td>\n",
       "    </tr>\n",
       "    <tr>\n",
       "      <th>3</th>\n",
       "      <td>2013-06-04</td>\n",
       "      <td>game-01</td>\n",
       "      <td>116</td>\n",
       "      <td>2013-04-17</td>\n",
       "      <td>NaN</td>\n",
       "    </tr>\n",
       "    <tr>\n",
       "      <th>4</th>\n",
       "      <td>2013-06-05</td>\n",
       "      <td>game-01</td>\n",
       "      <td>116</td>\n",
       "      <td>2013-04-17</td>\n",
       "      <td>NaN</td>\n",
       "    </tr>\n",
       "  </tbody>\n",
       "</table>\n",
       "</div>"
      ],
      "text/plain": [
       "     log_date app_name  user_id install_date  payment\n",
       "0  2013-06-01  game-01      116   2013-04-17      NaN\n",
       "1  2013-06-02  game-01      116   2013-04-17      NaN\n",
       "2  2013-06-03  game-01      116   2013-04-17      NaN\n",
       "3  2013-06-04  game-01      116   2013-04-17      NaN\n",
       "4  2013-06-05  game-01      116   2013-04-17      NaN"
      ]
     },
     "execution_count": 7,
     "metadata": {},
     "output_type": "execute_result"
    }
   ],
   "source": [
    "dau_install_payment = pd.merge(dau_install, dpu, left_on=['log_date', 'app_name', 'user_id'], right_on=['log_date', 'app_name', 'user_id'], how='left')\n",
    "dau_install_payment.head()"
   ]
  },
  {
   "cell_type": "markdown",
   "metadata": {},
   "source": [
    "在DAU中，存在消费行为的用户只有一部分，而和DPU进行的是左连接，所以结果中的payment列会出现缺失值。缺失值会影响到平均值等计算，所以将缺失值（NaN）替换为0。"
   ]
  },
  {
   "cell_type": "code",
   "execution_count": 8,
   "metadata": {},
   "outputs": [
    {
     "data": {
      "text/html": [
       "<div>\n",
       "<style>\n",
       "    .dataframe thead tr:only-child th {\n",
       "        text-align: right;\n",
       "    }\n",
       "\n",
       "    .dataframe thead th {\n",
       "        text-align: left;\n",
       "    }\n",
       "\n",
       "    .dataframe tbody tr th {\n",
       "        vertical-align: top;\n",
       "    }\n",
       "</style>\n",
       "<table border=\"1\" class=\"dataframe\">\n",
       "  <thead>\n",
       "    <tr style=\"text-align: right;\">\n",
       "      <th></th>\n",
       "      <th>log_date</th>\n",
       "      <th>app_name</th>\n",
       "      <th>user_id</th>\n",
       "      <th>install_date</th>\n",
       "      <th>payment</th>\n",
       "    </tr>\n",
       "  </thead>\n",
       "  <tbody>\n",
       "    <tr>\n",
       "      <th>0</th>\n",
       "      <td>2013-06-01</td>\n",
       "      <td>game-01</td>\n",
       "      <td>116</td>\n",
       "      <td>2013-04-17</td>\n",
       "      <td>0.0</td>\n",
       "    </tr>\n",
       "    <tr>\n",
       "      <th>1</th>\n",
       "      <td>2013-06-02</td>\n",
       "      <td>game-01</td>\n",
       "      <td>116</td>\n",
       "      <td>2013-04-17</td>\n",
       "      <td>0.0</td>\n",
       "    </tr>\n",
       "    <tr>\n",
       "      <th>2</th>\n",
       "      <td>2013-06-03</td>\n",
       "      <td>game-01</td>\n",
       "      <td>116</td>\n",
       "      <td>2013-04-17</td>\n",
       "      <td>0.0</td>\n",
       "    </tr>\n",
       "    <tr>\n",
       "      <th>3</th>\n",
       "      <td>2013-06-04</td>\n",
       "      <td>game-01</td>\n",
       "      <td>116</td>\n",
       "      <td>2013-04-17</td>\n",
       "      <td>0.0</td>\n",
       "    </tr>\n",
       "    <tr>\n",
       "      <th>4</th>\n",
       "      <td>2013-06-05</td>\n",
       "      <td>game-01</td>\n",
       "      <td>116</td>\n",
       "      <td>2013-04-17</td>\n",
       "      <td>0.0</td>\n",
       "    </tr>\n",
       "  </tbody>\n",
       "</table>\n",
       "</div>"
      ],
      "text/plain": [
       "     log_date app_name  user_id install_date  payment\n",
       "0  2013-06-01  game-01      116   2013-04-17      0.0\n",
       "1  2013-06-02  game-01      116   2013-04-17      0.0\n",
       "2  2013-06-03  game-01      116   2013-04-17      0.0\n",
       "3  2013-06-04  game-01      116   2013-04-17      0.0\n",
       "4  2013-06-05  game-01      116   2013-04-17      0.0"
      ]
     },
     "execution_count": 8,
     "metadata": {},
     "output_type": "execute_result"
    }
   ],
   "source": [
    "dau_install_payment.fillna(value=0, inplace=True)\n",
    "dau_install_payment.head()"
   ]
  },
  {
   "cell_type": "markdown",
   "metadata": {},
   "source": [
    "### 4.3.3 按月统计用户数据"
   ]
  },
  {
   "cell_type": "markdown",
   "metadata": {},
   "source": [
    "为了观察本月和上月数据的差别，数据将会按照月份来统计，也就是**按月统计用户数据**。"
   ]
  },
  {
   "cell_type": "markdown",
   "metadata": {},
   "source": [
    "将log_date列加工为月份："
   ]
  },
  {
   "cell_type": "code",
   "execution_count": 9,
   "metadata": {},
   "outputs": [],
   "source": [
    "dau_install_payment['log_date'] = dau_install_payment.log_date.map(lambda x: pd.to_datetime(x).strftime('%Y-%m'))"
   ]
  },
  {
   "cell_type": "markdown",
   "metadata": {},
   "source": [
    "将install_date列加工为月份："
   ]
  },
  {
   "cell_type": "code",
   "execution_count": 10,
   "metadata": {},
   "outputs": [],
   "source": [
    "dau_install_payment['install_date'] = dau_install_payment.install_date.map(lambda x: pd.to_datetime(x).strftime('%Y-%m'))"
   ]
  },
  {
   "cell_type": "code",
   "execution_count": 11,
   "metadata": {},
   "outputs": [
    {
     "data": {
      "text/html": [
       "<div>\n",
       "<style>\n",
       "    .dataframe thead tr:only-child th {\n",
       "        text-align: right;\n",
       "    }\n",
       "\n",
       "    .dataframe thead th {\n",
       "        text-align: left;\n",
       "    }\n",
       "\n",
       "    .dataframe tbody tr th {\n",
       "        vertical-align: top;\n",
       "    }\n",
       "</style>\n",
       "<table border=\"1\" class=\"dataframe\">\n",
       "  <thead>\n",
       "    <tr style=\"text-align: right;\">\n",
       "      <th></th>\n",
       "      <th>log_date</th>\n",
       "      <th>app_name</th>\n",
       "      <th>user_id</th>\n",
       "      <th>install_date</th>\n",
       "      <th>payment</th>\n",
       "    </tr>\n",
       "  </thead>\n",
       "  <tbody>\n",
       "    <tr>\n",
       "      <th>0</th>\n",
       "      <td>2013-06</td>\n",
       "      <td>game-01</td>\n",
       "      <td>116</td>\n",
       "      <td>2013-04</td>\n",
       "      <td>0.0</td>\n",
       "    </tr>\n",
       "    <tr>\n",
       "      <th>1</th>\n",
       "      <td>2013-06</td>\n",
       "      <td>game-01</td>\n",
       "      <td>116</td>\n",
       "      <td>2013-04</td>\n",
       "      <td>0.0</td>\n",
       "    </tr>\n",
       "    <tr>\n",
       "      <th>2</th>\n",
       "      <td>2013-06</td>\n",
       "      <td>game-01</td>\n",
       "      <td>116</td>\n",
       "      <td>2013-04</td>\n",
       "      <td>0.0</td>\n",
       "    </tr>\n",
       "    <tr>\n",
       "      <th>3</th>\n",
       "      <td>2013-06</td>\n",
       "      <td>game-01</td>\n",
       "      <td>116</td>\n",
       "      <td>2013-04</td>\n",
       "      <td>0.0</td>\n",
       "    </tr>\n",
       "    <tr>\n",
       "      <th>4</th>\n",
       "      <td>2013-06</td>\n",
       "      <td>game-01</td>\n",
       "      <td>116</td>\n",
       "      <td>2013-04</td>\n",
       "      <td>0.0</td>\n",
       "    </tr>\n",
       "  </tbody>\n",
       "</table>\n",
       "</div>"
      ],
      "text/plain": [
       "  log_date app_name  user_id install_date  payment\n",
       "0  2013-06  game-01      116      2013-04      0.0\n",
       "1  2013-06  game-01      116      2013-04      0.0\n",
       "2  2013-06  game-01      116      2013-04      0.0\n",
       "3  2013-06  game-01      116      2013-04      0.0\n",
       "4  2013-06  game-01      116      2013-04      0.0"
      ]
     },
     "execution_count": 11,
     "metadata": {},
     "output_type": "execute_result"
    }
   ],
   "source": [
    "dau_install_payment.head()"
   ]
  },
  {
   "cell_type": "markdown",
   "metadata": {},
   "source": [
    "**按月统计进行聚合，统计每位用户的月消费总额：**"
   ]
  },
  {
   "cell_type": "code",
   "execution_count": 12,
   "metadata": {},
   "outputs": [
    {
     "data": {
      "text/html": [
       "<div>\n",
       "<style>\n",
       "    .dataframe thead tr:only-child th {\n",
       "        text-align: right;\n",
       "    }\n",
       "\n",
       "    .dataframe thead th {\n",
       "        text-align: left;\n",
       "    }\n",
       "\n",
       "    .dataframe tbody tr th {\n",
       "        vertical-align: top;\n",
       "    }\n",
       "</style>\n",
       "<table border=\"1\" class=\"dataframe\">\n",
       "  <thead>\n",
       "    <tr style=\"text-align: right;\">\n",
       "      <th></th>\n",
       "      <th>log_date</th>\n",
       "      <th>user_id</th>\n",
       "      <th>install_date</th>\n",
       "      <th>payment</th>\n",
       "    </tr>\n",
       "  </thead>\n",
       "  <tbody>\n",
       "    <tr>\n",
       "      <th>0</th>\n",
       "      <td>2013-06</td>\n",
       "      <td>1</td>\n",
       "      <td>2013-04</td>\n",
       "      <td>0.0</td>\n",
       "    </tr>\n",
       "    <tr>\n",
       "      <th>1</th>\n",
       "      <td>2013-06</td>\n",
       "      <td>2</td>\n",
       "      <td>2013-04</td>\n",
       "      <td>0.0</td>\n",
       "    </tr>\n",
       "    <tr>\n",
       "      <th>2</th>\n",
       "      <td>2013-06</td>\n",
       "      <td>3</td>\n",
       "      <td>2013-04</td>\n",
       "      <td>14994.0</td>\n",
       "    </tr>\n",
       "    <tr>\n",
       "      <th>3</th>\n",
       "      <td>2013-06</td>\n",
       "      <td>4</td>\n",
       "      <td>2013-04</td>\n",
       "      <td>0.0</td>\n",
       "    </tr>\n",
       "    <tr>\n",
       "      <th>4</th>\n",
       "      <td>2013-06</td>\n",
       "      <td>6</td>\n",
       "      <td>2013-04</td>\n",
       "      <td>0.0</td>\n",
       "    </tr>\n",
       "  </tbody>\n",
       "</table>\n",
       "</div>"
      ],
      "text/plain": [
       "  log_date  user_id install_date  payment\n",
       "0  2013-06        1      2013-04      0.0\n",
       "1  2013-06        2      2013-04      0.0\n",
       "2  2013-06        3      2013-04  14994.0\n",
       "3  2013-06        4      2013-04      0.0\n",
       "4  2013-06        6      2013-04      0.0"
      ]
     },
     "execution_count": 12,
     "metadata": {},
     "output_type": "execute_result"
    }
   ],
   "source": [
    "mau_payment = dau_install_payment.groupby(['log_date', 'user_id', 'install_date'])['payment'].agg('sum')\n",
    "mau_payment = mau_payment.reset_index()\n",
    "mau_payment.head()"
   ]
  },
  {
   "cell_type": "markdown",
   "metadata": {},
   "source": [
    "**在按月统计的用户数据中，新增区分新用户和老用户列（user_group）：比较某个用户的install_date和log_date是否相同，相同为新（new），否则为老（old）。**"
   ]
  },
  {
   "cell_type": "code",
   "execution_count": 13,
   "metadata": {},
   "outputs": [],
   "source": [
    "mau_payment['user_group'] = mau_payment.apply(lambda x: 'new' if x.log_date == x.install_date else 'old', axis=1)"
   ]
  },
  {
   "cell_type": "code",
   "execution_count": 14,
   "metadata": {},
   "outputs": [
    {
     "data": {
      "text/html": [
       "<div>\n",
       "<style>\n",
       "    .dataframe thead tr:only-child th {\n",
       "        text-align: right;\n",
       "    }\n",
       "\n",
       "    .dataframe thead th {\n",
       "        text-align: left;\n",
       "    }\n",
       "\n",
       "    .dataframe tbody tr th {\n",
       "        vertical-align: top;\n",
       "    }\n",
       "</style>\n",
       "<table border=\"1\" class=\"dataframe\">\n",
       "  <thead>\n",
       "    <tr style=\"text-align: right;\">\n",
       "      <th></th>\n",
       "      <th>log_date</th>\n",
       "      <th>user_id</th>\n",
       "      <th>install_date</th>\n",
       "      <th>payment</th>\n",
       "      <th>user_group</th>\n",
       "    </tr>\n",
       "  </thead>\n",
       "  <tbody>\n",
       "    <tr>\n",
       "      <th>0</th>\n",
       "      <td>2013-06</td>\n",
       "      <td>1</td>\n",
       "      <td>2013-04</td>\n",
       "      <td>0.0</td>\n",
       "      <td>old</td>\n",
       "    </tr>\n",
       "    <tr>\n",
       "      <th>1</th>\n",
       "      <td>2013-06</td>\n",
       "      <td>2</td>\n",
       "      <td>2013-04</td>\n",
       "      <td>0.0</td>\n",
       "      <td>old</td>\n",
       "    </tr>\n",
       "    <tr>\n",
       "      <th>2</th>\n",
       "      <td>2013-06</td>\n",
       "      <td>3</td>\n",
       "      <td>2013-04</td>\n",
       "      <td>14994.0</td>\n",
       "      <td>old</td>\n",
       "    </tr>\n",
       "    <tr>\n",
       "      <th>3</th>\n",
       "      <td>2013-06</td>\n",
       "      <td>4</td>\n",
       "      <td>2013-04</td>\n",
       "      <td>0.0</td>\n",
       "      <td>old</td>\n",
       "    </tr>\n",
       "    <tr>\n",
       "      <th>4</th>\n",
       "      <td>2013-06</td>\n",
       "      <td>6</td>\n",
       "      <td>2013-04</td>\n",
       "      <td>0.0</td>\n",
       "      <td>old</td>\n",
       "    </tr>\n",
       "  </tbody>\n",
       "</table>\n",
       "</div>"
      ],
      "text/plain": [
       "  log_date  user_id install_date  payment user_group\n",
       "0  2013-06        1      2013-04      0.0        old\n",
       "1  2013-06        2      2013-04      0.0        old\n",
       "2  2013-06        3      2013-04  14994.0        old\n",
       "3  2013-06        4      2013-04      0.0        old\n",
       "4  2013-06        6      2013-04      0.0        old"
      ]
     },
     "execution_count": 14,
     "metadata": {},
     "output_type": "execute_result"
    }
   ],
   "source": [
    "mau_payment.head()"
   ]
  },
  {
   "cell_type": "markdown",
   "metadata": {},
   "source": [
    "**按月统计新用户和老用户的消费总额：**"
   ]
  },
  {
   "cell_type": "code",
   "execution_count": 15,
   "metadata": {},
   "outputs": [
    {
     "data": {
      "text/html": [
       "<div>\n",
       "<style>\n",
       "    .dataframe thead tr:only-child th {\n",
       "        text-align: right;\n",
       "    }\n",
       "\n",
       "    .dataframe thead th {\n",
       "        text-align: left;\n",
       "    }\n",
       "\n",
       "    .dataframe tbody tr th {\n",
       "        vertical-align: top;\n",
       "    }\n",
       "</style>\n",
       "<table border=\"1\" class=\"dataframe\">\n",
       "  <thead>\n",
       "    <tr style=\"text-align: right;\">\n",
       "      <th></th>\n",
       "      <th>log_date</th>\n",
       "      <th>user_group</th>\n",
       "      <th>payment</th>\n",
       "    </tr>\n",
       "  </thead>\n",
       "  <tbody>\n",
       "    <tr>\n",
       "      <th>0</th>\n",
       "      <td>2013-06</td>\n",
       "      <td>new</td>\n",
       "      <td>49837.0</td>\n",
       "    </tr>\n",
       "    <tr>\n",
       "      <th>1</th>\n",
       "      <td>2013-06</td>\n",
       "      <td>old</td>\n",
       "      <td>177886.0</td>\n",
       "    </tr>\n",
       "    <tr>\n",
       "      <th>2</th>\n",
       "      <td>2013-07</td>\n",
       "      <td>new</td>\n",
       "      <td>29199.0</td>\n",
       "    </tr>\n",
       "    <tr>\n",
       "      <th>3</th>\n",
       "      <td>2013-07</td>\n",
       "      <td>old</td>\n",
       "      <td>177886.0</td>\n",
       "    </tr>\n",
       "  </tbody>\n",
       "</table>\n",
       "</div>"
      ],
      "text/plain": [
       "  log_date user_group   payment\n",
       "0  2013-06        new   49837.0\n",
       "1  2013-06        old  177886.0\n",
       "2  2013-07        new   29199.0\n",
       "3  2013-07        old  177886.0"
      ]
     },
     "execution_count": 15,
     "metadata": {},
     "output_type": "execute_result"
    }
   ],
   "source": [
    "month_payment = mau_payment.groupby(['log_date', 'user_group'])['payment'].agg('sum')\n",
    "month_payment_reset = month_payment.reset_index()\n",
    "month_payment_reset"
   ]
  },
  {
   "cell_type": "markdown",
   "metadata": {},
   "source": [
    "## 4.4  数据分析"
   ]
  },
  {
   "cell_type": "markdown",
   "metadata": {},
   "source": [
    "经过上述步骤，已经将数据加工成便于分析的结构，接下来将数据可视化来辅助数据分析。"
   ]
  },
  {
   "cell_type": "markdown",
   "metadata": {},
   "source": [
    "**画出本月和上月销售额的柱形图，其中每月销售额由新用户销售额和老用户销售额堆积而成：**"
   ]
  },
  {
   "cell_type": "code",
   "execution_count": 16,
   "metadata": {},
   "outputs": [
    {
     "data": {
      "text/html": [
       "<div>\n",
       "<style>\n",
       "    .dataframe thead tr:only-child th {\n",
       "        text-align: right;\n",
       "    }\n",
       "\n",
       "    .dataframe thead th {\n",
       "        text-align: left;\n",
       "    }\n",
       "\n",
       "    .dataframe tbody tr th {\n",
       "        vertical-align: top;\n",
       "    }\n",
       "</style>\n",
       "<table border=\"1\" class=\"dataframe\">\n",
       "  <thead>\n",
       "    <tr style=\"text-align: right;\">\n",
       "      <th>user_group</th>\n",
       "      <th>new</th>\n",
       "      <th>old</th>\n",
       "    </tr>\n",
       "    <tr>\n",
       "      <th>log_date</th>\n",
       "      <th></th>\n",
       "      <th></th>\n",
       "    </tr>\n",
       "  </thead>\n",
       "  <tbody>\n",
       "    <tr>\n",
       "      <th>2013-06</th>\n",
       "      <td>49837.0</td>\n",
       "      <td>177886.0</td>\n",
       "    </tr>\n",
       "    <tr>\n",
       "      <th>2013-07</th>\n",
       "      <td>29199.0</td>\n",
       "      <td>177886.0</td>\n",
       "    </tr>\n",
       "  </tbody>\n",
       "</table>\n",
       "</div>"
      ],
      "text/plain": [
       "user_group      new       old\n",
       "log_date                     \n",
       "2013-06     49837.0  177886.0\n",
       "2013-07     29199.0  177886.0"
      ]
     },
     "execution_count": 16,
     "metadata": {},
     "output_type": "execute_result"
    }
   ],
   "source": [
    "month_payment_stack = month_payment.unstack(level=1)\n",
    "month_payment_stack"
   ]
  },
  {
   "cell_type": "code",
   "execution_count": 17,
   "metadata": {
    "scrolled": true
   },
   "outputs": [
    {
     "data": {
      "image/png": "[encoded data removed]",
      "text/plain": [
       "<matplotlib.figure.Figure at 0x1dd9edfa1d0>"
      ]
     },
     "metadata": {},
     "output_type": "display_data"
    }
   ],
   "source": [
    "index = np.arange(month_payment_stack.index.size)\n",
    "value_total = month_payment_stack.new + month_payment_stack.old\n",
    "value_old = month_payment_stack.old\n",
    "plt.figure(figsize=(10, 5))\n",
    "plt.bar(index, value_total, color='gray', label='新用户')\n",
    "plt.bar(index, value_old, color='silver', label='老用户')\n",
    "plt.title('《黑猫拼图》游戏销售额比较（上月/本月）', fontsize=18)\n",
    "plt.xticks(index, month_payment_stack.index, fontsize=11)\n",
    "plt.ylabel('总销售额（日元）', fontsize=13)\n",
    "plt.yticks(fontsize=11)\n",
    "plt.legend(loc=1)\n",
    "plt.grid(True)\n",
    "plt.show()"
   ]
  },
  {
   "cell_type": "markdown",
   "metadata": {},
   "source": [
    "**上图，左边柱子代表上月销售额，右边柱子代表本月销售额，浅灰色代表老用户销售额，深灰色代表新用户销售额。由上图可知，本月销售额相比上月有所下降，老用户销售额和上月相比，没有明显变化，而新用户销售额和上月相比则降低了，由此导致本月销售额下降。初步分析得到的结果很顺利的验证前面提出的假设。**"
   ]
  },
  {
   "cell_type": "markdown",
   "metadata": {},
   "source": [
    "**接下来看具体是哪个层次的消费额减少了，可知观察上月和本月新增用户消费情况的密度分布：**"
   ]
  },
  {
   "cell_type": "code",
   "execution_count": 18,
   "metadata": {},
   "outputs": [
    {
     "data": {
      "text/html": [
       "<div>\n",
       "<style>\n",
       "    .dataframe thead tr:only-child th {\n",
       "        text-align: right;\n",
       "    }\n",
       "\n",
       "    .dataframe thead th {\n",
       "        text-align: left;\n",
       "    }\n",
       "\n",
       "    .dataframe tbody tr th {\n",
       "        vertical-align: top;\n",
       "    }\n",
       "</style>\n",
       "<table border=\"1\" class=\"dataframe\">\n",
       "  <thead>\n",
       "    <tr style=\"text-align: right;\">\n",
       "      <th></th>\n",
       "      <th>log_date</th>\n",
       "      <th>user_id</th>\n",
       "      <th>install_date</th>\n",
       "      <th>payment</th>\n",
       "      <th>user_group</th>\n",
       "    </tr>\n",
       "  </thead>\n",
       "  <tbody>\n",
       "    <tr>\n",
       "      <th>5598</th>\n",
       "      <td>2013-06</td>\n",
       "      <td>13491</td>\n",
       "      <td>2013-06</td>\n",
       "      <td>0.0</td>\n",
       "      <td>new</td>\n",
       "    </tr>\n",
       "    <tr>\n",
       "      <th>5599</th>\n",
       "      <td>2013-06</td>\n",
       "      <td>13492</td>\n",
       "      <td>2013-06</td>\n",
       "      <td>0.0</td>\n",
       "      <td>new</td>\n",
       "    </tr>\n",
       "    <tr>\n",
       "      <th>5600</th>\n",
       "      <td>2013-06</td>\n",
       "      <td>13493</td>\n",
       "      <td>2013-06</td>\n",
       "      <td>0.0</td>\n",
       "      <td>new</td>\n",
       "    </tr>\n",
       "    <tr>\n",
       "      <th>5601</th>\n",
       "      <td>2013-06</td>\n",
       "      <td>13494</td>\n",
       "      <td>2013-06</td>\n",
       "      <td>0.0</td>\n",
       "      <td>new</td>\n",
       "    </tr>\n",
       "    <tr>\n",
       "      <th>5602</th>\n",
       "      <td>2013-06</td>\n",
       "      <td>13495</td>\n",
       "      <td>2013-06</td>\n",
       "      <td>0.0</td>\n",
       "      <td>new</td>\n",
       "    </tr>\n",
       "  </tbody>\n",
       "</table>\n",
       "</div>"
      ],
      "text/plain": [
       "     log_date  user_id install_date  payment user_group\n",
       "5598  2013-06    13491      2013-06      0.0        new\n",
       "5599  2013-06    13492      2013-06      0.0        new\n",
       "5600  2013-06    13493      2013-06      0.0        new\n",
       "5601  2013-06    13494      2013-06      0.0        new\n",
       "5602  2013-06    13495      2013-06      0.0        new"
      ]
     },
     "execution_count": 18,
     "metadata": {},
     "output_type": "execute_result"
    }
   ],
   "source": [
    "mau_payment_new = mau_payment[mau_payment.user_group=='new']\n",
    "mau_payment_new.head()"
   ]
  },
  {
   "cell_type": "code",
   "execution_count": 19,
   "metadata": {},
   "outputs": [
    {
     "data": {
      "text/plain": [
       "0.0"
      ]
     },
     "execution_count": 19,
     "metadata": {},
     "output_type": "execute_result"
    }
   ],
   "source": [
    "mau_payment_new.payment.min()"
   ]
  },
  {
   "cell_type": "code",
   "execution_count": 20,
   "metadata": {},
   "outputs": [],
   "source": [
    "payment_min = mau_payment_new.payment.min()\n",
    "payment_max = mau_payment_new.payment.max()\n",
    "mau_payment_new = mau_payment_new[mau_payment_new.payment>0]\n",
    "mau_payment_new['payment_group'] = pd.cut(mau_payment_new.payment, \n",
    "                                          bins=[payment_min-1, 1000, 2000, 3000, 4000, 5000, 6000, 7000, payment_max+1],\n",
    "                                          labels=['1000日元以下', '1000-2000日元', '2000-3000日元', '3000-4000日元', '4000-5000日元', '5000-6000日元', '6000-7000日元', '7000日元以上'])"
   ]
  },
  {
   "cell_type": "code",
   "execution_count": 21,
   "metadata": {},
   "outputs": [
    {
     "data": {
      "text/html": [
       "<div>\n",
       "<style>\n",
       "    .dataframe thead tr:only-child th {\n",
       "        text-align: right;\n",
       "    }\n",
       "\n",
       "    .dataframe thead th {\n",
       "        text-align: left;\n",
       "    }\n",
       "\n",
       "    .dataframe tbody tr th {\n",
       "        vertical-align: top;\n",
       "    }\n",
       "</style>\n",
       "<table border=\"1\" class=\"dataframe\">\n",
       "  <thead>\n",
       "    <tr style=\"text-align: right;\">\n",
       "      <th>log_date</th>\n",
       "      <th>2013-06</th>\n",
       "      <th>2013-07</th>\n",
       "    </tr>\n",
       "    <tr>\n",
       "      <th>payment_group</th>\n",
       "      <th></th>\n",
       "      <th></th>\n",
       "    </tr>\n",
       "  </thead>\n",
       "  <tbody>\n",
       "    <tr>\n",
       "      <th>1000日元以下</th>\n",
       "      <td>37.0</td>\n",
       "      <td>34.0</td>\n",
       "    </tr>\n",
       "    <tr>\n",
       "      <th>1000-2000日元</th>\n",
       "      <td>6.0</td>\n",
       "      <td>2.0</td>\n",
       "    </tr>\n",
       "    <tr>\n",
       "      <th>2000-3000日元</th>\n",
       "      <td>1.0</td>\n",
       "      <td>1.0</td>\n",
       "    </tr>\n",
       "    <tr>\n",
       "      <th>3000-4000日元</th>\n",
       "      <td>1.0</td>\n",
       "      <td>NaN</td>\n",
       "    </tr>\n",
       "    <tr>\n",
       "      <th>4000-5000日元</th>\n",
       "      <td>NaN</td>\n",
       "      <td>1.0</td>\n",
       "    </tr>\n",
       "    <tr>\n",
       "      <th>5000-6000日元</th>\n",
       "      <td>1.0</td>\n",
       "      <td>NaN</td>\n",
       "    </tr>\n",
       "    <tr>\n",
       "      <th>6000-7000日元</th>\n",
       "      <td>1.0</td>\n",
       "      <td>NaN</td>\n",
       "    </tr>\n",
       "    <tr>\n",
       "      <th>7000日元以上</th>\n",
       "      <td>1.0</td>\n",
       "      <td>1.0</td>\n",
       "    </tr>\n",
       "  </tbody>\n",
       "</table>\n",
       "</div>"
      ],
      "text/plain": [
       "log_date       2013-06  2013-07\n",
       "payment_group                  \n",
       "1000日元以下          37.0     34.0\n",
       "1000-2000日元        6.0      2.0\n",
       "2000-3000日元        1.0      1.0\n",
       "3000-4000日元        1.0      NaN\n",
       "4000-5000日元        NaN      1.0\n",
       "5000-6000日元        1.0      NaN\n",
       "6000-7000日元        1.0      NaN\n",
       "7000日元以上           1.0      1.0"
      ]
     },
     "execution_count": 21,
     "metadata": {},
     "output_type": "execute_result"
    }
   ],
   "source": [
    "new_payment_group = mau_payment_new.groupby(['log_date', 'payment_group'])['user_id'].agg('count').unstack(level=0)\n",
    "new_payment_group"
   ]
  },
  {
   "cell_type": "code",
   "execution_count": 24,
   "metadata": {
    "scrolled": true
   },
   "outputs": [
    {
     "data": {
      "image/png": "[encoded data removed]",
      "text/plain": [
       "<matplotlib.figure.Figure at 0x1dda0ab6a90>"
      ]
     },
     "metadata": {},
     "output_type": "display_data"
    }
   ],
   "source": [
    "width = new_payment_group.columns.size\n",
    "index = np.arange(0, new_payment_group.index.size)\n",
    "color = ['silver', 'gray']\n",
    "labels = ['2013年6月', '2013年7月']\n",
    "plt.figure(figsize=(12, 5))\n",
    "plt.gca().set_facecolor('whitesmoke')\n",
    "for i in range(0, width):\n",
    "    sub = new_payment_group.iloc[:, i]\n",
    "    plt.bar(index*width+i, sub, color=color[i], label=labels[i], width=0.8)\n",
    "\n",
    "plt.title('《黑猫拼图》游戏新用户消费额度比较（上月/本月）', fontsize=18)\n",
    "plt.xticks(index*width+0.5, new_payment_group.index)\n",
    "plt.ylabel('消费人数（人）')\n",
    "plt.legend(fontsize=13)\n",
    "plt.grid(linestyle='--', linewidth=1, alpha=0.3)\n",
    "plt.show()"
   ]
  },
  {
   "cell_type": "markdown",
   "metadata": {},
   "source": [
    "**由上图可知，2013年7月与2013年6月相比，消费低于2000日元以下的新用户数减少了。**"
   ]
  },
  {
   "cell_type": "markdown",
   "metadata": {},
   "source": [
    "# 5 解决对策"
   ]
  },
  {
   "cell_type": "markdown",
   "metadata": {},
   "source": [
    "数据分析之前设立的假说：\n",
    "- **《黑猫拼图》游戏销售额和上月相比减少了（事实）**\n",
    "- **通过观察销售额的构成，新用户带来的销售额减少了（假设）**\n",
    "- **将商业宣传恢复到上月同等水平（解决方案）**\n"
   ]
  },
  {
   "cell_type": "markdown",
   "metadata": {},
   "source": [
    "根据上述的数据分析，可知：\n",
    "- **《黑猫拼图》游戏的销售额和上月相比减少了（事实）**\n",
    "- **通过观察销售额的构成，发现新增用户带来的销售额减少了，并且消费额小于2000日元的轻度消费用户带来的影响最大（事实）**\n",
    "- **将商业宣传恢复到上月同等的水平（确信度较高的解决方案）**"
   ]
  },
  {
   "cell_type": "markdown",
   "metadata": {},
   "source": [
    "基于上述结果，可以采取下面的解决对策来提高销售额：\n",
    "新用户中的消费用户数减少了，特别是小额消费用户群体用户数减少了。因此，公司需要再次展开上月宣传活动并恢复到之前的水平，这样才能提升潜在用户对公司产品的认知度，新增加用户。这样才会增加小额消费用户数量，将销售额恢复到和上月相同水平。"
   ]
  },
  {
   "cell_type": "code",
   "execution_count": null,
   "metadata": {},
   "outputs": [],
   "source": []
  }
 ],
 "metadata": {
  "kernelspec": {
   "display_name": "Analysis",
   "language": "python",
   "name": "analysis"
  },
  "language_info": {
   "codemirror_mode": {
    "name": "ipython",
    "version": 3
   },
   "file_extension": ".py",
   "mimetype": "text/x-python",
   "name": "python",
   "nbconvert_exporter": "python",
   "pygments_lexer": "ipython3",
   "version": "3.6.0"
  },
  "toc": {
   "base_numbering": 1,
   "nav_menu": {},
   "number_sections": false,
   "sideBar": true,
   "skip_h1_title": false,
   "title_cell": "Table of Contents",
   "title_sidebar": "目录",
   "toc_cell": false,
   "toc_position": {},
   "toc_section_display": true,
   "toc_window_display": true
  }
 },
 "nbformat": 4,
 "nbformat_minor": 2
}
